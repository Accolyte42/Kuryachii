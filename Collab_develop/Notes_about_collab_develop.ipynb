{
 "cells": [
  {
   "cell_type": "markdown",
   "id": "21b9b419",
   "metadata": {},
   "source": [
    "Цикл разработки:\n",
    "\n",
    "- 0. Создание или выбор удалёного репозитория и clone\n",
    "\n",
    "- 1. Синхронизация (pull) = fetch + merge\n",
    "- 2. Стандартный цикл разработки (следующие три пункта могут повторяться по кругу):\n",
    "- - 1. Изменение\n",
    "- - 2. Оформление коммита (add и т. п.)\n",
    "- - 3. Коммит (commit)\n",
    "- 3. Публикация (push)"
   ]
  },
  {
   "cell_type": "code",
   "execution_count": 15,
   "id": "ef98ac5d",
   "metadata": {},
   "outputs": [],
   "source": [
    "from numpy.random import uniform\n",
    "from numpy import cos, sin, pi\n",
    "\n",
    "def generate1():  \n",
    "    a = uniform(0, 1)  \n",
    "    b = uniform(0, 1)  \n",
    "    return (a * cos(2 * pi * b), a * sin(2 * pi * b))\n",
    "\n",
    "def generate2():  \n",
    "    while True:  \n",
    "        x = uniform(-1, 1)  \n",
    "        y = uniform(-1, 1)  \n",
    "        if x ** 2 + y ** 2 > 1:  \n",
    "            continue  \n",
    "        return (x, y)"
   ]
  },
  {
   "cell_type": "code",
   "execution_count": 27,
   "id": "f95a0062",
   "metadata": {},
   "outputs": [
    {
     "name": "stdout",
     "output_type": "stream",
     "text": [
      "-0.5690870381312306 0.19190472887798604\n",
      "-0.18937251848680026 -0.025058601990237905\n"
     ]
    }
   ],
   "source": [
    "a1, b1 = generate1()\n",
    "print(a1, b1)\n",
    "\n",
    "a2, b2 = generate2()\n",
    "print(a2, b2)"
   ]
  },
  {
   "cell_type": "code",
   "execution_count": null,
   "id": "6065f5af",
   "metadata": {},
   "outputs": [],
   "source": []
  },
  {
   "cell_type": "code",
   "execution_count": null,
   "id": "f5734cd6",
   "metadata": {},
   "outputs": [],
   "source": []
  }
 ],
 "metadata": {
  "kernelspec": {
   "display_name": "Python 3 (ipykernel)",
   "language": "python",
   "name": "python3"
  },
  "language_info": {
   "codemirror_mode": {
    "name": "ipython",
    "version": 3
   },
   "file_extension": ".py",
   "mimetype": "text/x-python",
   "name": "python",
   "nbconvert_exporter": "python",
   "pygments_lexer": "ipython3",
   "version": "3.9.10"
  }
 },
 "nbformat": 4,
 "nbformat_minor": 5
}
