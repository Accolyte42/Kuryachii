{
 "cells": [
  {
   "cell_type": "code",
   "execution_count": 20,
   "id": "a0558f7c",
   "metadata": {},
   "outputs": [
    {
     "name": "stdout",
     "output_type": "stream",
     "text": [
      "1234321\n"
     ]
    }
   ],
   "source": [
    "num = int(input())"
   ]
  },
  {
   "cell_type": "code",
   "execution_count": 21,
   "id": "5ece4bc2",
   "metadata": {},
   "outputs": [],
   "source": [
    "def digits(num):\n",
    "    counter = 0\n",
    "    while num//10 != 0:\n",
    "        counter += 1\n",
    "        num //= 10\n",
    "    return counter + 1"
   ]
  },
  {
   "cell_type": "code",
   "execution_count": 22,
   "id": "c30f05ce",
   "metadata": {},
   "outputs": [
    {
     "name": "stdout",
     "output_type": "stream",
     "text": [
      "7\n"
     ]
    }
   ],
   "source": [
    "dig = digits(num)\n",
    "print(dig)"
   ]
  },
  {
   "cell_type": "code",
   "execution_count": 24,
   "id": "295a2216",
   "metadata": {},
   "outputs": [
    {
     "name": "stdout",
     "output_type": "stream",
     "text": [
      "NO\n"
     ]
    }
   ],
   "source": [
    "d0=10\n",
    "# while\n",
    "flag = True\n",
    "for i in range(dig // 2):\n",
    "    if num % d0 != num // (d0 * ):\n",
    "        flag = False\n",
    "        break\n",
    "    d0 *= 10\n",
    "print('YES') if flag else print('NO')\n",
    "    \n",
    "    "
   ]
  },
  {
   "cell_type": "code",
   "execution_count": 23,
   "id": "4fee7719",
   "metadata": {},
   "outputs": [
    {
     "data": {
      "text/plain": [
       "1"
      ]
     },
     "execution_count": 23,
     "metadata": {},
     "output_type": "execute_result"
    }
   ],
   "source": [
    "num % 10"
   ]
  },
  {
   "cell_type": "code",
   "execution_count": 29,
   "id": "29c60489",
   "metadata": {},
   "outputs": [
    {
     "data": {
      "text/plain": [
       "1"
      ]
     },
     "execution_count": 29,
     "metadata": {},
     "output_type": "execute_result"
    }
   ],
   "source": [
    "12 // 10"
   ]
  },
  {
   "cell_type": "code",
   "execution_count": null,
   "id": "00e491da",
   "metadata": {},
   "outputs": [],
   "source": []
  }
 ],
 "metadata": {
  "kernelspec": {
   "display_name": "Python 3 (ipykernel)",
   "language": "python",
   "name": "python3"
  },
  "language_info": {
   "codemirror_mode": {
    "name": "ipython",
    "version": 3
   },
   "file_extension": ".py",
   "mimetype": "text/x-python",
   "name": "python",
   "nbconvert_exporter": "python",
   "pygments_lexer": "ipython3",
   "version": "3.8.10"
  }
 },
 "nbformat": 4,
 "nbformat_minor": 5
}
