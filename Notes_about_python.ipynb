{
 "cells": [
  {
   "cell_type": "markdown",
   "id": "00c020aa",
   "metadata": {},
   "source": [
    "# PYTHON\n",
    "\n",
    "Питон - язык со __строгой динамической неявной типизацией__\n",
    "\n",
    "__Строго типизированный__ в смысле, что язык не позволяет смешивать в выражениях различные типы и не выполняет автоматические явные преобразования (например, из строки нельзя вычитать множества)\n",
    "\n",
    "__Динамически типизированный__ в том смысле, что все типы выясняются не на этапе компиляции, а во время выполнения программы\n",
    "\n",
    "__Неявно типизированный__ в том смысле, что все типы не задаются, а определяются компилятором/интерпретатором\n",
    "\n",
    "Большинство ошибок, связанных с типами данных, происходит в рантайме, т.е. произошел синтаксический анализ (например, функции), синтаксически она верна, функция начинает выполняться, но когда доходит до места, где с данными определенных типов нельзя выполнять нечто."
   ]
  },
  {
   "cell_type": "code",
   "execution_count": null,
   "id": "3691b9f8",
   "metadata": {},
   "outputs": [],
   "source": []
  },
  {
   "cell_type": "markdown",
   "id": "3fe1fefa",
   "metadata": {},
   "source": [
    "Любая программа -- это набор комманд на питоне, которые интерпретатор интерпретирует. То есть происходит выполнение комманд построчно.\n",
    "\n",
    "НО!!! При синтаксические ошибки укажет до выполнения\n",
    "\n",
    "\n"
   ]
  },
  {
   "cell_type": "code",
   "execution_count": 1,
   "id": "6a61e475",
   "metadata": {},
   "outputs": [
    {
     "data": {
      "text/plain": [
       "140363224171584"
      ]
     },
     "execution_count": 1,
     "metadata": {},
     "output_type": "execute_result"
    }
   ],
   "source": [
    "a = [1,{3,4,5}, (32323,3,4,7,8), 'fdsfsd', None, True, 66]\n",
    "id(a)"
   ]
  },
  {
   "cell_type": "markdown",
   "id": "cdaad10c",
   "metadata": {},
   "source": [
    "id - это уникальный идентификатор объекта. Ввсе айдишники у всех объектов уникальные"
   ]
  },
  {
   "cell_type": "markdown",
   "id": "cde1b161",
   "metadata": {},
   "source": [
    "В Питоне есть две разные операции сравнения:"
   ]
  },
  {
   "cell_type": "code",
   "execution_count": 3,
   "id": "1bacd011",
   "metadata": {},
   "outputs": [
    {
     "name": "stdout",
     "output_type": "stream",
     "text": [
      "True\n",
      "False\n"
     ]
    }
   ],
   "source": [
    "a = [1,{3,4,5}, (32323,3,4,7,8), 'fdsfsd', None, True, 66]\n",
    "b = [1,{3,4,5}, (32323,3,4,7,8), 'fdsfsd', None, True, 66]\n",
    "print(a == b)\n",
    "print(a is b)"
   ]
  },
  {
   "cell_type": "markdown",
   "id": "754d8728",
   "metadata": {},
   "source": [
    "Первое сравнение -- это сравнение поэлементное.\n",
    "Второе сравнение -- это сравнение о том, являются ли объеты одним и тем же"
   ]
  },
  {
   "cell_type": "markdown",
   "id": "7d66dc97",
   "metadata": {},
   "source": [
    "О __массиве - list()__\n",
    "Можно изменять элементы массива, при этом сам объект останется тем же (это видно по id)"
   ]
  },
  {
   "cell_type": "code",
   "execution_count": 8,
   "id": "ae28de82",
   "metadata": {},
   "outputs": [
    {
     "name": "stdout",
     "output_type": "stream",
     "text": [
      "[1, 2, 3, 4, 5] \t\t 140363224453056\n",
      "[1, 'Nik', 3, 'Kol', 5] \t 140363224453056\n"
     ]
    }
   ],
   "source": [
    "a= [1,2,3,4,5]\n",
    "print(a, '\\t\\t', id(a))\n",
    "a[3] = 'Kol'\n",
    "a[1] = 'Nik'\n",
    "print(a, '\\t', id(a))"
   ]
  },
  {
   "cell_type": "code",
   "execution_count": null,
   "id": "3c4b7629",
   "metadata": {},
   "outputs": [],
   "source": []
  },
  {
   "cell_type": "markdown",
   "id": "88448429",
   "metadata": {},
   "source": [
    "type - это функция, которая возвращает конструктор объекта. Фактически его класс"
   ]
  },
  {
   "cell_type": "code",
   "execution_count": 11,
   "id": "8583fcb1",
   "metadata": {},
   "outputs": [
    {
     "name": "stdout",
     "output_type": "stream",
     "text": [
      "<class 'list'>\n",
      "<class 'type'>\n"
     ]
    }
   ],
   "source": [
    "print(type(a))\n",
    "print(type(type(a)))"
   ]
  },
  {
   "cell_type": "markdown",
   "id": "efa7755d",
   "metadata": {},
   "source": [
    "Функции -- не занимаются преобразованием определенного итпа данных по определенному алгоритму в определенный тип данных\n",
    "Функции - реализовывают определенный алгоритм вне зависимости от того, какой у нас тип данных"
   ]
  },
  {
   "cell_type": "code",
   "execution_count": 12,
   "id": "9df6943d",
   "metadata": {},
   "outputs": [],
   "source": [
    "def mulsum(a,b,c):\n",
    "    return a*b+c"
   ]
  },
  {
   "cell_type": "markdown",
   "id": "23eab29d",
   "metadata": {},
   "source": [
    "Мы определили алгоритм:"
   ]
  },
  {
   "cell_type": "code",
   "execution_count": 17,
   "id": "44166856",
   "metadata": {},
   "outputs": [
    {
     "name": "stdout",
     "output_type": "stream",
     "text": [
      "5 \n",
      " QWEQWE!! \n",
      " [1, 2, 1, 2, 'QQ', 'KK', 'II', 'OO']\n"
     ]
    }
   ],
   "source": [
    "print(mulsum(1,2,3), '\\n',mulsum('QWE',2,'!!'), '\\n',mulsum([1,2],2,['QQ','KK','II', 'OO']))"
   ]
  },
  {
   "cell_type": "markdown",
   "id": "567f444d",
   "metadata": {},
   "source": [
    "Данный алгоритм применяется всегда, когда данный алгоритм можно применить к объекту.\n",
    "Например, объекты можно умножать или складывать или ещё что-то описанное в алгоритме"
   ]
  },
  {
   "cell_type": "markdown",
   "id": "f463c7a8",
   "metadata": {},
   "source": [
    "___\n",
    "\n",
    "# Связывание объектов"
   ]
  },
  {
   "cell_type": "markdown",
   "id": "7baf5a2b",
   "metadata": {},
   "source": [
    "РАссмотрим пример:"
   ]
  },
  {
   "cell_type": "code",
   "execution_count": 18,
   "id": "bdabda77",
   "metadata": {},
   "outputs": [
    {
     "data": {
      "text/plain": [
       "14"
      ]
     },
     "execution_count": 18,
     "metadata": {},
     "output_type": "execute_result"
    }
   ],
   "source": [
    "2*(3+4)"
   ]
  },
  {
   "cell_type": "markdown",
   "id": "0ee032b6",
   "metadata": {},
   "source": [
    "Как работает эта команда:\n",
    "1) Лексический парсинг\n",
    "\n",
    "2) Синтаксический анализ выражения\n",
    "\n",
    "3) Заводится константный объект 3\n",
    "\n",
    "4) Заводится константный объект 4\n",
    "\n",
    "5) Вычисляется их сумма, как результат заводится к.об. 7\n",
    "\n",
    "6) Заводится объект 2\n",
    "\n",
    "7) Производится умножение и заводится константный целочисл объект 14\n",
    "\n",
    "8) все предыдущие объекты удаляются, т.к. на них больше нет ссылок\n",
    "\n",
    "9) выводится 14. И удаляется 14"
   ]
  },
  {
   "cell_type": "markdown",
   "id": "846286e1",
   "metadata": {},
   "source": [
    "Любой объект можно заименовать (что выглядит как присваивание)"
   ]
  },
  {
   "cell_type": "code",
   "execution_count": 21,
   "id": "dd0283c6",
   "metadata": {},
   "outputs": [
    {
     "name": "stdout",
     "output_type": "stream",
     "text": [
      "['In', 'Out', '_', '_1', '_10', '_18', '_2', '_20', '_9', '__', '___', '__builtin__', '__builtins__', '__doc__', '__loader__', '__name__', '__package__', '__spec__', '_dh', '_i', '_i1', '_i10', '_i11', '_i12', '_i13', '_i14', '_i15', '_i16', '_i17', '_i18', '_i19', '_i2', '_i20', '_i21', '_i3', '_i4', '_i5', '_i6', '_i7', '_i8', '_i9', '_ih', '_ii', '_iii', '_oh', 'a', 'b', 'exit', 'get_ipython', 'mulsum', 'quit']\n"
     ]
    }
   ],
   "source": [
    "a = 2*(3+4)\n",
    "print(dir())"
   ]
  },
  {
   "cell_type": "code",
   "execution_count": 23,
   "id": "1938b5e8",
   "metadata": {},
   "outputs": [
    {
     "data": {
      "text/plain": [
       "{'__name__': '__main__',\n",
       " '__doc__': 'Automatically created module for IPython interactive environment',\n",
       " '__package__': None,\n",
       " '__loader__': None,\n",
       " '__spec__': None,\n",
       " '__builtin__': <module 'builtins' (built-in)>,\n",
       " '__builtins__': <module 'builtins' (built-in)>,\n",
       " '_ih': ['',\n",
       "  \"a = [1,{3,4,5}, (32323,3,4,7,8), 'fdsfsd', None, True, 66]\\nid(a)\",\n",
       "  \"a = [1,{3,4,5}, (32323,3,4,7,8), 'fdsfsd', None, True, 66]\\nb = [1,{3,4,5}, (32323,3,4,7,8), 'fdsfsd', None, True, 66]\\na == b\\na is b\",\n",
       "  \"a = [1,{3,4,5}, (32323,3,4,7,8), 'fdsfsd', None, True, 66]\\nb = [1,{3,4,5}, (32323,3,4,7,8), 'fdsfsd', None, True, 66]\\nprint(a == b)\\nprint(a is b)\",\n",
       "  \"a= [1,2,3,4,5]\\nprint(id(a))\\na[3] = 'Kol'\\na[1] = 'Nik'\\nprint(id(a))\",\n",
       "  \"a= [1,2,3,4,5]\\nprint(a, id(a))\\na[3] = 'Kol'\\na[1] = 'Nik'\\nprint(a, id(a))\",\n",
       "  \"a= [1,2,3,4,5]\\nprint(a, '\\\\t', id(a))\\na[3] = 'Kol'\\na[1] = 'Nik'\\nprint(a, id(a))\",\n",
       "  \"a= [1,2,3,4,5]\\nprint(a, '\\\\t', id(a))\\na[3] = 'Kol'\\na[1] = 'Nik'\\nprint(a, '\\\\t', id(a))\",\n",
       "  \"a= [1,2,3,4,5]\\nprint(a, '\\\\t\\\\t', id(a))\\na[3] = 'Kol'\\na[1] = 'Nik'\\nprint(a, '\\\\t', id(a))\",\n",
       "  'type(b)',\n",
       "  'type(a)',\n",
       "  'print(type(a))\\nprint(type(type(a)))',\n",
       "  'def mulsum(a,b,c):\\n    return a*b+c',\n",
       "  \"print(mulsum(1,2,3),mulsum('QWE',2,'!!'),mulsum([1,2],2,('QQ')))\",\n",
       "  \"print(mulsum(1,2,3),mulsum('QWE',2,'!!'),mulsum([1,2],2,('QQ','KK')))\",\n",
       "  \"print(mulsum(1,2,3),mulsum('QWE',2,'!!'),mulsum([1,2],2,('QQ','KK','II', 'OO')))\",\n",
       "  \"print(mulsum(1,2,3),mulsum('QWE',2,'!!'),mulsum([1,2],2,['QQ','KK','II', 'OO']))\",\n",
       "  \"print(mulsum(1,2,3), '\\\\n',mulsum('QWE',2,'!!'), '\\\\n',mulsum([1,2],2,['QQ','KK','II', 'OO']))\",\n",
       "  '2*(3+4)',\n",
       "  'a = 2*(3+4)',\n",
       "  'a = 2*(3+4)\\ndir()',\n",
       "  'a = 2*(3+4)\\nprint(dir())',\n",
       "  'a',\n",
       "  'globals()'],\n",
       " '_oh': {1: 140363224171584,\n",
       "  2: False,\n",
       "  9: list,\n",
       "  10: list,\n",
       "  18: 14,\n",
       "  20: ['In',\n",
       "   'Out',\n",
       "   '_',\n",
       "   '_1',\n",
       "   '_10',\n",
       "   '_18',\n",
       "   '_2',\n",
       "   '_9',\n",
       "   '__',\n",
       "   '___',\n",
       "   '__builtin__',\n",
       "   '__builtins__',\n",
       "   '__doc__',\n",
       "   '__loader__',\n",
       "   '__name__',\n",
       "   '__package__',\n",
       "   '__spec__',\n",
       "   '_dh',\n",
       "   '_i',\n",
       "   '_i1',\n",
       "   '_i10',\n",
       "   '_i11',\n",
       "   '_i12',\n",
       "   '_i13',\n",
       "   '_i14',\n",
       "   '_i15',\n",
       "   '_i16',\n",
       "   '_i17',\n",
       "   '_i18',\n",
       "   '_i19',\n",
       "   '_i2',\n",
       "   '_i20',\n",
       "   '_i3',\n",
       "   '_i4',\n",
       "   '_i5',\n",
       "   '_i6',\n",
       "   '_i7',\n",
       "   '_i8',\n",
       "   '_i9',\n",
       "   '_ih',\n",
       "   '_ii',\n",
       "   '_iii',\n",
       "   '_oh',\n",
       "   'a',\n",
       "   'b',\n",
       "   'exit',\n",
       "   'get_ipython',\n",
       "   'mulsum',\n",
       "   'quit'],\n",
       "  22: 14},\n",
       " '_dh': [PosixPath('/home/nikolay/Documents/programming/Kuryachii')],\n",
       " 'In': ['',\n",
       "  \"a = [1,{3,4,5}, (32323,3,4,7,8), 'fdsfsd', None, True, 66]\\nid(a)\",\n",
       "  \"a = [1,{3,4,5}, (32323,3,4,7,8), 'fdsfsd', None, True, 66]\\nb = [1,{3,4,5}, (32323,3,4,7,8), 'fdsfsd', None, True, 66]\\na == b\\na is b\",\n",
       "  \"a = [1,{3,4,5}, (32323,3,4,7,8), 'fdsfsd', None, True, 66]\\nb = [1,{3,4,5}, (32323,3,4,7,8), 'fdsfsd', None, True, 66]\\nprint(a == b)\\nprint(a is b)\",\n",
       "  \"a= [1,2,3,4,5]\\nprint(id(a))\\na[3] = 'Kol'\\na[1] = 'Nik'\\nprint(id(a))\",\n",
       "  \"a= [1,2,3,4,5]\\nprint(a, id(a))\\na[3] = 'Kol'\\na[1] = 'Nik'\\nprint(a, id(a))\",\n",
       "  \"a= [1,2,3,4,5]\\nprint(a, '\\\\t', id(a))\\na[3] = 'Kol'\\na[1] = 'Nik'\\nprint(a, id(a))\",\n",
       "  \"a= [1,2,3,4,5]\\nprint(a, '\\\\t', id(a))\\na[3] = 'Kol'\\na[1] = 'Nik'\\nprint(a, '\\\\t', id(a))\",\n",
       "  \"a= [1,2,3,4,5]\\nprint(a, '\\\\t\\\\t', id(a))\\na[3] = 'Kol'\\na[1] = 'Nik'\\nprint(a, '\\\\t', id(a))\",\n",
       "  'type(b)',\n",
       "  'type(a)',\n",
       "  'print(type(a))\\nprint(type(type(a)))',\n",
       "  'def mulsum(a,b,c):\\n    return a*b+c',\n",
       "  \"print(mulsum(1,2,3),mulsum('QWE',2,'!!'),mulsum([1,2],2,('QQ')))\",\n",
       "  \"print(mulsum(1,2,3),mulsum('QWE',2,'!!'),mulsum([1,2],2,('QQ','KK')))\",\n",
       "  \"print(mulsum(1,2,3),mulsum('QWE',2,'!!'),mulsum([1,2],2,('QQ','KK','II', 'OO')))\",\n",
       "  \"print(mulsum(1,2,3),mulsum('QWE',2,'!!'),mulsum([1,2],2,['QQ','KK','II', 'OO']))\",\n",
       "  \"print(mulsum(1,2,3), '\\\\n',mulsum('QWE',2,'!!'), '\\\\n',mulsum([1,2],2,['QQ','KK','II', 'OO']))\",\n",
       "  '2*(3+4)',\n",
       "  'a = 2*(3+4)',\n",
       "  'a = 2*(3+4)\\ndir()',\n",
       "  'a = 2*(3+4)\\nprint(dir())',\n",
       "  'a',\n",
       "  'globals()'],\n",
       " 'Out': {1: 140363224171584,\n",
       "  2: False,\n",
       "  9: list,\n",
       "  10: list,\n",
       "  18: 14,\n",
       "  20: ['In',\n",
       "   'Out',\n",
       "   '_',\n",
       "   '_1',\n",
       "   '_10',\n",
       "   '_18',\n",
       "   '_2',\n",
       "   '_9',\n",
       "   '__',\n",
       "   '___',\n",
       "   '__builtin__',\n",
       "   '__builtins__',\n",
       "   '__doc__',\n",
       "   '__loader__',\n",
       "   '__name__',\n",
       "   '__package__',\n",
       "   '__spec__',\n",
       "   '_dh',\n",
       "   '_i',\n",
       "   '_i1',\n",
       "   '_i10',\n",
       "   '_i11',\n",
       "   '_i12',\n",
       "   '_i13',\n",
       "   '_i14',\n",
       "   '_i15',\n",
       "   '_i16',\n",
       "   '_i17',\n",
       "   '_i18',\n",
       "   '_i19',\n",
       "   '_i2',\n",
       "   '_i20',\n",
       "   '_i3',\n",
       "   '_i4',\n",
       "   '_i5',\n",
       "   '_i6',\n",
       "   '_i7',\n",
       "   '_i8',\n",
       "   '_i9',\n",
       "   '_ih',\n",
       "   '_ii',\n",
       "   '_iii',\n",
       "   '_oh',\n",
       "   'a',\n",
       "   'b',\n",
       "   'exit',\n",
       "   'get_ipython',\n",
       "   'mulsum',\n",
       "   'quit'],\n",
       "  22: 14},\n",
       " 'get_ipython': <bound method InteractiveShell.get_ipython of <ipykernel.zmqshell.ZMQInteractiveShell object at 0x7fa8df2b43d0>>,\n",
       " 'exit': <IPython.core.autocall.ZMQExitAutocall at 0x7fa8df279100>,\n",
       " 'quit': <IPython.core.autocall.ZMQExitAutocall at 0x7fa8df279100>,\n",
       " '_': 14,\n",
       " '__': ['In',\n",
       "  'Out',\n",
       "  '_',\n",
       "  '_1',\n",
       "  '_10',\n",
       "  '_18',\n",
       "  '_2',\n",
       "  '_9',\n",
       "  '__',\n",
       "  '___',\n",
       "  '__builtin__',\n",
       "  '__builtins__',\n",
       "  '__doc__',\n",
       "  '__loader__',\n",
       "  '__name__',\n",
       "  '__package__',\n",
       "  '__spec__',\n",
       "  '_dh',\n",
       "  '_i',\n",
       "  '_i1',\n",
       "  '_i10',\n",
       "  '_i11',\n",
       "  '_i12',\n",
       "  '_i13',\n",
       "  '_i14',\n",
       "  '_i15',\n",
       "  '_i16',\n",
       "  '_i17',\n",
       "  '_i18',\n",
       "  '_i19',\n",
       "  '_i2',\n",
       "  '_i20',\n",
       "  '_i3',\n",
       "  '_i4',\n",
       "  '_i5',\n",
       "  '_i6',\n",
       "  '_i7',\n",
       "  '_i8',\n",
       "  '_i9',\n",
       "  '_ih',\n",
       "  '_ii',\n",
       "  '_iii',\n",
       "  '_oh',\n",
       "  'a',\n",
       "  'b',\n",
       "  'exit',\n",
       "  'get_ipython',\n",
       "  'mulsum',\n",
       "  'quit'],\n",
       " '___': 14,\n",
       " '_i': 'a',\n",
       " '_ii': 'a = 2*(3+4)\\nprint(dir())',\n",
       " '_iii': 'a = 2*(3+4)\\ndir()',\n",
       " '_i1': \"a = [1,{3,4,5}, (32323,3,4,7,8), 'fdsfsd', None, True, 66]\\nid(a)\",\n",
       " 'a': 14,\n",
       " '_1': 140363224171584,\n",
       " '_i2': \"a = [1,{3,4,5}, (32323,3,4,7,8), 'fdsfsd', None, True, 66]\\nb = [1,{3,4,5}, (32323,3,4,7,8), 'fdsfsd', None, True, 66]\\na == b\\na is b\",\n",
       " 'b': [1, {3, 4, 5}, (32323, 3, 4, 7, 8), 'fdsfsd', None, True, 66],\n",
       " '_2': False,\n",
       " '_i3': \"a = [1,{3,4,5}, (32323,3,4,7,8), 'fdsfsd', None, True, 66]\\nb = [1,{3,4,5}, (32323,3,4,7,8), 'fdsfsd', None, True, 66]\\nprint(a == b)\\nprint(a is b)\",\n",
       " '_i4': \"a= [1,2,3,4,5]\\nprint(id(a))\\na[3] = 'Kol'\\na[1] = 'Nik'\\nprint(id(a))\",\n",
       " '_i5': \"a= [1,2,3,4,5]\\nprint(a, id(a))\\na[3] = 'Kol'\\na[1] = 'Nik'\\nprint(a, id(a))\",\n",
       " '_i6': \"a= [1,2,3,4,5]\\nprint(a, '\\\\t', id(a))\\na[3] = 'Kol'\\na[1] = 'Nik'\\nprint(a, id(a))\",\n",
       " '_i7': \"a= [1,2,3,4,5]\\nprint(a, '\\\\t', id(a))\\na[3] = 'Kol'\\na[1] = 'Nik'\\nprint(a, '\\\\t', id(a))\",\n",
       " '_i8': \"a= [1,2,3,4,5]\\nprint(a, '\\\\t\\\\t', id(a))\\na[3] = 'Kol'\\na[1] = 'Nik'\\nprint(a, '\\\\t', id(a))\",\n",
       " '_i9': 'type(b)',\n",
       " '_9': list,\n",
       " '_i10': 'type(a)',\n",
       " '_10': list,\n",
       " '_i11': 'print(type(a))\\nprint(type(type(a)))',\n",
       " '_i12': 'def mulsum(a,b,c):\\n    return a*b+c',\n",
       " 'mulsum': <function __main__.mulsum(a, b, c)>,\n",
       " '_i13': \"print(mulsum(1,2,3),mulsum('QWE',2,'!!'),mulsum([1,2],2,('QQ')))\",\n",
       " '_i14': \"print(mulsum(1,2,3),mulsum('QWE',2,'!!'),mulsum([1,2],2,('QQ','KK')))\",\n",
       " '_i15': \"print(mulsum(1,2,3),mulsum('QWE',2,'!!'),mulsum([1,2],2,('QQ','KK','II', 'OO')))\",\n",
       " '_i16': \"print(mulsum(1,2,3),mulsum('QWE',2,'!!'),mulsum([1,2],2,['QQ','KK','II', 'OO']))\",\n",
       " '_i17': \"print(mulsum(1,2,3), '\\\\n',mulsum('QWE',2,'!!'), '\\\\n',mulsum([1,2],2,['QQ','KK','II', 'OO']))\",\n",
       " '_i18': '2*(3+4)',\n",
       " '_18': 14,\n",
       " '_i19': 'a = 2*(3+4)',\n",
       " '_i20': 'a = 2*(3+4)\\ndir()',\n",
       " '_20': ['In',\n",
       "  'Out',\n",
       "  '_',\n",
       "  '_1',\n",
       "  '_10',\n",
       "  '_18',\n",
       "  '_2',\n",
       "  '_9',\n",
       "  '__',\n",
       "  '___',\n",
       "  '__builtin__',\n",
       "  '__builtins__',\n",
       "  '__doc__',\n",
       "  '__loader__',\n",
       "  '__name__',\n",
       "  '__package__',\n",
       "  '__spec__',\n",
       "  '_dh',\n",
       "  '_i',\n",
       "  '_i1',\n",
       "  '_i10',\n",
       "  '_i11',\n",
       "  '_i12',\n",
       "  '_i13',\n",
       "  '_i14',\n",
       "  '_i15',\n",
       "  '_i16',\n",
       "  '_i17',\n",
       "  '_i18',\n",
       "  '_i19',\n",
       "  '_i2',\n",
       "  '_i20',\n",
       "  '_i3',\n",
       "  '_i4',\n",
       "  '_i5',\n",
       "  '_i6',\n",
       "  '_i7',\n",
       "  '_i8',\n",
       "  '_i9',\n",
       "  '_ih',\n",
       "  '_ii',\n",
       "  '_iii',\n",
       "  '_oh',\n",
       "  'a',\n",
       "  'b',\n",
       "  'exit',\n",
       "  'get_ipython',\n",
       "  'mulsum',\n",
       "  'quit'],\n",
       " '_i21': 'a = 2*(3+4)\\nprint(dir())',\n",
       " '_i22': 'a',\n",
       " '_22': 14,\n",
       " '_i23': 'globals()'}"
      ]
     },
     "execution_count": 23,
     "metadata": {},
     "output_type": "execute_result"
    }
   ],
   "source": [
    "globals()"
   ]
  },
  {
   "cell_type": "markdown",
   "id": "8bc76966",
   "metadata": {},
   "source": [
    "# О функциях"
   ]
  },
  {
   "cell_type": "code",
   "execution_count": 24,
   "id": "99544f02",
   "metadata": {},
   "outputs": [],
   "source": [
    "def fun(a, b): return a*2+b"
   ]
  },
  {
   "cell_type": "code",
   "execution_count": 25,
   "id": "cad17dc8",
   "metadata": {},
   "outputs": [
    {
     "data": {
      "text/plain": [
       "4"
      ]
     },
     "execution_count": 25,
     "metadata": {},
     "output_type": "execute_result"
    }
   ],
   "source": [
    "fun(1,2)"
   ]
  },
  {
   "cell_type": "code",
   "execution_count": 27,
   "id": "96aba0f4",
   "metadata": {},
   "outputs": [
    {
     "name": "stdout",
     "output_type": "stream",
     "text": [
      "<function fun at 0x7fa8cc749670>\n"
     ]
    }
   ],
   "source": [
    "print(fun)"
   ]
  },
  {
   "cell_type": "code",
   "execution_count": 29,
   "id": "7f9f37ed",
   "metadata": {},
   "outputs": [
    {
     "name": "stdout",
     "output_type": "stream",
     "text": [
      "<class 'function'>\n"
     ]
    }
   ],
   "source": [
    "print(type(fun))"
   ]
  },
  {
   "cell_type": "markdown",
   "id": "0cc02b80",
   "metadata": {},
   "source": [
    "# О связывании (продолжение)"
   ]
  },
  {
   "cell_type": "markdown",
   "id": "e7c5f1a5",
   "metadata": {},
   "source": [
    "одному и тому же объекту можно дать разные имена так:"
   ]
  },
  {
   "cell_type": "code",
   "execution_count": 32,
   "id": "e00fa13e",
   "metadata": {},
   "outputs": [],
   "source": [
    "b = a"
   ]
  },
  {
   "cell_type": "code",
   "execution_count": 38,
   "id": "03620246",
   "metadata": {},
   "outputs": [
    {
     "name": "stdout",
     "output_type": "stream",
     "text": [
      "14 14\n",
      "9789408 9789408\n",
      "True\n"
     ]
    }
   ],
   "source": [
    "print(a, b)\n",
    "print(id(a), id(b))\n",
    "print(a is b)"
   ]
  },
  {
   "cell_type": "code",
   "execution_count": 46,
   "id": "3d970ea4",
   "metadata": {},
   "outputs": [
    {
     "name": "stdout",
     "output_type": "stream",
     "text": [
      "<function fun at 0x7fa8cc6e1940> <function fun at 0x7fa8cc6e1940>\n",
      "0x7fa8cc6e1940 0x7fa8cc6e1940\n",
      "True\n"
     ]
    }
   ],
   "source": [
    "def fun(): pass\n",
    "r = fun\n",
    "print(fun, r)\n",
    "print(hex(id(fun)), hex(id(r)))\n",
    "print(fun is r)"
   ]
  },
  {
   "cell_type": "markdown",
   "id": "130d1d1c",
   "metadata": {},
   "source": [
    "У них одинаковые адреса и идентификаторы (потому что айдишники - это по сути адреса)"
   ]
  },
  {
   "cell_type": "markdown",
   "id": "db9786d7",
   "metadata": {},
   "source": [
    "У Питона можно спросить, сколько всего ссылок на данный объект:"
   ]
  },
  {
   "cell_type": "code",
   "execution_count": 47,
   "id": "5eef0752",
   "metadata": {},
   "outputs": [
    {
     "data": {
      "text/plain": [
       "3"
      ]
     },
     "execution_count": 47,
     "metadata": {},
     "output_type": "execute_result"
    }
   ],
   "source": [
    "import sys\n",
    "\n",
    "sys.getrefcount(r)"
   ]
  },
  {
   "cell_type": "markdown",
   "id": "07e5d77b",
   "metadata": {},
   "source": [
    "Мы ожидаем 2 (т.к. на функцию выше ссылается и r и fun), но на тот же объект также ссылается и имя, создаваемое при вызове функции getrefcount"
   ]
  },
  {
   "cell_type": "code",
   "execution_count": 55,
   "id": "27de9042",
   "metadata": {},
   "outputs": [
    {
     "data": {
      "text/plain": [
       "3"
      ]
     },
     "execution_count": 55,
     "metadata": {},
     "output_type": "execute_result"
    }
   ],
   "source": [
    "rr = ('fdg', 55)\n",
    "tt = rr\n",
    "sys.getrefcount(tt)"
   ]
  },
  {
   "cell_type": "code",
   "execution_count": 56,
   "id": "00e1db1e",
   "metadata": {},
   "outputs": [],
   "source": [
    "del rr"
   ]
  },
  {
   "cell_type": "code",
   "execution_count": 57,
   "id": "231bd52b",
   "metadata": {},
   "outputs": [
    {
     "data": {
      "text/plain": [
       "2"
      ]
     },
     "execution_count": 57,
     "metadata": {},
     "output_type": "execute_result"
    }
   ],
   "source": [
    "sys.getrefcount(tt)"
   ]
  },
  {
   "cell_type": "markdown",
   "id": "304b16d8",
   "metadata": {},
   "source": [
    "# Удаление объекта и del\n",
    "\n",
    "del - убирает только связь между именем и объектом (то есть, удаление ссылки)\n",
    "\n",
    "Удаление же объекта происходит в тот момент, когда на этот объект больше не ссылается ни одного имени."
   ]
  },
  {
   "cell_type": "markdown",
   "id": "7074392d",
   "metadata": {},
   "source": [
    "___\n",
    "# Множественное связывание"
   ]
  },
  {
   "cell_type": "code",
   "execution_count": 58,
   "id": "e213e24c",
   "metadata": {},
   "outputs": [],
   "source": [
    "a, b, c = 1, 2, 3"
   ]
  },
  {
   "cell_type": "code",
   "execution_count": 59,
   "id": "af44bd37",
   "metadata": {},
   "outputs": [],
   "source": [
    "a, b = b, a"
   ]
  },
  {
   "cell_type": "code",
   "execution_count": 60,
   "id": "3bd314f4",
   "metadata": {},
   "outputs": [],
   "source": [
    "a=b=c=1234"
   ]
  },
  {
   "cell_type": "code",
   "execution_count": 61,
   "id": "ece4d4d3",
   "metadata": {},
   "outputs": [
    {
     "name": "stdout",
     "output_type": "stream",
     "text": [
      "True\n"
     ]
    }
   ],
   "source": [
    "print(a is c)"
   ]
  },
  {
   "cell_type": "code",
   "execution_count": 62,
   "id": "dc969132",
   "metadata": {},
   "outputs": [],
   "source": [
    "a,b,*c,d,e = 'gefgIOGIOGYOFYEUFYIEf'"
   ]
  },
  {
   "cell_type": "code",
   "execution_count": 64,
   "id": "eb9fe712",
   "metadata": {},
   "outputs": [
    {
     "name": "stdout",
     "output_type": "stream",
     "text": [
      "['f', 'g', 'I', 'O', 'G', 'I', 'O', 'G', 'Y', 'O', 'F', 'Y', 'E', 'U', 'F', 'Y', 'I']\n"
     ]
    }
   ],
   "source": [
    "print(c)"
   ]
  },
  {
   "cell_type": "markdown",
   "id": "00a43afc",
   "metadata": {},
   "source": [
    "Знак = - это операция поименования\n",
    "\n",
    "Переменная -- это не коробка, в которую можно что-то положить\n",
    "\n",
    "Переменная -- это такое имя, которым можно назвать что угодно.\n",
    "\n",
    "Имена в питоне не типизированы\n",
    "\n",
    "Типизация строгая -- нельзя проделать операцию над объектами двух типов, если такая операция не определена.\n",
    "\n",
    "Никаких приведений типов не существует."
   ]
  },
  {
   "cell_type": "markdown",
   "id": "937a1fd8",
   "metadata": {},
   "source": [
    "___"
   ]
  },
  {
   "cell_type": "markdown",
   "id": "b46cb21b",
   "metadata": {},
   "source": [
    "# Логические выражения, условные операторы и циклы"
   ]
  },
  {
   "cell_type": "markdown",
   "id": "4c568d6b",
   "metadata": {},
   "source": [
    "___"
   ]
  },
  {
   "cell_type": "markdown",
   "id": "49ae538e",
   "metadata": {},
   "source": [
    "__отличия оператора связывания ' = ' и арифметической операции   связывания ' := '__\n",
    "\n",
    ":= -- присваивает к ближайшему объекту\n",
    "= -- присваивает ко всему подряд\n",
    "\n",
    ":= -- очень удобна при \n",
    "\n",
    ":= -- это аналог =, но с возможностью применения в скобочках\n",
    "\n",
    ":= -- полезность в циклах и условных операторах. Где мы сначала вычисляем условие, а потом по результатам этого условия хотим иметь какой-то связанный объект\n",
    "\n",
    ":= -- это операция правая, а не левая\n",
    "\n",
    ":= скобочками надо обязательно окружать оператор\n",
    "\n",
    "Присвоение имени является важной частью программирования, которая позволяет использовать «описательное» имя вместо более длинного выражения, а также упрощает повторное использование значений. В настоящее время это возможно сделать лишь в виде инструкции, что делает эту операцию недоступной при генерации списков, а также в других выражениях.\n",
    "\n",
    "Оператор := может использоваться для присвоения переменных во время вычисления другого выражения."
   ]
  },
  {
   "cell_type": "code",
   "execution_count": 2,
   "id": "55ea3104",
   "metadata": {},
   "outputs": [
    {
     "name": "stdout",
     "output_type": "stream",
     "text": [
      "4\n"
     ]
    }
   ],
   "source": [
    "if (n:=eval(input())) == 3:\n",
    "    print(n)\n",
    "# 4"
   ]
  },
  {
   "cell_type": "code",
   "execution_count": 3,
   "id": "60d4845e",
   "metadata": {},
   "outputs": [
    {
     "name": "stdout",
     "output_type": "stream",
     "text": [
      "1+2\n",
      "3\n"
     ]
    }
   ],
   "source": [
    "if (n:=eval(input())) == 3:\n",
    "    print(n)\n",
    "# 1+2"
   ]
  },
  {
   "cell_type": "code",
   "execution_count": 7,
   "id": "5bbd047c",
   "metadata": {},
   "outputs": [
    {
     "name": "stdout",
     "output_type": "stream",
     "text": [
      "4\n"
     ]
    }
   ],
   "source": [
    "if n := eval(input()) == 3:\n",
    "    print(n)\n",
    "# 4"
   ]
  },
  {
   "cell_type": "code",
   "execution_count": 11,
   "id": "7defde86",
   "metadata": {},
   "outputs": [
    {
     "name": "stdout",
     "output_type": "stream",
     "text": [
      "3\n"
     ]
    }
   ],
   "source": [
    "if n := input() == 3:\n",
    "    print(n)\n",
    "# 3"
   ]
  },
  {
   "cell_type": "code",
   "execution_count": null,
   "id": "4b942e27",
   "metadata": {},
   "outputs": [],
   "source": [
    "if (n:=eval(input())) == 3:\n",
    "    print(n)\n",
    "# 1+2"
   ]
  },
  {
   "cell_type": "markdown",
   "id": "d5b8b7c1",
   "metadata": {},
   "source": [
    "Рассмотрим следующий код с функцией f, определённой как"
   ]
  },
  {
   "cell_type": "code",
   "execution_count": 16,
   "id": "be890240",
   "metadata": {},
   "outputs": [
    {
     "data": {
      "text/plain": [
       "[3, 5, 6]"
      ]
     },
     "execution_count": 16,
     "metadata": {},
     "output_type": "execute_result"
    }
   ],
   "source": [
    "f = lambda x : x+2\n",
    "data = [1,2,3,4]\n",
    "f_data = [y for x in data if (y := f(x)) != 4]\n",
    "f_data"
   ]
  },
  {
   "cell_type": "markdown",
   "id": "1c768097",
   "metadata": {},
   "source": [
    "Получим [3, 5, 6], поскольку эти результаты функции не равны 4. Это значительно более эффективная реализация, чем её альтернатива, дважды прогоняющая введённые данные через функцию:"
   ]
  },
  {
   "cell_type": "code",
   "execution_count": 18,
   "id": "216df344",
   "metadata": {},
   "outputs": [],
   "source": [
    "f_data = [f(x) for x in data if f(x) != 4]"
   ]
  },
  {
   "cell_type": "markdown",
   "id": "66d4c51d",
   "metadata": {},
   "source": [
    "Позволяет хитрое чтение из файла:"
   ]
  },
  {
   "cell_type": "code",
   "execution_count": 19,
   "id": "fd24028e",
   "metadata": {},
   "outputs": [
    {
     "ename": "NameError",
     "evalue": "name 'fp' is not defined",
     "output_type": "error",
     "traceback": [
      "\u001b[0;31m---------------------------------------------------------------------------\u001b[0m",
      "\u001b[0;31mNameError\u001b[0m                                 Traceback (most recent call last)",
      "Input \u001b[0;32mIn [19]\u001b[0m, in \u001b[0;36m<module>\u001b[0;34m\u001b[0m\n\u001b[0;32m----> 1\u001b[0m \u001b[38;5;28;01mwhile\u001b[39;00m chunk \u001b[38;5;241m:=\u001b[39m \u001b[43mfp\u001b[49m\u001b[38;5;241m.\u001b[39mread(\u001b[38;5;241m200\u001b[39m):\n\u001b[1;32m      2\u001b[0m    \u001b[38;5;28mprint\u001b[39m(chunk)\n",
      "\u001b[0;31mNameError\u001b[0m: name 'fp' is not defined"
     ]
    }
   ],
   "source": [
    "while chunk := fp.read(200):\n",
    "   print(chunk)"
   ]
  },
  {
   "cell_type": "markdown",
   "id": "c2979512",
   "metadata": {},
   "source": [
    "Примечание о времени жизни объектов"
   ]
  },
  {
   "cell_type": "code",
   "execution_count": 20,
   "id": "539b39c1",
   "metadata": {},
   "outputs": [],
   "source": [
    "a = b = 100525"
   ]
  },
  {
   "cell_type": "code",
   "execution_count": 21,
   "id": "48ec9303",
   "metadata": {},
   "outputs": [
    {
     "data": {
      "text/plain": [
       "True"
      ]
     },
     "execution_count": 21,
     "metadata": {},
     "output_type": "execute_result"
    }
   ],
   "source": [
    "a is b"
   ]
  },
  {
   "cell_type": "code",
   "execution_count": 22,
   "id": "a2e35c3d",
   "metadata": {},
   "outputs": [],
   "source": [
    "import sys"
   ]
  },
  {
   "cell_type": "code",
   "execution_count": 23,
   "id": "2eccabdf",
   "metadata": {},
   "outputs": [],
   "source": [
    "import gc"
   ]
  },
  {
   "cell_type": "code",
   "execution_count": 24,
   "id": "32c0fc97",
   "metadata": {},
   "outputs": [
    {
     "data": {
      "text/plain": [
       "[{'__name__': '__main__',\n",
       "  '__doc__': 'Automatically created module for IPython interactive environment',\n",
       "  '__package__': None,\n",
       "  '__loader__': None,\n",
       "  '__spec__': None,\n",
       "  '__builtin__': <module 'builtins' (built-in)>,\n",
       "  '__builtins__': <module 'builtins' (built-in)>,\n",
       "  '_ih': ['',\n",
       "   'if (n:=eval(input())) == 3:\\n    print(n)',\n",
       "   'if (n:=eval(input())) == 3:\\n    print(n)\\n# 4',\n",
       "   'if (n:=eval(input())) == 3:\\n    print(n)\\n# 4',\n",
       "   'if n:=eval(input()) == 3:\\n    print(n)\\n# 4',\n",
       "   'if n:=eval(input()) == 3:\\n    print(n)\\n# 4',\n",
       "   'if n := eval(input()) == 3:\\n    print(n)\\n# 4',\n",
       "   'if n := eval(input()) == 3:\\n    print(n)\\n# 4',\n",
       "   'if (n := eval(input())) == 3:\\n    print(n)\\n# 4',\n",
       "   'if (n := input()) == 3:\\n    print(n)\\n# 4',\n",
       "   'if n := input() == 3:\\n    print(n)\\n# 4',\n",
       "   'if n := input() == 3:\\n    print(n)\\n# 3',\n",
       "   'f = lambda x : x+2',\n",
       "   'f = lambda x : x+2\\ndata = [1,2,3,4]\\nf_data = [y for x in data if (y := f(x)) is not 4]',\n",
       "   'f = lambda x : x+2\\ndata = [1,2,3,4]\\nf_data = [y for x in data if (y := f(x)) is not 4]',\n",
       "   'f = lambda x : x+2\\ndata = [1,2,3,4]\\nf_data = [y for x in data if (y := f(x)) != 4]',\n",
       "   'f = lambda x : x+2\\ndata = [1,2,3,4]\\nf_data = [y for x in data if (y := f(x)) != 4]\\nf_data',\n",
       "   'f_data = [f(x) for x in data if f(x) is not 4]',\n",
       "   'f_data = [f(x) for x in data if f(x) !=4]',\n",
       "   'while chunk := fp.read(200):\\n   print(chunk)',\n",
       "   'a = b = 100525',\n",
       "   'a is b',\n",
       "   'import sys',\n",
       "   'import gc',\n",
       "   'gc.get_referrers(a)'],\n",
       "  '_oh': {16: [3, 5, 6], 21: True},\n",
       "  '_dh': [PosixPath('/home/nikolay/Documents/programming/Kuryachii')],\n",
       "  'In': ['',\n",
       "   'if (n:=eval(input())) == 3:\\n    print(n)',\n",
       "   'if (n:=eval(input())) == 3:\\n    print(n)\\n# 4',\n",
       "   'if (n:=eval(input())) == 3:\\n    print(n)\\n# 4',\n",
       "   'if n:=eval(input()) == 3:\\n    print(n)\\n# 4',\n",
       "   'if n:=eval(input()) == 3:\\n    print(n)\\n# 4',\n",
       "   'if n := eval(input()) == 3:\\n    print(n)\\n# 4',\n",
       "   'if n := eval(input()) == 3:\\n    print(n)\\n# 4',\n",
       "   'if (n := eval(input())) == 3:\\n    print(n)\\n# 4',\n",
       "   'if (n := input()) == 3:\\n    print(n)\\n# 4',\n",
       "   'if n := input() == 3:\\n    print(n)\\n# 4',\n",
       "   'if n := input() == 3:\\n    print(n)\\n# 3',\n",
       "   'f = lambda x : x+2',\n",
       "   'f = lambda x : x+2\\ndata = [1,2,3,4]\\nf_data = [y for x in data if (y := f(x)) is not 4]',\n",
       "   'f = lambda x : x+2\\ndata = [1,2,3,4]\\nf_data = [y for x in data if (y := f(x)) is not 4]',\n",
       "   'f = lambda x : x+2\\ndata = [1,2,3,4]\\nf_data = [y for x in data if (y := f(x)) != 4]',\n",
       "   'f = lambda x : x+2\\ndata = [1,2,3,4]\\nf_data = [y for x in data if (y := f(x)) != 4]\\nf_data',\n",
       "   'f_data = [f(x) for x in data if f(x) is not 4]',\n",
       "   'f_data = [f(x) for x in data if f(x) !=4]',\n",
       "   'while chunk := fp.read(200):\\n   print(chunk)',\n",
       "   'a = b = 100525',\n",
       "   'a is b',\n",
       "   'import sys',\n",
       "   'import gc',\n",
       "   'gc.get_referrers(a)'],\n",
       "  'Out': {16: [3, 5, 6], 21: True},\n",
       "  'get_ipython': <bound method InteractiveShell.get_ipython of <ipykernel.zmqshell.ZMQInteractiveShell object at 0x7f9acc6599d0>>,\n",
       "  'exit': <IPython.core.autocall.ZMQExitAutocall at 0x7f9acc62c640>,\n",
       "  'quit': <IPython.core.autocall.ZMQExitAutocall at 0x7f9acc62c640>,\n",
       "  '_': True,\n",
       "  '__': [3, 5, 6],\n",
       "  '___': '',\n",
       "  '_i': 'import gc',\n",
       "  '_ii': 'import sys',\n",
       "  '_iii': 'a is b',\n",
       "  '_i1': 'if (n:=eval(input())) == 3:\\n    print(n)',\n",
       "  'n': False,\n",
       "  '_i2': 'if (n:=eval(input())) == 3:\\n    print(n)\\n# 4',\n",
       "  '_i3': 'if (n:=eval(input())) == 3:\\n    print(n)\\n# 4',\n",
       "  '_i4': 'if n:=eval(input()) == 3:\\n    print(n)\\n# 4',\n",
       "  '_i5': 'if n:=eval(input()) == 3:\\n    print(n)\\n# 4',\n",
       "  '_i6': 'if n := eval(input()) == 3:\\n    print(n)\\n# 4',\n",
       "  '_i7': 'if n := eval(input()) == 3:\\n    print(n)\\n# 4',\n",
       "  '_i8': 'if (n := eval(input())) == 3:\\n    print(n)\\n# 4',\n",
       "  '_i9': 'if (n := input()) == 3:\\n    print(n)\\n# 4',\n",
       "  '_i10': 'if n := input() == 3:\\n    print(n)\\n# 4',\n",
       "  '_i11': 'if n := input() == 3:\\n    print(n)\\n# 3',\n",
       "  '_i12': 'f = lambda x : x+2',\n",
       "  'f': <function __main__.<lambda>(x)>,\n",
       "  '_i13': 'f = lambda x : x+2\\ndata = [1,2,3,4]\\nf_data = [y for x in data if (y := f(x)) is not 4]',\n",
       "  'data': [1, 2, 3, 4],\n",
       "  'y': 6,\n",
       "  'f_data': [3, 5, 6],\n",
       "  '_i14': 'f = lambda x : x+2\\ndata = [1,2,3,4]\\nf_data = [y for x in data if (y := f(x)) is not 4]',\n",
       "  '_i15': 'f = lambda x : x+2\\ndata = [1,2,3,4]\\nf_data = [y for x in data if (y := f(x)) != 4]',\n",
       "  '_i16': 'f = lambda x : x+2\\ndata = [1,2,3,4]\\nf_data = [y for x in data if (y := f(x)) != 4]\\nf_data',\n",
       "  '_16': [3, 5, 6],\n",
       "  '_i17': 'f_data = [f(x) for x in data if f(x) is not 4]',\n",
       "  '_i18': 'f_data = [f(x) for x in data if f(x) !=4]',\n",
       "  '_i19': 'while chunk := fp.read(200):\\n   print(chunk)',\n",
       "  '_i20': 'a = b = 100525',\n",
       "  'a': 100525,\n",
       "  'b': 100525,\n",
       "  '_i21': 'a is b',\n",
       "  '_21': True,\n",
       "  '_i22': 'import sys',\n",
       "  'sys': <module 'sys' (built-in)>,\n",
       "  '_i23': 'import gc',\n",
       "  'gc': <module 'gc' (built-in)>,\n",
       "  '_i24': 'gc.get_referrers(a)'}]"
      ]
     },
     "execution_count": 24,
     "metadata": {},
     "output_type": "execute_result"
    }
   ],
   "source": [
    "gc.get_referrers(a)"
   ]
  },
  {
   "cell_type": "markdown",
   "id": "ef11c7c5",
   "metadata": {},
   "source": [
    "К связыванию:"
   ]
  },
  {
   "cell_type": "code",
   "execution_count": 27,
   "id": "ba20f1cd",
   "metadata": {},
   "outputs": [
    {
     "data": {
      "text/plain": [
       "False"
      ]
     },
     "execution_count": 27,
     "metadata": {},
     "output_type": "execute_result"
    }
   ],
   "source": [
    "c = 100525\n",
    "a is c"
   ]
  },
  {
   "cell_type": "markdown",
   "id": "112189da",
   "metadata": {},
   "source": [
    "В момент присваивания \"c\", создался новый объект 100525. На него и ссылается \"с\". А объект \"а\" ссылается на другой объект"
   ]
  },
  {
   "cell_type": "markdown",
   "id": "783c9d84",
   "metadata": {},
   "source": [
    "### Кольцевые ссылки и сборка мусора"
   ]
  },
  {
   "cell_type": "code",
   "execution_count": 28,
   "id": "6bc600eb",
   "metadata": {},
   "outputs": [],
   "source": [
    "import gc"
   ]
  },
  {
   "cell_type": "code",
   "execution_count": 30,
   "id": "f3f47ec9",
   "metadata": {},
   "outputs": [
    {
     "name": "stdout",
     "output_type": "stream",
     "text": [
      "[1, [...], 3, 'QQ', (66, 77)]\n"
     ]
    }
   ],
   "source": [
    "a = [1, 2, 3, 'QQ', (66, 77)]\n",
    "a[1] = a\n",
    "print(a)"
   ]
  },
  {
   "cell_type": "code",
   "execution_count": 31,
   "id": "3793720c",
   "metadata": {},
   "outputs": [],
   "source": [
    "gc.disable()\n",
    "gc.set_debug(gc.DEBUG_LEAK)"
   ]
  },
  {
   "cell_type": "code",
   "execution_count": 32,
   "id": "352744a9",
   "metadata": {},
   "outputs": [
    {
     "data": {
      "text/plain": [
       "140302390515584"
      ]
     },
     "execution_count": 32,
     "metadata": {},
     "output_type": "execute_result"
    }
   ],
   "source": [
    "id(a)"
   ]
  },
  {
   "cell_type": "code",
   "execution_count": 33,
   "id": "70be1e71",
   "metadata": {},
   "outputs": [
    {
     "data": {
      "text/plain": [
       "'0x7f9ab225d780'"
      ]
     },
     "execution_count": 33,
     "metadata": {},
     "output_type": "execute_result"
    }
   ],
   "source": [
    "hex(id(a))"
   ]
  },
  {
   "cell_type": "code",
   "execution_count": 34,
   "id": "92d4c049",
   "metadata": {},
   "outputs": [],
   "source": [
    "del a"
   ]
  },
  {
   "cell_type": "code",
   "execution_count": 35,
   "id": "11e467ec",
   "metadata": {
    "scrolled": true
   },
   "outputs": [
    {
     "name": "stderr",
     "output_type": "stream",
     "text": [
      "gc: collectable <ExecutionInfo 0x7f9ac85d9f70>\n",
      "gc: collectable <ExecutionResult 0x7f9ac85d9580>\n",
      "gc: collectable <dict 0x7f9ac8592800>\n",
      "gc: collectable <frame 0x23d4f30>\n",
      "gc: collectable <traceback 0x7f9ac85dbe40>\n",
      "gc: collectable <NameError 0x7f9ac859f720>\n",
      "gc: collectable <StyleMeta 0x236f3d0>\n",
      "gc: collectable <tuple 0x7f9ac8574db0>\n",
      "gc: collectable <traceback 0x7f9ac85dbd80>\n",
      "gc: collectable <dict 0x7f9ac85cf580>\n",
      "gc: collectable <frame 0x7f9ac85e19f0>\n",
      "gc: collectable <Terminal256Formatter 0x7f9ac85d9400>\n",
      "gc: collectable <dict 0x7f9ac8541d00>\n",
      "gc: collectable <list 0x7f9ac8541b80>\n",
      "gc: collectable <Options 0x7f9ac85d9040>\n",
      "gc: collectable <dict 0x7f9ac8541cc0>\n",
      "gc: collectable <cell 0x7f9ac859d1c0>\n",
      "gc: collectable <cell 0x7f9ac859d400>\n",
      "gc: collectable <cell 0x7f9ac859d3d0>\n",
      "gc: collectable <cell 0x7f9ac859da30>\n",
      "gc: collectable <cell 0x7f9ac859de50>\n",
      "gc: collectable <cell 0x7f9ac859d190>\n",
      "gc: collectable <function 0x7f9ac85eca60>\n",
      "gc: collectable <tuple 0x7f9ac859dc40>\n",
      "gc: collectable <dict 0x7f9ac858da40>\n",
      "gc: collectable <dict 0x7f9ac858db40>\n",
      "gc: collectable <dict 0x7f9ac8541c80>\n",
      "gc: collectable <tuple 0x7f9acdd088e0>\n",
      "gc: collectable <list 0x7f9ac85dbc80>\n",
      "gc: collectable <list 0x7f9ac85897c0>\n",
      "gc: collectable <list 0x7f9ac8589f00>\n",
      "gc: collectable <list 0x7f9ac858dc00>\n",
      "gc: collectable <list 0x7f9ac858dc40>\n",
      "gc: collectable <list 0x7f9ac858de40>\n",
      "gc: collectable <list 0x7f9ac858dd80>\n",
      "gc: collectable <list 0x7f9ac858df00>\n",
      "gc: collectable <list 0x7f9ac858de00>\n",
      "gc: collectable <list 0x7f9ac8590b80>\n",
      "gc: collectable <list 0x7f9ac8590840>\n",
      "gc: collectable <list 0x7f9ac8590040>\n",
      "gc: collectable <list 0x7f9ac8590c40>\n",
      "gc: collectable <list 0x7f9ac8590dc0>\n",
      "gc: collectable <list 0x7f9ac8590080>\n",
      "gc: collectable <list 0x7f9ac8590380>\n",
      "gc: collectable <list 0x7f9ac85902c0>\n",
      "gc: collectable <list 0x7f9ac85903c0>\n",
      "gc: collectable <list 0x7f9ac8590300>\n",
      "gc: collectable <list 0x7f9ac85906c0>\n",
      "gc: collectable <list 0x7f9ac85907c0>\n",
      "gc: collectable <list 0x7f9ac8590ac0>\n",
      "gc: collectable <list 0x7f9ac8590940>\n",
      "gc: collectable <list 0x7f9ac8591dc0>\n",
      "gc: collectable <list 0x7f9ac8590a40>\n",
      "gc: collectable <list 0x7f9ac8591fc0>\n",
      "gc: collectable <list 0x7f9ac8591f00>\n",
      "gc: collectable <list 0x7f9ac8591d80>\n",
      "gc: collectable <list 0x7f9ac8591ec0>\n",
      "gc: collectable <list 0x7f9ac8591e00>\n",
      "gc: collectable <list 0x7f9ac8591f40>\n",
      "gc: collectable <list 0x7f9ac85935c0>\n",
      "gc: collectable <list 0x7f9ac8593ec0>\n",
      "gc: collectable <list 0x7f9ac8595280>\n",
      "gc: collectable <list 0x7f9ac8597980>\n",
      "gc: collectable <list 0x7f9ac8599880>\n",
      "gc: collectable <list 0x7f9ac8597d00>\n",
      "gc: collectable <list 0x7f9ac85998c0>\n",
      "gc: collectable <list 0x7f9ac8599900>\n",
      "gc: collectable <list 0x7f9ac853c080>\n",
      "gc: collectable <list 0x7f9ac853c100>\n",
      "gc: collectable <list 0x7f9ac853c140>\n",
      "gc: collectable <list 0x7f9ac853c200>\n",
      "gc: collectable <list 0x7f9ac853c180>\n",
      "gc: collectable <list 0x7f9ac853c1c0>\n",
      "gc: collectable <list 0x7f9ac853c240>\n",
      "gc: collectable <list 0x7f9ac853c340>\n",
      "gc: collectable <list 0x7f9ac853c3c0>\n",
      "gc: collectable <list 0x7f9ac853c400>\n",
      "gc: collectable <list 0x7f9ac853c440>\n",
      "gc: collectable <list 0x7f9ac853c480>\n",
      "gc: collectable <list 0x7f9ac853c4c0>\n",
      "gc: collectable <list 0x7f9ac853c500>\n",
      "gc: collectable <list 0x7f9ac853c540>\n",
      "gc: collectable <list 0x7f9ac853c580>\n",
      "gc: collectable <list 0x7f9ac853c5c0>\n",
      "gc: collectable <list 0x7f9ac853c600>\n",
      "gc: collectable <list 0x7f9ac853c640>\n",
      "gc: collectable <list 0x7f9ac853c680>\n",
      "gc: collectable <list 0x7f9ac853c6c0>\n",
      "gc: collectable <list 0x7f9ac853c700>\n",
      "gc: collectable <list 0x7f9ac853c740>\n",
      "gc: collectable <list 0x7f9ac853c780>\n",
      "gc: collectable <list 0x7f9ac853c7c0>\n",
      "gc: collectable <list 0x7f9ac853c800>\n",
      "gc: collectable <list 0x7f9ac853c840>\n",
      "gc: collectable <list 0x7f9ac853c880>\n",
      "gc: collectable <list 0x7f9ac853c8c0>\n",
      "gc: collectable <list 0x7f9ac853c900>\n",
      "gc: collectable <list 0x7f9ac853c940>\n",
      "gc: collectable <list 0x7f9ac853c980>\n",
      "gc: collectable <list 0x7f9ac853c9c0>\n",
      "gc: collectable <list 0x7f9ac853ca40>\n",
      "gc: collectable <list 0x7f9ac853ca00>\n",
      "gc: collectable <list 0x7f9ac853ca80>\n",
      "gc: collectable <list 0x7f9ac853cac0>\n",
      "gc: collectable <list 0x7f9ac853cb00>\n",
      "gc: collectable <list 0x7f9ac853cb40>\n",
      "gc: collectable <list 0x7f9ac853cb80>\n",
      "gc: collectable <list 0x7f9ac853cbc0>\n",
      "gc: collectable <list 0x7f9ac853cc80>\n",
      "gc: collectable <list 0x7f9ac853cc00>\n",
      "gc: collectable <list 0x7f9ac853ccc0>\n",
      "gc: collectable <list 0x7f9ac853cc40>\n",
      "gc: collectable <list 0x7f9ac853cdc0>\n",
      "gc: collectable <list 0x7f9ac853ce40>\n",
      "gc: collectable <list 0x7f9ac853ce00>\n",
      "gc: collectable <list 0x7f9ac853cf00>\n",
      "gc: collectable <list 0x7f9ac853e0c0>\n",
      "gc: collectable <list 0x7f9ac853e140>\n",
      "gc: collectable <list 0x7f9ac853e240>\n",
      "gc: collectable <list 0x7f9ac853e2c0>\n",
      "gc: collectable <list 0x7f9ac853e3c0>\n",
      "gc: collectable <list 0x7f9ac853e480>\n",
      "gc: collectable <list 0x7f9ac853e500>\n",
      "gc: collectable <list 0x7f9ac853e4c0>\n",
      "gc: collectable <list 0x7f9ac853e5c0>\n",
      "gc: collectable <list 0x7f9ac853e780>\n",
      "gc: collectable <list 0x7f9ac853e840>\n",
      "gc: collectable <list 0x7f9ac853e900>\n",
      "gc: collectable <list 0x7f9ac853e980>\n",
      "gc: collectable <list 0x7f9ac853ea80>\n",
      "gc: collectable <list 0x7f9ac853ecc0>\n",
      "gc: collectable <list 0x7f9ac853ec00>\n",
      "gc: collectable <list 0x7f9ac853ed00>\n",
      "gc: collectable <list 0x7f9ac853ed80>\n",
      "gc: collectable <list 0x7f9ac853ee00>\n",
      "gc: collectable <list 0x7f9ac853edc0>\n",
      "gc: collectable <list 0x7f9ac853eb00>\n",
      "gc: collectable <list 0x7f9ac853f0c0>\n",
      "gc: collectable <list 0x7f9ac853efc0>\n",
      "gc: collectable <list 0x7f9ac853f200>\n",
      "gc: collectable <list 0x7f9ac853f280>\n",
      "gc: collectable <list 0x7f9ac853f240>\n",
      "gc: collectable <list 0x7f9ac853f440>\n",
      "gc: collectable <list 0x7f9ac853f500>\n",
      "gc: collectable <list 0x7f9ac853f5c0>\n",
      "gc: collectable <list 0x7f9ac853f640>\n",
      "gc: collectable <list 0x7f9ac853f6c0>\n",
      "gc: collectable <list 0x7f9ac853f740>\n",
      "gc: collectable <list 0x7f9ac853f840>\n",
      "gc: collectable <list 0x7f9ac853f9c0>\n",
      "gc: collectable <list 0x7f9ac853fa40>\n",
      "gc: collectable <list 0x7f9ac853fac0>\n",
      "gc: collectable <list 0x7f9ac853fb40>\n",
      "gc: collectable <list 0x7f9ac853fbc0>\n",
      "gc: collectable <list 0x7f9ac853fc40>\n",
      "gc: collectable <list 0x7f9ac853fcc0>\n",
      "gc: collectable <list 0x7f9ac853fd40>\n",
      "gc: collectable <list 0x7f9ac853fe00>\n",
      "gc: collectable <list 0x7f9ac853fe80>\n",
      "gc: collectable <list 0x7f9ac853fdc0>\n",
      "gc: collectable <list 0x7f9ac853ff40>\n",
      "gc: collectable <list 0x7f9ac8541040>\n",
      "gc: collectable <list 0x7f9ac85410c0>\n",
      "gc: collectable <list 0x7f9ac8541140>\n",
      "gc: collectable <list 0x7f9ac85411c0>\n",
      "gc: collectable <list 0x7f9ac853ffc0>\n",
      "gc: collectable <list 0x7f9ac8541280>\n",
      "gc: collectable <list 0x7f9ac8541340>\n",
      "gc: collectable <list 0x7f9ac85413c0>\n",
      "gc: collectable <list 0x7f9ac8541440>\n",
      "gc: collectable <list 0x7f9ac85414c0>\n",
      "gc: collectable <list 0x7f9ac8541540>\n",
      "gc: collectable <list 0x7f9ac85415c0>\n",
      "gc: collectable <list 0x7f9ac8541640>\n",
      "gc: collectable <list 0x7f9ac85416c0>\n",
      "gc: collectable <list 0x7f9ac8541740>\n",
      "gc: collectable <list 0x7f9ac85417c0>\n",
      "gc: collectable <list 0x7f9ac8541840>\n",
      "gc: collectable <list 0x7f9ac85418c0>\n",
      "gc: collectable <list 0x7f9ac8541940>\n",
      "gc: collectable <list 0x7f9ac8541300>\n",
      "gc: collectable <list 0x7f9ac8541a00>\n",
      "gc: collectable <list 0x7f9ac8541a80>\n",
      "gc: collectable <list 0x7f9ac8541b00>\n",
      "gc: collectable <FrameInfo 0x7f9ac83d7040>\n",
      "gc: collectable <dict 0x7f9ab22b34c0>\n",
      "gc: collectable <list 0x7f9ab22b3380>\n",
      "gc: collectable <list 0x7f9ac8592580>\n",
      "gc: collectable <list 0x7f9ab22b3540>\n",
      "gc: collectable <Line 0x7f9ac85d4c70>\n",
      "gc: collectable <dict 0x7f9ab22f7ec0>\n",
      "gc: collectable <Line 0x7f9ac83f7040>\n",
      "gc: collectable <dict 0x7f9ab22f7e80>\n",
      "gc: collectable <Executing 0x7f9ac83f7310>\n",
      "gc: collectable <dict 0x7f9ab22f47c0>\n",
      "gc: collectable <tuple 0x7f9ab2291200>\n",
      "gc: collectable <list 0x7f9ab228bd00>\n",
      "gc: collectable <list 0x7f9ab225d780>\n",
      "gc: collectable <dict 0x7f9ab2364580>\n",
      "gc: collectable <dict 0x7f9ab22f3980>\n",
      "gc: collectable <InterpreterEnvironment 0x7f9ac8458970>\n",
      "gc: collectable <dict 0x7f9ac8586f00>\n",
      "gc: collectable <Project 0x7f9ac8458c10>\n",
      "gc: collectable <dict 0x7f9ab22ae500>\n",
      "gc: collectable <list 0x7f9ac854e880>\n",
      "gc: collectable <InferenceState 0x7f9ac8458820>\n",
      "gc: collectable <dict 0x7f9ab229a240>\n",
      "gc: collectable <InferenceStateSameProcess 0x7f9ac82a9850>\n",
      "gc: collectable <dict 0x7f9ac8585300>\n",
      "gc: collectable <dict 0x7f9ac8590900>\n",
      "gc: collectable <tuple 0x7f9ab224a600>\n",
      "gc: collectable <VersionInfo 0x7f9ab22784a0>\n",
      "gc: collectable <PosixPath 0x7f9ab223d820>\n",
      "gc: collectable <weakref 0x7f9ab2278630>\n",
      "gc: collectable <list 0x7f9ab2276f40>\n",
      "gc: collectable <cell 0x7f9ab2184850>\n",
      "gc: collectable <function 0x7f9ab2269430>\n",
      "gc: collectable <tuple 0x7f9ab22b9d30>\n",
      "gc: collectable <dict 0x7f9ac85cf300>\n",
      "gc: collectable <list 0x7f9ab1eea940>\n",
      "gc: collectable <Name 0x7f9ab140f860>\n",
      "gc: collectable <list 0x7f9ab1f35140>\n",
      "gc: collectable <Operator 0x7f9ab14421c0>\n",
      "gc: collectable <Name 0x7f9ab140f8b0>\n",
      "gc: collectable <PythonNode 0x7f9ab1f35e40>\n",
      "gc: collectable <PythonNode 0x7f9ab1f35200>\n",
      "gc: collectable <list 0x7f9ab1ff1bc0>\n",
      "gc: collectable <PythonErrorNode 0x7f9ab1f6d670>\n",
      "gc: collectable <EndMarker 0x7f9ab140f950>\n",
      "gc: collectable <Module 0x7f9ab1f359c0>\n",
      "gc: collectable <list 0x7f9ab1ff8e40>\n",
      "gc: collectable <ModuleValue 0x7f9ab1f6d220>\n",
      "gc: collectable <dict 0x7f9ab1f2da40>\n",
      "gc: collectable <ValueSet 0x7f9ab1f6d1c0>\n",
      "gc: collectable <frozenset 0x7f9ab1ecf200>\n",
      "gc: collectable <dict 0x7f9ab146a600>\n",
      "gc: collectable <dict 0x7f9ab1468ec0>\n",
      "gc: collectable <ModuleValue 0x7f9ab1f6d6a0>\n",
      "gc: collectable <dict 0x7f9ab1f35380>\n",
      "gc: collectable <MixedModuleContext 0x7f9ab1f6d280>\n",
      "gc: collectable <dict 0x7f9ab146a900>\n",
      "gc: collectable <list 0x7f9ab1ffbb80>\n",
      "gc: collectable <NamespaceObject 0x7f9ab1f6dca0>\n",
      "gc: collectable <DirectObjectAccess 0x7f9ab1f6dfd0>\n",
      "gc: collectable <dict 0x7f9ab146a740>\n",
      "gc: collectable <AccessHandle 0x7f9ab1f6dfa0>\n",
      "gc: collectable <dict 0x7f9ab146a7c0>\n",
      "gc: collectable <dict 0x7f9ab1468b80>\n",
      "gc: collectable <tuple 0x7f9ac859d130>\n",
      "gc: collectable <dict 0x7f9ab146ac80>\n",
      "gc: collectable <tuple 0x7f9ab224da40>\n",
      "gc: collectable <DirectObjectAccess 0x7f9ab1f6d550>\n",
      "gc: collectable <dict 0x7f9ab146afc0>\n",
      "gc: collectable <AccessHandle 0x7f9ab1f6dd00>\n",
      "gc: collectable <dict 0x7f9ab146d0c0>\n",
      "gc: collectable <list 0x7f9ab1f35740>\n",
      "gc: collectable <tuple 0x7f9ac837a0a0>\n",
      "gc: collectable <dict 0x7f9ab146d380>\n",
      "gc: collectable <tuple 0x7f9ab1509a00>\n",
      "gc: collectable <dict 0x7f9ab146d440>\n",
      "gc: collectable <tuple 0x7f9ab1509ac0>\n",
      "gc: collectable <tuple 0x7f9ac85d4fd0>\n",
      "gc: collectable <tuple 0x7f9ab1509e00>\n",
      "gc: collectable <dict 0x7f9ab146ad40>\n",
      "gc: collectable <tuple 0x7f9ab1509e80>\n",
      "gc: collectable <tuple 0x7f9ab224ef40>\n",
      "gc: collectable <dict 0x7f9ab1468c40>\n",
      "gc: collectable <tuple 0x7f9ac85881c0>\n",
      "gc: collectable <CompiledModule 0x7f9ab1f6d700>\n",
      "gc: collectable <dict 0x7f9ab146ae00>\n",
      "gc: collectable <dict 0x7f9ab146ac40>\n",
      "gc: collectable <dict 0x7f9ab146ae80>\n",
      "gc: collectable <tuple 0x7f9ab1509b40>\n",
      "gc: collectable <CompiledModuleContext 0x7f9ab1f6deb0>\n",
      "gc: collectable <dict 0x7f9ab146d200>\n",
      "gc: collectable <dict 0x7f9ab146af40>\n",
      "gc: collectable <tuple 0x7f9ab150b080>\n",
      "gc: collectable <tuple 0x7f9ab228e0c0>\n",
      "gc: collectable <CompiledValue 0x7f9ab1f6d730>\n",
      "gc: collectable <dict 0x7f9ab146d140>\n",
      "gc: collectable <MixedObject 0x7f9ab1f6d4c0>\n",
      "gc: collectable <dict 0x7f9ab146aa40>\n",
      "gc: collectable <NamespaceObject 0x7f9ab1f6df40>\n",
      "gc: collectable <DirectObjectAccess 0x7f9ab1f6d640>\n",
      "gc: collectable <dict 0x7f9ab146ab00>\n",
      "gc: collectable <AccessHandle 0x7f9ab1f6d0a0>\n",
      "gc: collectable <dict 0x7f9ab146d500>\n",
      "gc: collectable <tuple 0x7f9ac824b0a0>\n",
      "gc: collectable <dict 0x7f9ab146d780>\n",
      "gc: collectable <tuple 0x7f9ab1509f40>\n",
      "gc: collectable <list 0x7f9ab1f35e80>\n",
      "gc: collectable <tuple 0x7f9ab1509fc0>\n",
      "gc: collectable <tuple 0x7f9ac80c0f70>\n",
      "gc: collectable <tuple 0x7f9ab150b480>\n",
      "gc: collectable <dict 0x7f9ab146d800>\n",
      "gc: collectable <tuple 0x7f9ab150b4c0>\n",
      "gc: collectable <tuple 0x7f9ab224ae00>\n",
      "gc: collectable <tuple 0x7f9ab228e9c0>\n",
      "gc: collectable <CompiledValue 0x7f9ab1f6d100>\n",
      "gc: collectable <dict 0x7f9ab146d6c0>\n",
      "gc: collectable <MixedObject 0x7f9ab1f6d4f0>\n",
      "gc: collectable <dict 0x7f9ab146d640>\n",
      "gc: collectable <tuple 0x7f9ab1509c00>\n",
      "gc: collectable <cell 0x7f9ab1f6d940>\n",
      "gc: collectable <cell 0x7f9ab1f6da60>\n",
      "gc: collectable <cell 0x7f9ab1f6d9d0>\n",
      "gc: collectable <cell 0x7f9ab1f6d400>\n",
      "gc: collectable <tuple 0x7f9ab228fd10>\n",
      "gc: collectable <function 0x7f9ab1ecd0d0>\n",
      "gc: collectable <cell 0x7f9ab1f6d430>\n",
      "gc: collectable <cell 0x7f9ab1f6d460>\n",
      "gc: collectable <cell 0x7f9ab1f6d490>\n",
      "gc: collectable <cell 0x7f9ab1f6d310>\n",
      "gc: collectable <tuple 0x7f9ab228f900>\n",
      "gc: collectable <function 0x7f9ab1ecd160>\n",
      "gc: collectable <cell 0x7f9ab1f6d1f0>\n",
      "gc: collectable <cell 0x7f9ab1f6d3a0>\n",
      "gc: collectable <cell 0x7f9ab1f6d3d0>\n",
      "gc: collectable <cell 0x7f9ab1f6d9a0>\n",
      "gc: collectable <tuple 0x7f9ab228f8b0>\n",
      "gc: collectable <function 0x7f9ab1ecd1f0>\n",
      "gc: collectable <cell 0x7f9ab1f6dee0>\n",
      "gc: collectable <cell 0x7f9ab1f2a970>\n",
      "gc: collectable <cell 0x7f9ab1f2a9a0>\n",
      "gc: collectable <cell 0x7f9ab1f2a700>\n",
      "gc: collectable <tuple 0x7f9ab225b3b0>\n",
      "gc: collectable <function 0x7f9ab1ecd280>\n",
      "gc: collectable <cell 0x7f9ab1f6d340>\n",
      "gc: collectable <cell 0x7f9ab1f2a730>\n",
      "gc: collectable <cell 0x7f9ab1f2a760>\n",
      "gc: collectable <cell 0x7f9ab1f2a610>\n",
      "gc: collectable <tuple 0x7f9ab2279720>\n",
      "gc: collectable <function 0x7f9ab1ecd310>\n",
      "gc: collectable <cell 0x7f9ab1f2a7c0>\n",
      "gc: collectable <cell 0x7f9ab1f2a7f0>\n",
      "gc: collectable <cell 0x7f9ab1f2a820>\n",
      "gc: collectable <cell 0x7f9ab1f2a6d0>\n",
      "gc: collectable <tuple 0x7f9ab22793b0>\n",
      "gc: collectable <function 0x7f9ab22a6f70>\n",
      "gc: collectable <cell 0x7f9ab1f2abe0>\n",
      "gc: collectable <cell 0x7f9ab1f2a940>\n",
      "gc: collectable <cell 0x7f9ab1f2a910>\n",
      "gc: collectable <cell 0x7f9ab1f2a790>\n",
      "gc: collectable <tuple 0x7f9ab22794f0>\n",
      "gc: collectable <function 0x7f9ac85ecf70>\n",
      "gc: collectable <cell 0x7f9ab1f2aa30>\n",
      "gc: collectable <cell 0x7f9ab1f2ab50>\n",
      "gc: collectable <cell 0x7f9ab1f2aa90>\n",
      "gc: collectable <cell 0x7f9ab1f2adf0>\n",
      "gc: collectable <tuple 0x7f9ab2279770>\n",
      "gc: collectable <function 0x7f9ac85b3ee0>\n",
      "gc: collectable <tuple 0x7f9ab150b400>\n",
      "gc: collectable <tuple 0x7f9ac8077ca0>\n",
      "gc: collectable <type 0x242ab90>\n",
      "gc: collectable <getset_descriptor 0x7f9ab21fd940>\n",
      "gc: collectable <dict 0x7f9ab146d8c0>\n",
      "gc: collectable <tuple 0x7f9ab228fd60>\n",
      "gc: collectable <list 0x7f9ab1f2d740>\n",
      "gc: collectable <Operator 0x7f9ab1442100>\n",
      "gc: collectable <Name 0x7f9ab140f6d0>\n",
      "gc: collectable <PythonNode 0x7f9ab1f358c0>\n",
      "gc: collectable <cell 0x7f9ab1f2abb0>\n",
      "gc: collectable <cell 0x7f9ab1f2a880>\n",
      "gc: collectable <cell 0x7f9ab1f2ab80>\n",
      "gc: collectable <cell 0x7f9ab1f2a9d0>\n",
      "gc: collectable <tuple 0x7f9ab228c9a0>\n",
      "gc: collectable <function 0x7f9ab1f0ac10>\n",
      "gc: collectable <cell 0x7f9ab1f1e0d0>\n",
      "gc: collectable <cell 0x7f9ab1f1e490>\n",
      "gc: collectable <cell 0x7f9ab1f1e460>\n",
      "gc: collectable <cell 0x7f9ab1f1e5b0>\n",
      "gc: collectable <tuple 0x7f9ab225cd10>\n",
      "gc: collectable <function 0x7f9ab1f0aca0>\n",
      "gc: collectable <cell 0x7f9ab1459c10>\n",
      "gc: collectable <cell 0x7f9ab1459c40>\n",
      "gc: collectable <cell 0x7f9ab1459c70>\n",
      "gc: collectable <cell 0x7f9ab1459ca0>\n",
      "gc: collectable <tuple 0x7f9ab225a9f0>\n",
      "gc: collectable <function 0x7f9ab1f0ad30>\n",
      "gc: collectable <cell 0x7f9ab1459cd0>\n",
      "gc: collectable <cell 0x7f9ab1459d00>\n",
      "gc: collectable <cell 0x7f9ab1459d30>\n",
      "gc: collectable <cell 0x7f9ab1459d60>\n",
      "gc: collectable <tuple 0x7f9ab2262d10>\n",
      "gc: collectable <function 0x7f9ab1f0adc0>\n",
      "gc: collectable <cell 0x7f9ab1459d90>\n",
      "gc: collectable <cell 0x7f9ab1459dc0>\n",
      "gc: collectable <cell 0x7f9ab1459df0>\n",
      "gc: collectable <cell 0x7f9ab1459e20>\n",
      "gc: collectable <tuple 0x7f9ab2262ae0>\n",
      "gc: collectable <function 0x7f9ab1f0ab80>\n",
      "gc: collectable <function 0x7f9ab1f0aaf0>\n",
      "gc: collectable <tuple 0x7f9ac82582e0>\n",
      "gc: collectable <tuple 0x7f9ab228e980>\n",
      "gc: collectable <dict 0x7f9ab1eee0c0>\n",
      "gc: collectable <dict 0x7f9ab146a140>\n",
      "gc: collectable <cell 0x7f9ab1459f10>\n",
      "gc: collectable <cell 0x7f9ab1459f40>\n",
      "gc: collectable <tuple 0x7f9ab150b7c0>\n",
      "gc: collectable <function 0x7f9ab1f0aa60>\n",
      "gc: collectable <list 0x7f9ab1f1fd40>\n",
      "gc: collectable <dict 0x7f9ab1f25f00>\n",
      "gc: collectable <list 0x7f9ab2364800>\n",
      "gc: collectable <list 0x7f9ab2295bc0>\n",
      "gc: collectable <list 0x7f9ab1f2d700>\n",
      "gc: collectable <tuple 0x7f9ab150ba00>\n",
      "gc: collectable <frozenset 0x7f9ab1ecf040>\n",
      "gc: collectable <tuple 0x7f9ab150ba40>\n",
      "gc: collectable <tuple 0x7f9ab150bbc0>\n",
      "gc: collectable <tuple 0x7f9ab150bc80>\n",
      "gc: collectable <dict 0x7f9ab1eee900>\n",
      "gc: collectable <tuple 0x7f9ab150bd80>\n",
      "gc: collectable <CompiledContext 0x7f9ab144d070>\n",
      "gc: collectable <dict 0x7f9ab1eeea00>\n",
      "gc: collectable <dict 0x7f9ab1eee9c0>\n",
      "gc: collectable <tuple 0x7f9ab150bec0>\n",
      "gc: collectable <frozenset 0x7f9ab1ecf3c0>\n",
      "gc: collectable <tuple 0x7f9ab150bf80>\n",
      "gc: collectable <tuple 0x7f9ab150e100>\n",
      "gc: collectable <DirectObjectAccess 0x7f9ab144d130>\n",
      "gc: collectable <dict 0x7f9ab1ef11c0>\n",
      "gc: collectable <AccessHandle 0x7f9ab144d1f0>\n",
      "gc: collectable <dict 0x7f9ab1ef1100>\n",
      "gc: collectable <list 0x7f9ab1f2d300>\n",
      "gc: collectable <tuple 0x7f9ab150bd00>\n",
      "gc: collectable <tuple 0x7f9ab228ec40>\n",
      "gc: collectable <CompiledModule 0x7f9ab144d250>\n",
      "gc: collectable <dict 0x7f9ab1eeed00>\n",
      "gc: collectable <dict 0x7f9ab1eeec40>\n",
      "gc: collectable <tuple 0x7f9ab150e340>\n",
      "gc: collectable <ModuleContext 0x7f9ab144d100>\n",
      "gc: collectable <dict 0x7f9ab1eeeec0>\n",
      "gc: collectable <dict 0x7f9ab1eeed40>\n",
      "gc: collectable <tuple 0x7f9ab150e3c0>\n",
      "gc: collectable <tuple 0x7f9ab228edc0>\n",
      "gc: collectable <tuple 0x7f9ac82434f0>\n",
      "gc: collectable <dict 0x7f9ab1ef12c0>\n",
      "gc: collectable <tuple 0x7f9ab150e540>\n",
      "gc: collectable <dict 0x7f9ab1ef1340>\n",
      "gc: collectable <tuple 0x7f9ab2243af0>\n",
      "gc: collectable <tuple 0x7f9ab150e680>\n",
      "gc: collectable <dict 0x7f9ab1eeef40>\n",
      "gc: collectable <tuple 0x7f9ab150e780>\n",
      "gc: collectable <CompiledModuleContext 0x7f9ab144d310>\n",
      "gc: collectable <dict 0x7f9ab1ef14c0>\n",
      "gc: collectable <dict 0x7f9ab1ef1240>\n",
      "gc: collectable <tuple 0x7f9ac837acd0>\n",
      "gc: collectable <tuple 0x7f9ab150e800>\n",
      "gc: collectable <tuple 0x7f9ab2243880>\n",
      "gc: collectable <ValueSet 0x7f9ab144d370>\n",
      "gc: collectable <frozenset 0x7f9ab1ecf4a0>\n",
      "gc: collectable <dict 0x7f9ab1ef1080>\n",
      "gc: collectable <tuple 0x7f9ac8283b50>\n",
      "gc: collectable <tuple 0x7f9ab228ed80>\n",
      "gc: collectable <tuple 0x7f9ac80c9c10>\n",
      "gc: collectable <tuple 0x7f9ab228e700>\n",
      "gc: collectable <list 0x7f9ab1ef17c0>\n",
      "gc: collectable <dict 0x7f9ab1ef1740>\n",
      "gc: collectable <list 0x7f9ab1ef1a00>\n",
      "gc: collectable <dict 0x7f9ab1ef15c0>\n",
      "gc: collectable <dict 0x7f9ab1468fc0>\n",
      "gc: collectable <tuple 0x7f9ac80c90a0>\n",
      "gc: collectable <tuple 0x7f9ab150e900>\n",
      "gc: collectable <FileIO 0x7f9ab1f2a340>\n",
      "gc: collectable <PosixPath 0x7f9ab1409dd0>\n",
      "gc: collectable <list 0x7f9ab1ef1640>\n",
      "gc: collectable <dict 0x7f9ab1ef1380>\n",
      "gc: collectable <cell 0x7f9ab1f2a490>\n",
      "gc: collectable <cell 0x7f9ab144d430>\n",
      "gc: collectable <cell 0x7f9ab144d490>\n",
      "gc: collectable <cell 0x7f9ab144d550>\n",
      "gc: collectable <function 0x7f9ab1f0a8b0>\n",
      "gc: collectable <tuple 0x7f9ac80ce070>\n",
      "gc: collectable <function 0x7f9ab1f0a5e0>\n",
      "gc: collectable <tuple 0x7f9ac80bb970>\n",
      "gc: collectable <function 0x7f9ab1f0a670>\n",
      "gc: collectable <tuple 0x7f9ab2262a90>\n",
      "gc: collectable <function 0x7f9ab1f0a4c0>\n",
      "gc: collectable <StubModuleValue 0x7f9ab1f2a310>\n",
      "gc: collectable <dict 0x7f9ab1ef1680>\n",
      "gc: collectable <ValueSet 0x7f9ab144d4c0>\n",
      "gc: collectable <frozenset 0x7f9ab1ecf660>\n",
      "gc: collectable <MixedObject 0x7f9ab144d5b0>\n",
      "gc: collectable <dict 0x7f9ab1ef1c80>\n",
      "gc: collectable <dict 0x7f9ab1ef1bc0>\n",
      "gc: collectable <dict 0x7f9ab1eeee00>\n",
      "gc: collectable <frozenset 0x7f9ab1ecf580>\n",
      "gc: collectable <ValueSet 0x7f9ab1459ee0>\n",
      "gc: collectable <dict 0x7f9ab1eee5c0>\n",
      "gc: collectable <cell 0x7f9ab1459e50>\n",
      "gc: collectable <cell 0x7f9ab1459e80>\n",
      "gc: collectable <cell 0x7f9ab1459eb0>\n",
      "gc: collectable <cell 0x7f9ab1459fd0>\n",
      "gc: collectable <tuple 0x7f9ab2262a40>\n",
      "gc: collectable <function 0x7f9ab1f0aee0>\n",
      "gc: collectable <cell 0x7f9ab144d160>\n",
      "gc: collectable <cell 0x7f9ab144d190>\n",
      "gc: collectable <cell 0x7f9ab144d0a0>\n",
      "gc: collectable <cell 0x7f9ab144d2e0>\n",
      "gc: collectable <tuple 0x7f9ab22629a0>\n",
      "gc: collectable <function 0x7f9ab1f0a700>\n",
      "gc: collectable <cell 0x7f9ab144d3d0>\n",
      "gc: collectable <cell 0x7f9ab144d460>\n",
      "gc: collectable <cell 0x7f9ab144d5e0>\n",
      "gc: collectable <cell 0x7f9ab144d610>\n",
      "gc: collectable <tuple 0x7f9ab22627c0>\n",
      "gc: collectable <function 0x7f9ab1f0a550>\n",
      "gc: collectable <cell 0x7f9ab144d640>\n",
      "gc: collectable <cell 0x7f9ab144d670>\n",
      "gc: collectable <cell 0x7f9ab144d6a0>\n",
      "gc: collectable <cell 0x7f9ab144d6d0>\n",
      "gc: collectable <tuple 0x7f9ab2272360>\n",
      "gc: collectable <function 0x7f9ab2114310>\n",
      "gc: collectable <cell 0x7f9ab144d700>\n",
      "gc: collectable <cell 0x7f9ab144d730>\n",
      "gc: collectable <cell 0x7f9ab144d760>\n",
      "gc: collectable <cell 0x7f9ab144d790>\n",
      "gc: collectable <tuple 0x7f9ab2262770>\n",
      "gc: collectable <function 0x7f9ab1407940>\n",
      "gc: collectable <function 0x7f9ab14079d0>\n",
      "gc: collectable <tuple 0x7f9ac85cd160>\n",
      "gc: collectable <tuple 0x7f9ab150b540>\n",
      "gc: collectable <tuple 0x7f9ab150b680>\n",
      "gc: collectable <dict 0x7f9ab1ef7580>\n",
      "gc: collectable <tuple 0x7f9ab1511b40>\n",
      "gc: collectable <MixedModuleContext 0x7f9ab1457f40>\n",
      "gc: collectable <dict 0x7f9ab1ef7700>\n",
      "gc: collectable <dict 0x7f9ab1eeeb00>\n",
      "gc: collectable <tuple 0x7f9ab1511640>\n",
      "gc: collectable <frozenset 0x7f9ab1ecf820>\n",
      "gc: collectable <tuple 0x7f9ab150e940>\n",
      "gc: collectable <tuple 0x7f9ab150e9c0>\n",
      "gc: collectable <DirectObjectAccess 0x7f9ab1f2a4c0>\n",
      "gc: collectable <dict 0x7f9ab1ef1980>\n",
      "gc: collectable <AccessHandle 0x7f9ab1f2a130>\n",
      "gc: collectable <dict 0x7f9ab1ef1ac0>\n",
      "gc: collectable <DirectObjectAccess 0x7f9ab144dc40>\n",
      "gc: collectable <dict 0x7f9ab1ef1e80>\n",
      "gc: collectable <AccessHandle 0x7f9ab144dcd0>\n",
      "gc: collectable <dict 0x7f9ab1ef1e00>\n",
      "gc: collectable <list 0x7f9ab1ffb700>\n",
      "gc: collectable <tuple 0x7f9ab1511680>\n",
      "gc: collectable <tuple 0x7f9ab228d900>\n",
      "gc: collectable <CompiledModule 0x7f9ab144dd00>\n",
      "gc: collectable <dict 0x7f9ab1ef1fc0>\n",
      "gc: collectable <dict 0x7f9ac85d8140>\n",
      "gc: collectable <tuple 0x7f9ab227fe40>\n",
      "gc: collectable <CompiledModuleContext 0x7f9ab144dd30>\n",
      "gc: collectable <dict 0x7f9ab146a9c0>\n",
      "gc: collectable <dict 0x7f9ab1fecb40>\n",
      "gc: collectable <tuple 0x7f9ab150b2c0>\n",
      "gc: collectable <tuple 0x7f9ab228e4c0>\n",
      "gc: collectable <CompiledValue 0x7f9ab144ddc0>\n",
      "gc: collectable <dict 0x7f9ab146d580>\n",
      "gc: collectable <tuple 0x7f9ab22abf70>\n",
      "gc: collectable <dict 0x7f9ab1ef30c0>\n",
      "gc: collectable <tuple 0x7f9ab1511740>\n",
      "gc: collectable <dict 0x7f9ab1ef3100>\n",
      "gc: collectable <tuple 0x7f9ab1511880>\n",
      "gc: collectable <frozenset 0x7f9ab1ecf2e0>\n",
      "gc: collectable <tuple 0x7f9ab220ee40>\n",
      "gc: collectable <tuple 0x7f9ab1511a40>\n",
      "gc: collectable <DirectObjectAccess 0x7f9ab144dd60>\n",
      "gc: collectable <dict 0x7f9ab1ef3540>\n",
      "gc: collectable <AccessHandle 0x7f9ab144d520>\n",
      "gc: collectable <dict 0x7f9ab1ef33c0>\n",
      "gc: collectable <list 0x7f9ab22b7240>\n",
      "gc: collectable <tuple 0x7f9ab1511ac0>\n",
      "gc: collectable <tuple 0x7f9ab228ea00>\n",
      "gc: collectable <CompiledValue 0x7f9ab144dee0>\n",
      "gc: collectable <dict 0x7f9ab1ef3080>\n",
      "gc: collectable <tuple 0x7f9ab22b91c0>\n",
      "gc: collectable <dict 0x7f9ab1ef31c0>\n",
      "gc: collectable <tuple 0x7f9ab1511580>\n",
      "gc: collectable <dict 0x7f9ab1ef3340>\n",
      "gc: collectable <tuple 0x7f9ab1511440>\n",
      "gc: collectable <frozenset 0x7f9ab1ecf740>\n",
      "gc: collectable <tuple 0x7f9ab1511300>\n",
      "gc: collectable <tuple 0x7f9ab1511280>\n",
      "gc: collectable <DirectObjectAccess 0x7f9ab144deb0>\n",
      "gc: collectable <dict 0x7f9ab1ef3800>\n",
      "gc: collectable <AccessHandle 0x7f9ab144dfd0>\n",
      "gc: collectable <dict 0x7f9ab1ef3880>\n",
      "gc: collectable <list 0x7f9ab220fd80>\n",
      "gc: collectable <tuple 0x7f9ab15113c0>\n",
      "gc: collectable <tuple 0x7f9ab228e200>\n",
      "gc: collectable <CompiledValue 0x7f9ab144df70>\n",
      "gc: collectable <dict 0x7f9ab1ef3400>\n",
      "gc: collectable <tuple 0x7f9ac8264730>\n",
      "gc: collectable <dict 0x7f9ab1ef3640>\n",
      "gc: collectable <tuple 0x7f9ab1511080>\n",
      "gc: collectable <dict 0x7f9ab1ef3580>\n",
      "gc: collectable <tuple 0x7f9ab150ef40>\n",
      "gc: collectable <frozenset 0x7f9ab1ecf900>\n",
      "gc: collectable <tuple 0x7f9ab150ee00>\n",
      "gc: collectable <tuple 0x7f9ab150ed80>\n",
      "gc: collectable <DirectObjectAccess 0x7f9ab14570d0>\n",
      "gc: collectable <dict 0x7f9ab1ef3c80>\n",
      "gc: collectable <AccessHandle 0x7f9ab1457070>\n",
      "gc: collectable <dict 0x7f9ab1ef3b00>\n",
      "gc: collectable <list 0x7f9ab1eee500>\n",
      "gc: collectable <tuple 0x7f9ab150ee80>\n",
      "gc: collectable <tuple 0x7f9ab228e680>\n",
      "gc: collectable <CompiledValue 0x7f9ab1457190>\n",
      "gc: collectable <dict 0x7f9ab1ef3700>\n",
      "gc: collectable <tuple 0x7f9ab22b90a0>\n",
      "gc: collectable <dict 0x7f9ab1ef3900>\n",
      "gc: collectable <tuple 0x7f9ab150ecc0>\n",
      "gc: collectable <dict 0x7f9ab1ef3ac0>\n",
      "gc: collectable <tuple 0x7f9ab150e700>\n",
      "gc: collectable <frozenset 0x7f9ab1ecf9e0>\n",
      "gc: collectable <tuple 0x7f9ab150e880>\n",
      "gc: collectable <tuple 0x7f9ab150b980>\n",
      "gc: collectable <DirectObjectAccess 0x7f9ab1457130>\n",
      "gc: collectable <dict 0x7f9ab1ef3ec0>\n",
      "gc: collectable <AccessHandle 0x7f9ab1457250>\n",
      "gc: collectable <dict 0x7f9ab1ef3f80>\n",
      "gc: collectable <list 0x7f9ab1fdb340>\n",
      "gc: collectable <tuple 0x7f9ab150e840>\n",
      "gc: collectable <tuple 0x7f9ab2242480>\n",
      "gc: collectable <CompiledValue 0x7f9ab14571f0>\n",
      "gc: collectable <dict 0x7f9ab1ef3b40>\n",
      "gc: collectable <tuple 0x7f9ab22abfd0>\n",
      "gc: collectable <dict 0x7f9ab1ef3d80>\n",
      "gc: collectable <tuple 0x7f9ab150b900>\n",
      "gc: collectable <dict 0x7f9ab1ef3d00>\n",
      "gc: collectable <dict 0x7f9ab1ef9340>\n",
      "gc: collectable <dict 0x7f9ab1ef9500>\n",
      "gc: collectable <InterpreterEnvironment 0x7f9ab1f1e100>\n",
      "gc: collectable <VersionInfo 0x7f9ab2278590>\n",
      "gc: collectable <dict 0x7f9ab1470540>\n",
      "gc: collectable <PosixPath 0x7f9ab1409f90>\n",
      "gc: collectable <list 0x7f9ab1f2d940>\n",
      "gc: collectable <Project 0x7f9ab1f1ec10>\n",
      "gc: collectable <dict 0x7f9ab14702c0>\n",
      "gc: collectable <list 0x7f9ab1ef92c0>\n",
      "gc: collectable <InferenceState 0x7f9ab1f1e610>\n",
      "gc: collectable <dict 0x7f9ab146db00>\n",
      "gc: collectable <InferenceStateSameProcess 0x7f9ab1f1eaf0>\n",
      "gc: collectable <weakref 0x7f9ab140f720>\n",
      "gc: collectable <dict 0x7f9ab1f35ac0>\n",
      "gc: collectable <dict 0x7f9ab1470800>\n",
      "gc: collectable <tuple 0x7f9ab150b5c0>\n",
      "gc: collectable <dict 0x7f9ac85e4200>\n",
      "gc: collectable <ModuleCache 0x7f9ab1f1eca0>\n",
      "gc: collectable <dict 0x7f9ab1470140>\n",
      "gc: collectable <list 0x7f9ab2259240>\n",
      "gc: collectable <RecursionDetector 0x7f9ab1f1ed60>\n",
      "gc: collectable <list 0x7f9ab1f2dd40>\n",
      "gc: collectable <dict 0x7f9ab2259940>\n",
      "gc: collectable <ExecutionRecursionDetector 0x7f9ab1f1ec70>\n",
      "gc: collectable <dict 0x7f9ab1feb5c0>\n",
      "gc: collectable <list 0x7f9ab22f3900>\n",
      "gc: collectable <list 0x7f9ab1f256c0>\n",
      "gc: collectable <EndMarker 0x7f9ab140fea0>\n",
      "gc: collectable <Module 0x7f9ab1ef9b40>\n",
      "gc: collectable <list 0x7f9ab22aec40>\n",
      "gc: collectable <ModuleValue 0x7f9ab1f1ebb0>\n",
      "gc: collectable <dict 0x7f9ab146a6c0>\n",
      "gc: collectable <ValueSet 0x7f9ab1f1eee0>\n",
      "gc: collectable <frozenset 0x7f9ab1ecff20>\n",
      "gc: collectable <dict 0x7f9ab1eeab80>\n",
      "gc: collectable <dict 0x7f9ab1470340>\n",
      "gc: collectable <ModuleValue 0x7f9ab1f1edc0>\n",
      "gc: collectable <dict 0x7f9ab146dd00>\n",
      "gc: collectable <MixedModuleContext 0x7f9ab1f6d2b0>\n",
      "gc: collectable <dict 0x7f9ab1eeac80>\n",
      "gc: collectable <list 0x7f9ab1f1b480>\n",
      "gc: collectable <NamespaceObject 0x7f9ab1f5de20>\n",
      "gc: collectable <DirectObjectAccess 0x7f9ab1f5ddc0>\n",
      "gc: collectable <dict 0x7f9ab1eeac00>\n",
      "gc: collectable <AccessHandle 0x7f9ab1f5dd00>\n",
      "gc: collectable <dict 0x7f9ab1eeab00>\n",
      "gc: collectable <dict 0x7f9ab1470680>\n",
      "gc: collectable <tuple 0x7f9ac80bbc10>\n",
      "gc: collectable <dict 0x7f9ab1ef1940>\n",
      "gc: collectable <tuple 0x7f9ab2277d40>\n",
      "gc: collectable <DirectObjectAccess 0x7f9ab1f5df40>\n",
      "gc: collectable <dict 0x7f9ab1eee3c0>\n",
      "gc: collectable <AccessHandle 0x7f9ab1f5deb0>\n",
      "gc: collectable <dict 0x7f9ab1eee6c0>\n",
      "gc: collectable <list 0x7f9ab1efb180>\n",
      "gc: collectable <tuple 0x7f9ab22439a0>\n",
      "gc: collectable <dict 0x7f9ab1eee480>\n",
      "gc: collectable <tuple 0x7f9ab150b740>\n",
      "gc: collectable <dict 0x7f9ab1eee780>\n",
      "gc: collectable <tuple 0x7f9ab2250fc0>\n",
      "gc: collectable <tuple 0x7f9ac8252790>\n",
      "gc: collectable <tuple 0x7f9ab15119c0>\n",
      "gc: collectable <dict 0x7f9ab1f35100>\n",
      "gc: collectable <tuple 0x7f9ab15114c0>\n",
      "gc: collectable <tuple 0x7f9ab1511c00>\n",
      "gc: collectable <dict 0x7f9ab14705c0>\n",
      "gc: collectable <tuple 0x7f9ab22770c0>\n",
      "gc: collectable <CompiledModule 0x7f9ab1f5d760>\n",
      "gc: collectable <dict 0x7f9ab1ef3780>\n",
      "gc: collectable <dict 0x7f9ab1eeaf40>\n",
      "gc: collectable <dict 0x7f9ab1ef39c0>\n",
      "gc: collectable <tuple 0x7f9ab1511d40>\n",
      "gc: collectable <CompiledModuleContext 0x7f9ab1f5d700>\n",
      "gc: collectable <dict 0x7f9ab146a880>\n",
      "gc: collectable <dict 0x7f9ab1eee140>\n",
      "gc: collectable <tuple 0x7f9ab150efc0>\n",
      "gc: collectable <tuple 0x7f9ab226f040>\n",
      "gc: collectable <CompiledValue 0x7f9ab1f5d6a0>\n",
      "gc: collectable <dict 0x7f9ab1468800>\n",
      "gc: collectable <MixedObject 0x7f9ab1f5dbb0>\n",
      "gc: collectable <dict 0x7f9ab1eeae40>\n",
      "gc: collectable <NamespaceObject 0x7f9ab1f5df70>\n",
      "gc: collectable <DirectObjectAccess 0x7f9ab1f5ddf0>\n",
      "gc: collectable <dict 0x7f9ab1eeae80>\n",
      "gc: collectable <AccessHandle 0x7f9ab1f5db20>\n",
      "gc: collectable <dict 0x7f9ab14689c0>\n",
      "gc: collectable <tuple 0x7f9ab22abb20>\n",
      "gc: collectable <dict 0x7f9ab1eeea80>\n",
      "gc: collectable <tuple 0x7f9ab15115c0>\n",
      "gc: collectable <list 0x7f9ab1efb200>\n",
      "gc: collectable <tuple 0x7f9ab1511b80>\n",
      "gc: collectable <tuple 0x7f9ab22b98e0>\n",
      "gc: collectable <tuple 0x7f9ab1511e40>\n",
      "gc: collectable <dict 0x7f9ab1ef1d80>\n",
      "gc: collectable <tuple 0x7f9ab1511e80>\n",
      "gc: collectable <tuple 0x7f9ab150b340>\n",
      "gc: collectable <tuple 0x7f9ab227c840>\n",
      "gc: collectable <CompiledValue 0x7f9ab1f5daf0>\n",
      "gc: collectable <dict 0x7f9ab1eee340>\n",
      "gc: collectable <MixedObject 0x7f9ab1f5d730>\n",
      "gc: collectable <dict 0x7f9ab1eee800>\n",
      "gc: collectable <tuple 0x7f9ab1511dc0>\n",
      "gc: collectable <cell 0x7f9ab1f5d8b0>\n",
      "gc: collectable <cell 0x7f9ab1f5d790>\n",
      "gc: collectable <cell 0x7f9ab1f5d6d0>\n",
      "gc: collectable <cell 0x7f9ab1f5db80>\n",
      "gc: collectable <tuple 0x7f9ab2278450>\n",
      "gc: collectable <function 0x7f9ab1407a60>\n",
      "gc: collectable <cell 0x7f9ab1f5de50>\n",
      "gc: collectable <cell 0x7f9ab1f5dd60>\n",
      "gc: collectable <cell 0x7f9ab1f5dee0>\n",
      "gc: collectable <cell 0x7f9ab144dbe0>\n",
      "gc: collectable <tuple 0x7f9ab2279a90>\n",
      "gc: collectable <function 0x7f9ab1407af0>\n",
      "gc: collectable <cell 0x7f9ab144dc10>\n",
      "gc: collectable <cell 0x7f9ab144db80>\n",
      "gc: collectable <cell 0x7f9ab144dbb0>\n",
      "gc: collectable <cell 0x7f9ab144d8b0>\n",
      "gc: collectable <tuple 0x7f9ab22027c0>\n",
      "gc: collectable <function 0x7f9ab1407b80>\n",
      "gc: collectable <cell 0x7f9ab1f6da30>\n",
      "gc: collectable <cell 0x7f9ab144d910>\n",
      "gc: collectable <cell 0x7f9ab144d850>\n",
      "gc: collectable <cell 0x7f9ab144d880>\n",
      "gc: collectable <tuple 0x7f9ab2279bd0>\n",
      "gc: collectable <function 0x7f9ab1407c10>\n",
      "gc: collectable <cell 0x7f9ab144d7c0>\n",
      "gc: collectable <cell 0x7f9ab144d9a0>\n",
      "gc: collectable <cell 0x7f9ab144d9d0>\n",
      "gc: collectable <cell 0x7f9ab144d940>\n",
      "gc: collectable <tuple 0x7f9ab2262b30>\n",
      "gc: collectable <function 0x7f9ab1407ca0>\n",
      "gc: collectable <cell 0x7f9ab144d970>\n",
      "gc: collectable <cell 0x7f9ab144d7f0>\n",
      "gc: collectable <cell 0x7f9ab144da60>\n",
      "gc: collectable <cell 0x7f9ab144da90>\n",
      "gc: collectable <tuple 0x7f9ab2262bd0>\n",
      "gc: collectable <function 0x7f9ab1407d30>\n",
      "gc: collectable <tuple 0x7f9ab150ec40>\n",
      "gc: collectable <tuple 0x7f9ab22ab670>\n",
      "gc: collectable <type 0x250acb0>\n",
      "gc: collectable <getset_descriptor 0x7f9ab1ef95c0>\n",
      "gc: collectable <dict 0x7f9ab1ef3240>\n",
      "gc: collectable <tuple 0x7f9ab2262c20>\n",
      "gc: collectable <cell 0x7f9ab144db20>\n",
      "gc: collectable <cell 0x7f9ab144d820>\n",
      "gc: collectable <cell 0x7f9ab144da30>\n",
      "gc: collectable <cell 0x7f9ab144db50>\n",
      "gc: collectable <tuple 0x7f9ab2262db0>\n",
      "gc: collectable <function 0x7f9ab1407dc0>\n",
      "gc: collectable <cell 0x7f9acc62c2b0>\n",
      "gc: collectable <cell 0x7f9ab1f2a100>\n",
      "gc: collectable <cell 0x7f9ab1f2a040>\n",
      "gc: collectable <cell 0x7f9ab1f2a190>\n",
      "gc: collectable <tuple 0x7f9ab2262e00>\n",
      "gc: collectable <function 0x7f9ab1407e50>\n",
      "gc: collectable <cell 0x7f9ab1f2a070>\n",
      "gc: collectable <cell 0x7f9ab1457670>\n",
      "gc: collectable <cell 0x7f9ab1457760>\n",
      "gc: collectable <cell 0x7f9ab1457790>\n",
      "gc: collectable <tuple 0x7f9ab2262e50>\n",
      "gc: collectable <function 0x7f9ab1407ee0>\n",
      "gc: collectable <cell 0x7f9ab1457700>\n",
      "gc: collectable <cell 0x7f9ab1457730>\n",
      "gc: collectable <cell 0x7f9ab1457820>\n",
      "gc: collectable <cell 0x7f9ab1457850>\n",
      "gc: collectable <tuple 0x7f9ab2279180>\n",
      "gc: collectable <function 0x7f9ab1407f70>\n",
      "gc: collectable <function 0x7f9ab1462040>\n",
      "gc: collectable <tuple 0x7f9ac84ef0d0>\n",
      "gc: collectable <tuple 0x7f9ab227b100>\n",
      "gc: collectable <dict 0x7f9ab1efb380>\n",
      "gc: collectable <dict 0x7f9ab1f357c0>\n",
      "gc: collectable <cell 0x7f9ab1457880>\n",
      "gc: collectable <cell 0x7f9ab14578b0>\n",
      "gc: collectable <tuple 0x7f9ab15137c0>\n",
      "gc: collectable <function 0x7f9ab14620d0>\n",
      "gc: collectable <tuple 0x7f9ab1513b00>\n",
      "gc: collectable <frozenset 0x7f9ab1ecfba0>\n",
      "gc: collectable <tuple 0x7f9ab1513bc0>\n",
      "gc: collectable <tuple 0x7f9ab1513c40>\n",
      "gc: collectable <tuple 0x7f9ab1513cc0>\n",
      "gc: collectable <dict 0x7f9ab1efbbc0>\n",
      "gc: collectable <tuple 0x7f9ab1513d40>\n",
      "gc: collectable <CompiledContext 0x7f9ab1457940>\n",
      "gc: collectable <dict 0x7f9ab1efbd00>\n",
      "gc: collectable <dict 0x7f9ab1efbc80>\n",
      "gc: collectable <tuple 0x7f9ab1513dc0>\n",
      "gc: collectable <frozenset 0x7f9ab1ecfc80>\n",
      "gc: collectable <tuple 0x7f9ab1513e00>\n",
      "gc: collectable <tuple 0x7f9ab1513e80>\n",
      "gc: collectable <DirectObjectAccess 0x7f9ab1457a90>\n",
      "gc: collectable <dict 0x7f9ab1e7e440>\n",
      "gc: collectable <AccessHandle 0x7f9ab1457be0>\n",
      "gc: collectable <dict 0x7f9ab1e7e400>\n",
      "gc: collectable <list 0x7f9ab1ffbc00>\n",
      "gc: collectable <tuple 0x7f9ab1513d00>\n",
      "gc: collectable <tuple 0x7f9ab2261400>\n",
      "gc: collectable <CompiledModule 0x7f9ab1457b80>\n",
      "gc: collectable <dict 0x7f9ab1e7e080>\n",
      "gc: collectable <dict 0x7f9ab1efbfc0>\n",
      "gc: collectable <tuple 0x7f9ab15151c0>\n",
      "gc: collectable <ModuleContext 0x7f9ab1457b20>\n",
      "gc: collectable <dict 0x7f9ab1e7e200>\n",
      "gc: collectable <dict 0x7f9ab1e7e100>\n",
      "gc: collectable <tuple 0x7f9ab1515340>\n",
      "gc: collectable <tuple 0x7f9ab226f600>\n",
      "gc: collectable <tuple 0x7f9ab22ab190>\n",
      "gc: collectable <dict 0x7f9ab1e7e280>\n",
      "gc: collectable <tuple 0x7f9ab1515480>\n",
      "gc: collectable <dict 0x7f9ab1e7e5c0>\n",
      "gc: collectable <tuple 0x7f9ab2243a90>\n",
      "gc: collectable <tuple 0x7f9ab1515680>\n",
      "gc: collectable <dict 0x7f9ab1e7e4c0>\n",
      "gc: collectable <tuple 0x7f9ab15157c0>\n",
      "gc: collectable <CompiledModuleContext 0x7f9ab1457c40>\n",
      "gc: collectable <dict 0x7f9ab1e7e7c0>\n",
      "gc: collectable <dict 0x7f9ab1e7e580>\n",
      "gc: collectable <tuple 0x7f9ab2243a00>\n",
      "gc: collectable <tuple 0x7f9ab1515840>\n",
      "gc: collectable <tuple 0x7f9ab2243940>\n",
      "gc: collectable <ValueSet 0x7f9ab1457d60>\n",
      "gc: collectable <frozenset 0x7f9ab1ecfe40>\n",
      "gc: collectable <dict 0x7f9ab1e7e380>\n",
      "gc: collectable <tuple 0x7f9ab22432e0>\n",
      "gc: collectable <tuple 0x7f9ab226fe40>\n",
      "gc: collectable <tuple 0x7f9ab2243250>\n",
      "gc: collectable <tuple 0x7f9ab22768c0>\n",
      "gc: collectable <list 0x7f9ab1e7eac0>\n",
      "gc: collectable <dict 0x7f9ab1e7ea40>\n",
      "gc: collectable <list 0x7f9ab1e7ed00>\n",
      "gc: collectable <dict 0x7f9ab1e7e8c0>\n",
      "gc: collectable <dict 0x7f9ab1feb640>\n",
      "gc: collectable <tuple 0x7f9ab2243100>\n",
      "gc: collectable <tuple 0x7f9ab1515740>\n",
      "gc: collectable <FileIO 0x7f9ab1457d30>\n",
      "gc: collectable <PosixPath 0x7f9ab145a120>\n",
      "gc: collectable <list 0x7f9ab1f2d880>\n",
      "gc: collectable <dict 0x7f9ab1e7e680>\n",
      "gc: collectable <cell 0x7f9ab1f1ea30>\n",
      "gc: collectable <cell 0x7f9ab1f1eeb0>\n",
      "gc: collectable <cell 0x7f9ab1f1eb20>\n",
      "gc: collectable <cell 0x7f9ab1f1ed30>\n",
      "gc: collectable <function 0x7f9ab1f0a3a0>\n",
      "gc: collectable <tuple 0x7f9ac825d3a0>\n",
      "gc: collectable <function 0x7f9ab1f0ae50>\n",
      "gc: collectable <tuple 0x7f9ab22b9d60>\n",
      "gc: collectable <function 0x7f9ab1f0a9d0>\n",
      "gc: collectable <tuple 0x7f9ab2279c20>\n",
      "gc: collectable <function 0x7f9ab1462160>\n",
      "gc: collectable <StubModuleValue 0x7f9ab1f1e0a0>\n",
      "gc: collectable <dict 0x7f9ab1e7ee80>\n",
      "gc: collectable <ValueSet 0x7f9ab1f1e9d0>\n",
      "gc: collectable <frozenset 0x7f9ab1454040>\n",
      "gc: collectable <MixedObject 0x7f9ab1f1e4f0>\n",
      "gc: collectable <dict 0x7f9ab1e7ecc0>\n",
      "gc: collectable <dict 0x7f9ab1e7e9c0>\n",
      "gc: collectable <dict 0x7f9ab1e7e140>\n",
      "gc: collectable <frozenset 0x7f9ab1ecfac0>\n",
      "gc: collectable <ValueSet 0x7f9ab1f1e160>\n",
      "gc: collectable <dict 0x7f9ab1efb940>\n",
      "gc: collectable <cell 0x7f9ac807d700>\n",
      "gc: collectable <cell 0x7f9ab14577c0>\n",
      "gc: collectable <cell 0x7f9ab14577f0>\n",
      "gc: collectable <cell 0x7f9ab14578e0>\n",
      "gc: collectable <tuple 0x7f9ab2279270>\n",
      "gc: collectable <function 0x7f9acc607940>\n",
      "gc: collectable <cell 0x7f9ab1457b50>\n",
      "gc: collectable <cell 0x7f9ab1457ac0>\n",
      "gc: collectable <cell 0x7f9ab1457a60>\n",
      "gc: collectable <cell 0x7f9ab1457910>\n",
      "gc: collectable <tuple 0x7f9ab22792c0>\n",
      "gc: collectable <function 0x7f9ab1462280>\n",
      "gc: collectable <cell 0x7f9ab1457a00>\n",
      "gc: collectable <cell 0x7f9ab1457a30>\n",
      "gc: collectable <cell 0x7f9ab1457cd0>\n",
      "gc: collectable <cell 0x7f9ab1457d00>\n",
      "gc: collectable <tuple 0x7f9ab2279400>\n",
      "gc: collectable <function 0x7f9ab1462310>\n",
      "gc: collectable <cell 0x7f9ab1457e20>\n",
      "gc: collectable <cell 0x7f9ab1457dc0>\n",
      "gc: collectable <cell 0x7f9ab1457df0>\n",
      "gc: collectable <cell 0x7f9ab1457fa0>\n",
      "gc: collectable <tuple 0x7f9ab2279450>\n",
      "gc: collectable <function 0x7f9ab14623a0>\n",
      "gc: collectable <function 0x7f9ab1462430>\n",
      "gc: collectable <tuple 0x7f9ac837ac10>\n",
      "gc: collectable <tuple 0x7f9ab1513140>\n",
      "gc: collectable <tuple 0x7f9ab1513440>\n",
      "gc: collectable <dict 0x7f9ab1e85740>\n",
      "gc: collectable <tuple 0x7f9ab1518780>\n",
      "gc: collectable <MixedModuleContext 0x7f9ab14606d0>\n",
      "gc: collectable <dict 0x7f9ab1e858c0>\n",
      "gc: collectable <dict 0x7f9ab1e7ec00>\n",
      "gc: collectable <tuple 0x7f9ab15180c0>\n",
      "gc: collectable <frozenset 0x7f9ab1ecfd60>\n",
      "gc: collectable <tuple 0x7f9ab1518700>\n",
      "gc: collectable <tuple 0x7f9ab15186c0>\n",
      "gc: collectable <DirectObjectAccess 0x7f9ab1f1ea60>\n",
      "gc: collectable <dict 0x7f9ab1efb640>\n",
      "gc: collectable <AccessHandle 0x7f9ab145d070>\n",
      "gc: collectable <dict 0x7f9ab1efba00>\n",
      "gc: collectable <list 0x7f9ab1ef9440>\n",
      "gc: collectable <tuple 0x7f9ab1518100>\n",
      "gc: collectable <tuple 0x7f9ab2276cc0>\n",
      "gc: collectable <CompiledValue 0x7f9ab145d130>\n",
      "gc: collectable <dict 0x7f9ab146da40>\n",
      "gc: collectable <tuple 0x7f9ab22ab9a0>\n",
      "gc: collectable <dict 0x7f9ab1eead40>\n",
      "gc: collectable <tuple 0x7f9ab1518640>\n",
      "gc: collectable <dict 0x7f9ab1efb680>\n",
      "gc: collectable <dict 0x7f9ab1ef1f40>\n",
      "gc: collectable <tuple 0x7f9ab15185c0>\n",
      "gc: collectable <tuple 0x7f9ab22b9a90>\n",
      "gc: collectable <tuple 0x7f9ab15183c0>\n",
      "gc: collectable <tuple 0x7f9ab1518500>\n",
      "gc: collectable <dict 0x7f9ab146dec0>\n",
      "gc: collectable <tuple 0x7f9ab22b9b20>\n",
      "gc: collectable <tuple 0x7f9ab1518280>\n",
      "gc: collectable <tuple 0x7f9ab22b9be0>\n",
      "gc: collectable <tuple 0x7f9ab1518180>\n",
      "gc: collectable <cell 0x7f9ab145d430>\n",
      "gc: collectable <cell 0x7f9ab145d4f0>\n",
      "gc: collectable <cell 0x7f9ab145d4c0>\n",
      "gc: collectable <cell 0x7f9ab145d5b0>\n",
      "gc: collectable <dict 0x7f9ab1e83380>\n",
      "gc: collectable <tuple 0x7f9ab2276b80>\n",
      "gc: collectable <function 0x7f9ab14625e0>\n",
      "gc: collectable <tuple 0x7f9ab22b96a0>\n",
      "gc: collectable <tuple 0x7f9ab1515ec0>\n",
      "gc: collectable <function 0x7f9ab1462790>\n",
      "gc: collectable <tuple 0x7f9ab1515d80>\n",
      "gc: collectable <function 0x7f9ab1462820>\n",
      "gc: collectable <dict 0x7f9ab1e83580>\n",
      "gc: collectable <type 0x2560ef0>\n",
      "gc: collectable <tuple 0x7f9ab22794a0>\n",
      "gc: collectable <cell 0x7f9ab145d7f0>\n",
      "gc: collectable <cell 0x7f9ab145d820>\n",
      "gc: collectable <cell 0x7f9ab145d790>\n",
      "gc: collectable <cell 0x7f9ab145d7c0>\n",
      "gc: collectable <function 0x7f9ab14628b0>\n",
      "gc: collectable <tuple 0x7f9ab22b9cd0>\n",
      "gc: collectable <function 0x7f9ab1462940>\n",
      "gc: collectable <tuple 0x7f9ab22b90d0>\n",
      "gc: collectable <function 0x7f9ab14629d0>\n",
      "gc: collectable <tuple 0x7f9ab2279630>\n",
      "gc: collectable <function 0x7f9ab1462a60>\n",
      "gc: collectable <list 0x7f9ab1efbe00>\n",
      "gc: collectable <DirectObjectAccess 0x7f9ab145d700>\n",
      "gc: collectable <dict 0x7f9ab1e83240>\n",
      "gc: collectable <AccessHandle 0x7f9ab145d490>\n",
      "gc: collectable <dict 0x7f9ab1e83140>\n",
      "gc: collectable <tuple 0x7f9ab22b9340>\n",
      "gc: collectable <dict 0x7f9ab1e83200>\n",
      "gc: collectable <tuple 0x7f9ab1515e00>\n",
      "gc: collectable <DirectObjectAccess 0x7f9ab145d340>\n",
      "gc: collectable <dict 0x7f9ab1e837c0>\n",
      "gc: collectable <AccessHandle 0x7f9ab145d670>\n",
      "gc: collectable <dict 0x7f9ab1e83900>\n",
      "gc: collectable <list 0x7f9ab1e88040>\n",
      "gc: collectable <tuple 0x7f9ac8075640>\n",
      "gc: collectable <dict 0x7f9ab1e83ac0>\n",
      "gc: collectable <tuple 0x7f9ab1515f40>\n",
      "gc: collectable <dict 0x7f9ab1e83a40>\n",
      "gc: collectable <tuple 0x7f9ab1515a80>\n",
      "gc: collectable <tuple 0x7f9ab22ab2e0>\n",
      "gc: collectable <tuple 0x7f9ab1515a40>\n",
      "gc: collectable <dict 0x7f9ab1e83600>\n",
      "gc: collectable <tuple 0x7f9ab1515980>\n",
      "gc: collectable <AccessPath 0x7f9ab145d400>\n",
      "gc: collectable <dict 0x7f9ab146da00>\n",
      "gc: collectable <DirectObjectAccess 0x7f9ab145d3a0>\n",
      "gc: collectable <dict 0x7f9ab1e83400>\n",
      "gc: collectable <AccessHandle 0x7f9ab145d760>\n",
      "gc: collectable <dict 0x7f9ab1e83300>\n",
      "gc: collectable <tuple 0x7f9ab22b9250>\n",
      "gc: collectable <dict 0x7f9ab1e838c0>\n",
      "gc: collectable <tuple 0x7f9ab1513080>\n",
      "gc: collectable <DirectObjectAccess 0x7f9ab145d970>\n",
      "gc: collectable <dict 0x7f9ab1e83c80>\n",
      "gc: collectable <AccessHandle 0x7f9ab145d910>\n",
      "gc: collectable <dict 0x7f9ab1e83c40>\n",
      "gc: collectable <list 0x7f9ab1e88280>\n",
      "gc: collectable <tuple 0x7f9ab22b9100>\n",
      "gc: collectable <dict 0x7f9ab1e83e80>\n",
      "gc: collectable <tuple 0x7f9ab1515a00>\n",
      "gc: collectable <dict 0x7f9ab1e85040>\n",
      "gc: collectable <tuple 0x7f9ab1515940>\n",
      "gc: collectable <tuple 0x7f9ab22b9f10>\n",
      "gc: collectable <tuple 0x7f9ab1513840>\n",
      "gc: collectable <dict 0x7f9ab1e83a00>\n",
      "gc: collectable <tuple 0x7f9ab15139c0>\n",
      "gc: collectable <AccessPath 0x7f9ab145d730>\n",
      "gc: collectable <dict 0x7f9ab1e83740>\n",
      "gc: collectable <SignatureParam 0x7f9ab145a040>\n",
      "gc: collectable <ModuleCache 0x7f9ac8458580>\n",
      "gc: collectable <dict 0x7f9ab1ffb3c0>\n",
      "gc: collectable <list 0x7f9ab1ffb9c0>\n",
      "gc: collectable <RecursionDetector 0x7f9ac8464970>\n",
      "gc: collectable <dict 0x7f9ab1ffb080>\n",
      "gc: collectable <ExecutionRecursionDetector 0x7f9ab1fcbe50>\n",
      "gc: collectable <dict 0x7f9ab1ff6ec0>\n",
      "gc: collectable <list 0x7f9ab1ffb940>\n",
      "gc: collectable <Name 0x7f9ab21fae50>\n",
      "gc: collectable <Operator 0x7f9ab234df40>\n",
      "gc: collectable <Name 0x7f9acc629770>\n",
      "gc: collectable <PythonNode 0x7f9ab1f7f400>\n",
      "gc: collectable <PythonNode 0x7f9ab1ffbf00>\n",
      "gc: collectable <list 0x7f9ab1ffb840>\n",
      "gc: collectable <dict 0x7f9ab2242d40>\n",
      "gc: collectable <ModuleValue 0x7f9ab1fcb4f0>\n",
      "gc: collectable <dict 0x7f9ab1ff6480>\n",
      "gc: collectable <MixedModuleContext 0x7f9ab2156ac0>\n",
      "gc: collectable <dict 0x7f9ab1ff6500>\n",
      "gc: collectable <list 0x7f9ab227b800>\n",
      "gc: collectable <dict 0x7f9ab229af80>\n",
      "gc: collectable <AccessHandle 0x7f9ab1f5d370>\n",
      "gc: collectable <dict 0x7f9ab1ff3840>\n",
      "gc: collectable <dict 0x7f9ab1ff31c0>\n",
      "gc: collectable <dict 0x7f9ab1ff3100>\n",
      "gc: collectable <dict 0x7f9ab2295100>\n",
      "gc: collectable <dict 0x7f9ab1fe7400>\n",
      "gc: collectable <tuple 0x7f9ab220a080>\n",
      "gc: collectable <CompiledValue 0x7f9ab1f5d490>\n",
      "gc: collectable <dict 0x7f9ab1ff3300>\n",
      "gc: collectable <MixedObject 0x7f9ab1fc4e50>\n",
      "gc: collectable <dict 0x7f9ab1fe7440>\n",
      "gc: collectable <AccessHandle 0x7f9ab1f5d550>\n",
      "gc: collectable <dict 0x7f9ab1ff3040>\n",
      "gc: collectable <dict 0x7f9ab1ff1cc0>\n",
      "gc: collectable <dict 0x7f9ab1ff1c40>\n",
      "gc: collectable <tuple 0x7f9ab2209f40>\n",
      "gc: collectable <CompiledValue 0x7f9ab1f5d640>\n",
      "gc: collectable <dict 0x7f9ab1ff1d80>\n",
      "gc: collectable <MixedObject 0x7f9ab1f5d5b0>\n",
      "gc: collectable <dict 0x7f9ab1ff1e80>\n",
      "gc: collectable <tuple 0x7f9ac8252220>\n",
      "gc: collectable <tuple 0x7f9ab22095c0>\n",
      "gc: collectable <dict 0x7f9ab1feb540>\n",
      "gc: collectable <dict 0x7f9ab1ffb200>\n",
      "gc: collectable <dict 0x7f9ab1fe5fc0>\n",
      "gc: collectable <dict 0x7f9ab1fe5f80>\n",
      "gc: collectable <AccessHandle 0x7f9ab1f6dac0>\n",
      "gc: collectable <dict 0x7f9ab1f72180>\n",
      "gc: collectable <tuple 0x7f9ab220a700>\n",
      "gc: collectable <CompiledModule 0x7f9ab1f6db20>\n",
      "gc: collectable <dict 0x7f9ab1f61f80>\n",
      "gc: collectable <dict 0x7f9ab1f61f40>\n",
      "gc: collectable <ModuleContext 0x7f9ab1f6da00>\n",
      "gc: collectable <dict 0x7f9ab1f72080>\n",
      "gc: collectable <dict 0x7f9ab1f61fc0>\n",
      "gc: collectable <tuple 0x7f9ab2210780>\n",
      "gc: collectable <tuple 0x7f9ab220c0c0>\n",
      "gc: collectable <dict 0x7f9ab1f72200>\n",
      "gc: collectable <dict 0x7f9ab1f72240>\n",
      "gc: collectable <tuple 0x7f9ab22773c0>\n",
      "gc: collectable <dict 0x7f9acc6310c0>\n",
      "gc: collectable <dict 0x7f9acc631380>\n",
      "gc: collectable <tuple 0x7f9ab227b1c0>\n",
      "gc: collectable <ValueSet 0x7f9ab1f6dc40>\n",
      "gc: collectable <dict 0x7f9ab1f72140>\n",
      "gc: collectable <dict 0x7f9ab1f72400>\n",
      "gc: collectable <list 0x7f9ab1f72580>\n",
      "gc: collectable <dict 0x7f9ab1f72340>\n",
      "gc: collectable <dict 0x7f9ab1ffb300>\n",
      "gc: collectable <tuple 0x7f9ab2265980>\n",
      "gc: collectable <list 0x7f9ab1ffb980>\n",
      "gc: collectable <list 0x7f9ab1ff8d80>\n",
      "gc: collectable <list 0x7f9ab1ff8e00>\n",
      "gc: collectable <ValueSet 0x7f9ab1fcbd60>\n",
      "gc: collectable <ModuleValue 0x7f9ac8458ee0>\n",
      "gc: collectable <AccessHandle 0x7f9ab1fc7d60>\n",
      "gc: collectable <DirectObjectAccess 0x7f9ab1fc47f0>\n",
      "gc: collectable <tuple 0x7f9ab22f36c0>\n",
      "gc: collectable <CompiledModule 0x7f9ab1f5d3d0>\n",
      "gc: collectable <tuple 0x7f9ab22591c0>\n",
      "gc: collectable <tuple 0x7f9ab224a540>\n",
      "gc: collectable <CompiledModuleContext 0x7f9ab1f5d430>\n",
      "gc: collectable <DirectObjectAccess 0x7f9ab1f5d4f0>\n",
      "gc: collectable <tuple 0x7f9ab2252f80>\n",
      "gc: collectable <list 0x7f9ab1ffbd80>\n",
      "gc: collectable <tuple 0x7f9ab224e680>\n",
      "gc: collectable <tuple 0x7f9ab2261540>\n",
      "gc: collectable <CompiledContext 0x7f9ab1f6d6d0>\n",
      "gc: collectable <tuple 0x7f9ab224fe40>\n",
      "gc: collectable <DirectObjectAccess 0x7f9ab1f6d970>\n",
      "gc: collectable <tuple 0x7f9ab224f080>\n",
      "gc: collectable <tuple 0x7f9ab21fde80>\n",
      "gc: collectable <tuple 0x7f9ab224ed00>\n",
      "gc: collectable <CompiledModuleContext 0x7f9ab1f6dbe0>\n",
      "gc: collectable <tuple 0x7f9ab224f9c0>\n",
      "gc: collectable <frozenset 0x7f9ab1f5e580>\n",
      "gc: collectable <list 0x7f9ab1f72440>\n",
      "gc: collectable <tuple 0x7f9ab220c1c0>\n",
      "gc: collectable <tuple 0x7f9ab220c2c0>\n",
      "gc: collectable <dict 0x7f9ab1ff6b00>\n",
      "gc: collectable <dict 0x7f9ab1ff68c0>\n",
      "gc: collectable <dict 0x7f9ab1fe7e00>\n",
      "gc: collectable <dict 0x7f9ab1ff38c0>\n",
      "gc: collectable <dict 0x7f9ab1ff3a40>\n",
      "gc: collectable <tuple 0x7f9ab22f3940>\n",
      "gc: collectable <dict 0x7f9ab1ff3280>\n",
      "gc: collectable <dict 0x7f9ab1fe74c0>\n",
      "gc: collectable <tuple 0x7f9ab2253d80>\n",
      "gc: collectable <tuple 0x7f9ab2203740>\n",
      "gc: collectable <dict 0x7f9ab1f61e40>\n",
      "gc: collectable <dict 0x7f9ab1f721c0>\n",
      "gc: collectable <dict 0x7f9ab1f722c0>\n",
      "gc: collectable <tuple 0x7f9ac837aac0>\n",
      "gc: collectable <tuple 0x7f9ac837abe0>\n",
      "gc: collectable <frozenset 0x7f9ab1fc03c0>\n",
      "gc: collectable <DirectObjectAccess 0x7f9ab1fc7f10>\n",
      "gc: collectable <dict 0x7f9ab1ff3b00>\n",
      "gc: collectable <dict 0x7f9ab1ff39c0>\n",
      "gc: collectable <NamespaceObject 0x7f9ab1f5d340>\n",
      "gc: collectable <dict 0x7f9ab1ff6340>\n",
      "gc: collectable <dict 0x7f9ab1ff3a80>\n",
      "gc: collectable <dict 0x7f9ab1ff3940>\n",
      "gc: collectable <NamespaceObject 0x7f9ab1fca880>\n",
      "gc: collectable <tuple 0x7f9ac854e940>\n",
      "gc: collectable <list 0x7f9ab1ffbcc0>\n",
      "gc: collectable <tuple 0x7f9ab22f3580>\n",
      "gc: collectable <tuple 0x7f9ab2252e00>\n",
      "gc: collectable <list 0x7f9ab1ff8c80>\n",
      "gc: collectable <tuple 0x7f9ab2252f00>\n",
      "gc: collectable <tuple 0x7f9ab22f3a40>\n",
      "gc: collectable <tuple 0x7f9ab22f3480>\n",
      "gc: collectable <tuple 0x7f9ab22f3ac0>\n",
      "gc: collectable <frozenset 0x7f9ab1f5e120>\n",
      "gc: collectable <frozenset 0x7f9ab1f5e4a0>\n",
      "gc: collectable <FileIO 0x7f9ab1fd8670>\n",
      "gc: collectable <dict 0x7f9ab1f72a40>\n",
      "gc: collectable <StubModuleValue 0x7f9ab1f5dc10>\n",
      "gc: collectable <dict 0x7f9ab1f31140>\n",
      "gc: collectable <dict 0x7f9ab1f72040>\n",
      "gc: collectable <ValueSet 0x7f9ab1f5dbe0>\n",
      "gc: collectable <dict 0x7f9ac854e580>\n",
      "gc: collectable <tuple 0x7f9acc6611c0>\n",
      "gc: collectable <tuple 0x7f9ab220e380>\n",
      "gc: collectable <tuple 0x7f9ab2250f80>\n",
      "gc: collectable <AccessHandle 0x7f9ab1f1ebe0>\n",
      "gc: collectable <dict 0x7f9ab1f1fe00>\n",
      "gc: collectable <list 0x7f9ab1ffb8c0>\n",
      "gc: collectable <tuple 0x7f9ab2241040>\n",
      "gc: collectable <CompiledValue 0x7f9ab1f1ec40>\n",
      "gc: collectable <dict 0x7f9ab1fdb780>\n",
      "gc: collectable <dict 0x7f9ab1f1d9c0>\n",
      "gc: collectable <dict 0x7f9ab1f1d340>\n",
      "gc: collectable <dict 0x7f9ab1f29b00>\n",
      "gc: collectable <tuple 0x7f9ab220c340>\n",
      "gc: collectable <dict 0x7f9ab1f2dd00>\n",
      "gc: collectable <tuple 0x7f9ab224ae80>\n",
      "gc: collectable <tuple 0x7f9ab224d580>\n",
      "gc: collectable <list 0x7f9ab1f2de80>\n",
      "gc: collectable <InferenceState 0x7f9ac85d9520>\n",
      "gc: collectable <dict 0x7f9ab1f2d140>\n",
      "gc: collectable <InferenceStateSameProcess 0x7f9ac85d94f0>\n",
      "gc: collectable <dict 0x7f9ab1f2d540>\n",
      "gc: collectable <ModuleCache 0x7f9ab1fcb8e0>\n",
      "gc: collectable <dict 0x7f9ab1f1fbc0>\n",
      "gc: collectable <list 0x7f9ab1ff8f00>\n",
      "gc: collectable <RecursionDetector 0x7f9ab1f1e2b0>\n",
      "gc: collectable <dict 0x7f9ab1f2de00>\n",
      "gc: collectable <ExecutionRecursionDetector 0x7f9ab1f1e250>\n",
      "gc: collectable <dict 0x7f9ab1f2db40>\n",
      "gc: collectable <list 0x7f9ab1ff8fc0>\n",
      "gc: collectable <Name 0x7f9ab1f22ae0>\n",
      "gc: collectable <Operator 0x7f9ab1f23a00>\n",
      "gc: collectable <Name 0x7f9ab1f22b30>\n",
      "gc: collectable <PythonNode 0x7f9ab1fece80>\n",
      "gc: collectable <PythonNode 0x7f9ab1fecd80>\n",
      "gc: collectable <PythonErrorNode 0x7f9ab1f1eb50>\n",
      "gc: collectable <list 0x7f9ab1ffb900>\n",
      "gc: collectable <dict 0x7f9ab1f2d600>\n",
      "gc: collectable <MixedModuleContext 0x7f9ab1f1e430>\n",
      "gc: collectable <dict 0x7f9ab2283140>\n",
      "gc: collectable <list 0x7f9ab1ffb7c0>\n",
      "gc: collectable <dict 0x7f9ab1f25e80>\n",
      "gc: collectable <AccessHandle 0x7f9ab1f1e6a0>\n",
      "gc: collectable <dict 0x7f9ab1f1d8c0>\n",
      "gc: collectable <dict 0x7f9ab1f1ba00>\n",
      "gc: collectable <dict 0x7f9ab1f3c140>\n",
      "gc: collectable <dict 0x7f9ab1f1d280>\n",
      "gc: collectable <dict 0x7f9ab1f3c1c0>\n",
      "gc: collectable <tuple 0x7f9ab2241740>\n",
      "gc: collectable <CompiledValue 0x7f9ab1f1e8b0>\n",
      "gc: collectable <dict 0x7f9ab1f2d680>\n",
      "gc: collectable <MixedObject 0x7f9ab1f1e3d0>\n",
      "gc: collectable <dict 0x7f9ab1f1f9c0>\n",
      "gc: collectable <AccessHandle 0x7f9ab1f1e970>\n",
      "gc: collectable <dict 0x7f9ab1f2d280>\n",
      "gc: collectable <dict 0x7f9ab1f2d500>\n",
      "gc: collectable <dict 0x7f9ab1f2df40>\n",
      "gc: collectable <tuple 0x7f9ab22afd40>\n",
      "gc: collectable <CompiledValue 0x7f9ab1f1e070>\n",
      "gc: collectable <dict 0x7f9ab1f1d4c0>\n",
      "gc: collectable <MixedObject 0x7f9ab1f1e730>\n",
      "gc: collectable <dict 0x7f9ab1f3c480>\n",
      "gc: collectable <PythonNode 0x7f9ab1f35bc0>\n",
      "gc: collectable <tuple 0x7f9ac85c9850>\n",
      "gc: collectable <tuple 0x7f9ab2241300>\n",
      "gc: collectable <dict 0x7f9ab1f350c0>\n",
      "gc: collectable <dict 0x7f9ab1f1f680>\n",
      "gc: collectable <tuple 0x7f9ab22fab40>\n",
      "gc: collectable <tuple 0x7f9ab22af9c0>\n",
      "gc: collectable <dict 0x7f9ab1f35640>\n",
      "gc: collectable <AccessHandle 0x7f9ab1f2ad30>\n",
      "gc: collectable <dict 0x7f9ab1f35a40>\n",
      "gc: collectable <dict 0x7f9ab1f35b00>\n",
      "gc: collectable <dict 0x7f9ab1f35b40>\n",
      "gc: collectable <tuple 0x7f9ab228ea40>\n",
      "gc: collectable <CompiledModule 0x7f9ab1f2ae20>\n",
      "gc: collectable <dict 0x7f9ab1f356c0>\n",
      "gc: collectable <ValueSet 0x7f9ab1f2ac70>\n",
      "gc: collectable <dict 0x7f9ab1f35600>\n",
      "gc: collectable <dict 0x7f9ab1f29c40>\n",
      "gc: collectable <tuple 0x7f9ab224dcc0>\n",
      "gc: collectable <FileIO 0x7f9ab1f2aca0>\n",
      "gc: collectable <dict 0x7f9ab1f35800>\n",
      "gc: collectable <ValueSet 0x7f9ab1f5d7f0>\n",
      "gc: collectable <frozenset 0x7f9ab1f5e740>\n",
      "gc: collectable <frozenset 0x7f9ab1f5eba0>\n",
      "gc: collectable <DirectObjectAccess 0x7f9ac85d9970>\n",
      "gc: collectable <tuple 0x7f9ab2250f40>\n",
      "gc: collectable <tuple 0x7f9ab2253080>\n",
      "gc: collectable <tuple 0x7f9ab22f3c00>\n",
      "gc: collectable <InterpreterEnvironment 0x7f9ab1f5dfa0>\n",
      "gc: collectable <Project 0x7f9ab1fd8280>\n",
      "gc: collectable <weakref 0x7f9ab1f22720>\n",
      "gc: collectable <list 0x7f9ab1ff8e80>\n",
      "gc: collectable <list 0x7f9ab1f2dac0>\n",
      "gc: collectable <list 0x7f9ab1f2da80>\n",
      "gc: collectable <list 0x7f9ab1f2d780>\n",
      "gc: collectable <PythonNode 0x7f9ab1ff10c0>\n",
      "gc: collectable <ValueSet 0x7f9ab1fcb670>\n",
      "gc: collectable <ModuleValue 0x7f9ab1fcb6a0>\n",
      "gc: collectable <ModuleValue 0x7f9ab1f1ed00>\n",
      "gc: collectable <AccessHandle 0x7f9ab1f1e4c0>\n",
      "gc: collectable <DirectObjectAccess 0x7f9ab1f1e7c0>\n",
      "gc: collectable <tuple 0x7f9ab2250ac0>\n",
      "gc: collectable <CompiledModule 0x7f9ab1f1e5e0>\n",
      "gc: collectable <tuple 0x7f9ab2241200>\n",
      "gc: collectable <tuple 0x7f9ab224af40>\n",
      "gc: collectable <CompiledModuleContext 0x7f9ab1f1e310>\n",
      "gc: collectable <DirectObjectAccess 0x7f9ab1f1e850>\n",
      "gc: collectable <tuple 0x7f9ab2246540>\n",
      "gc: collectable <list 0x7f9ab1f35300>\n",
      "gc: collectable <tuple 0x7f9ab224acc0>\n",
      "gc: collectable <tuple 0x7f9ab22500c0>\n",
      "gc: collectable <list 0x7f9ab1fdb0c0>\n",
      "gc: collectable <frozenset 0x7f9ab1f5ee40>\n",
      "gc: collectable <list 0x7f9ab1f35680>\n",
      "gc: collectable <tuple 0x7f9ab22afc00>\n",
      "gc: collectable <DirectObjectAccess 0x7f9ab1f2ad00>\n",
      "gc: collectable <tuple 0x7f9ab227ab80>\n",
      "gc: collectable <list 0x7f9ab1f35cc0>\n",
      "gc: collectable <tuple 0x7f9ab21fd840>\n",
      "gc: collectable <tuple 0x7f9ab2250400>\n",
      "gc: collectable <frozenset 0x7f9ab1ecf120>\n",
      "gc: collectable <dict 0x7f9ab1f31a40>\n",
      "gc: collectable <MixedObject 0x7f9ab1f5d8e0>\n",
      "gc: collectable <dict 0x7f9ab1f2d2c0>\n",
      "gc: collectable <dict 0x7f9ab22aed40>\n",
      "gc: collectable <dict 0x7f9acc64d900>\n",
      "gc: collectable <dict 0x7f9ab22b7300>\n",
      "gc: collectable <dict 0x7f9ab22611c0>\n",
      "gc: collectable <Operator 0x7f9ab1f239a0>\n",
      "gc: collectable <PythonNode 0x7f9ab1feff80>\n",
      "gc: collectable <Name 0x7f9ab1f22a40>\n",
      "gc: collectable <list 0x7f9ab1f72380>\n",
      "gc: collectable <dict 0x7f9ab1f3c540>\n",
      "gc: collectable <dict 0x7f9ab1ff6780>\n",
      "gc: collectable <dict 0x7f9ab1fdb2c0>\n",
      "gc: collectable <dict 0x7f9ab2295940>\n",
      "gc: collectable <dict 0x7f9ab1f1b900>\n",
      "gc: collectable <dict 0x7f9ab1f1f4c0>\n",
      "gc: collectable <tuple 0x7f9ab2251c80>\n",
      "gc: collectable <dict 0x7f9ab1f2df00>\n",
      "gc: collectable <dict 0x7f9ab1f1f280>\n",
      "gc: collectable <tuple 0x7f9ab2250a00>\n",
      "gc: collectable <tuple 0x7f9ab224d500>\n",
      "gc: collectable <Name 0x7f9ab1f22b80>\n",
      "gc: collectable <Operator 0x7f9ab1f23940>\n",
      "gc: collectable <tuple 0x7f9ac859db50>\n",
      "gc: collectable <dict 0x7f9ab1f35700>\n",
      "gc: collectable <tuple 0x7f9ab224dd40>\n",
      "gc: collectable <frozenset 0x7f9ab1f5e900>\n",
      "gc: collectable <dict 0x7f9ab1f29dc0>\n",
      "gc: collectable <VersionInfo 0x7f9acc6201d0>\n",
      "gc: collectable <dict 0x7f9ab1f1d3c0>\n",
      "gc: collectable <PosixPath 0x7f9ab1f5f200>\n",
      "gc: collectable <list 0x7f9ab22b7ac0>\n",
      "gc: collectable <list 0x7f9ab1f72900>\n",
      "gc: collectable <Newline 0x7f9ab1f229f0>\n",
      "gc: collectable <PythonNode 0x7f9ab1ff14c0>\n",
      "gc: collectable <frozenset 0x7f9ab1f5ed60>\n",
      "gc: collectable <DirectObjectAccess 0x7f9ab1f1e1f0>\n",
      "gc: collectable <dict 0x7f9ab1f31d40>\n",
      "gc: collectable <dict 0x7f9ab1f1b500>\n",
      "gc: collectable <NamespaceObject 0x7f9ab1f1e790>\n",
      "gc: collectable <Name 0x7f9ab1f22950>\n",
      "gc: collectable <Name 0x7f9ab1f229a0>\n",
      "gc: collectable <Name 0x7f9ab1f22a90>\n",
      "gc: collectable <dict 0x7f9ab1f3ccc0>\n",
      "gc: collectable <dict 0x7f9ab1f35f40>\n",
      "gc: collectable <list 0x7f9ab1ff8ec0>\n",
      "gc: collectable <Operator 0x7f9ab1f238e0>\n",
      "gc: collectable <list 0x7f9ab1f72b00>\n",
      "gc: collectable <dict 0x7f9ab2295700>\n",
      "gc: collectable <dict 0x7f9ab1f3c2c0>\n",
      "gc: collectable <dict 0x7f9ab1f1f700>\n",
      "gc: collectable <PythonNode 0x7f9ab1ff1600>\n",
      "gc: collectable <dict 0x7f9ab1f3cec0>\n",
      "gc: collectable <tuple 0x7f9ab224ac40>\n",
      "gc: collectable <PythonNode 0x7f9ab1ff16c0>\n",
      "gc: collectable <NamespaceObject 0x7f9ab1f1e190>\n",
      "gc: collectable <tuple 0x7f9ab2250100>\n",
      "gc: collectable <list 0x7f9ab1f353c0>\n",
      "gc: collectable <tuple 0x7f9ab2253ac0>\n",
      "gc: collectable <tuple 0x7f9ab227ccc0>\n",
      "gc: collectable <tuple 0x7f9ab2250180>\n",
      "gc: collectable <list 0x7f9ab1f2d640>\n",
      "gc: collectable <MixedModuleContext 0x7f9ab1f2a250>\n",
      "gc: collectable <tuple 0x7f9ab2250e80>\n",
      "gc: collectable <list 0x7f9ab1f729c0>\n",
      "gc: collectable <tuple 0x7f9ab224d4c0>\n",
      "gc: collectable <tuple 0x7f9ab22109c0>\n",
      "gc: collectable <frozenset 0x7f9ab1f5ec80>\n",
      "gc: collectable <Operator 0x7f9ab1f23760>\n",
      "gc: collectable <dict 0x7f9ab1f2d040>\n",
      "gc: collectable <Operator 0x7f9ab1f23820>\n",
      "gc: collectable <Operator 0x7f9ab1f23880>\n",
      "gc: collectable <StubModuleValue 0x7f9ac8376c70>\n",
      "gc: collectable <dict 0x7f9ab1468300>\n",
      "gc: collectable <dict 0x7f9ab1f35580>\n",
      "gc: collectable <dict 0x7f9ab1468180>\n",
      "gc: collectable <dict 0x7f9ab1468240>\n",
      "gc: collectable <dict 0x7f9ab1f35980>\n",
      "gc: collectable <list 0x7f9ab1eea800>\n",
      "gc: collectable <Error 0x7f9ab1f2ac10>\n",
      "gc: collectable <dict 0x7f9ab14686c0>\n",
      "gc: collectable <dict 0x7f9ab1ffb780>\n",
      "gc: collectable <dict 0x7f9ab1ffb600>\n",
      "gc: collectable <InterpreterEnvironment 0x7f9ab1f2a4f0>\n",
      "gc: collectable <dict 0x7f9ab1f1f300>\n",
      "gc: collectable <Project 0x7f9ab1f2a580>\n",
      "gc: collectable <dict 0x7f9ab1f1d040>\n",
      "gc: collectable <list 0x7f9ab1ffb580>\n",
      "gc: collectable <InferenceState 0x7f9ab1f2a5e0>\n",
      "gc: collectable <dict 0x7f9ab1468a40>\n",
      "gc: collectable <InferenceStateSameProcess 0x7f9ab1f2a5b0>\n",
      "gc: collectable <dict 0x7f9ab1468b00>\n",
      "gc: collectable <dict 0x7f9ab1468cc0>\n",
      "gc: collectable <dict 0x7f9ab1468d80>\n",
      "gc: collectable <ModuleCache 0x7f9ab1f2a550>\n",
      "gc: collectable <dict 0x7f9ab1468f00>\n",
      "gc: collectable <list 0x7f9ab235e040>\n",
      "gc: collectable <RecursionDetector 0x7f9ab1f2a6a0>\n",
      "gc: collectable <dict 0x7f9ab146a340>\n",
      "gc: collectable <ExecutionRecursionDetector 0x7f9ab1f6d070>\n",
      "gc: collectable <dict 0x7f9ab146a3c0>\n",
      "gc: collectable <list 0x7f9ac836e640>\n",
      "gc: collectable <Name 0x7f9ab140f7c0>\n",
      "gc: collectable <PythonNode 0x7f9ab1f35fc0>\n",
      "gc: collectable <Operator 0x7f9ab1442160>\n",
      "gc: collectable <StubModuleContext 0x7f9ac83b5b50>\n",
      "gc: collectable <tuple 0x7f9ab1509980>\n",
      "gc: collectable <tuple 0x7f9ab22afcc0>\n",
      "gc: collectable <VersionInfo 0x7f9ab1fc6ae0>\n",
      "gc: collectable <PosixPath 0x7f9ab1ff04a0>\n",
      "gc: collectable <weakref 0x7f9acc629a90>\n",
      "gc: collectable <tuple 0x7f9ab225d6c0>\n",
      "gc: collectable <list 0x7f9ac85d6c00>\n",
      "gc: collectable <list 0x7f9ab1f2d840>\n",
      "gc: collectable <dict 0x7f9ab1468440>\n",
      "gc: collectable <list 0x7f9ab22610c0>\n",
      "gc: collectable <Name 0x7f9ab140f810>\n",
      "gc: collectable <Operator 0x7f9ab14420a0>\n",
      "gc: collectable <list 0x7f9ab1f2d340>\n"
     ]
    },
    {
     "data": {
      "text/plain": [
       "1406"
      ]
     },
     "execution_count": 35,
     "metadata": {},
     "output_type": "execute_result"
    }
   ],
   "source": [
    "gc.collect()"
   ]
  },
  {
   "cell_type": "code",
   "execution_count": 36,
   "id": "38d59a4e",
   "metadata": {
    "collapsed": true
   },
   "outputs": [
    {
     "ename": "AttributeError",
     "evalue": "'NoneType' object has no attribute 'compiled_subprocess'",
     "output_type": "error",
     "traceback": [
      "\u001b[0;31m---------------------------------------------------------------------------\u001b[0m",
      "\u001b[0;31mKeyError\u001b[0m                                  Traceback (most recent call last)",
      "File \u001b[0;32m~/.local/lib/python3.8/site-packages/jedi/cache.py:110\u001b[0m, in \u001b[0;36mmemoize_method.<locals>.wrapper\u001b[0;34m(self, *args, **kwargs)\u001b[0m\n\u001b[1;32m    109\u001b[0m \u001b[38;5;28;01mtry\u001b[39;00m:\n\u001b[0;32m--> 110\u001b[0m     \u001b[38;5;28;01mreturn\u001b[39;00m \u001b[43mdct\u001b[49m\u001b[43m[\u001b[49m\u001b[43mkey\u001b[49m\u001b[43m]\u001b[49m\n\u001b[1;32m    111\u001b[0m \u001b[38;5;28;01mexcept\u001b[39;00m \u001b[38;5;167;01mKeyError\u001b[39;00m:\n",
      "\u001b[0;31mKeyError\u001b[0m: (('get_repr',), frozenset())",
      "\nDuring handling of the above exception, another exception occurred:\n",
      "\u001b[0;31mAttributeError\u001b[0m                            Traceback (most recent call last)",
      "File \u001b[0;32m~/.local/lib/python3.8/site-packages/IPython/core/formatters.py:707\u001b[0m, in \u001b[0;36mPlainTextFormatter.__call__\u001b[0;34m(self, obj)\u001b[0m\n\u001b[1;32m    700\u001b[0m stream \u001b[38;5;241m=\u001b[39m StringIO()\n\u001b[1;32m    701\u001b[0m printer \u001b[38;5;241m=\u001b[39m pretty\u001b[38;5;241m.\u001b[39mRepresentationPrinter(stream, \u001b[38;5;28mself\u001b[39m\u001b[38;5;241m.\u001b[39mverbose,\n\u001b[1;32m    702\u001b[0m     \u001b[38;5;28mself\u001b[39m\u001b[38;5;241m.\u001b[39mmax_width, \u001b[38;5;28mself\u001b[39m\u001b[38;5;241m.\u001b[39mnewline,\n\u001b[1;32m    703\u001b[0m     max_seq_length\u001b[38;5;241m=\u001b[39m\u001b[38;5;28mself\u001b[39m\u001b[38;5;241m.\u001b[39mmax_seq_length,\n\u001b[1;32m    704\u001b[0m     singleton_pprinters\u001b[38;5;241m=\u001b[39m\u001b[38;5;28mself\u001b[39m\u001b[38;5;241m.\u001b[39msingleton_printers,\n\u001b[1;32m    705\u001b[0m     type_pprinters\u001b[38;5;241m=\u001b[39m\u001b[38;5;28mself\u001b[39m\u001b[38;5;241m.\u001b[39mtype_printers,\n\u001b[1;32m    706\u001b[0m     deferred_pprinters\u001b[38;5;241m=\u001b[39m\u001b[38;5;28mself\u001b[39m\u001b[38;5;241m.\u001b[39mdeferred_printers)\n\u001b[0;32m--> 707\u001b[0m \u001b[43mprinter\u001b[49m\u001b[38;5;241;43m.\u001b[39;49m\u001b[43mpretty\u001b[49m\u001b[43m(\u001b[49m\u001b[43mobj\u001b[49m\u001b[43m)\u001b[49m\n\u001b[1;32m    708\u001b[0m printer\u001b[38;5;241m.\u001b[39mflush()\n\u001b[1;32m    709\u001b[0m \u001b[38;5;28;01mreturn\u001b[39;00m stream\u001b[38;5;241m.\u001b[39mgetvalue()\n",
      "File \u001b[0;32m~/.local/lib/python3.8/site-packages/IPython/lib/pretty.py:393\u001b[0m, in \u001b[0;36mRepresentationPrinter.pretty\u001b[0;34m(self, obj)\u001b[0m\n\u001b[1;32m    390\u001b[0m \u001b[38;5;28;01mfor\u001b[39;00m \u001b[38;5;28mcls\u001b[39m \u001b[38;5;129;01min\u001b[39;00m _get_mro(obj_class):\n\u001b[1;32m    391\u001b[0m     \u001b[38;5;28;01mif\u001b[39;00m \u001b[38;5;28mcls\u001b[39m \u001b[38;5;129;01min\u001b[39;00m \u001b[38;5;28mself\u001b[39m\u001b[38;5;241m.\u001b[39mtype_pprinters:\n\u001b[1;32m    392\u001b[0m         \u001b[38;5;66;03m# printer registered in self.type_pprinters\u001b[39;00m\n\u001b[0;32m--> 393\u001b[0m         \u001b[38;5;28;01mreturn\u001b[39;00m \u001b[38;5;28;43mself\u001b[39;49m\u001b[38;5;241;43m.\u001b[39;49m\u001b[43mtype_pprinters\u001b[49m\u001b[43m[\u001b[49m\u001b[38;5;28;43mcls\u001b[39;49m\u001b[43m]\u001b[49m\u001b[43m(\u001b[49m\u001b[43mobj\u001b[49m\u001b[43m,\u001b[49m\u001b[43m \u001b[49m\u001b[38;5;28;43mself\u001b[39;49m\u001b[43m,\u001b[49m\u001b[43m \u001b[49m\u001b[43mcycle\u001b[49m\u001b[43m)\u001b[49m\n\u001b[1;32m    394\u001b[0m     \u001b[38;5;28;01melse\u001b[39;00m:\n\u001b[1;32m    395\u001b[0m         \u001b[38;5;66;03m# deferred printer\u001b[39;00m\n\u001b[1;32m    396\u001b[0m         printer \u001b[38;5;241m=\u001b[39m \u001b[38;5;28mself\u001b[39m\u001b[38;5;241m.\u001b[39m_in_deferred_types(\u001b[38;5;28mcls\u001b[39m)\n",
      "File \u001b[0;32m~/.local/lib/python3.8/site-packages/IPython/lib/pretty.py:640\u001b[0m, in \u001b[0;36m_seq_pprinter_factory.<locals>.inner\u001b[0;34m(obj, p, cycle)\u001b[0m\n\u001b[1;32m    638\u001b[0m         p\u001b[38;5;241m.\u001b[39mtext(\u001b[38;5;124m'\u001b[39m\u001b[38;5;124m,\u001b[39m\u001b[38;5;124m'\u001b[39m)\n\u001b[1;32m    639\u001b[0m         p\u001b[38;5;241m.\u001b[39mbreakable()\n\u001b[0;32m--> 640\u001b[0m     \u001b[43mp\u001b[49m\u001b[38;5;241;43m.\u001b[39;49m\u001b[43mpretty\u001b[49m\u001b[43m(\u001b[49m\u001b[43mx\u001b[49m\u001b[43m)\u001b[49m\n\u001b[1;32m    641\u001b[0m \u001b[38;5;28;01mif\u001b[39;00m \u001b[38;5;28mlen\u001b[39m(obj) \u001b[38;5;241m==\u001b[39m \u001b[38;5;241m1\u001b[39m \u001b[38;5;129;01mand\u001b[39;00m \u001b[38;5;28misinstance\u001b[39m(obj, \u001b[38;5;28mtuple\u001b[39m):\n\u001b[1;32m    642\u001b[0m     \u001b[38;5;66;03m# Special case for 1-item tuples.\u001b[39;00m\n\u001b[1;32m    643\u001b[0m     p\u001b[38;5;241m.\u001b[39mtext(\u001b[38;5;124m'\u001b[39m\u001b[38;5;124m,\u001b[39m\u001b[38;5;124m'\u001b[39m)\n",
      "File \u001b[0;32m~/.local/lib/python3.8/site-packages/IPython/lib/pretty.py:393\u001b[0m, in \u001b[0;36mRepresentationPrinter.pretty\u001b[0;34m(self, obj)\u001b[0m\n\u001b[1;32m    390\u001b[0m \u001b[38;5;28;01mfor\u001b[39;00m \u001b[38;5;28mcls\u001b[39m \u001b[38;5;129;01min\u001b[39;00m _get_mro(obj_class):\n\u001b[1;32m    391\u001b[0m     \u001b[38;5;28;01mif\u001b[39;00m \u001b[38;5;28mcls\u001b[39m \u001b[38;5;129;01min\u001b[39;00m \u001b[38;5;28mself\u001b[39m\u001b[38;5;241m.\u001b[39mtype_pprinters:\n\u001b[1;32m    392\u001b[0m         \u001b[38;5;66;03m# printer registered in self.type_pprinters\u001b[39;00m\n\u001b[0;32m--> 393\u001b[0m         \u001b[38;5;28;01mreturn\u001b[39;00m \u001b[38;5;28;43mself\u001b[39;49m\u001b[38;5;241;43m.\u001b[39;49m\u001b[43mtype_pprinters\u001b[49m\u001b[43m[\u001b[49m\u001b[38;5;28;43mcls\u001b[39;49m\u001b[43m]\u001b[49m\u001b[43m(\u001b[49m\u001b[43mobj\u001b[49m\u001b[43m,\u001b[49m\u001b[43m \u001b[49m\u001b[38;5;28;43mself\u001b[39;49m\u001b[43m,\u001b[49m\u001b[43m \u001b[49m\u001b[43mcycle\u001b[49m\u001b[43m)\u001b[49m\n\u001b[1;32m    394\u001b[0m     \u001b[38;5;28;01melse\u001b[39;00m:\n\u001b[1;32m    395\u001b[0m         \u001b[38;5;66;03m# deferred printer\u001b[39;00m\n\u001b[1;32m    396\u001b[0m         printer \u001b[38;5;241m=\u001b[39m \u001b[38;5;28mself\u001b[39m\u001b[38;5;241m.\u001b[39m_in_deferred_types(\u001b[38;5;28mcls\u001b[39m)\n",
      "File \u001b[0;32m~/.local/lib/python3.8/site-packages/IPython/lib/pretty.py:692\u001b[0m, in \u001b[0;36m_dict_pprinter_factory.<locals>.inner\u001b[0;34m(obj, p, cycle)\u001b[0m\n\u001b[1;32m    690\u001b[0m     p\u001b[38;5;241m.\u001b[39mpretty(key)\n\u001b[1;32m    691\u001b[0m     p\u001b[38;5;241m.\u001b[39mtext(\u001b[38;5;124m'\u001b[39m\u001b[38;5;124m: \u001b[39m\u001b[38;5;124m'\u001b[39m)\n\u001b[0;32m--> 692\u001b[0m     \u001b[43mp\u001b[49m\u001b[38;5;241;43m.\u001b[39;49m\u001b[43mpretty\u001b[49m\u001b[43m(\u001b[49m\u001b[43mobj\u001b[49m\u001b[43m[\u001b[49m\u001b[43mkey\u001b[49m\u001b[43m]\u001b[49m\u001b[43m)\u001b[49m\n\u001b[1;32m    693\u001b[0m p\u001b[38;5;241m.\u001b[39mend_group(step, end)\n",
      "File \u001b[0;32m~/.local/lib/python3.8/site-packages/IPython/lib/pretty.py:393\u001b[0m, in \u001b[0;36mRepresentationPrinter.pretty\u001b[0;34m(self, obj)\u001b[0m\n\u001b[1;32m    390\u001b[0m \u001b[38;5;28;01mfor\u001b[39;00m \u001b[38;5;28mcls\u001b[39m \u001b[38;5;129;01min\u001b[39;00m _get_mro(obj_class):\n\u001b[1;32m    391\u001b[0m     \u001b[38;5;28;01mif\u001b[39;00m \u001b[38;5;28mcls\u001b[39m \u001b[38;5;129;01min\u001b[39;00m \u001b[38;5;28mself\u001b[39m\u001b[38;5;241m.\u001b[39mtype_pprinters:\n\u001b[1;32m    392\u001b[0m         \u001b[38;5;66;03m# printer registered in self.type_pprinters\u001b[39;00m\n\u001b[0;32m--> 393\u001b[0m         \u001b[38;5;28;01mreturn\u001b[39;00m \u001b[38;5;28;43mself\u001b[39;49m\u001b[38;5;241;43m.\u001b[39;49m\u001b[43mtype_pprinters\u001b[49m\u001b[43m[\u001b[49m\u001b[38;5;28;43mcls\u001b[39;49m\u001b[43m]\u001b[49m\u001b[43m(\u001b[49m\u001b[43mobj\u001b[49m\u001b[43m,\u001b[49m\u001b[43m \u001b[49m\u001b[38;5;28;43mself\u001b[39;49m\u001b[43m,\u001b[49m\u001b[43m \u001b[49m\u001b[43mcycle\u001b[49m\u001b[43m)\u001b[49m\n\u001b[1;32m    394\u001b[0m     \u001b[38;5;28;01melse\u001b[39;00m:\n\u001b[1;32m    395\u001b[0m         \u001b[38;5;66;03m# deferred printer\u001b[39;00m\n\u001b[1;32m    396\u001b[0m         printer \u001b[38;5;241m=\u001b[39m \u001b[38;5;28mself\u001b[39m\u001b[38;5;241m.\u001b[39m_in_deferred_types(\u001b[38;5;28mcls\u001b[39m)\n",
      "File \u001b[0;32m~/.local/lib/python3.8/site-packages/IPython/lib/pretty.py:692\u001b[0m, in \u001b[0;36m_dict_pprinter_factory.<locals>.inner\u001b[0;34m(obj, p, cycle)\u001b[0m\n\u001b[1;32m    690\u001b[0m     p\u001b[38;5;241m.\u001b[39mpretty(key)\n\u001b[1;32m    691\u001b[0m     p\u001b[38;5;241m.\u001b[39mtext(\u001b[38;5;124m'\u001b[39m\u001b[38;5;124m: \u001b[39m\u001b[38;5;124m'\u001b[39m)\n\u001b[0;32m--> 692\u001b[0m     \u001b[43mp\u001b[49m\u001b[38;5;241;43m.\u001b[39;49m\u001b[43mpretty\u001b[49m\u001b[43m(\u001b[49m\u001b[43mobj\u001b[49m\u001b[43m[\u001b[49m\u001b[43mkey\u001b[49m\u001b[43m]\u001b[49m\u001b[43m)\u001b[49m\n\u001b[1;32m    693\u001b[0m p\u001b[38;5;241m.\u001b[39mend_group(step, end)\n",
      "File \u001b[0;32m~/.local/lib/python3.8/site-packages/IPython/lib/pretty.py:393\u001b[0m, in \u001b[0;36mRepresentationPrinter.pretty\u001b[0;34m(self, obj)\u001b[0m\n\u001b[1;32m    390\u001b[0m \u001b[38;5;28;01mfor\u001b[39;00m \u001b[38;5;28mcls\u001b[39m \u001b[38;5;129;01min\u001b[39;00m _get_mro(obj_class):\n\u001b[1;32m    391\u001b[0m     \u001b[38;5;28;01mif\u001b[39;00m \u001b[38;5;28mcls\u001b[39m \u001b[38;5;129;01min\u001b[39;00m \u001b[38;5;28mself\u001b[39m\u001b[38;5;241m.\u001b[39mtype_pprinters:\n\u001b[1;32m    392\u001b[0m         \u001b[38;5;66;03m# printer registered in self.type_pprinters\u001b[39;00m\n\u001b[0;32m--> 393\u001b[0m         \u001b[38;5;28;01mreturn\u001b[39;00m \u001b[38;5;28;43mself\u001b[39;49m\u001b[38;5;241;43m.\u001b[39;49m\u001b[43mtype_pprinters\u001b[49m\u001b[43m[\u001b[49m\u001b[38;5;28;43mcls\u001b[39;49m\u001b[43m]\u001b[49m\u001b[43m(\u001b[49m\u001b[43mobj\u001b[49m\u001b[43m,\u001b[49m\u001b[43m \u001b[49m\u001b[38;5;28;43mself\u001b[39;49m\u001b[43m,\u001b[49m\u001b[43m \u001b[49m\u001b[43mcycle\u001b[49m\u001b[43m)\u001b[49m\n\u001b[1;32m    394\u001b[0m     \u001b[38;5;28;01melse\u001b[39;00m:\n\u001b[1;32m    395\u001b[0m         \u001b[38;5;66;03m# deferred printer\u001b[39;00m\n\u001b[1;32m    396\u001b[0m         printer \u001b[38;5;241m=\u001b[39m \u001b[38;5;28mself\u001b[39m\u001b[38;5;241m.\u001b[39m_in_deferred_types(\u001b[38;5;28mcls\u001b[39m)\n",
      "File \u001b[0;32m~/.local/lib/python3.8/site-packages/IPython/lib/pretty.py:692\u001b[0m, in \u001b[0;36m_dict_pprinter_factory.<locals>.inner\u001b[0;34m(obj, p, cycle)\u001b[0m\n\u001b[1;32m    690\u001b[0m     p\u001b[38;5;241m.\u001b[39mpretty(key)\n\u001b[1;32m    691\u001b[0m     p\u001b[38;5;241m.\u001b[39mtext(\u001b[38;5;124m'\u001b[39m\u001b[38;5;124m: \u001b[39m\u001b[38;5;124m'\u001b[39m)\n\u001b[0;32m--> 692\u001b[0m     \u001b[43mp\u001b[49m\u001b[38;5;241;43m.\u001b[39;49m\u001b[43mpretty\u001b[49m\u001b[43m(\u001b[49m\u001b[43mobj\u001b[49m\u001b[43m[\u001b[49m\u001b[43mkey\u001b[49m\u001b[43m]\u001b[49m\u001b[43m)\u001b[49m\n\u001b[1;32m    693\u001b[0m p\u001b[38;5;241m.\u001b[39mend_group(step, end)\n",
      "File \u001b[0;32m~/.local/lib/python3.8/site-packages/IPython/lib/pretty.py:410\u001b[0m, in \u001b[0;36mRepresentationPrinter.pretty\u001b[0;34m(self, obj)\u001b[0m\n\u001b[1;32m    407\u001b[0m                         \u001b[38;5;28;01mreturn\u001b[39;00m meth(obj, \u001b[38;5;28mself\u001b[39m, cycle)\n\u001b[1;32m    408\u001b[0m                 \u001b[38;5;28;01mif\u001b[39;00m \u001b[38;5;28mcls\u001b[39m \u001b[38;5;129;01mis\u001b[39;00m \u001b[38;5;129;01mnot\u001b[39;00m \u001b[38;5;28mobject\u001b[39m \\\n\u001b[1;32m    409\u001b[0m                         \u001b[38;5;129;01mand\u001b[39;00m callable(\u001b[38;5;28mcls\u001b[39m\u001b[38;5;241m.\u001b[39m\u001b[38;5;18m__dict__\u001b[39m\u001b[38;5;241m.\u001b[39mget(\u001b[38;5;124m'\u001b[39m\u001b[38;5;124m__repr__\u001b[39m\u001b[38;5;124m'\u001b[39m)):\n\u001b[0;32m--> 410\u001b[0m                     \u001b[38;5;28;01mreturn\u001b[39;00m \u001b[43m_repr_pprint\u001b[49m\u001b[43m(\u001b[49m\u001b[43mobj\u001b[49m\u001b[43m,\u001b[49m\u001b[43m \u001b[49m\u001b[38;5;28;43mself\u001b[39;49m\u001b[43m,\u001b[49m\u001b[43m \u001b[49m\u001b[43mcycle\u001b[49m\u001b[43m)\u001b[49m\n\u001b[1;32m    412\u001b[0m     \u001b[38;5;28;01mreturn\u001b[39;00m _default_pprint(obj, \u001b[38;5;28mself\u001b[39m, cycle)\n\u001b[1;32m    413\u001b[0m \u001b[38;5;28;01mfinally\u001b[39;00m:\n",
      "File \u001b[0;32m~/.local/lib/python3.8/site-packages/IPython/lib/pretty.py:778\u001b[0m, in \u001b[0;36m_repr_pprint\u001b[0;34m(obj, p, cycle)\u001b[0m\n\u001b[1;32m    776\u001b[0m \u001b[38;5;124;03m\"\"\"A pprint that just redirects to the normal repr function.\"\"\"\u001b[39;00m\n\u001b[1;32m    777\u001b[0m \u001b[38;5;66;03m# Find newlines and replace them with p.break_()\u001b[39;00m\n\u001b[0;32m--> 778\u001b[0m output \u001b[38;5;241m=\u001b[39m \u001b[38;5;28;43mrepr\u001b[39;49m\u001b[43m(\u001b[49m\u001b[43mobj\u001b[49m\u001b[43m)\u001b[49m\n\u001b[1;32m    779\u001b[0m lines \u001b[38;5;241m=\u001b[39m output\u001b[38;5;241m.\u001b[39msplitlines()\n\u001b[1;32m    780\u001b[0m \u001b[38;5;28;01mwith\u001b[39;00m p\u001b[38;5;241m.\u001b[39mgroup():\n",
      "File \u001b[0;32m~/.local/lib/python3.8/site-packages/jedi/inference/compiled/value.py:142\u001b[0m, in \u001b[0;36mCompiledValue.__repr__\u001b[0;34m(self)\u001b[0m\n\u001b[1;32m    141\u001b[0m \u001b[38;5;28;01mdef\u001b[39;00m \u001b[38;5;21m__repr__\u001b[39m(\u001b[38;5;28mself\u001b[39m):\n\u001b[0;32m--> 142\u001b[0m     \u001b[38;5;28;01mreturn\u001b[39;00m \u001b[38;5;124m'\u001b[39m\u001b[38;5;124m<\u001b[39m\u001b[38;5;132;01m%s\u001b[39;00m\u001b[38;5;124m: \u001b[39m\u001b[38;5;132;01m%s\u001b[39;00m\u001b[38;5;124m>\u001b[39m\u001b[38;5;124m'\u001b[39m \u001b[38;5;241m%\u001b[39m (\u001b[38;5;28mself\u001b[39m\u001b[38;5;241m.\u001b[39m\u001b[38;5;18m__class__\u001b[39m\u001b[38;5;241m.\u001b[39m\u001b[38;5;18m__name__\u001b[39m, \u001b[38;5;28;43mself\u001b[39;49m\u001b[38;5;241;43m.\u001b[39;49m\u001b[43maccess_handle\u001b[49m\u001b[38;5;241;43m.\u001b[39;49m\u001b[43mget_repr\u001b[49m\u001b[43m(\u001b[49m\u001b[43m)\u001b[49m)\n",
      "File \u001b[0;32m~/.local/lib/python3.8/site-packages/jedi/inference/compiled/subprocess/__init__.py:387\u001b[0m, in \u001b[0;36mAccessHandle._workaround\u001b[0;34m(self, name, *args, **kwargs)\u001b[0m\n\u001b[1;32m    385\u001b[0m \u001b[38;5;28;01mif\u001b[39;00m args \u001b[38;5;129;01mand\u001b[39;00m \u001b[38;5;28misinstance\u001b[39m(args[\u001b[38;5;241m0\u001b[39m], \u001b[38;5;28mslice\u001b[39m):\n\u001b[1;32m    386\u001b[0m     \u001b[38;5;28;01mreturn\u001b[39;00m \u001b[38;5;28mself\u001b[39m\u001b[38;5;241m.\u001b[39m_subprocess\u001b[38;5;241m.\u001b[39mget_compiled_method_return(\u001b[38;5;28mself\u001b[39m\u001b[38;5;241m.\u001b[39mid, name, \u001b[38;5;241m*\u001b[39margs, \u001b[38;5;241m*\u001b[39m\u001b[38;5;241m*\u001b[39mkwargs)\n\u001b[0;32m--> 387\u001b[0m \u001b[38;5;28;01mreturn\u001b[39;00m \u001b[38;5;28;43mself\u001b[39;49m\u001b[38;5;241;43m.\u001b[39;49m\u001b[43m_cached_results\u001b[49m\u001b[43m(\u001b[49m\u001b[43mname\u001b[49m\u001b[43m,\u001b[49m\u001b[43m \u001b[49m\u001b[38;5;241;43m*\u001b[39;49m\u001b[43margs\u001b[49m\u001b[43m,\u001b[49m\u001b[43m \u001b[49m\u001b[38;5;241;43m*\u001b[39;49m\u001b[38;5;241;43m*\u001b[39;49m\u001b[43mkwargs\u001b[49m\u001b[43m)\u001b[49m\n",
      "File \u001b[0;32m~/.local/lib/python3.8/site-packages/jedi/cache.py:112\u001b[0m, in \u001b[0;36mmemoize_method.<locals>.wrapper\u001b[0;34m(self, *args, **kwargs)\u001b[0m\n\u001b[1;32m    110\u001b[0m     \u001b[38;5;28;01mreturn\u001b[39;00m dct[key]\n\u001b[1;32m    111\u001b[0m \u001b[38;5;28;01mexcept\u001b[39;00m \u001b[38;5;167;01mKeyError\u001b[39;00m:\n\u001b[0;32m--> 112\u001b[0m     result \u001b[38;5;241m=\u001b[39m \u001b[43mmethod\u001b[49m\u001b[43m(\u001b[49m\u001b[38;5;28;43mself\u001b[39;49m\u001b[43m,\u001b[49m\u001b[43m \u001b[49m\u001b[38;5;241;43m*\u001b[39;49m\u001b[43margs\u001b[49m\u001b[43m,\u001b[49m\u001b[43m \u001b[49m\u001b[38;5;241;43m*\u001b[39;49m\u001b[38;5;241;43m*\u001b[39;49m\u001b[43mkwargs\u001b[49m\u001b[43m)\u001b[49m\n\u001b[1;32m    113\u001b[0m     dct[key] \u001b[38;5;241m=\u001b[39m result\n\u001b[1;32m    114\u001b[0m     \u001b[38;5;28;01mreturn\u001b[39;00m result\n",
      "File \u001b[0;32m~/.local/lib/python3.8/site-packages/jedi/inference/compiled/subprocess/__init__.py:391\u001b[0m, in \u001b[0;36mAccessHandle._cached_results\u001b[0;34m(self, name, *args, **kwargs)\u001b[0m\n\u001b[1;32m    389\u001b[0m \u001b[38;5;129m@memoize_method\u001b[39m\n\u001b[1;32m    390\u001b[0m \u001b[38;5;28;01mdef\u001b[39;00m \u001b[38;5;21m_cached_results\u001b[39m(\u001b[38;5;28mself\u001b[39m, name, \u001b[38;5;241m*\u001b[39margs, \u001b[38;5;241m*\u001b[39m\u001b[38;5;241m*\u001b[39mkwargs):\n\u001b[0;32m--> 391\u001b[0m     \u001b[38;5;28;01mreturn\u001b[39;00m \u001b[38;5;28;43mself\u001b[39;49m\u001b[38;5;241;43m.\u001b[39;49m\u001b[43m_subprocess\u001b[49m\u001b[38;5;241;43m.\u001b[39;49m\u001b[43mget_compiled_method_return\u001b[49m\u001b[43m(\u001b[49m\u001b[38;5;28;43mself\u001b[39;49m\u001b[38;5;241;43m.\u001b[39;49m\u001b[43mid\u001b[49m\u001b[43m,\u001b[49m\u001b[43m \u001b[49m\u001b[43mname\u001b[49m\u001b[43m,\u001b[49m\u001b[43m \u001b[49m\u001b[38;5;241;43m*\u001b[39;49m\u001b[43margs\u001b[49m\u001b[43m,\u001b[49m\u001b[43m \u001b[49m\u001b[38;5;241;43m*\u001b[39;49m\u001b[38;5;241;43m*\u001b[39;49m\u001b[43mkwargs\u001b[49m\u001b[43m)\u001b[49m\n",
      "File \u001b[0;32m~/.local/lib/python3.8/site-packages/jedi/inference/compiled/subprocess/functions.py:26\u001b[0m, in \u001b[0;36mget_compiled_method_return\u001b[0;34m(inference_state, id, attribute, *args, **kwargs)\u001b[0m\n\u001b[1;32m     25\u001b[0m \u001b[38;5;28;01mdef\u001b[39;00m \u001b[38;5;21mget_compiled_method_return\u001b[39m(inference_state, \u001b[38;5;28mid\u001b[39m, attribute, \u001b[38;5;241m*\u001b[39margs, \u001b[38;5;241m*\u001b[39m\u001b[38;5;241m*\u001b[39mkwargs):\n\u001b[0;32m---> 26\u001b[0m     handle \u001b[38;5;241m=\u001b[39m \u001b[43minference_state\u001b[49m\u001b[38;5;241;43m.\u001b[39;49m\u001b[43mcompiled_subprocess\u001b[49m\u001b[38;5;241m.\u001b[39mget_access_handle(\u001b[38;5;28mid\u001b[39m)\n\u001b[1;32m     27\u001b[0m     \u001b[38;5;28;01mreturn\u001b[39;00m \u001b[38;5;28mgetattr\u001b[39m(handle\u001b[38;5;241m.\u001b[39maccess, attribute)(\u001b[38;5;241m*\u001b[39margs, \u001b[38;5;241m*\u001b[39m\u001b[38;5;241m*\u001b[39mkwargs)\n",
      "\u001b[0;31mAttributeError\u001b[0m: 'NoneType' object has no attribute 'compiled_subprocess'"
     ]
    }
   ],
   "source": [
    "gc.garbage"
   ]
  },
  {
   "cell_type": "markdown",
   "id": "72178e21",
   "metadata": {},
   "source": [
    "# Логические выражения"
   ]
  },
  {
   "cell_type": "markdown",
   "id": "72769d2f",
   "metadata": {},
   "source": [
    "True и False могут являться числами, но связь не взаимно однозначная"
   ]
  },
  {
   "cell_type": "code",
   "execution_count": 38,
   "id": "0b197cfa",
   "metadata": {},
   "outputs": [
    {
     "name": "stdout",
     "output_type": "stream",
     "text": [
      "3\n",
      "0\n"
     ]
    }
   ],
   "source": [
    "print(True*3)\n",
    "print(False*3)"
   ]
  },
  {
   "cell_type": "markdown",
   "id": "1122dc88",
   "metadata": {},
   "source": [
    "False - может быть и пустые списки, кортежи"
   ]
  },
  {
   "cell_type": "code",
   "execution_count": 39,
   "id": "1c89b84d",
   "metadata": {},
   "outputs": [
    {
     "name": "stdout",
     "output_type": "stream",
     "text": [
      "QQQ\n"
     ]
    }
   ],
   "source": [
    "A = True\n",
    "if A:\n",
    "    print(\"QQQ\")"
   ]
  },
  {
   "cell_type": "code",
   "execution_count": 43,
   "id": "54b39f02",
   "metadata": {},
   "outputs": [],
   "source": [
    "A = []\n",
    "if A: print('fdsfsd')"
   ]
  },
  {
   "cell_type": "code",
   "execution_count": 44,
   "id": "30ac744e",
   "metadata": {},
   "outputs": [],
   "source": [
    "A = 0\n",
    "if A: print('fdsfsd')"
   ]
  },
  {
   "cell_type": "code",
   "execution_count": 45,
   "id": "a66f2668",
   "metadata": {},
   "outputs": [
    {
     "name": "stdout",
     "output_type": "stream",
     "text": [
      "fdsfsd\n"
     ]
    }
   ],
   "source": [
    "A = 545\n",
    "if A: print('fdsfsd')"
   ]
  },
  {
   "cell_type": "code",
   "execution_count": 48,
   "id": "41e17a94",
   "metadata": {},
   "outputs": [
    {
     "name": "stdout",
     "output_type": "stream",
     "text": [
      "2\n",
      "222\n"
     ]
    }
   ],
   "source": [
    "if (test := input()*3): print(test)"
   ]
  },
  {
   "cell_type": "markdown",
   "id": "5181d0a7",
   "metadata": {},
   "source": [
    "___\n",
    "Список (лист) -- динамический массив\n",
    "\n",
    "Кортеж (tuple) -- константный массив\n",
    "___"
   ]
  },
  {
   "cell_type": "markdown",
   "id": "aa8d5f4b",
   "metadata": {},
   "source": [
    "# Операторы сравнения"
   ]
  },
  {
   "cell_type": "markdown",
   "id": "684dcefa",
   "metadata": {},
   "source": [
    "Многоместные операторы:"
   ]
  },
  {
   "cell_type": "code",
   "execution_count": 55,
   "id": "020e9694",
   "metadata": {},
   "outputs": [
    {
     "name": "stdout",
     "output_type": "stream",
     "text": [
      "True\n"
     ]
    }
   ],
   "source": [
    "a, b, c = 8, 5, 2\n",
    "print(a > b > c)"
   ]
  },
  {
   "cell_type": "markdown",
   "id": "eea4f5b1",
   "metadata": {},
   "source": [
    "ПРИЧЕМ ОПЕРАТОРЫ ДЕЙСТВУЮТ ЛОГИЧЕСКИ, А НЕ ИНТУИТИВНО:"
   ]
  },
  {
   "cell_type": "code",
   "execution_count": 56,
   "id": "eec8dc56",
   "metadata": {},
   "outputs": [
    {
     "name": "stdout",
     "output_type": "stream",
     "text": [
      "True\n",
      "False\n",
      "True\n"
     ]
    }
   ],
   "source": [
    "print(a > b > c)\n",
    "print((a > b) > c) # INVALID, (a>b) = True = 1\n",
    "print(a > b and b > c) # VALID"
   ]
  },
  {
   "cell_type": "markdown",
   "id": "c027963a",
   "metadata": {},
   "source": [
    "Таким образом, такие многомерные операторы являются последовательными цепочками сравнений через __and__"
   ]
  },
  {
   "cell_type": "markdown",
   "id": "956d98ab",
   "metadata": {},
   "source": [
    "Такая же шляпа работает с __is__"
   ]
  },
  {
   "cell_type": "code",
   "execution_count": 61,
   "id": "021bae6f",
   "metadata": {},
   "outputs": [
    {
     "data": {
      "text/plain": [
       "True"
      ]
     },
     "execution_count": 61,
     "metadata": {},
     "output_type": "execute_result"
    }
   ],
   "source": [
    "False is False"
   ]
  },
  {
   "cell_type": "code",
   "execution_count": 62,
   "id": "a7244240",
   "metadata": {},
   "outputs": [
    {
     "data": {
      "text/plain": [
       "True"
      ]
     },
     "execution_count": 62,
     "metadata": {},
     "output_type": "execute_result"
    }
   ],
   "source": [
    "False is False is False"
   ]
  },
  {
   "cell_type": "code",
   "execution_count": 63,
   "id": "9d0252fe",
   "metadata": {},
   "outputs": [
    {
     "data": {
      "text/plain": [
       "True"
      ]
     },
     "execution_count": 63,
     "metadata": {},
     "output_type": "execute_result"
    }
   ],
   "source": [
    "False is False in [False]"
   ]
  },
  {
   "cell_type": "markdown",
   "id": "9266d91e",
   "metadata": {},
   "source": [
    "# Циклы"
   ]
  },
  {
   "cell_type": "markdown",
   "id": "d9b3fe4d",
   "metadata": {},
   "source": [
    "Каноническая схема цикла:\n",
    "\n",
    "1) инициализация\n",
    "\n",
    "2) while условие:\n",
    "\n",
    "3) ____тело\n",
    "\n",
    "4) ____изменение условий"
   ]
  },
  {
   "cell_type": "code",
   "execution_count": 70,
   "id": "c34d65ab",
   "metadata": {},
   "outputs": [
    {
     "name": "stdout",
     "output_type": "stream",
     "text": [
      "0\n",
      "1\n",
      "2\n",
      "3\n",
      "4\n"
     ]
    }
   ],
   "source": [
    "i = 0\n",
    "while i < 5:\n",
    "    print(i)\n",
    "    i += 1"
   ]
  },
  {
   "cell_type": "code",
   "execution_count": 71,
   "id": "d4825859",
   "metadata": {
    "scrolled": true
   },
   "outputs": [
    {
     "name": "stdout",
     "output_type": "stream",
     "text": [
      "Starting from 34\n",
      "34\n",
      "38\n",
      "42\n",
      "Found 42\n",
      "Starting from 35\n",
      "35\n",
      "39\n",
      "43\n",
      "47\n",
      "51\n",
      "55\n",
      "59\n",
      "63\n",
      "42 not found\n"
     ]
    }
   ],
   "source": [
    "i = 0\n",
    "while i < 2:\n",
    "    j = 34+i\n",
    "    print(\"Starting from\", j)\n",
    "    while j < 66:\n",
    "        print(j)\n",
    "        if j==42:\n",
    "            print(\"Found 42\")\n",
    "            break\n",
    "        j += 4\n",
    "    else:\n",
    "        print(\"42 not found\")\n",
    "    i += 1"
   ]
  },
  {
   "cell_type": "code",
   "execution_count": 72,
   "id": "e523c351",
   "metadata": {},
   "outputs": [
    {
     "name": "stdout",
     "output_type": "stream",
     "text": [
      "2,3,5\n"
     ]
    }
   ],
   "source": [
    "a,b,c = eval(input())"
   ]
  },
  {
   "cell_type": "code",
   "execution_count": 93,
   "id": "affcd662",
   "metadata": {},
   "outputs": [
    {
     "name": "stdout",
     "output_type": "stream",
     "text": [
      "1,1,2\n",
      "1,1\n",
      "1,2\n",
      "2,2\n",
      "7,8\n",
      "0,0\n",
      "NO\n"
     ]
    }
   ],
   "source": [
    "x,y,r = map(int, input().split(','))\n",
    "flag = True\n",
    "a, b = map(int, input().split(','))\n",
    "while (a, b) != (0, 0):\n",
    "    if (a-x)**2+(b-y)**2 > r**2:\n",
    "        flag = False\n",
    "    a, b = map(int, input().split(','))\n",
    "print('YES') if flag else print('NO')"
   ]
  },
  {
   "cell_type": "markdown",
   "id": "6dac0dda",
   "metadata": {},
   "source": [
    "___"
   ]
  },
  {
   "cell_type": "markdown",
   "id": "02209b1b",
   "metadata": {},
   "source": [
    "# Последовательности и цикл for"
   ]
  },
  {
   "cell_type": "markdown",
   "id": "f839e088",
   "metadata": {},
   "source": [
    "____"
   ]
  },
  {
   "cell_type": "markdown",
   "id": "5a8d2292",
   "metadata": {},
   "source": [
    "Про инкапсуляцию в Питоне:\n",
    "\n",
    "Инкапсуляция как __дерево пространства имен__\n",
    "\n",
    "В Питоне всё объекты: функции, классы, модули, числа, строки и т.д."
   ]
  },
  {
   "cell_type": "code",
   "execution_count": 2,
   "id": "c520f1ee",
   "metadata": {},
   "outputs": [
    {
     "name": "stdout",
     "output_type": "stream",
     "text": [
      "(3+5j)\n"
     ]
    }
   ],
   "source": [
    "c = 3 + 5j\n",
    "print(c)"
   ]
  },
  {
   "cell_type": "markdown",
   "id": "f7bacce0",
   "metadata": {},
   "source": [
    "Поскольку комплексное число - это объект, то у него есть свое собственное пространство имен"
   ]
  },
  {
   "cell_type": "code",
   "execution_count": 4,
   "id": "3df47b49",
   "metadata": {},
   "outputs": [
    {
     "name": "stdout",
     "output_type": "stream",
     "text": [
      "['__abs__', '__add__', '__bool__', '__class__', '__delattr__', '__dir__', '__divmod__', '__doc__', '__eq__', '__float__', '__floordiv__', '__format__', '__ge__', '__getattribute__', '__getnewargs__', '__gt__', '__hash__', '__init__', '__init_subclass__', '__int__', '__le__', '__lt__', '__mod__', '__mul__', '__ne__', '__neg__', '__new__', '__pos__', '__pow__', '__radd__', '__rdivmod__', '__reduce__', '__reduce_ex__', '__repr__', '__rfloordiv__', '__rmod__', '__rmul__', '__rpow__', '__rsub__', '__rtruediv__', '__setattr__', '__sizeof__', '__str__', '__sub__', '__subclasshook__', '__truediv__', 'conjugate', 'imag', 'real']\n"
     ]
    }
   ],
   "source": [
    "print(dir(c))"
   ]
  },
  {
   "cell_type": "code",
   "execution_count": 8,
   "id": "03b10b25",
   "metadata": {},
   "outputs": [
    {
     "name": "stdout",
     "output_type": "stream",
     "text": [
      "3.0\n",
      "5.0\n"
     ]
    }
   ],
   "source": [
    "print(c.real)\n",
    "print(c.imag)"
   ]
  },
  {
   "cell_type": "markdown",
   "id": "b43de447",
   "metadata": {},
   "source": [
    "То, что после точки -- __поле объекта__"
   ]
  },
  {
   "cell_type": "markdown",
   "id": "acffb1cd",
   "metadata": {},
   "source": [
    "Числовой протокол подразумевает, что поле real и imag есть у всех чисел, даже вещественных:"
   ]
  },
  {
   "cell_type": "code",
   "execution_count": 9,
   "id": "e75030ca",
   "metadata": {},
   "outputs": [
    {
     "data": {
      "text/plain": [
       "0"
      ]
     },
     "execution_count": 9,
     "metadata": {},
     "output_type": "execute_result"
    }
   ],
   "source": [
    "a = 55\n",
    "a.imag"
   ]
  },
  {
   "cell_type": "code",
   "execution_count": 11,
   "id": "1b64f301",
   "metadata": {},
   "outputs": [
    {
     "name": "stdout",
     "output_type": "stream",
     "text": [
      "<class 'int'>\n",
      "<class 'complex'>\n"
     ]
    }
   ],
   "source": [
    "print(type(a))\n",
    "print(type(c))"
   ]
  },
  {
   "cell_type": "code",
   "execution_count": 12,
   "id": "91b8171b",
   "metadata": {},
   "outputs": [
    {
     "data": {
      "text/plain": [
       "0.0"
      ]
     },
     "execution_count": 12,
     "metadata": {},
     "output_type": "execute_result"
    }
   ],
   "source": [
    "c.real.imag.imag.real"
   ]
  },
  {
   "cell_type": "markdown",
   "id": "30ed2997",
   "metadata": {},
   "source": [
    "Помимо полей, есть также и методы объектов\n",
    "\n",
    "Поле объекта - любой член пространства имен объекта. Некоторые из полей callable(методы), а некоторые не callable(поля):"
   ]
  },
  {
   "cell_type": "code",
   "execution_count": 13,
   "id": "e53f6e60",
   "metadata": {},
   "outputs": [
    {
     "data": {
      "text/plain": [
       "True"
      ]
     },
     "execution_count": 13,
     "metadata": {},
     "output_type": "execute_result"
    }
   ],
   "source": [
    "callable(c.conjugate)"
   ]
  },
  {
   "cell_type": "code",
   "execution_count": 14,
   "id": "1e9b915f",
   "metadata": {},
   "outputs": [
    {
     "data": {
      "text/plain": [
       "False"
      ]
     },
     "execution_count": 14,
     "metadata": {},
     "output_type": "execute_result"
    }
   ],
   "source": [
    "callable(c.real)"
   ]
  },
  {
   "cell_type": "markdown",
   "id": "be593289",
   "metadata": {},
   "source": [
    "методы целого числа:"
   ]
  },
  {
   "cell_type": "code",
   "execution_count": 17,
   "id": "1bfd0b1d",
   "metadata": {},
   "outputs": [
    {
     "name": "stdout",
     "output_type": "stream",
     "text": [
      "['__abs__', '__add__', '__and__', '__bool__', '__ceil__', '__class__', '__delattr__', '__dir__', '__divmod__', '__doc__', '__eq__', '__float__', '__floor__', '__floordiv__', '__format__', '__ge__', '__getattribute__', '__getnewargs__', '__gt__', '__hash__', '__index__', '__init__', '__init_subclass__', '__int__', '__invert__', '__le__', '__lshift__', '__lt__', '__mod__', '__mul__', '__ne__', '__neg__', '__new__', '__or__', '__pos__', '__pow__', '__radd__', '__rand__', '__rdivmod__', '__reduce__', '__reduce_ex__', '__repr__', '__rfloordiv__', '__rlshift__', '__rmod__', '__rmul__', '__ror__', '__round__', '__rpow__', '__rrshift__', '__rshift__', '__rsub__', '__rtruediv__', '__rxor__', '__setattr__', '__sizeof__', '__str__', '__sub__', '__subclasshook__', '__truediv__', '__trunc__', '__xor__', 'as_integer_ratio', 'bit_length', 'conjugate', 'denominator', 'from_bytes', 'imag', 'numerator', 'real', 'to_bytes']\n"
     ]
    }
   ],
   "source": [
    "a = 8\n",
    "print(dir(a))"
   ]
  },
  {
   "cell_type": "code",
   "execution_count": 18,
   "id": "b58ee8a2",
   "metadata": {},
   "outputs": [
    {
     "data": {
      "text/plain": [
       "4"
      ]
     },
     "execution_count": 18,
     "metadata": {},
     "output_type": "execute_result"
    }
   ],
   "source": [
    "a.bit_length()"
   ]
  },
  {
   "cell_type": "markdown",
   "id": "0e0cc583",
   "metadata": {},
   "source": [
    "Практически все операции(например, + - * / % // +=) являются методами: "
   ]
  },
  {
   "cell_type": "code",
   "execution_count": 20,
   "id": "03765d3f",
   "metadata": {},
   "outputs": [
    {
     "name": "stdout",
     "output_type": "stream",
     "text": [
      "-8\n",
      "-8\n"
     ]
    }
   ],
   "source": [
    "print(a.__neg__())\n",
    "print(-a)"
   ]
  },
  {
   "cell_type": "code",
   "execution_count": 23,
   "id": "b1366174",
   "metadata": {},
   "outputs": [
    {
     "name": "stdout",
     "output_type": "stream",
     "text": [
      "107\n",
      "107\n",
      "24\n",
      "24\n"
     ]
    }
   ],
   "source": [
    "print(a.__add__(99))\n",
    "print(a+99)\n",
    "print(a.__mul__(3))\n",
    "print(a*3)"
   ]
  },
  {
   "cell_type": "markdown",
   "id": "28b6244c",
   "metadata": {},
   "source": [
    "Но, кстати:"
   ]
  },
  {
   "cell_type": "code",
   "execution_count": 25,
   "id": "d5b3405e",
   "metadata": {},
   "outputs": [
    {
     "ename": "SyntaxError",
     "evalue": "invalid syntax (447456766.py, line 1)",
     "output_type": "error",
     "traceback": [
      "\u001b[0;36m  Input \u001b[0;32mIn [25]\u001b[0;36m\u001b[0m\n\u001b[0;31m    2134.__mul__(3) # так нельзя, т.к. 2134. интерпретатор считает вещественным числом\u001b[0m\n\u001b[0m         ^\u001b[0m\n\u001b[0;31mSyntaxError\u001b[0m\u001b[0;31m:\u001b[0m invalid syntax\n"
     ]
    }
   ],
   "source": [
    "2134.__mul__(3) # так нельзя, т.к. 2134. интерпретатор считает вещественным числом"
   ]
  },
  {
   "cell_type": "code",
   "execution_count": 26,
   "id": "5040f25b",
   "metadata": {},
   "outputs": [
    {
     "data": {
      "text/plain": [
       "6402"
      ]
     },
     "execution_count": 26,
     "metadata": {},
     "output_type": "execute_result"
    }
   ],
   "source": [
    "(2134).__mul__(3)"
   ]
  },
  {
   "cell_type": "code",
   "execution_count": 28,
   "id": "cb901944",
   "metadata": {},
   "outputs": [
    {
     "name": "stdout",
     "output_type": "stream",
     "text": [
      "5.830951894845301\n",
      "5.830951894845301\n"
     ]
    }
   ],
   "source": [
    "print(abs(c))\n",
    "print(c.__abs__())"
   ]
  },
  {
   "cell_type": "code",
   "execution_count": 29,
   "id": "7ab4f9f5",
   "metadata": {},
   "outputs": [
    {
     "name": "stdout",
     "output_type": "stream",
     "text": [
      "7\n",
      "7\n"
     ]
    }
   ],
   "source": [
    "print(len('fdhhhfd'))\n",
    "print('fdhhhfd'.__len__())"
   ]
  },
  {
   "cell_type": "markdown",
   "id": "f32f8bd6",
   "metadata": {},
   "source": [
    "Поведение объектов:"
   ]
  },
  {
   "cell_type": "code",
   "execution_count": 30,
   "id": "4b79b15f",
   "metadata": {},
   "outputs": [],
   "source": [
    "a = (1,2,3)"
   ]
  },
  {
   "cell_type": "code",
   "execution_count": 33,
   "id": "010a5692",
   "metadata": {},
   "outputs": [
    {
     "name": "stdout",
     "output_type": "stream",
     "text": [
      "(1, 2, 3, 1, 2, 3, 1, 2, 3)\n",
      "(1, 2, 3, 1, 2, 3, 1, 2, 3)\n"
     ]
    }
   ],
   "source": [
    "print(a * 3)\n",
    "print(a.__mul__(3))"
   ]
  },
  {
   "cell_type": "markdown",
   "id": "2ea055f2",
   "metadata": {},
   "source": [
    "Это работает, т.к. метод кортежа __mul__ знает, как умножаться на число"
   ]
  },
  {
   "cell_type": "code",
   "execution_count": 38,
   "id": "b2ac1a2a",
   "metadata": {
    "scrolled": true
   },
   "outputs": [
    {
     "name": "stdout",
     "output_type": "stream",
     "text": [
      "(1, 2, 3, 1, 2, 3, 1, 2, 3)\n",
      "(1, 2, 3, 1, 2, 3, 1, 2, 3)\n",
      "NotImplemented\n",
      "<class 'NotImplementedType'>\n"
     ]
    }
   ],
   "source": [
    "b = 3\n",
    "print(b * a)\n",
    "print(a.__mul__(b))\n",
    "print(b.__mul__(a))\n",
    "print(type(NotImplemented))"
   ]
  },
  {
   "cell_type": "markdown",
   "id": "b659ba58",
   "metadata": {},
   "source": [
    "А в данном случае что происходит: протокол арифметической операции работает следущим образом. \n",
    "\n",
    "Если число не знает, как умножать себя на нечто (т.е. не описан метод mul), то надо возвращать объект NotImplemented\n",
    "\n",
    "Если при умножении * выдается NotImplemented, то производится попытка правого умножения:"
   ]
  },
  {
   "cell_type": "code",
   "execution_count": 40,
   "id": "f6b775de",
   "metadata": {},
   "outputs": [
    {
     "name": "stdout",
     "output_type": "stream",
     "text": [
      "NotImplemented\n",
      "(1, 2, 3, 1, 2, 3, 1, 2, 3)\n"
     ]
    }
   ],
   "source": [
    "print(b.__mul__(a)) # вместо этого\n",
    "print(a.__rmul__(b)) # выполняется это"
   ]
  },
  {
   "cell_type": "markdown",
   "id": "f54da9f9",
   "metadata": {},
   "source": [
    "### про str и repr"
   ]
  },
  {
   "cell_type": "code",
   "execution_count": 41,
   "id": "7f3d8194",
   "metadata": {},
   "outputs": [
    {
     "name": "stdout",
     "output_type": "stream",
     "text": [
      "(3+5j)\n"
     ]
    }
   ],
   "source": [
    "print(c) "
   ]
  },
  {
   "cell_type": "markdown",
   "id": "6077e207",
   "metadata": {},
   "source": [
    "вызывается str(c), а если нет -- repr(c). Причем repr есть всегда\n",
    "\n",
    "Отличие в области применения:\n",
    "\n",
    "print просит __str__ и нужен для вывода объекта как текста. Удобен и нужен для человека.\n",
    "\n",
    "__repr__ нужен для конкретного рассмотрения программистом, что это за объект. Нужен для машины и подстановки в консоль "
   ]
  },
  {
   "cell_type": "code",
   "execution_count": 43,
   "id": "9a43b80f",
   "metadata": {},
   "outputs": [
    {
     "name": "stdout",
     "output_type": "stream",
     "text": [
      "1\n",
      "34\n",
      "end\n"
     ]
    }
   ],
   "source": [
    "for n in 1,34,456,67,78,89:\n",
    "    if n == 456:\n",
    "        break\n",
    "    print(n)\n",
    "else:\n",
    "    print('QQ')\n",
    "print('end')"
   ]
  },
  {
   "cell_type": "markdown",
   "id": "3475a4dd",
   "metadata": {},
   "source": [
    "Строки - это последовательности строк"
   ]
  },
  {
   "cell_type": "code",
   "execution_count": 17,
   "id": "0a02c15e",
   "metadata": {},
   "outputs": [
    {
     "data": {
      "text/plain": [
       "'h'"
      ]
     },
     "execution_count": 17,
     "metadata": {},
     "output_type": "execute_result"
    }
   ],
   "source": [
    "s = 'asdfghjkl'\n",
    "s[5][0][0][0]"
   ]
  },
  {
   "cell_type": "markdown",
   "id": "c80d6b55",
   "metadata": {},
   "source": [
    "Списки - это модифицируемые последовательности"
   ]
  },
  {
   "cell_type": "code",
   "execution_count": 19,
   "id": "045c8c65",
   "metadata": {},
   "outputs": [
    {
     "data": {
      "text/plain": [
       "(12, 45, 856, 8)"
      ]
     },
     "execution_count": 19,
     "metadata": {},
     "output_type": "execute_result"
    }
   ],
   "source": [
    "l = [12, 45, 856, 8]\n",
    "tuple(l)"
   ]
  },
  {
   "cell_type": "code",
   "execution_count": 20,
   "id": "e1d41965",
   "metadata": {},
   "outputs": [
    {
     "data": {
      "text/plain": [
       "[12, 45, 856, 8]"
      ]
     },
     "execution_count": 20,
     "metadata": {},
     "output_type": "execute_result"
    }
   ],
   "source": [
    "list(l)"
   ]
  },
  {
   "cell_type": "markdown",
   "id": "c03a2d40",
   "metadata": {},
   "source": [
    "В списках есть метод копирования .copy причем данный метод __неглубокий__ в смысле, что создается новый объект, новые ссылки элементов массива, но сами элементы массива ссылаются на одни и те же объекты"
   ]
  },
  {
   "cell_type": "code",
   "execution_count": 39,
   "id": "bce458d7",
   "metadata": {},
   "outputs": [
    {
     "data": {
      "text/plain": [
       "[12, [323], '32', ValueError, 'fdsaf', 435]"
      ]
     },
     "execution_count": 39,
     "metadata": {},
     "output_type": "execute_result"
    }
   ],
   "source": [
    "l = [12, [323], '32', ValueError, 'fdsaf', 435]\n",
    "l2 = l.copy()\n",
    "l2"
   ]
  },
  {
   "cell_type": "code",
   "execution_count": 40,
   "id": "02400294",
   "metadata": {},
   "outputs": [
    {
     "name": "stdout",
     "output_type": "stream",
     "text": [
      "140071365072576 140071365034816\n",
      "140071364999552 140071364999552\n",
      "140071701849168 140071701849168\n"
     ]
    }
   ],
   "source": [
    "print(id(l2), id(l))\n",
    "print(id(l2[1]), id(l[1]))\n",
    "print(id(l2[1][0]), id(l[1][0]))"
   ]
  },
  {
   "cell_type": "code",
   "execution_count": 41,
   "id": "03abab87",
   "metadata": {},
   "outputs": [
    {
     "name": "stdout",
     "output_type": "stream",
     "text": [
      "[12, [323, 3], '32', <class 'ValueError'>, 'fdsaf', 435]\n",
      "[12, [323, 3], '32', <class 'ValueError'>, 'fdsaf', 435]\n",
      "True\n"
     ]
    }
   ],
   "source": [
    "l2[1].append(3)\n",
    "print(l)\n",
    "print(l2)\n",
    "print(l[1] is l2[1])"
   ]
  },
  {
   "cell_type": "markdown",
   "id": "a79c5345",
   "metadata": {},
   "source": [
    "___\n",
    "\n",
    "### СПИСОК\n",
    "\n",
    "__Список__ в питоне - это динамический массив (динамическая таблица), таблица ссылок на объекты\n",
    "\n",
    "\n",
    "___"
   ]
  },
  {
   "cell_type": "markdown",
   "id": "3dd1954d",
   "metadata": {},
   "source": [
    "___\n",
    "\n",
    "# Функции и замыкание\n",
    "\n",
    "___"
   ]
  },
  {
   "cell_type": "markdown",
   "id": "f7f074e8",
   "metadata": {},
   "source": [
    "В Питоне есть всякие пространства имен:"
   ]
  },
  {
   "cell_type": "code",
   "execution_count": 1,
   "id": "543c73e7",
   "metadata": {},
   "outputs": [
    {
     "name": "stdout",
     "output_type": "stream",
     "text": [
      "['In', 'Out', '_', '__', '___', '__builtin__', '__builtins__', '__doc__', '__loader__', '__name__', '__package__', '__spec__', '_dh', '_i', '_i1', '_ih', '_ii', '_iii', '_oh', 'exit', 'get_ipython', 'quit']\n"
     ]
    }
   ],
   "source": [
    "print(dir())"
   ]
  },
  {
   "cell_type": "code",
   "execution_count": 2,
   "id": "53067a0f",
   "metadata": {},
   "outputs": [
    {
     "name": "stdout",
     "output_type": "stream",
     "text": [
      "['ArithmeticError', 'AssertionError', 'AttributeError', 'BaseException', 'BlockingIOError', 'BrokenPipeError', 'BufferError', 'BytesWarning', 'ChildProcessError', 'ConnectionAbortedError', 'ConnectionError', 'ConnectionRefusedError', 'ConnectionResetError', 'DeprecationWarning', 'EOFError', 'Ellipsis', 'EnvironmentError', 'Exception', 'False', 'FileExistsError', 'FileNotFoundError', 'FloatingPointError', 'FutureWarning', 'GeneratorExit', 'IOError', 'ImportError', 'ImportWarning', 'IndentationError', 'IndexError', 'InterruptedError', 'IsADirectoryError', 'KeyError', 'KeyboardInterrupt', 'LookupError', 'MemoryError', 'ModuleNotFoundError', 'NameError', 'None', 'NotADirectoryError', 'NotImplemented', 'NotImplementedError', 'OSError', 'OverflowError', 'PendingDeprecationWarning', 'PermissionError', 'ProcessLookupError', 'RecursionError', 'ReferenceError', 'ResourceWarning', 'RuntimeError', 'RuntimeWarning', 'StopAsyncIteration', 'StopIteration', 'SyntaxError', 'SyntaxWarning', 'SystemError', 'SystemExit', 'TabError', 'TimeoutError', 'True', 'TypeError', 'UnboundLocalError', 'UnicodeDecodeError', 'UnicodeEncodeError', 'UnicodeError', 'UnicodeTranslateError', 'UnicodeWarning', 'UserWarning', 'ValueError', 'Warning', 'ZeroDivisionError', '__IPYTHON__', '__build_class__', '__debug__', '__doc__', '__import__', '__loader__', '__name__', '__package__', '__spec__', 'abs', 'all', 'any', 'ascii', 'bin', 'bool', 'breakpoint', 'bytearray', 'bytes', 'callable', 'chr', 'classmethod', 'compile', 'complex', 'copyright', 'credits', 'delattr', 'dict', 'dir', 'display', 'divmod', 'enumerate', 'eval', 'exec', 'execfile', 'filter', 'float', 'format', 'frozenset', 'get_ipython', 'getattr', 'globals', 'hasattr', 'hash', 'help', 'hex', 'id', 'input', 'int', 'isinstance', 'issubclass', 'iter', 'len', 'license', 'list', 'locals', 'map', 'max', 'memoryview', 'min', 'next', 'object', 'oct', 'open', 'ord', 'pow', 'print', 'property', 'range', 'repr', 'reversed', 'round', 'runfile', 'set', 'setattr', 'slice', 'sorted', 'staticmethod', 'str', 'sum', 'super', 'tuple', 'type', 'vars', 'zip']\n"
     ]
    }
   ],
   "source": [
    "print(dir(__builtins__))"
   ]
  },
  {
   "cell_type": "code",
   "execution_count": 5,
   "id": "50e090e0",
   "metadata": {},
   "outputs": [],
   "source": [
    "a = 2345"
   ]
  },
  {
   "cell_type": "code",
   "execution_count": 6,
   "id": "cd7c40df",
   "metadata": {},
   "outputs": [
    {
     "name": "stdout",
     "output_type": "stream",
     "text": [
      "{'__name__': '__main__', '__doc__': 'Automatically created module for IPython interactive environment', '__package__': None, '__loader__': None, '__spec__': None, '__builtin__': <module 'builtins' (built-in)>, '__builtins__': <module 'builtins' (built-in)>, '_ih': ['', 'print(dir())', 'print(dir(__builtins__))', 'globals()', 'print(globals())', 'a = 2345', 'print(globals())'], '_oh': {3: {...}}, '_dh': [PosixPath('/home/nikolay/Documents/programming/Kuryachii')], 'In': ['', 'print(dir())', 'print(dir(__builtins__))', 'globals()', 'print(globals())', 'a = 2345', 'print(globals())'], 'Out': {3: {...}}, 'get_ipython': <bound method InteractiveShell.get_ipython of <ipykernel.zmqshell.ZMQInteractiveShell object at 0x7fa3192f5c10>>, 'exit': <IPython.core.autocall.ZMQExitAutocall object at 0x7fa319261070>, 'quit': <IPython.core.autocall.ZMQExitAutocall object at 0x7fa319261070>, '_': {...}, '__': '', '___': '', '_i': 'a = 2345', '_ii': 'print(globals())', '_iii': 'globals()', '_i1': 'print(dir())', '_i2': 'print(dir(__builtins__))', '_i3': 'globals()', '_3': {...}, '_i4': 'print(globals())', '_i5': 'a = 2345', 'a': 2345, '_i6': 'print(globals())'}\n"
     ]
    }
   ],
   "source": [
    "print(globals())"
   ]
  },
  {
   "cell_type": "markdown",
   "id": "0c2c0a02",
   "metadata": {},
   "source": [
    "Безымянная функция __lambda__"
   ]
  },
  {
   "cell_type": "code",
   "execution_count": 8,
   "id": "b8c2f3fc",
   "metadata": {},
   "outputs": [],
   "source": [
    "fun = lambda x: 2*x+1"
   ]
  },
  {
   "cell_type": "code",
   "execution_count": 10,
   "id": "441a5cd6",
   "metadata": {},
   "outputs": [
    {
     "name": "stdout",
     "output_type": "stream",
     "text": [
      "['In', 'Out', '_', '_3', '_7', '_9', '__', '___', '__builtin__', '__builtins__', '__doc__', '__loader__', '__name__', '__package__', '__spec__', '_dh', '_i', '_i1', '_i10', '_i2', '_i3', '_i4', '_i5', '_i6', '_i7', '_i8', '_i9', '_ih', '_ii', '_iii', '_oh', 'a', 'exit', 'fun', 'get_ipython', 'quit']\n"
     ]
    }
   ],
   "source": [
    "print(dir())"
   ]
  },
  {
   "cell_type": "code",
   "execution_count": 12,
   "id": "d2908872",
   "metadata": {},
   "outputs": [
    {
     "name": "stdout",
     "output_type": "stream",
     "text": [
      "<class 'function'>\n"
     ]
    }
   ],
   "source": [
    "print(type(fun))"
   ]
  },
  {
   "cell_type": "code",
   "execution_count": 13,
   "id": "d9b2876d",
   "metadata": {},
   "outputs": [
    {
     "data": {
      "text/plain": [
       "4691"
      ]
     },
     "execution_count": 13,
     "metadata": {},
     "output_type": "execute_result"
    }
   ],
   "source": [
    "fun(a)"
   ]
  },
  {
   "cell_type": "markdown",
   "id": "a6fbc989",
   "metadata": {},
   "source": [
    "У функций есть свойство: они __callable__\n",
    "\n",
    "callable-объекты - это такие объекты, которые можно вызвать с помощью круглых скобочек:"
   ]
  },
  {
   "cell_type": "code",
   "execution_count": 17,
   "id": "15c852aa",
   "metadata": {},
   "outputs": [
    {
     "data": {
      "text/plain": [
       "True"
      ]
     },
     "execution_count": 17,
     "metadata": {},
     "output_type": "execute_result"
    }
   ],
   "source": [
    "callable(fun)"
   ]
  },
  {
   "cell_type": "code",
   "execution_count": 19,
   "id": "d13e4272",
   "metadata": {},
   "outputs": [
    {
     "data": {
      "text/plain": [
       "247"
      ]
     },
     "execution_count": 19,
     "metadata": {},
     "output_type": "execute_result"
    }
   ],
   "source": [
    "fun(123)"
   ]
  },
  {
   "cell_type": "markdown",
   "id": "c5f7f6c3",
   "metadata": {},
   "source": [
    "В действительности вместо активации объекта с круглыми скобочками - то есть вызовом, используется метод __call__"
   ]
  },
  {
   "cell_type": "code",
   "execution_count": 21,
   "id": "5829dd60",
   "metadata": {},
   "outputs": [
    {
     "name": "stdout",
     "output_type": "stream",
     "text": [
      "['__annotations__', '__call__', '__class__', '__closure__', '__code__', '__defaults__', '__delattr__', '__dict__', '__dir__', '__doc__', '__eq__', '__format__', '__ge__', '__get__', '__getattribute__', '__globals__', '__gt__', '__hash__', '__init__', '__init_subclass__', '__kwdefaults__', '__le__', '__lt__', '__module__', '__name__', '__ne__', '__new__', '__qualname__', '__reduce__', '__reduce_ex__', '__repr__', '__setattr__', '__sizeof__', '__str__', '__subclasshook__']\n"
     ]
    }
   ],
   "source": [
    "print(dir(fun))"
   ]
  },
  {
   "cell_type": "code",
   "execution_count": 23,
   "id": "5776af53",
   "metadata": {},
   "outputs": [
    {
     "data": {
      "text/plain": [
       "247"
      ]
     },
     "execution_count": 23,
     "metadata": {},
     "output_type": "execute_result"
    }
   ],
   "source": [
    "fun.__call__(123)"
   ]
  },
  {
   "cell_type": "markdown",
   "id": "c9c7ce23",
   "metadata": {},
   "source": [
    "Функции обычно задаются так:"
   ]
  },
  {
   "cell_type": "code",
   "execution_count": 24,
   "id": "db2c73e5",
   "metadata": {},
   "outputs": [
    {
     "data": {
      "text/plain": [
       "2469.8"
      ]
     },
     "execution_count": 24,
     "metadata": {},
     "output_type": "execute_result"
    }
   ],
   "source": [
    "def funfun(x):\n",
    "        return 2*x+1\n",
    "    \n",
    "funfun(1234.4)"
   ]
  },
  {
   "cell_type": "code",
   "execution_count": 26,
   "id": "0cb2a718",
   "metadata": {},
   "outputs": [
    {
     "data": {
      "text/plain": [
       "4"
      ]
     },
     "execution_count": 26,
     "metadata": {},
     "output_type": "execute_result"
    }
   ],
   "source": [
    "def fuun(a, b):\n",
    "    return a*2 + b\n",
    "\n",
    "fuun(1, 2)"
   ]
  },
  {
   "cell_type": "code",
   "execution_count": 27,
   "id": "61f35f06",
   "metadata": {},
   "outputs": [
    {
     "data": {
      "text/plain": [
       "'qwerqwerQWER'"
      ]
     },
     "execution_count": 27,
     "metadata": {},
     "output_type": "execute_result"
    }
   ],
   "source": [
    "fuun('qwer', 'QWER')"
   ]
  },
  {
   "cell_type": "markdown",
   "id": "ac6c75fc",
   "metadata": {},
   "source": [
    "Немного о call-e"
   ]
  },
  {
   "cell_type": "code",
   "execution_count": 28,
   "id": "92754819",
   "metadata": {},
   "outputs": [
    {
     "name": "stdout",
     "output_type": "stream",
     "text": [
      "call happen\n"
     ]
    },
    {
     "data": {
      "text/plain": [
       "<__main__.A at 0x7fa2faeb53a0>"
      ]
     },
     "execution_count": 28,
     "metadata": {},
     "output_type": "execute_result"
    }
   ],
   "source": [
    "class A:\n",
    "    def __call__(self):\n",
    "        print('call happen')\n",
    "        return self\n",
    "    \n",
    "a = A()\n",
    "a()"
   ]
  },
  {
   "cell_type": "markdown",
   "id": "305c956b",
   "metadata": {},
   "source": [
    "Функция в Python - формальная запись алгоритма. Алгоритм будет выполняться, пока не непозволенная операция. \n",
    "\n",
    "Duck typing - неявная динамическая типизация. Если мне нужно, чтобы утка плавала и крякала, то всё, что плавает и крякает является уткой, не зависимо от того, что ещё оно может\n",
    "\n",
    "Не преобразование данных определенного типа в данные другого определенного типа по нужному алгоритму"
   ]
  },
  {
   "cell_type": "code",
   "execution_count": 40,
   "id": "4c4b7ab7",
   "metadata": {},
   "outputs": [
    {
     "name": "stdout",
     "output_type": "stream",
     "text": [
      "dir funfun: ['a', 'b'] \n",
      "\n",
      "e 123 456\n",
      "dir: \n",
      "  ['A', 'In', 'Out', '_', '_11', '_13', '_15', '_17', '_18', '_19', '_20', '_23', '_24', '_26', '_27', '_28', '_3', '_31', '_7', '_9', '__', '___', '__builtin__', '__builtins__', '__doc__', '__loader__', '__name__', '__package__', '__spec__', '_dh', '_i', '_i1', '_i10', '_i11', '_i12', '_i13', '_i14', '_i15', '_i16', '_i17', '_i18', '_i19', '_i2', '_i20', '_i21', '_i22', '_i23', '_i24', '_i25', '_i26', '_i27', '_i28', '_i29', '_i3', '_i30', '_i31', '_i32', '_i33', '_i34', '_i35', '_i36', '_i37', '_i38', '_i39', '_i4', '_i40', '_i5', '_i6', '_i7', '_i8', '_i9', '_ih', '_ii', '_iii', '_oh', 'a', 'exit', 'fun', 'funfun', 'fuun', 'get_ipython', 'quit', 'res']\n"
     ]
    }
   ],
   "source": [
    "def funfun(a, b):\n",
    "    print(\"dir funfun:\", dir(), '\\n')\n",
    "    print('e', a, b)\n",
    "    return a*2 + b\n",
    "\n",
    "\n",
    "res = funfun(123, 456)\n",
    "print(\"dir: \\n \", dir())"
   ]
  },
  {
   "cell_type": "code",
   "execution_count": 41,
   "id": "681eb0fd",
   "metadata": {
    "collapsed": true
   },
   "outputs": [
    {
     "name": "stdout",
     "output_type": "stream",
     "text": [
      "locals: {'a': 123, 'b': 456} \n",
      "\n",
      "globals: {'__name__': '__main__', '__doc__': 'Automatically created module for IPython interactive environment', '__package__': None, '__loader__': None, '__spec__': None, '__builtin__': <module 'builtins' (built-in)>, '__builtins__': <module 'builtins' (built-in)>, '_ih': ['', 'print(dir())', 'print(dir(__builtins__))', 'globals()', 'print(globals())', 'a = 2345', 'print(globals())', 'lambda x: 2*x+1', 'fun = lambda x: 2*x+1', 'dir()', 'print(dir())', 'type(fun)', 'print(type(fun))', 'fun(a)', 'callabe(fun)', 'callable(fun)', 'print(callable(fun))', 'callable(fun)', 'fun(a)', 'fun(123)', 'dir(fun)', 'print(dir(fun))', 'dun.__call__(123)', 'fun.__call__(123)', 'def funfun(x):\\n        return 2*x+1\\n    \\nfunfun(1234.4)', 'def fuun(a, b):\\n    return a*2 + b', 'def fuun(a, b):\\n    return a*2 + b\\n\\nfuun(1, 2)', \"fuun('qwer', 'QWER')\", \"class A:\\n    def __call__(self):\\n        print('call happen')\\n        return self\\n    \\na = A()\\na()\", \"def funfun(a, b):\\n    print(dir())\\n    print('e', a, b)\\n    return a*2 + b\", \"def funfun(a, b):\\n    print(dir())\\n    print('e', a, b)\\n    return a*2 + b\\n\\nfun(123, 456)\", \"def funfun(a, b):\\n    print(dir())\\n    print('e', a, b)\\n    return a*2 + b\\n\\nfunfun(123, 456)\", \"def funfun(a, b):\\n    print(dir())\\n    print('e', a, b)\\n    return a*2 + b\\n\\nres = funfun(123, 456)\", 'def funfun(a, b):\\n    print(\"dir funfun\", dir())\\n    print(\\'e\\', a, b)\\n    return a*2 + b\\n\\n    print(\"dir funfun\", dir())\\nres = funfun(123, 456)', 'def funfun(a, b):\\n    print(\"dir funfun\", dir())\\n    print(\\'e\\', a, b)\\n    return a*2 + b\\n\\nprint(\"dir\", dir())\\nres = funfun(123, 456)', 'def funfun(a, b):\\n    print(\"dir funfun\", dir())\\n    print(\\'e\\', a, b)\\n    return a*2 + b\\n\\n\\nres = funfun(123, 456)\\nprint(\"dir\", dir())', 'def funfun(a, b):\\n    print(\"dir funfun\", dir())\\n    print(\\'e\\', a, b)\\n    return a*2 + b\\n\\n\\nres = funfun(123, 456)\\nprint(\"dir: \\\\n \", dir())', 'def funfun(a, b):\\n    print(\"dir funfun\", dir(), \\'\\\\n\\')\\n    print(\\'e\\', a, b)\\n    return a*2 + b\\n\\n\\nres = funfun(123, 456)\\nprint(\"dir: \\\\n \", dir())', 'def funfun(a, b):\\n    print(\"dir funfun:\", dir(), \\'\\\\n\\')\\n    print(\\'e\\', a, b)\\n    return a*2 + b\\n\\n\\nres = funfun(123, 456)\\nprint(\"dir: \\\\n \", dir())', 'def funfun(a, b):\\n    print(\"dir funfun:\", dir(), \\'\\\\n\\')\\n    print(\\'e\\', a, b)\\n    return a*2 + b\\n\\n\\nres = funfun(123, 456)\\nprint(\"dir: \\\\n \", dir())\\nprint(locals())', 'def funfun(a, b):\\n    print(\"dir funfun:\", dir(), \\'\\\\n\\')\\n    print(\\'e\\', a, b)\\n    return a*2 + b\\n\\n\\nres = funfun(123, 456)\\nprint(\"dir: \\\\n \", dir())', 'def funfun(a, b):\\n    print(\"locals:\", locals(), \\'\\\\n\\')\\n    print(\"globals:\", globals(), \\'\\\\n\\')\\n    print(\\'e\\', a, b)\\n    return a*2 + b\\n\\n\\nres = funfun(123, 456)\\n# print(\"dir: \\\\n \", dir())'], '_oh': {3: {...}, 7: <function <lambda> at 0x7fa2fade00d0>, 9: ['In', 'Out', '_', '_3', '_7', '__', '___', '__builtin__', '__builtins__', '__doc__', '__loader__', '__name__', '__package__', '__spec__', '_dh', '_i', '_i1', '_i2', '_i3', '_i4', '_i5', '_i6', '_i7', '_i8', '_i9', '_ih', '_ii', '_iii', '_oh', 'a', 'exit', 'fun', 'get_ipython', 'quit'], 11: <class 'function'>, 13: 4691, 15: True, 17: True, 18: 4691, 19: 247, 20: ['__annotations__', '__call__', '__class__', '__closure__', '__code__', '__defaults__', '__delattr__', '__dict__', '__dir__', '__doc__', '__eq__', '__format__', '__ge__', '__get__', '__getattribute__', '__globals__', '__gt__', '__hash__', '__init__', '__init_subclass__', '__kwdefaults__', '__le__', '__lt__', '__module__', '__name__', '__ne__', '__new__', '__qualname__', '__reduce__', '__reduce_ex__', '__repr__', '__setattr__', '__sizeof__', '__str__', '__subclasshook__'], 23: 247, 24: 2469.8, 26: 4, 27: 'qwerqwerQWER', 28: <__main__.A object at 0x7fa2faeb53a0>, 31: 702}, '_dh': [PosixPath('/home/nikolay/Documents/programming/Kuryachii')], 'In': ['', 'print(dir())', 'print(dir(__builtins__))', 'globals()', 'print(globals())', 'a = 2345', 'print(globals())', 'lambda x: 2*x+1', 'fun = lambda x: 2*x+1', 'dir()', 'print(dir())', 'type(fun)', 'print(type(fun))', 'fun(a)', 'callabe(fun)', 'callable(fun)', 'print(callable(fun))', 'callable(fun)', 'fun(a)', 'fun(123)', 'dir(fun)', 'print(dir(fun))', 'dun.__call__(123)', 'fun.__call__(123)', 'def funfun(x):\\n        return 2*x+1\\n    \\nfunfun(1234.4)', 'def fuun(a, b):\\n    return a*2 + b', 'def fuun(a, b):\\n    return a*2 + b\\n\\nfuun(1, 2)', \"fuun('qwer', 'QWER')\", \"class A:\\n    def __call__(self):\\n        print('call happen')\\n        return self\\n    \\na = A()\\na()\", \"def funfun(a, b):\\n    print(dir())\\n    print('e', a, b)\\n    return a*2 + b\", \"def funfun(a, b):\\n    print(dir())\\n    print('e', a, b)\\n    return a*2 + b\\n\\nfun(123, 456)\", \"def funfun(a, b):\\n    print(dir())\\n    print('e', a, b)\\n    return a*2 + b\\n\\nfunfun(123, 456)\", \"def funfun(a, b):\\n    print(dir())\\n    print('e', a, b)\\n    return a*2 + b\\n\\nres = funfun(123, 456)\", 'def funfun(a, b):\\n    print(\"dir funfun\", dir())\\n    print(\\'e\\', a, b)\\n    return a*2 + b\\n\\n    print(\"dir funfun\", dir())\\nres = funfun(123, 456)', 'def funfun(a, b):\\n    print(\"dir funfun\", dir())\\n    print(\\'e\\', a, b)\\n    return a*2 + b\\n\\nprint(\"dir\", dir())\\nres = funfun(123, 456)', 'def funfun(a, b):\\n    print(\"dir funfun\", dir())\\n    print(\\'e\\', a, b)\\n    return a*2 + b\\n\\n\\nres = funfun(123, 456)\\nprint(\"dir\", dir())', 'def funfun(a, b):\\n    print(\"dir funfun\", dir())\\n    print(\\'e\\', a, b)\\n    return a*2 + b\\n\\n\\nres = funfun(123, 456)\\nprint(\"dir: \\\\n \", dir())', 'def funfun(a, b):\\n    print(\"dir funfun\", dir(), \\'\\\\n\\')\\n    print(\\'e\\', a, b)\\n    return a*2 + b\\n\\n\\nres = funfun(123, 456)\\nprint(\"dir: \\\\n \", dir())', 'def funfun(a, b):\\n    print(\"dir funfun:\", dir(), \\'\\\\n\\')\\n    print(\\'e\\', a, b)\\n    return a*2 + b\\n\\n\\nres = funfun(123, 456)\\nprint(\"dir: \\\\n \", dir())', 'def funfun(a, b):\\n    print(\"dir funfun:\", dir(), \\'\\\\n\\')\\n    print(\\'e\\', a, b)\\n    return a*2 + b\\n\\n\\nres = funfun(123, 456)\\nprint(\"dir: \\\\n \", dir())\\nprint(locals())', 'def funfun(a, b):\\n    print(\"dir funfun:\", dir(), \\'\\\\n\\')\\n    print(\\'e\\', a, b)\\n    return a*2 + b\\n\\n\\nres = funfun(123, 456)\\nprint(\"dir: \\\\n \", dir())', 'def funfun(a, b):\\n    print(\"locals:\", locals(), \\'\\\\n\\')\\n    print(\"globals:\", globals(), \\'\\\\n\\')\\n    print(\\'e\\', a, b)\\n    return a*2 + b\\n\\n\\nres = funfun(123, 456)\\n# print(\"dir: \\\\n \", dir())'], 'Out': {3: {...}, 7: <function <lambda> at 0x7fa2fade00d0>, 9: ['In', 'Out', '_', '_3', '_7', '__', '___', '__builtin__', '__builtins__', '__doc__', '__loader__', '__name__', '__package__', '__spec__', '_dh', '_i', '_i1', '_i2', '_i3', '_i4', '_i5', '_i6', '_i7', '_i8', '_i9', '_ih', '_ii', '_iii', '_oh', 'a', 'exit', 'fun', 'get_ipython', 'quit'], 11: <class 'function'>, 13: 4691, 15: True, 17: True, 18: 4691, 19: 247, 20: ['__annotations__', '__call__', '__class__', '__closure__', '__code__', '__defaults__', '__delattr__', '__dict__', '__dir__', '__doc__', '__eq__', '__format__', '__ge__', '__get__', '__getattribute__', '__globals__', '__gt__', '__hash__', '__init__', '__init_subclass__', '__kwdefaults__', '__le__', '__lt__', '__module__', '__name__', '__ne__', '__new__', '__qualname__', '__reduce__', '__reduce_ex__', '__repr__', '__setattr__', '__sizeof__', '__str__', '__subclasshook__'], 23: 247, 24: 2469.8, 26: 4, 27: 'qwerqwerQWER', 28: <__main__.A object at 0x7fa2faeb53a0>, 31: 702}, 'get_ipython': <bound method InteractiveShell.get_ipython of <ipykernel.zmqshell.ZMQInteractiveShell object at 0x7fa3192f5c10>>, 'exit': <IPython.core.autocall.ZMQExitAutocall object at 0x7fa319261070>, 'quit': <IPython.core.autocall.ZMQExitAutocall object at 0x7fa319261070>, '_': 702, '__': <__main__.A object at 0x7fa2faeb53a0>, '___': 'qwerqwerQWER', '_i': 'def funfun(a, b):\\n    print(\"dir funfun:\", dir(), \\'\\\\n\\')\\n    print(\\'e\\', a, b)\\n    return a*2 + b\\n\\n\\nres = funfun(123, 456)\\nprint(\"dir: \\\\n \", dir())', '_ii': 'def funfun(a, b):\\n    print(\"dir funfun:\", dir(), \\'\\\\n\\')\\n    print(\\'e\\', a, b)\\n    return a*2 + b\\n\\n\\nres = funfun(123, 456)\\nprint(\"dir: \\\\n \", dir())\\nprint(locals())', '_iii': 'def funfun(a, b):\\n    print(\"dir funfun:\", dir(), \\'\\\\n\\')\\n    print(\\'e\\', a, b)\\n    return a*2 + b\\n\\n\\nres = funfun(123, 456)\\nprint(\"dir: \\\\n \", dir())', '_i1': 'print(dir())', '_i2': 'print(dir(__builtins__))', '_i3': 'globals()', '_3': {...}, '_i4': 'print(globals())', '_i5': 'a = 2345', 'a': <__main__.A object at 0x7fa2faeb53a0>, '_i6': 'print(globals())', '_i7': 'lambda x: 2*x+1', '_7': <function <lambda> at 0x7fa2fade00d0>, '_i8': 'fun = lambda x: 2*x+1', 'fun': <function <lambda> at 0x7fa2fade0040>, '_i9': 'dir()', '_9': ['In', 'Out', '_', '_3', '_7', '__', '___', '__builtin__', '__builtins__', '__doc__', '__loader__', '__name__', '__package__', '__spec__', '_dh', '_i', '_i1', '_i2', '_i3', '_i4', '_i5', '_i6', '_i7', '_i8', '_i9', '_ih', '_ii', '_iii', '_oh', 'a', 'exit', 'fun', 'get_ipython', 'quit'], '_i10': 'print(dir())', '_i11': 'type(fun)', '_11': <class 'function'>, '_i12': 'print(type(fun))', '_i13': 'fun(a)', '_13': 4691, '_i14': 'callabe(fun)', '_i15': 'callable(fun)', '_15': True, '_i16': 'print(callable(fun))', '_i17': 'callable(fun)', '_17': True, '_i18': 'fun(a)', '_18': 4691, '_i19': 'fun(123)', '_19': 247, '_i20': 'dir(fun)', '_20': ['__annotations__', '__call__', '__class__', '__closure__', '__code__', '__defaults__', '__delattr__', '__dict__', '__dir__', '__doc__', '__eq__', '__format__', '__ge__', '__get__', '__getattribute__', '__globals__', '__gt__', '__hash__', '__init__', '__init_subclass__', '__kwdefaults__', '__le__', '__lt__', '__module__', '__name__', '__ne__', '__new__', '__qualname__', '__reduce__', '__reduce_ex__', '__repr__', '__setattr__', '__sizeof__', '__str__', '__subclasshook__'], '_i21': 'print(dir(fun))', '_i22': 'dun.__call__(123)', '_i23': 'fun.__call__(123)', '_23': 247, '_i24': 'def funfun(x):\\n        return 2*x+1\\n    \\nfunfun(1234.4)', 'funfun': <function funfun at 0x7fa2fa6deaf0>, '_24': 2469.8, '_i25': 'def fuun(a, b):\\n    return a*2 + b', 'fuun': <function fuun at 0x7fa2fa70a160>, '_i26': 'def fuun(a, b):\\n    return a*2 + b\\n\\nfuun(1, 2)', '_26': 4, '_i27': \"fuun('qwer', 'QWER')\", '_27': 'qwerqwerQWER', '_i28': \"class A:\\n    def __call__(self):\\n        print('call happen')\\n        return self\\n    \\na = A()\\na()\", 'A': <class '__main__.A'>, '_28': <__main__.A object at 0x7fa2faeb53a0>, '_i29': \"def funfun(a, b):\\n    print(dir())\\n    print('e', a, b)\\n    return a*2 + b\", '_i30': \"def funfun(a, b):\\n    print(dir())\\n    print('e', a, b)\\n    return a*2 + b\\n\\nfun(123, 456)\", '_i31': \"def funfun(a, b):\\n    print(dir())\\n    print('e', a, b)\\n    return a*2 + b\\n\\nfunfun(123, 456)\", '_31': 702, '_i32': \"def funfun(a, b):\\n    print(dir())\\n    print('e', a, b)\\n    return a*2 + b\\n\\nres = funfun(123, 456)\", 'res': 702, '_i33': 'def funfun(a, b):\\n    print(\"dir funfun\", dir())\\n    print(\\'e\\', a, b)\\n    return a*2 + b\\n\\n    print(\"dir funfun\", dir())\\nres = funfun(123, 456)', '_i34': 'def funfun(a, b):\\n    print(\"dir funfun\", dir())\\n    print(\\'e\\', a, b)\\n    return a*2 + b\\n\\nprint(\"dir\", dir())\\nres = funfun(123, 456)', '_i35': 'def funfun(a, b):\\n    print(\"dir funfun\", dir())\\n    print(\\'e\\', a, b)\\n    return a*2 + b\\n\\n\\nres = funfun(123, 456)\\nprint(\"dir\", dir())', '_i36': 'def funfun(a, b):\\n    print(\"dir funfun\", dir())\\n    print(\\'e\\', a, b)\\n    return a*2 + b\\n\\n\\nres = funfun(123, 456)\\nprint(\"dir: \\\\n \", dir())', '_i37': 'def funfun(a, b):\\n    print(\"dir funfun\", dir(), \\'\\\\n\\')\\n    print(\\'e\\', a, b)\\n    return a*2 + b\\n\\n\\nres = funfun(123, 456)\\nprint(\"dir: \\\\n \", dir())', '_i38': 'def funfun(a, b):\\n    print(\"dir funfun:\", dir(), \\'\\\\n\\')\\n    print(\\'e\\', a, b)\\n    return a*2 + b\\n\\n\\nres = funfun(123, 456)\\nprint(\"dir: \\\\n \", dir())', '_i39': 'def funfun(a, b):\\n    print(\"dir funfun:\", dir(), \\'\\\\n\\')\\n    print(\\'e\\', a, b)\\n    return a*2 + b\\n\\n\\nres = funfun(123, 456)\\nprint(\"dir: \\\\n \", dir())\\nprint(locals())', '_i40': 'def funfun(a, b):\\n    print(\"dir funfun:\", dir(), \\'\\\\n\\')\\n    print(\\'e\\', a, b)\\n    return a*2 + b\\n\\n\\nres = funfun(123, 456)\\nprint(\"dir: \\\\n \", dir())', '_i41': 'def funfun(a, b):\\n    print(\"locals:\", locals(), \\'\\\\n\\')\\n    print(\"globals:\", globals(), \\'\\\\n\\')\\n    print(\\'e\\', a, b)\\n    return a*2 + b\\n\\n\\nres = funfun(123, 456)\\n# print(\"dir: \\\\n \", dir())'} \n",
      "\n",
      "e 123 456\n"
     ]
    }
   ],
   "source": [
    "def funfun(a, b):\n",
    "    print(\"locals:\", locals(), '\\n')\n",
    "    print(\"globals:\", globals(), '\\n')\n",
    "    print('e', a, b)\n",
    "    return a*2 + b\n",
    "\n",
    "\n",
    "res = funfun(123, 456)\n",
    "# print(\"dir: \\n \", dir())"
   ]
  },
  {
   "cell_type": "code",
   "execution_count": 47,
   "id": "e1b47008",
   "metadata": {},
   "outputs": [
    {
     "name": "stdout",
     "output_type": "stream",
     "text": [
      "{'a': 12, 'b': 23}\n",
      "['A', 'In', 'Out', 'a', 'exit', 'fun', 'funfun', 'fuun', 'get_ipython', 'quit', 'res']\n"
     ]
    }
   ],
   "source": [
    "def funfun(a, b):\n",
    "#     print([a for a in dir() if not a.startswith('_')])\n",
    "    print(locals())\n",
    "    return a*2 + b\n",
    "\n",
    "res = funfun(12, 23)\n",
    "\n",
    "print([a for a in dir() if not a.startswith('_')])"
   ]
  },
  {
   "cell_type": "markdown",
   "id": "172bf4ec",
   "metadata": {},
   "source": [
    "О \"заглядывании\" из локального пространства имен в глобальное:"
   ]
  },
  {
   "cell_type": "code",
   "execution_count": 59,
   "id": "0ca88e6e",
   "metadata": {},
   "outputs": [
    {
     "name": "stdout",
     "output_type": "stream",
     "text": [
      "140338551536592\n",
      "{'a': 12, 'b': 13}\n",
      "140338551537136\n",
      "{'a': 12, 'b': 13, 'd': 39}\n",
      "22\n"
     ]
    }
   ],
   "source": [
    "def funfun(a, b):\n",
    "    # на текущий момент в пр-ве имен только a и b\n",
    "    print(locals())\n",
    "    d = 3 * b\n",
    "    print(id(d))\n",
    "    # тут мы пытались найти d, но его не было и мы его добавили\n",
    "    # далее будем работать с d как с локальным именем\n",
    "    print(locals())\n",
    "    return a*2 + b\n",
    "\n",
    "d = 22\n",
    "print(id(d))\n",
    "b, c = 12, 13\n",
    "funfun(b, c)\n",
    "print(d)\n",
    "# print(globals())"
   ]
  },
  {
   "cell_type": "markdown",
   "id": "744b0c46",
   "metadata": {},
   "source": [
    "___\n",
    "\n",
    "__РЕКУРСИИ использовать нежелательно, стоит её заменять на цикл__\n",
    "\n",
    "___"
   ]
  },
  {
   "cell_type": "markdown",
   "id": "0cc4e8d5",
   "metadata": {},
   "source": [
    "Можно писать __ФУНКЦИОНАЛ__, что в принципе нормально. По сути это такая же функция, просто получающая функции на вход."
   ]
  },
  {
   "cell_type": "code",
   "execution_count": 7,
   "id": "9b6bf61d",
   "metadata": {},
   "outputs": [],
   "source": [
    "def addf(f, g, x):\n",
    "    return f(x) + g(x)\n",
    "    # здесь выясняется, что первый и второй параметры - это\n",
    "    # callable - объекты (то есть, от них можно взять () )\n",
    "    \n",
    "def addf(f, g, x):\n",
    "    return f.__call__(x) + g.__call__(x)\n",
    "    # здесь выясняется, что первый и второй параметры - это\n",
    "    # callable - объекты (то есть, от них можно взять () )"
   ]
  },
  {
   "cell_type": "code",
   "execution_count": 8,
   "id": "c0ad451f",
   "metadata": {},
   "outputs": [],
   "source": [
    "from math import *"
   ]
  },
  {
   "cell_type": "code",
   "execution_count": 9,
   "id": "f514b1b7",
   "metadata": {},
   "outputs": [
    {
     "data": {
      "text/plain": [
       "-0.9999999999999999"
      ]
     },
     "execution_count": 9,
     "metadata": {},
     "output_type": "execute_result"
    }
   ],
   "source": [
    "addf(sin, cos, pi)"
   ]
  },
  {
   "cell_type": "code",
   "execution_count": 10,
   "id": "9a261b38",
   "metadata": {},
   "outputs": [
    {
     "data": {
      "text/plain": [
       "1.0"
      ]
     },
     "execution_count": 10,
     "metadata": {},
     "output_type": "execute_result"
    }
   ],
   "source": [
    "addf(sin, cos, pi/2)"
   ]
  },
  {
   "cell_type": "code",
   "execution_count": 11,
   "id": "00ceb7bb",
   "metadata": {},
   "outputs": [
    {
     "data": {
      "text/plain": [
       "1.3817732906760363"
      ]
     },
     "execution_count": 11,
     "metadata": {},
     "output_type": "execute_result"
    }
   ],
   "source": [
    "addf(sin, cos, 1)"
   ]
  },
  {
   "cell_type": "code",
   "execution_count": 15,
   "id": "6d906420",
   "metadata": {},
   "outputs": [
    {
     "name": "stdout",
     "output_type": "stream",
     "text": [
      "['__call__', '__class__', '__delattr__', '__dir__', '__doc__', '__eq__', '__format__', '__ge__', '__getattribute__', '__gt__', '__hash__', '__init__', '__init_subclass__', '__le__', '__lt__', '__module__', '__name__', '__ne__', '__new__', '__qualname__', '__reduce__', '__reduce_ex__', '__repr__', '__self__', '__setattr__', '__sizeof__', '__str__', '__subclasshook__', '__text_signature__']\n"
     ]
    }
   ],
   "source": [
    "print(dir(sin))"
   ]
  },
  {
   "cell_type": "code",
   "execution_count": 17,
   "id": "c35d22ce",
   "metadata": {},
   "outputs": [
    {
     "name": "stdout",
     "output_type": "stream",
     "text": [
      "<class 'builtin_function_or_method'>\n"
     ]
    }
   ],
   "source": [
    "print(type(sin))"
   ]
  },
  {
   "cell_type": "code",
   "execution_count": 29,
   "id": "37e2a158",
   "metadata": {},
   "outputs": [],
   "source": [
    "class A:\n",
    "    def __call__(self, a):\n",
    "        return('call call')"
   ]
  },
  {
   "cell_type": "code",
   "execution_count": 32,
   "id": "e27ca4cb",
   "metadata": {},
   "outputs": [
    {
     "data": {
      "text/plain": [
       "'call call'"
      ]
     },
     "execution_count": 32,
     "metadata": {},
     "output_type": "execute_result"
    }
   ],
   "source": [
    "a = A()\n",
    "a(7)"
   ]
  },
  {
   "cell_type": "code",
   "execution_count": 34,
   "id": "f78ff5dc",
   "metadata": {},
   "outputs": [
    {
     "name": "stdout",
     "output_type": "stream",
     "text": [
      "<built-in function sin>\n"
     ]
    }
   ],
   "source": [
    "print(sin)"
   ]
  },
  {
   "cell_type": "markdown",
   "id": "ce3e80e2",
   "metadata": {},
   "source": [
    "Можно написать __настоящий функционал__, который принимает функции и возвращает тоже функцию"
   ]
  },
  {
   "cell_type": "code",
   "execution_count": 51,
   "id": "906a9f46",
   "metadata": {},
   "outputs": [],
   "source": [
    "def fadd(f, g):\n",
    "    \n",
    "    def adder(x):\n",
    "        return f(x) + g(x)\n",
    "    \n",
    "    return adder"
   ]
  },
  {
   "cell_type": "markdown",
   "id": "c1caed21",
   "metadata": {},
   "source": [
    "Эта функция возвращает функцию:"
   ]
  },
  {
   "cell_type": "code",
   "execution_count": 52,
   "id": "7782c821",
   "metadata": {},
   "outputs": [
    {
     "data": {
      "text/plain": [
       "<function __main__.fadd(f, g)>"
      ]
     },
     "execution_count": 52,
     "metadata": {},
     "output_type": "execute_result"
    }
   ],
   "source": [
    "fadd"
   ]
  },
  {
   "cell_type": "code",
   "execution_count": 53,
   "id": "c2d3fdb2",
   "metadata": {},
   "outputs": [
    {
     "data": {
      "text/plain": [
       "<function __main__.fadd.<locals>.adder(x)>"
      ]
     },
     "execution_count": 53,
     "metadata": {},
     "output_type": "execute_result"
    }
   ],
   "source": [
    "fadd(sin, cos)"
   ]
  },
  {
   "cell_type": "code",
   "execution_count": 54,
   "id": "d5bf9439",
   "metadata": {},
   "outputs": [
    {
     "data": {
      "text/plain": [
       "-0.9999999999999999"
      ]
     },
     "execution_count": 54,
     "metadata": {},
     "output_type": "execute_result"
    }
   ],
   "source": [
    "fadd(sin, cos)(pi)"
   ]
  },
  {
   "cell_type": "code",
   "execution_count": 55,
   "id": "02565b76",
   "metadata": {},
   "outputs": [
    {
     "data": {
      "text/plain": [
       "1.0"
      ]
     },
     "execution_count": 55,
     "metadata": {},
     "output_type": "execute_result"
    }
   ],
   "source": [
    "fadd(sin, cos)(pi/2)"
   ]
  },
  {
   "cell_type": "code",
   "execution_count": 56,
   "id": "6a4e6cb8",
   "metadata": {},
   "outputs": [
    {
     "data": {
      "text/plain": [
       "1.3817732906760363"
      ]
     },
     "execution_count": 56,
     "metadata": {},
     "output_type": "execute_result"
    }
   ],
   "source": [
    "fadd(sin, cos)(1)"
   ]
  },
  {
   "cell_type": "code",
   "execution_count": 57,
   "id": "d2f15080",
   "metadata": {},
   "outputs": [],
   "source": [
    "sicos = fadd(sin, cos)"
   ]
  },
  {
   "cell_type": "code",
   "execution_count": 60,
   "id": "728dd1e7",
   "metadata": {},
   "outputs": [
    {
     "data": {
      "text/plain": [
       "1.3817732906760363"
      ]
     },
     "execution_count": 60,
     "metadata": {},
     "output_type": "execute_result"
    }
   ],
   "source": [
    "sicos(1)"
   ]
  },
  {
   "cell_type": "code",
   "execution_count": 61,
   "id": "9d517d84",
   "metadata": {},
   "outputs": [],
   "source": [
    "def ladd(f1, f2):\n",
    "    return lambda par: f1(par) + f2(par)"
   ]
  },
  {
   "cell_type": "code",
   "execution_count": 62,
   "id": "dca8aeca",
   "metadata": {},
   "outputs": [
    {
     "data": {
      "text/plain": [
       "6"
      ]
     },
     "execution_count": 62,
     "metadata": {},
     "output_type": "execute_result"
    }
   ],
   "source": [
    "f = ladd(min, max)\n",
    "f((1,2,3,4,5))"
   ]
  },
  {
   "cell_type": "markdown",
   "id": "140f6219",
   "metadata": {},
   "source": [
    "___\n",
    "\n",
    "### Распаковка и запаковка в питоне\n",
    "\n",
    "Оператор *\n"
   ]
  },
  {
   "cell_type": "code",
   "execution_count": 63,
   "id": "a77229d6",
   "metadata": {},
   "outputs": [],
   "source": [
    "def f(a, b, c, d):\n",
    "    return  a+b+c+d"
   ]
  },
  {
   "cell_type": "code",
   "execution_count": 64,
   "id": "9d961d3f",
   "metadata": {},
   "outputs": [
    {
     "data": {
      "text/plain": [
       "10"
      ]
     },
     "execution_count": 64,
     "metadata": {},
     "output_type": "execute_result"
    }
   ],
   "source": [
    "f(1,2,3,4)"
   ]
  },
  {
   "cell_type": "code",
   "execution_count": 65,
   "id": "20448666",
   "metadata": {},
   "outputs": [
    {
     "data": {
      "text/plain": [
       "446"
      ]
     },
     "execution_count": 65,
     "metadata": {},
     "output_type": "execute_result"
    }
   ],
   "source": [
    "l = 234,56,67,89\n",
    "f(*l)"
   ]
  },
  {
   "cell_type": "code",
   "execution_count": 66,
   "id": "06dfe031",
   "metadata": {},
   "outputs": [
    {
     "data": {
      "text/plain": [
       "14"
      ]
     },
     "execution_count": 66,
     "metadata": {},
     "output_type": "execute_result"
    }
   ],
   "source": [
    "f(*range(2,6))"
   ]
  },
  {
   "cell_type": "markdown",
   "id": "73e03ffe",
   "metadata": {},
   "source": [
    "Можно создать функцию с любым количеством параметров:"
   ]
  },
  {
   "cell_type": "code",
   "execution_count": 67,
   "id": "736faa53",
   "metadata": {},
   "outputs": [],
   "source": [
    "def fl(*pars):\n",
    "    print(pars, len(pars))"
   ]
  },
  {
   "cell_type": "code",
   "execution_count": 68,
   "id": "e5bb419a",
   "metadata": {},
   "outputs": [
    {
     "name": "stdout",
     "output_type": "stream",
     "text": [
      "() 0\n"
     ]
    }
   ],
   "source": [
    "fl()"
   ]
  },
  {
   "cell_type": "code",
   "execution_count": 70,
   "id": "213b3089",
   "metadata": {},
   "outputs": [
    {
     "name": "stdout",
     "output_type": "stream",
     "text": [
      "(321, 53, 6534, '5543', [3, 5, 7]) 5\n"
     ]
    }
   ],
   "source": [
    "fl(321, 53, 6534,'5543', [3,5,7])"
   ]
  },
  {
   "cell_type": "markdown",
   "id": "079283bf",
   "metadata": {},
   "source": [
    "Можно смешивать параметры:"
   ]
  },
  {
   "cell_type": "code",
   "execution_count": 71,
   "id": "df2b96e4",
   "metadata": {},
   "outputs": [],
   "source": [
    "def fm(a, b, *other):\n",
    "    print(len(other), other, a, b)"
   ]
  },
  {
   "cell_type": "code",
   "execution_count": 72,
   "id": "9121dfdf",
   "metadata": {},
   "outputs": [
    {
     "name": "stdout",
     "output_type": "stream",
     "text": [
      "6 (5, 7, 543, 9, 43, 'fds') 2 3\n"
     ]
    }
   ],
   "source": [
    "fm(2,3,5,7,543,9,43, 'fds')"
   ]
  },
  {
   "cell_type": "code",
   "execution_count": 73,
   "id": "932a45ec",
   "metadata": {},
   "outputs": [
    {
     "ename": "TypeError",
     "evalue": "fm() missing 1 required positional argument: 'b'",
     "output_type": "error",
     "traceback": [
      "\u001b[0;31m---------------------------------------------------------------------------\u001b[0m",
      "\u001b[0;31mTypeError\u001b[0m                                 Traceback (most recent call last)",
      "Input \u001b[0;32mIn [73]\u001b[0m, in \u001b[0;36m<module>\u001b[0;34m\u001b[0m\n\u001b[0;32m----> 1\u001b[0m \u001b[43mfm\u001b[49m\u001b[43m(\u001b[49m\u001b[38;5;241;43m1\u001b[39;49m\u001b[43m)\u001b[49m\n",
      "\u001b[0;31mTypeError\u001b[0m: fm() missing 1 required positional argument: 'b'"
     ]
    }
   ],
   "source": [
    "fm(1)"
   ]
  },
  {
   "cell_type": "code",
   "execution_count": 74,
   "id": "e7f120cd",
   "metadata": {},
   "outputs": [
    {
     "name": "stdout",
     "output_type": "stream",
     "text": [
      "0 () 1 2\n"
     ]
    }
   ],
   "source": [
    "fm(1,2)"
   ]
  },
  {
   "cell_type": "code",
   "execution_count": 75,
   "id": "43224b62",
   "metadata": {},
   "outputs": [
    {
     "name": "stdout",
     "output_type": "stream",
     "text": [
      "1 (3,) 1 2\n"
     ]
    }
   ],
   "source": [
    "fm(1, 2, 3)"
   ]
  },
  {
   "cell_type": "markdown",
   "id": "5869506e",
   "metadata": {},
   "source": [
    "Можно использовать позиционные и именные со значением по умолчанию:"
   ]
  },
  {
   "cell_type": "code",
   "execution_count": 79,
   "id": "85a19574",
   "metadata": {},
   "outputs": [],
   "source": [
    "def fn(a, b, c=100500, d='QQ'):\n",
    "    print(a, b, c, d)"
   ]
  },
  {
   "cell_type": "code",
   "execution_count": 80,
   "id": "7cdbaf79",
   "metadata": {},
   "outputs": [
    {
     "name": "stdout",
     "output_type": "stream",
     "text": [
      "1 2 100500 QQ\n"
     ]
    }
   ],
   "source": [
    "fn(1,2)"
   ]
  },
  {
   "cell_type": "code",
   "execution_count": 81,
   "id": "1d59d9d3",
   "metadata": {},
   "outputs": [
    {
     "name": "stdout",
     "output_type": "stream",
     "text": [
      "1 2 3 QQ\n"
     ]
    }
   ],
   "source": [
    "fn(1,2,3)"
   ]
  },
  {
   "cell_type": "code",
   "execution_count": 82,
   "id": "2c081643",
   "metadata": {},
   "outputs": [
    {
     "name": "stdout",
     "output_type": "stream",
     "text": [
      "1 2 3 4\n"
     ]
    }
   ],
   "source": [
    "fn(1,2,3,4)"
   ]
  },
  {
   "cell_type": "code",
   "execution_count": 83,
   "id": "f28a1968",
   "metadata": {},
   "outputs": [
    {
     "name": "stdout",
     "output_type": "stream",
     "text": [
      "1 2 100500 fsdafdsafdas\n"
     ]
    }
   ],
   "source": [
    "fn(1,2, d= 'fsdafdsafdas')"
   ]
  },
  {
   "cell_type": "markdown",
   "id": "a77a02ab",
   "metadata": {},
   "source": [
    "___\n",
    "\n",
    "### Замыкание\n",
    "\n",
    "При вызове функции, её пространство имен создается, а при выходе из неё пространство имен уничтожается.\n",
    "\n",
    "Глобальные имена существуют всегда, а локальные создаются только в момент вызова функции.\n",
    "\n",
    "__ОДНАКО__\n",
    "\n",
    "Есть ещё non-local - пространства. По сути, берем имя не из локального пространства, а из какого-то предыдущего пространства (но не глобального).\n",
    "___\n",
    "\n",
    "- 1. Функция — это объект\n",
    "- 2. Её можно изготовить внутри другой функции и вернуть\n",
    "- 3. …причём в зависимости от параметров этой другой функции!\n",
    "- 4. …в процессе чего некоторые объекты из ПИ создающей функции «залипают» в ПИ создаваемой\n",
    "- - только они там навсегда должны залипнуть, а не только на время вызова\n",
    "- - ⇒ .__closure__\n",
    "\n",
    "- 5. Это и есть замыкание!\n"
   ]
  },
  {
   "cell_type": "code",
   "execution_count": 100,
   "id": "dc43af1f",
   "metadata": {},
   "outputs": [
    {
     "name": "stdout",
     "output_type": "stream",
     "text": [
      "hex(id(x)) - пришедшего объекта: 0x7fa91dc42190\n",
      "100500\n"
     ]
    }
   ],
   "source": [
    "def f1(x):\n",
    "    print(f'hex(id(x)) - пришедшего объекта: {hex(id(x))}')\n",
    "    def f2():\n",
    "        return x\n",
    "    return f2\n",
    "\n",
    "f = f1(100500)\n",
    "print(f())"
   ]
  },
  {
   "cell_type": "code",
   "execution_count": 101,
   "id": "f5b87aa9",
   "metadata": {},
   "outputs": [
    {
     "name": "stdout",
     "output_type": "stream",
     "text": [
      "hex(id(x)) - пришедшего объекта: 0x7fa93c5e4d30\n",
      "['__annotations__', '__call__', '__class__', '__closure__', '__code__', '__defaults__', '__delattr__', '__dict__', '__dir__', '__doc__', '__eq__', '__format__', '__ge__', '__get__', '__getattribute__', '__globals__', '__gt__', '__hash__', '__init__', '__init_subclass__', '__kwdefaults__', '__le__', '__lt__', '__module__', '__name__', '__ne__', '__new__', '__qualname__', '__reduce__', '__reduce_ex__', '__repr__', '__setattr__', '__sizeof__', '__str__', '__subclasshook__']\n"
     ]
    }
   ],
   "source": [
    "ff = f1(33)\n",
    "print(dir(ff))\n",
    "# можно заметить, что у этой функции есть поле __closure__"
   ]
  },
  {
   "cell_type": "code",
   "execution_count": 102,
   "id": "5274bb47",
   "metadata": {},
   "outputs": [
    {
     "data": {
      "text/plain": [
       "(<cell at 0x7fa934504a90: int object at 0x7fa93c5e4d30>,)"
      ]
     },
     "execution_count": 102,
     "metadata": {},
     "output_type": "execute_result"
    }
   ],
   "source": [
    "ff.__closure__"
   ]
  },
  {
   "cell_type": "markdown",
   "id": "cce3132e",
   "metadata": {},
   "source": [
    "Как видно по айдишникам, этот объект и есть аргумент 33"
   ]
  },
  {
   "cell_type": "code",
   "execution_count": 103,
   "id": "d1969e9e",
   "metadata": {},
   "outputs": [],
   "source": [
    "# Просто ещё одно замыкание\n",
    "def f1(x):\n",
    "    def f2():\n",
    "        def f3():\n",
    "            return x\n",
    "        return f3\n",
    "    return f2"
   ]
  },
  {
   "cell_type": "markdown",
   "id": "bc3f6546",
   "metadata": {},
   "source": [
    "Проводится синтаксический анализ функции ВСЕГО определения функции и определяется, что имя x берется из non-local пространства"
   ]
  },
  {
   "cell_type": "markdown",
   "id": "4117acda",
   "metadata": {},
   "source": [
    "### Позднее связывание\n",
    "\n",
    "Сразу пример:"
   ]
  },
  {
   "cell_type": "code",
   "execution_count": 106,
   "id": "693af268",
   "metadata": {},
   "outputs": [],
   "source": [
    "# Напишем функцию, которая создает несколько функций, которые\n",
    "# добавляют к заданному х номер самой данной функции\n",
    "# Этот пример работает неверно: он добавляет одно и то же\n",
    "# число 9 к х, т.к. все функции ссылаются на один и тот же\n",
    "# объект i, который как в конце цикла стал 9, так и остается\n",
    "def create_adders():\n",
    "    adders = []\n",
    "    for i in range(10):\n",
    "        def adder(x):\n",
    "            return i + x\n",
    "        adders.append(adder)\n",
    "    return adders\n",
    "\n",
    "# for adder in create_adders():\n",
    "#     print(adder(1))\n",
    "\n",
    "addrs = create_adders()"
   ]
  },
  {
   "cell_type": "code",
   "execution_count": 111,
   "id": "1c366137",
   "metadata": {},
   "outputs": [
    {
     "name": "stdout",
     "output_type": "stream",
     "text": [
      "<function create_adders.<locals>.adder at 0x7fa91cde1e50>\n",
      "<function create_adders.<locals>.adder at 0x7fa91cde1430>\n",
      "<function create_adders.<locals>.adder at 0x7fa91cde1d30>\n",
      "<function create_adders.<locals>.adder at 0x7fa91cde1dc0>\n",
      "<function create_adders.<locals>.adder at 0x7fa91d43f4c0>\n",
      "<function create_adders.<locals>.adder at 0x7fa91d43f550>\n",
      "<function create_adders.<locals>.adder at 0x7fa91d43f5e0>\n",
      "<function create_adders.<locals>.adder at 0x7fa91d43f670>\n",
      "<function create_adders.<locals>.adder at 0x7fa91d43f700>\n",
      "<function create_adders.<locals>.adder at 0x7fa91d43f790>\n"
     ]
    }
   ],
   "source": [
    "# Функции мы создали РАЗНЫЕ\n",
    "for i in addrs:\n",
    "    print(i)"
   ]
  },
  {
   "cell_type": "code",
   "execution_count": 114,
   "id": "4c3400be",
   "metadata": {},
   "outputs": [
    {
     "name": "stdout",
     "output_type": "stream",
     "text": [
      "9\n",
      "9\n",
      "9\n",
      "9\n",
      "9\n",
      "9\n",
      "9\n",
      "9\n",
      "9\n",
      "9\n"
     ]
    }
   ],
   "source": [
    "for i in addrs:\n",
    "    print(i(0))"
   ]
  },
  {
   "cell_type": "code",
   "execution_count": 112,
   "id": "53b075f7",
   "metadata": {},
   "outputs": [
    {
     "data": {
      "text/plain": [
       "11"
      ]
     },
     "execution_count": 112,
     "metadata": {},
     "output_type": "execute_result"
    }
   ],
   "source": [
    "r = addrs[9]\n",
    "r(2)"
   ]
  },
  {
   "cell_type": "code",
   "execution_count": 113,
   "id": "013063a4",
   "metadata": {},
   "outputs": [
    {
     "data": {
      "text/plain": [
       "11"
      ]
     },
     "execution_count": 113,
     "metadata": {},
     "output_type": "execute_result"
    }
   ],
   "source": [
    "r = addrs[2]\n",
    "r(2)"
   ]
  },
  {
   "cell_type": "markdown",
   "id": "11e375ee",
   "metadata": {},
   "source": [
    "Но функции делают одно и то же.\n",
    "\n",
    "Дело в том, что имя i определено не в namespace adder, а в create_adders. Таким образом замыкание у всех функций одно и то же:"
   ]
  },
  {
   "cell_type": "code",
   "execution_count": 115,
   "id": "0a001d7b",
   "metadata": {},
   "outputs": [
    {
     "name": "stdout",
     "output_type": "stream",
     "text": [
      "(<cell at 0x7fa91d88e0d0: int object at 0x7fa93c5e4a30>,)\n",
      "(<cell at 0x7fa91d88e0d0: int object at 0x7fa93c5e4a30>,)\n",
      "(<cell at 0x7fa91d88e0d0: int object at 0x7fa93c5e4a30>,)\n",
      "(<cell at 0x7fa91d88e0d0: int object at 0x7fa93c5e4a30>,)\n",
      "(<cell at 0x7fa91d88e0d0: int object at 0x7fa93c5e4a30>,)\n",
      "(<cell at 0x7fa91d88e0d0: int object at 0x7fa93c5e4a30>,)\n",
      "(<cell at 0x7fa91d88e0d0: int object at 0x7fa93c5e4a30>,)\n",
      "(<cell at 0x7fa91d88e0d0: int object at 0x7fa93c5e4a30>,)\n",
      "(<cell at 0x7fa91d88e0d0: int object at 0x7fa93c5e4a30>,)\n",
      "(<cell at 0x7fa91d88e0d0: int object at 0x7fa93c5e4a30>,)\n"
     ]
    }
   ],
   "source": [
    "for i in addrs:\n",
    "    print(i.__closure__)"
   ]
  },
  {
   "cell_type": "markdown",
   "id": "59218fbc",
   "metadata": {},
   "source": [
    "Такая штука называется __позднее связывание__"
   ]
  },
  {
   "cell_type": "markdown",
   "id": "61a7b5ca",
   "metadata": {},
   "source": [
    "Избегается эта проблема так:\n",
    "\n",
    "Раз нам это замыкание вообще не нужно было, то его можно избежать, создав локальное имя j для функции adder:"
   ]
  },
  {
   "cell_type": "code",
   "execution_count": 122,
   "id": "edab30c2",
   "metadata": {},
   "outputs": [
    {
     "name": "stdout",
     "output_type": "stream",
     "text": [
      "0 1 2 3 4 5 6 7 8 9 \n",
      "None\n",
      "None\n",
      "None\n",
      "None\n",
      "None\n",
      "None\n",
      "None\n",
      "None\n",
      "None\n",
      "None\n"
     ]
    }
   ],
   "source": [
    "def create_adders():\n",
    "    adders = []\n",
    "    for i in range(10):\n",
    "        def adder(x, j=i):\n",
    "            return j + x\n",
    "        adders.append(adder)\n",
    "    return adders\n",
    "\n",
    "addrs = create_adders()\n",
    "\n",
    "for i in addrs:\n",
    "    print(i(0), end=' ')\n",
    "print()\n",
    "    \n",
    "# причем замыкания у этих функций в таком случае не будет\n",
    "for i in addrs:\n",
    "    print(i.__closure__)"
   ]
  },
  {
   "cell_type": "markdown",
   "id": "4c72cff7",
   "metadata": {},
   "source": [
    "Можно находить максимум __max__ по ключу:"
   ]
  },
  {
   "cell_type": "code",
   "execution_count": 125,
   "id": "5f833b88",
   "metadata": {},
   "outputs": [
    {
     "data": {
      "text/plain": [
       "9"
      ]
     },
     "execution_count": 125,
     "metadata": {},
     "output_type": "execute_result"
    }
   ],
   "source": [
    "def fun(a):\n",
    "    return a % 10\n",
    "    \n",
    "max([1,66,91,923232, 9, 4, 55], key=fun)\n",
    "# Таким образом, max возвращает не наибольший элемент массива\n",
    "# а наибольший элемент после применения функции fun"
   ]
  },
  {
   "cell_type": "markdown",
   "id": "63990436",
   "metadata": {},
   "source": [
    "Также можно сделать и с sorted\n",
    "\n",
    "Например, сортировать не лексико-графически, а по длине строки"
   ]
  },
  {
   "cell_type": "code",
   "execution_count": 129,
   "id": "eebe316c",
   "metadata": {},
   "outputs": [
    {
     "data": {
      "text/plain": [
       "['zzzzzzzzzzz', 'aaaaaaaaaa', 'dgssd', 'qqqqq', 'dsad']"
      ]
     },
     "execution_count": 129,
     "metadata": {},
     "output_type": "execute_result"
    }
   ],
   "source": [
    "sorted(['dsad', 'dgssd', 'aaaaaaaaaa', 'qqqqq', 'zzzzzzzzzzz'], \n",
    "       key=len, reverse=True)"
   ]
  },
  {
   "cell_type": "markdown",
   "id": "33b82b33",
   "metadata": {},
   "source": [
    "### Модуль fractions\n",
    "\n",
    "Рациональные числа"
   ]
  },
  {
   "cell_type": "code",
   "execution_count": 131,
   "id": "0c9354b5",
   "metadata": {},
   "outputs": [],
   "source": [
    "from fractions import Fraction"
   ]
  },
  {
   "cell_type": "code",
   "execution_count": 132,
   "id": "89fc3637",
   "metadata": {},
   "outputs": [
    {
     "data": {
      "text/plain": [
       "Fraction(123, 7)"
      ]
     },
     "execution_count": 132,
     "metadata": {},
     "output_type": "execute_result"
    }
   ],
   "source": [
    "Fraction(123, 7)"
   ]
  },
  {
   "cell_type": "code",
   "execution_count": 137,
   "id": "12001416",
   "metadata": {},
   "outputs": [
    {
     "data": {
      "text/plain": [
       "Fraction(217, 9)"
      ]
     },
     "execution_count": 137,
     "metadata": {},
     "output_type": "execute_result"
    }
   ],
   "source": [
    "Fraction(434, 18)"
   ]
  },
  {
   "cell_type": "code",
   "execution_count": 139,
   "id": "b5d82537",
   "metadata": {},
   "outputs": [
    {
     "data": {
      "text/plain": [
       "0.3"
      ]
     },
     "execution_count": 139,
     "metadata": {},
     "output_type": "execute_result"
    }
   ],
   "source": [
    "float(Fraction('0.1') + Fraction('0.2'))"
   ]
  },
  {
   "cell_type": "code",
   "execution_count": 140,
   "id": "3d9024ca",
   "metadata": {},
   "outputs": [
    {
     "data": {
      "text/plain": [
       "0.30000000000000004"
      ]
     },
     "execution_count": 140,
     "metadata": {},
     "output_type": "execute_result"
    }
   ],
   "source": [
    "0.1 + 0.2"
   ]
  },
  {
   "cell_type": "markdown",
   "id": "b012622b",
   "metadata": {},
   "source": [
    "### Модуль decimal\n",
    "\n",
    "Обеспечивает поддержку правильного округления десятичной арифметики с плавающей точкой"
   ]
  },
  {
   "cell_type": "code",
   "execution_count": 141,
   "id": "6217ceea",
   "metadata": {},
   "outputs": [
    {
     "data": {
      "text/plain": [
       "0.7999999999999999"
      ]
     },
     "execution_count": 141,
     "metadata": {},
     "output_type": "execute_result"
    }
   ],
   "source": [
    "0.1 + 0.7"
   ]
  },
  {
   "cell_type": "code",
   "execution_count": 142,
   "id": "1a5296fb",
   "metadata": {},
   "outputs": [],
   "source": [
    "from decimal import Decimal"
   ]
  },
  {
   "cell_type": "code",
   "execution_count": 143,
   "id": "211dd85b",
   "metadata": {},
   "outputs": [],
   "source": [
    "number1 = Decimal('0.1')\n",
    "number2 = Decimal('0.7')"
   ]
  },
  {
   "cell_type": "code",
   "execution_count": null,
   "id": "7ecade65",
   "metadata": {},
   "outputs": [],
   "source": [
    "print(number1 + number2)"
   ]
  },
  {
   "cell_type": "code",
   "execution_count": null,
   "id": "4a34c0a6",
   "metadata": {},
   "outputs": [],
   "source": []
  },
  {
   "cell_type": "markdown",
   "id": "3f39da9d",
   "metadata": {},
   "source": [
    "___\n",
    "\n",
    "# Числа и строки\n",
    "\n",
    "___"
   ]
  },
  {
   "cell_type": "markdown",
   "id": "d1e2e271",
   "metadata": {},
   "source": [
    "### Модуль random"
   ]
  },
  {
   "cell_type": "code",
   "execution_count": 2,
   "id": "5bf06bf7",
   "metadata": {},
   "outputs": [],
   "source": [
    "import random"
   ]
  },
  {
   "cell_type": "code",
   "execution_count": 3,
   "id": "a334a7b3",
   "metadata": {},
   "outputs": [
    {
     "data": {
      "text/plain": [
       "0.12707553816124895"
      ]
     },
     "execution_count": 3,
     "metadata": {},
     "output_type": "execute_result"
    }
   ],
   "source": [
    "random.random()"
   ]
  },
  {
   "cell_type": "code",
   "execution_count": 4,
   "id": "dd18042d",
   "metadata": {},
   "outputs": [
    {
     "data": {
      "text/plain": [
       "0.14698074290414898"
      ]
     },
     "execution_count": 4,
     "metadata": {},
     "output_type": "execute_result"
    }
   ],
   "source": [
    "random.random()"
   ]
  },
  {
   "cell_type": "code",
   "execution_count": 5,
   "id": "f73d72ec",
   "metadata": {},
   "outputs": [
    {
     "data": {
      "text/plain": [
       "[8, 11, 7, 5, 3, 7, 12, 8, 5, 8, 10, 6, 8, 1, 1]"
      ]
     },
     "execution_count": 5,
     "metadata": {},
     "output_type": "execute_result"
    }
   ],
   "source": [
    "[random.randrange(15) for i in range(15)]"
   ]
  },
  {
   "cell_type": "code",
   "execution_count": 6,
   "id": "510de8c8",
   "metadata": {},
   "outputs": [
    {
     "data": {
      "text/plain": [
       "[7, 10, 9, 7, 6, 10, 10, 6, 10, 10, 8, 10, 6, 7, 10]"
      ]
     },
     "execution_count": 6,
     "metadata": {},
     "output_type": "execute_result"
    }
   ],
   "source": [
    "[random.randint(5, 10) for i in range(15)]"
   ]
  },
  {
   "cell_type": "code",
   "execution_count": 7,
   "id": "3fbfa175",
   "metadata": {},
   "outputs": [
    {
     "data": {
      "text/plain": [
       "'a'"
      ]
     },
     "execution_count": 7,
     "metadata": {},
     "output_type": "execute_result"
    }
   ],
   "source": [
    "random.choice('fdsagagdsafdsfa')"
   ]
  },
  {
   "cell_type": "markdown",
   "id": "9fd88e88",
   "metadata": {},
   "source": [
    "Можно перемешивать множество"
   ]
  },
  {
   "cell_type": "code",
   "execution_count": 8,
   "id": "cb3c6a16",
   "metadata": {},
   "outputs": [
    {
     "name": "stdout",
     "output_type": "stream",
     "text": [
      "[0, 1, 2, 3, 4, 5, 6, 7, 8, 9, 10, 11, 12, 13, 14, 15, 16, 17, 18, 19, 20, 21, 22, 23, 24, 25, 26, 27, 28, 29, 30, 31, 32, 33, 34, 35, 36, 37, 38, 39, 40, 41, 42, 43, 44, 45, 46, 47, 48, 49, 50, 51, 52, 53, 54, 55, 56, 57, 58, 59, 60, 61, 62, 63, 64, 65, 66, 67, 68, 69, 70, 71, 72, 73, 74, 75, 76, 77, 78, 79, 80, 81, 82, 83, 84, 85, 86, 87, 88, 89, 90, 91, 92, 93, 94, 95, 96, 97, 98, 99]\n"
     ]
    }
   ],
   "source": [
    "l = list(range(100))\n",
    "print(l)"
   ]
  },
  {
   "cell_type": "code",
   "execution_count": 9,
   "id": "6ad209e5",
   "metadata": {},
   "outputs": [
    {
     "name": "stdout",
     "output_type": "stream",
     "text": [
      "[23, 44, 9, 11, 21, 79, 32, 59, 70, 72, 95, 60, 97, 48, 98, 64, 84, 7, 16, 31, 71, 54, 78, 55, 13, 66, 18, 29, 88, 10, 50, 43, 69, 93, 51, 68, 52, 42, 37, 8, 15, 94, 99, 27, 22, 28, 86, 14, 75, 25, 85, 12, 63, 24, 73, 49, 26, 65, 45, 20, 80, 56, 5, 38, 53, 4, 92, 47, 58, 6, 35, 40, 3, 90, 81, 33, 2, 62, 34, 0, 91, 30, 1, 57, 19, 76, 87, 82, 46, 74, 41, 67, 96, 17, 39, 36, 77, 61, 83, 89]\n"
     ]
    }
   ],
   "source": [
    "random.shuffle(l)\n",
    "print(l)"
   ]
  },
  {
   "cell_type": "markdown",
   "id": "8af7f039",
   "metadata": {},
   "source": [
    "Можно настроить всякие комбинаторики:"
   ]
  },
  {
   "cell_type": "markdown",
   "id": "d7c378b8",
   "metadata": {},
   "source": [
    "Например, можно задать количество элементов, и сколько из них выбирать"
   ]
  },
  {
   "cell_type": "code",
   "execution_count": 15,
   "id": "5b2eef2e",
   "metadata": {},
   "outputs": [
    {
     "data": {
      "text/plain": [
       "['red', 'red', 'blue', 'blue', 'blue']"
      ]
     },
     "execution_count": 15,
     "metadata": {},
     "output_type": "execute_result"
    }
   ],
   "source": [
    "random.sample(['red', 'blue'], counts=[5, 4], k=5)"
   ]
  },
  {
   "cell_type": "markdown",
   "id": "5fd9e13b",
   "metadata": {},
   "source": [
    "Можно задать выбор из range:\n",
    "\n",
    "Это хорошо, так как эта последовательность не хранится, но при этом индексируется"
   ]
  },
  {
   "cell_type": "code",
   "execution_count": 17,
   "id": "9449bc17",
   "metadata": {},
   "outputs": [
    {
     "name": "stdout",
     "output_type": "stream",
     "text": [
      "[925418, 805620, 947255, 413367, 968308, 925564, 808238, 894935, 365023, 322667]\n"
     ]
    }
   ],
   "source": [
    "print(random.sample(range(1000000), 10))"
   ]
  },
  {
   "cell_type": "code",
   "execution_count": 18,
   "id": "eac92740",
   "metadata": {},
   "outputs": [
    {
     "data": {
      "text/plain": [
       "99"
      ]
     },
     "execution_count": 18,
     "metadata": {},
     "output_type": "execute_result"
    }
   ],
   "source": [
    "range(1000000)[99]"
   ]
  },
  {
   "cell_type": "markdown",
   "id": "8a291395",
   "metadata": {},
   "source": [
    "Можно настраивать выборку ещё так:"
   ]
  },
  {
   "cell_type": "code",
   "execution_count": 23,
   "id": "989336b1",
   "metadata": {},
   "outputs": [
    {
     "data": {
      "text/plain": [
       "['e', 'q', 'e', 'q', 'e', 'e', 'w', 'e', 'e', 'e']"
      ]
     },
     "execution_count": 23,
     "metadata": {},
     "output_type": "execute_result"
    }
   ],
   "source": [
    "random.choices('qwe', [10, 10, 30], k=10)"
   ]
  },
  {
   "cell_type": "code",
   "execution_count": 24,
   "id": "1beef7df",
   "metadata": {},
   "outputs": [],
   "source": [
    "from collections import Counter"
   ]
  },
  {
   "cell_type": "code",
   "execution_count": 25,
   "id": "b386d101",
   "metadata": {},
   "outputs": [
    {
     "data": {
      "text/plain": [
       "Counter({'w': 34, 'e': 46, 'q': 20})"
      ]
     },
     "execution_count": 25,
     "metadata": {},
     "output_type": "execute_result"
    }
   ],
   "source": [
    "Counter(random.choices('qwe', (1, 2, 3), k=100))"
   ]
  },
  {
   "cell_type": "code",
   "execution_count": 26,
   "id": "b0ed2d2e",
   "metadata": {},
   "outputs": [
    {
     "data": {
      "text/plain": [
       "Counter({'e': 48, 'w': 36, 'q': 16})"
      ]
     },
     "execution_count": 26,
     "metadata": {},
     "output_type": "execute_result"
    }
   ],
   "source": [
    "Counter(random.choices('qwe', (1, 2, 3), k=100))"
   ]
  },
  {
   "cell_type": "markdown",
   "id": "78e6033d",
   "metadata": {},
   "source": [
    "Можно задать кумулятивные веса, то есть, эти точки как-бы на линейке, а весом является расстояние между точками"
   ]
  },
  {
   "cell_type": "code",
   "execution_count": 30,
   "id": "03a6d3d0",
   "metadata": {},
   "outputs": [
    {
     "data": {
      "text/plain": [
       "Counter({'w': 67, 'q': 17, 'e': 16})"
      ]
     },
     "execution_count": 30,
     "metadata": {},
     "output_type": "execute_result"
    }
   ],
   "source": [
    "Counter(random.choices('qwe', cum_weights=(1, 5, 6), k=100))"
   ]
  },
  {
   "cell_type": "markdown",
   "id": "417ec335",
   "metadata": {},
   "source": [
    "__ВАЖНОЕ СВОЙСТВО СЛУЧАЙНОСТИ В БИБЛИОТЕКЕ RANDOM__\n",
    "\n",
    "- датчику случайных чисел можно задавать seed, который определяет, как будут генерироваться дальнейшие числа\n",
    "- При задании одного и того же seed последовательности случайных чисел будут повторяться\n",
    "\n",
    "Такую штуку можно удобно использовать в тестах: если тест упал, то можно запоминать тот seed, который был на тесте и повторить тесты снова, что дает повторяемость и можно выявить ошибку"
   ]
  },
  {
   "cell_type": "code",
   "execution_count": 44,
   "id": "33106f02",
   "metadata": {},
   "outputs": [],
   "source": [
    "random.seed(123)"
   ]
  },
  {
   "cell_type": "code",
   "execution_count": 45,
   "id": "25946969",
   "metadata": {},
   "outputs": [
    {
     "data": {
      "text/plain": [
       "[1, 8, 2, 13, 8, 3, 1, 12, 10, 10, 1, 5, 4, 10, 10, 7]"
      ]
     },
     "execution_count": 45,
     "metadata": {},
     "output_type": "execute_result"
    }
   ],
   "source": [
    "[random.randrange(16) for i in range(16)]"
   ]
  },
  {
   "cell_type": "code",
   "execution_count": 46,
   "id": "07d443bd",
   "metadata": {},
   "outputs": [],
   "source": [
    "random.seed(123)"
   ]
  },
  {
   "cell_type": "code",
   "execution_count": 47,
   "id": "df227d1a",
   "metadata": {},
   "outputs": [
    {
     "data": {
      "text/plain": [
       "[1, 8, 2, 13, 8, 3, 1, 12, 10, 10, 1, 5, 4, 10, 10, 7]"
      ]
     },
     "execution_count": 47,
     "metadata": {},
     "output_type": "execute_result"
    }
   ],
   "source": [
    "[random.randrange(16) for i in range(16)]"
   ]
  },
  {
   "cell_type": "markdown",
   "id": "d67213b7",
   "metadata": {},
   "source": [
    "### Про строки\n",
    "\n",
    "Операция квадратные скобочки [ ] является методом __getitem__"
   ]
  },
  {
   "cell_type": "code",
   "execution_count": 54,
   "id": "895beb8e",
   "metadata": {},
   "outputs": [],
   "source": [
    "s = 'qwertyuiopyuyuyuyuyuyyyuyuyuyuy'"
   ]
  },
  {
   "cell_type": "code",
   "execution_count": 55,
   "id": "4a62ef82",
   "metadata": {},
   "outputs": [
    {
     "data": {
      "text/plain": [
       "'r'"
      ]
     },
     "execution_count": 55,
     "metadata": {},
     "output_type": "execute_result"
    }
   ],
   "source": [
    "s[3]"
   ]
  },
  {
   "cell_type": "code",
   "execution_count": 56,
   "id": "ffd73c3a",
   "metadata": {},
   "outputs": [
    {
     "data": {
      "text/plain": [
       "'r'"
      ]
     },
     "execution_count": 56,
     "metadata": {},
     "output_type": "execute_result"
    }
   ],
   "source": [
    "s.__getitem__(3)"
   ]
  },
  {
   "cell_type": "markdown",
   "id": "3ad429c6",
   "metadata": {},
   "source": [
    "В строке можно искать:"
   ]
  },
  {
   "cell_type": "code",
   "execution_count": 57,
   "id": "28fa789e",
   "metadata": {},
   "outputs": [
    {
     "data": {
      "text/plain": [
       "5"
      ]
     },
     "execution_count": 57,
     "metadata": {},
     "output_type": "execute_result"
    }
   ],
   "source": [
    "s.find('yu')"
   ]
  },
  {
   "cell_type": "code",
   "execution_count": 58,
   "id": "ecb750a6",
   "metadata": {},
   "outputs": [
    {
     "data": {
      "text/plain": [
       "-1"
      ]
     },
     "execution_count": 58,
     "metadata": {},
     "output_type": "execute_result"
    }
   ],
   "source": [
    "s.find('uuuu')"
   ]
  },
  {
   "cell_type": "code",
   "execution_count": 59,
   "id": "73ea32c2",
   "metadata": {},
   "outputs": [
    {
     "data": {
      "text/plain": [
       "5"
      ]
     },
     "execution_count": 59,
     "metadata": {},
     "output_type": "execute_result"
    }
   ],
   "source": [
    "s.index('yu')"
   ]
  },
  {
   "cell_type": "code",
   "execution_count": 60,
   "id": "a652e0fa",
   "metadata": {},
   "outputs": [
    {
     "ename": "ValueError",
     "evalue": "substring not found",
     "output_type": "error",
     "traceback": [
      "\u001b[0;31m---------------------------------------------------------------------------\u001b[0m",
      "\u001b[0;31mValueError\u001b[0m                                Traceback (most recent call last)",
      "Input \u001b[0;32mIn [60]\u001b[0m, in \u001b[0;36m<module>\u001b[0;34m\u001b[0m\n\u001b[0;32m----> 1\u001b[0m \u001b[43ms\u001b[49m\u001b[38;5;241;43m.\u001b[39;49m\u001b[43mindex\u001b[49m\u001b[43m(\u001b[49m\u001b[38;5;124;43m'\u001b[39;49m\u001b[38;5;124;43muuuuuu\u001b[39;49m\u001b[38;5;124;43m'\u001b[39;49m\u001b[43m)\u001b[49m\n",
      "\u001b[0;31mValueError\u001b[0m: substring not found"
     ]
    }
   ],
   "source": [
    "s.index('uuuuuu')"
   ]
  },
  {
   "cell_type": "code",
   "execution_count": 62,
   "id": "97c49fff",
   "metadata": {},
   "outputs": [
    {
     "data": {
      "text/plain": [
       "13"
      ]
     },
     "execution_count": 62,
     "metadata": {},
     "output_type": "execute_result"
    }
   ],
   "source": [
    "s.count('y')"
   ]
  },
  {
   "cell_type": "code",
   "execution_count": 63,
   "id": "a692dbbc",
   "metadata": {},
   "outputs": [],
   "source": [
    "A = '         fdsfdf fds af    fdsfas  fdsaf        '"
   ]
  },
  {
   "cell_type": "code",
   "execution_count": 64,
   "id": "aee602b3",
   "metadata": {},
   "outputs": [
    {
     "data": {
      "text/plain": [
       "['fdsfdf', 'fds', 'af', 'fdsfas', 'fdsaf']"
      ]
     },
     "execution_count": 64,
     "metadata": {},
     "output_type": "execute_result"
    }
   ],
   "source": [
    "A.split()"
   ]
  },
  {
   "cell_type": "code",
   "execution_count": 65,
   "id": "4bc2cd21",
   "metadata": {},
   "outputs": [
    {
     "data": {
      "text/plain": [
       "['fdsfa', 'fd', 'safd', 'fd', 'fsfaffds']"
      ]
     },
     "execution_count": 65,
     "metadata": {},
     "output_type": "execute_result"
    }
   ],
   "source": [
    "'fdsfa.fd.safd.fd.fsfaffds'.split('.')"
   ]
  },
  {
   "cell_type": "code",
   "execution_count": 66,
   "id": "7c4c3f3f",
   "metadata": {},
   "outputs": [
    {
     "data": {
      "text/plain": [
       "'fdsfa---fd---safd---fd---fsfaffds'"
      ]
     },
     "execution_count": 66,
     "metadata": {},
     "output_type": "execute_result"
    }
   ],
   "source": [
    "'---'.join('fdsfa.fd.safd.fd.fsfaffds'.split('.'))"
   ]
  },
  {
   "cell_type": "markdown",
   "id": "240c72a3",
   "metadata": {},
   "source": [
    "____\n",
    "\n",
    "# Множества и словари. Sets and Dictionaries\n",
    "\n",
    "___"
   ]
  },
  {
   "cell_type": "markdown",
   "id": "58dfb093",
   "metadata": {},
   "source": [
    "hash-функция позволяет преобразовывать пространство объектов. Из актуально бесконечного простанстваобъектов в актуально конечное\n",
    "\n",
    "__Свойства hash-функции__\n",
    "\n",
    "- __ОБЯЗАТЕЛЬНО__ Она однозначная (не взаимно однозначная). То есть, по какому-то объекту можно однозначно получить значение функции, но не в обратную сторону. Причем у разных объектом может оказаться одинаковый hash\n",
    "\n",
    "- ОПЦИОНАЛЬНО хэши у одинаковых строк могут быть почти одинаковыми или наоборот очень разными"
   ]
  },
  {
   "cell_type": "code",
   "execution_count": 1,
   "id": "edc40629",
   "metadata": {},
   "outputs": [],
   "source": [
    "s1, s2 = 'qwerFDSQRSdqewqewqeasdsa', 'fdsa64ere#dsf'\n"
   ]
  },
  {
   "cell_type": "code",
   "execution_count": 2,
   "id": "b9e7c481",
   "metadata": {},
   "outputs": [
    {
     "data": {
      "text/plain": [
       "(140678421493600, 140678370783600)"
      ]
     },
     "execution_count": 2,
     "metadata": {},
     "output_type": "execute_result"
    }
   ],
   "source": [
    "id(s1), id(s2)"
   ]
  },
  {
   "cell_type": "code",
   "execution_count": 3,
   "id": "fee24cb4",
   "metadata": {},
   "outputs": [
    {
     "name": "stdout",
     "output_type": "stream",
     "text": [
      "False\n",
      "True\n"
     ]
    }
   ],
   "source": [
    "s1 = (1,2,3,4,5,6)\n",
    "s2 = (1,2,3,4,5,6)\n",
    "print(s1 is s2)\n",
    "print(s1 == s2)"
   ]
  },
  {
   "cell_type": "code",
   "execution_count": 4,
   "id": "ed8f2ebc",
   "metadata": {},
   "outputs": [
    {
     "data": {
      "text/plain": [
       "5881802312257552497"
      ]
     },
     "execution_count": 4,
     "metadata": {},
     "output_type": "execute_result"
    }
   ],
   "source": [
    "hash(s1)"
   ]
  },
  {
   "cell_type": "code",
   "execution_count": 5,
   "id": "2a7350ef",
   "metadata": {},
   "outputs": [
    {
     "data": {
      "text/plain": [
       "5881802312257552497"
      ]
     },
     "execution_count": 5,
     "metadata": {},
     "output_type": "execute_result"
    }
   ],
   "source": [
    "hash(s2)"
   ]
  },
  {
   "cell_type": "markdown",
   "id": "e194a293",
   "metadata": {},
   "source": [
    "Таким образов, объекты разные, значения которых равны друг другу, А ВОТ hash у них одинаковый"
   ]
  },
  {
   "cell_type": "markdown",
   "id": "e220ed89",
   "metadata": {},
   "source": [
    "### Hash - функция применяется только к константным объектам\n",
    "\n",
    "То есть, можно брать хэш от туплей, строк, чисел и т.д.\n",
    "\n",
    "От модифицируемых объектов брать хэш нельзя (т.к. при изменении объекта необходимо пересчитывает его хэш)"
   ]
  },
  {
   "cell_type": "code",
   "execution_count": 7,
   "id": "7bfca7a7",
   "metadata": {},
   "outputs": [
    {
     "data": {
      "text/plain": [
       "590899387183067792"
      ]
     },
     "execution_count": 7,
     "metadata": {},
     "output_type": "execute_result"
    }
   ],
   "source": [
    "hash((1,2,3,4))"
   ]
  },
  {
   "cell_type": "code",
   "execution_count": 12,
   "id": "c5e8660d",
   "metadata": {},
   "outputs": [
    {
     "data": {
      "text/plain": [
       "1814424300733161485"
      ]
     },
     "execution_count": 12,
     "metadata": {},
     "output_type": "execute_result"
    }
   ],
   "source": [
    "hash(765487954875432543254444444444444434)"
   ]
  },
  {
   "cell_type": "code",
   "execution_count": 15,
   "id": "41737b9e",
   "metadata": {},
   "outputs": [
    {
     "data": {
      "text/plain": [
       "-6495696821586159748"
      ]
     },
     "execution_count": 15,
     "metadata": {},
     "output_type": "execute_result"
    }
   ],
   "source": [
    "hash('765487954875432543254444444444444434')"
   ]
  },
  {
   "cell_type": "code",
   "execution_count": 16,
   "id": "62cea4d0",
   "metadata": {},
   "outputs": [
    {
     "ename": "TypeError",
     "evalue": "unhashable type: 'dict'",
     "output_type": "error",
     "traceback": [
      "\u001b[0;31m---------------------------------------------------------------------------\u001b[0m",
      "\u001b[0;31mTypeError\u001b[0m                                 Traceback (most recent call last)",
      "Input \u001b[0;32mIn [16]\u001b[0m, in \u001b[0;36m<module>\u001b[0;34m\u001b[0m\n\u001b[0;32m----> 1\u001b[0m \u001b[38;5;28;43mhash\u001b[39;49m\u001b[43m(\u001b[49m\u001b[43m{\u001b[49m\u001b[43m}\u001b[49m\u001b[43m)\u001b[49m\n",
      "\u001b[0;31mTypeError\u001b[0m: unhashable type: 'dict'"
     ]
    }
   ],
   "source": [
    "hash({})"
   ]
  },
  {
   "cell_type": "code",
   "execution_count": 17,
   "id": "e6b6c4b5",
   "metadata": {},
   "outputs": [
    {
     "ename": "TypeError",
     "evalue": "unhashable type: 'list'",
     "output_type": "error",
     "traceback": [
      "\u001b[0;31m---------------------------------------------------------------------------\u001b[0m",
      "\u001b[0;31mTypeError\u001b[0m                                 Traceback (most recent call last)",
      "Input \u001b[0;32mIn [17]\u001b[0m, in \u001b[0;36m<module>\u001b[0;34m\u001b[0m\n\u001b[0;32m----> 1\u001b[0m \u001b[38;5;28;43mhash\u001b[39;49m\u001b[43m(\u001b[49m\u001b[43m[\u001b[49m\u001b[43m]\u001b[49m\u001b[43m)\u001b[49m\n",
      "\u001b[0;31mTypeError\u001b[0m: unhashable type: 'list'"
     ]
    }
   ],
   "source": [
    "hash([])"
   ]
  },
  {
   "cell_type": "code",
   "execution_count": 25,
   "id": "781114fa",
   "metadata": {},
   "outputs": [
    {
     "name": "stdout",
     "output_type": "stream",
     "text": [
      "dir([]) = ['__add__', '__class__', '__class_getitem__', '__contains__', '__delattr__', '__delitem__', '__dir__', '__doc__', '__eq__', '__format__', '__ge__', '__getattribute__', '__getitem__', '__gt__', '__hash__', '__iadd__', '__imul__', '__init__', '__init_subclass__', '__iter__', '__le__', '__len__', '__lt__', '__mul__', '__ne__', '__new__', '__reduce__', '__reduce_ex__', '__repr__', '__reversed__', '__rmul__', '__setattr__', '__setitem__', '__sizeof__', '__str__', '__subclasshook__', 'append', 'clear', 'copy', 'count', 'extend', 'index', 'insert', 'pop', 'remove', 'reverse', 'sort'], \n",
      "\n",
      "True\n"
     ]
    }
   ],
   "source": [
    "print(f'dir([]) = {dir([])}, \\n')\n",
    "print('__hash__' in dir([]))"
   ]
  },
  {
   "cell_type": "markdown",
   "id": "aeecff4d",
   "metadata": {},
   "source": [
    "### Главное свойство hash-а\n",
    "\n",
    "Ради этого он и используется\n",
    "\n",
    "- Можно __сравнивать на неравнство__. У неравных объектов неравны хэши, поэтому можно таким образом устраивать операцию сравнения:\n",
    "\n",
    "Например, для строк можно сравнить их хэши, а потом , если они окажутся равны, то сравнить поэлементно.\n",
    "\n",
    "Шаблон поиска тоже устроен так, что сначала сравниваются хэши, а потом сами элементы.\n",
    "\n",
    "Если операция сравнения тяжелая, то операция поиска будет состоять из многих легких операций сравнения хэшей, и в идеале одной операции сравнения"
   ]
  },
  {
   "cell_type": "markdown",
   "id": "5346fc63",
   "metadata": {},
   "source": [
    "___\n",
    "\n",
    "### Множества\n",
    "\n",
    "___\n",
    "\n",
    "Устроены аналогично хэш-таблицам"
   ]
  },
  {
   "cell_type": "code",
   "execution_count": 27,
   "id": "fe2d50a3",
   "metadata": {},
   "outputs": [
    {
     "data": {
      "text/plain": [
       "{1, 2, 3, 4, 5, 6, 7, 8, 9}"
      ]
     },
     "execution_count": 27,
     "metadata": {},
     "output_type": "execute_result"
    }
   ],
   "source": [
    "s = {1,2,3,4,5,6,7,8,9,1,2,3,4}\n",
    "s"
   ]
  },
  {
   "cell_type": "code",
   "execution_count": 28,
   "id": "b541cd30",
   "metadata": {},
   "outputs": [
    {
     "name": "stdout",
     "output_type": "stream",
     "text": [
      "61\n"
     ]
    }
   ],
   "source": [
    "p = 1\n",
    "while True:\n",
    "    if 2**p == hash(2**p):\n",
    "        p += 1\n",
    "    else:\n",
    "        break\n",
    "print(p)"
   ]
  },
  {
   "cell_type": "code",
   "execution_count": 38,
   "id": "68bb7eef",
   "metadata": {},
   "outputs": [
    {
     "name": "stdout",
     "output_type": "stream",
     "text": [
      "2305843009213693952\n",
      "1\n"
     ]
    }
   ],
   "source": [
    "print(2**61)\n",
    "print(hash(2**122))"
   ]
  },
  {
   "cell_type": "markdown",
   "id": "f88c20dc",
   "metadata": {},
   "source": [
    "### Примечание об использовании множеств и словарей\n",
    "\n",
    "Хранение и проверка наличия элемента в списке и во множестве  - это сильно разные проверки по сложности.\n",
    "\n",
    "Проверка наличия элемента в списке - это всегда линейная сложность (т.к. необходимо сравнивать все элементы с искомым)\n",
    "\n",
    "Проверка наличия элемента во множестве - это почти всегда константная сложность (1. Берем хэш искомого элемента; 2. По этому хэшу идем в множество; 3. Если по хэшу есть элемент, то сравниваются эти элементы; 4. Если по хэшу нет ничего, то и элемента в множестве нет)\n",
    "\n",
    "ТАКИМ ОБРАЗОМ, __МНОЖЕСТВО - это крайне эффективно для операции поиска__\n"
   ]
  },
  {
   "cell_type": "markdown",
   "id": "8a9eaeb8",
   "metadata": {},
   "source": [
    "У множеств есть циклический конструктор (даже с фильтром)"
   ]
  },
  {
   "cell_type": "code",
   "execution_count": 6,
   "id": "ce40aa6f",
   "metadata": {},
   "outputs": [
    {
     "ename": "TypeError",
     "evalue": "unhashable type: 'list'",
     "output_type": "error",
     "traceback": [
      "\u001b[0;31m---------------------------------------------------------------------------\u001b[0m",
      "\u001b[0;31mTypeError\u001b[0m                                 Traceback (most recent call last)",
      "Input \u001b[0;32mIn [6]\u001b[0m, in \u001b[0;36m<module>\u001b[0;34m\u001b[0m\n\u001b[0;32m----> 1\u001b[0m {[\u001b[38;5;241m1\u001b[39m,\u001b[38;5;241m2\u001b[39m], \u001b[38;5;241m5\u001b[39m}\n",
      "\u001b[0;31mTypeError\u001b[0m: unhashable type: 'list'"
     ]
    }
   ],
   "source": [
    "{[1,2], 5}"
   ]
  },
  {
   "cell_type": "code",
   "execution_count": 6,
   "id": "cd4cca69",
   "metadata": {},
   "outputs": [
    {
     "data": {
      "text/plain": [
       "{3, 5, 9, 11, 15, 17}"
      ]
     },
     "execution_count": 6,
     "metadata": {},
     "output_type": "execute_result"
    }
   ],
   "source": [
    "{i * 2 + 1 for i in range(10) if i % 3}"
   ]
  },
  {
   "cell_type": "code",
   "execution_count": 7,
   "id": "626349f7",
   "metadata": {},
   "outputs": [
    {
     "data": {
      "text/plain": [
       "{21, 23, 27, 29}"
      ]
     },
     "execution_count": 7,
     "metadata": {},
     "output_type": "execute_result"
    }
   ],
   "source": [
    "{i * 2 + 1 for i in range(10, 16) if i % 3}"
   ]
  },
  {
   "cell_type": "code",
   "execution_count": 8,
   "id": "f35d9b3e",
   "metadata": {},
   "outputs": [
    {
     "data": {
      "text/plain": [
       "3412391"
      ]
     },
     "execution_count": 8,
     "metadata": {},
     "output_type": "execute_result"
    }
   ],
   "source": [
    "class C: pass\n",
    "hash(C) \n",
    "# Класс - хэшируемый, значит он может быть элементом множества"
   ]
  },
  {
   "cell_type": "code",
   "execution_count": 9,
   "id": "a009b108",
   "metadata": {},
   "outputs": [
    {
     "data": {
      "text/plain": [
       "8780664161220"
      ]
     },
     "execution_count": 9,
     "metadata": {},
     "output_type": "execute_result"
    }
   ],
   "source": [
    "hash(C()) \n",
    "# объект - хэшируемый, значит он может быть элементом множества"
   ]
  },
  {
   "cell_type": "markdown",
   "id": "fadc5562",
   "metadata": {},
   "source": [
    "__Словарь__ - это ассоциативный массив. По сути, это множество, по ключам (хэшируемым) получается доступ к любым объектам "
   ]
  },
  {
   "cell_type": "code",
   "execution_count": 10,
   "id": "f586dd7d",
   "metadata": {},
   "outputs": [],
   "source": [
    "d = {123: 132112321312, 'asdq': [1,312,321,3123,1], (1,2,3): 'werewqrqrw'}"
   ]
  },
  {
   "cell_type": "code",
   "execution_count": 11,
   "id": "a7e48553",
   "metadata": {},
   "outputs": [
    {
     "data": {
      "text/plain": [
       "{123: 132112321312, 'asdq': [1, 312, 321, 3123, 1], (1, 2, 3): 'werewqrqrw'}"
      ]
     },
     "execution_count": 11,
     "metadata": {},
     "output_type": "execute_result"
    }
   ],
   "source": [
    "d"
   ]
  },
  {
   "cell_type": "code",
   "execution_count": 12,
   "id": "10a81d73",
   "metadata": {},
   "outputs": [],
   "source": [
    "d = {123: 1312, 'asdq': [1,31,21,31,1], (1,2,3): 'werewqrqrw', 3: {3,4}}"
   ]
  },
  {
   "cell_type": "code",
   "execution_count": 13,
   "id": "6f2b7941",
   "metadata": {},
   "outputs": [
    {
     "data": {
      "text/plain": [
       "{123: 1312, 'asdq': [1, 31, 21, 31, 1], (1, 2, 3): 'werewqrqrw', 3: {3, 4}}"
      ]
     },
     "execution_count": 13,
     "metadata": {},
     "output_type": "execute_result"
    }
   ],
   "source": [
    "d"
   ]
  },
  {
   "cell_type": "code",
   "execution_count": 14,
   "id": "50561d87",
   "metadata": {},
   "outputs": [
    {
     "data": {
      "text/plain": [
       "[1, 31, 21, 31, 1]"
      ]
     },
     "execution_count": 14,
     "metadata": {},
     "output_type": "execute_result"
    }
   ],
   "source": [
    "d['asdq']"
   ]
  },
  {
   "cell_type": "markdown",
   "id": "6d3d9b29",
   "metadata": {},
   "source": [
    "По сути вызывается такой метод словаря"
   ]
  },
  {
   "cell_type": "code",
   "execution_count": 15,
   "id": "57203fe2",
   "metadata": {},
   "outputs": [
    {
     "data": {
      "text/plain": [
       "[1, 31, 21, 31, 1]"
      ]
     },
     "execution_count": 15,
     "metadata": {},
     "output_type": "execute_result"
    }
   ],
   "source": [
    "d.__getitem__('asdq')"
   ]
  },
  {
   "cell_type": "code",
   "execution_count": 16,
   "id": "d987f3c4",
   "metadata": {},
   "outputs": [
    {
     "name": "stdout",
     "output_type": "stream",
     "text": [
      "<class 'dict'>\n"
     ]
    }
   ],
   "source": [
    "print(type(d))"
   ]
  },
  {
   "cell_type": "code",
   "execution_count": 17,
   "id": "3f6ec3f1",
   "metadata": {},
   "outputs": [],
   "source": [
    "dic = {f'<{i}>': i*2+1 for i in range(16) if i % 3}"
   ]
  },
  {
   "cell_type": "code",
   "execution_count": 18,
   "id": "acb242b5",
   "metadata": {},
   "outputs": [
    {
     "data": {
      "text/plain": [
       "{'<1>': 3,\n",
       " '<2>': 5,\n",
       " '<4>': 9,\n",
       " '<5>': 11,\n",
       " '<7>': 15,\n",
       " '<8>': 17,\n",
       " '<10>': 21,\n",
       " '<11>': 23,\n",
       " '<13>': 27,\n",
       " '<14>': 29}"
      ]
     },
     "execution_count": 18,
     "metadata": {},
     "output_type": "execute_result"
    }
   ],
   "source": [
    "dic"
   ]
  },
  {
   "cell_type": "markdown",
   "id": "2220b493",
   "metadata": {},
   "source": [
    "У словаря можно получить значения его ключей, значений и пар:"
   ]
  },
  {
   "cell_type": "code",
   "execution_count": 19,
   "id": "35757d0f",
   "metadata": {},
   "outputs": [
    {
     "data": {
      "text/plain": [
       "dict_keys(['<1>', '<2>', '<4>', '<5>', '<7>', '<8>', '<10>', '<11>', '<13>', '<14>'])"
      ]
     },
     "execution_count": 19,
     "metadata": {},
     "output_type": "execute_result"
    }
   ],
   "source": [
    "dic.keys()"
   ]
  },
  {
   "cell_type": "code",
   "execution_count": 20,
   "id": "4cc7685b",
   "metadata": {},
   "outputs": [
    {
     "data": {
      "text/plain": [
       "dict_values([3, 5, 9, 11, 15, 17, 21, 23, 27, 29])"
      ]
     },
     "execution_count": 20,
     "metadata": {},
     "output_type": "execute_result"
    }
   ],
   "source": [
    "dic.values()"
   ]
  },
  {
   "cell_type": "code",
   "execution_count": 21,
   "id": "beea1db3",
   "metadata": {},
   "outputs": [
    {
     "data": {
      "text/plain": [
       "dict_items([('<1>', 3), ('<2>', 5), ('<4>', 9), ('<5>', 11), ('<7>', 15), ('<8>', 17), ('<10>', 21), ('<11>', 23), ('<13>', 27), ('<14>', 29)])"
      ]
     },
     "execution_count": 21,
     "metadata": {},
     "output_type": "execute_result"
    }
   ],
   "source": [
    "dic.items()"
   ]
  },
  {
   "cell_type": "code",
   "execution_count": 22,
   "id": "95cdd5c8",
   "metadata": {},
   "outputs": [
    {
     "name": "stdout",
     "output_type": "stream",
     "text": [
      "<1> 3\n",
      "<2> 5\n",
      "<4> 9\n",
      "<5> 11\n",
      "<7> 15\n",
      "<8> 17\n",
      "<10> 21\n",
      "<11> 23\n",
      "<13> 27\n",
      "<14> 29\n"
     ]
    }
   ],
   "source": [
    "for i in dic:\n",
    "    print(i, dic[i])"
   ]
  },
  {
   "cell_type": "code",
   "execution_count": 26,
   "id": "07670580",
   "metadata": {},
   "outputs": [
    {
     "name": "stdout",
     "output_type": "stream",
     "text": [
      "<1>: 3\n",
      "<2>: 5\n",
      "<4>: 9\n",
      "<5>: 11\n",
      "<7>: 15\n",
      "<8>: 17\n",
      "<10>: 21\n",
      "<11>: 23\n",
      "<13>: 27\n",
      "<14>: 29\n"
     ]
    }
   ],
   "source": [
    "for k, v in dic.items():\n",
    "    print(f'{k}: {v}')"
   ]
  },
  {
   "cell_type": "code",
   "execution_count": 27,
   "id": "452a9004",
   "metadata": {},
   "outputs": [],
   "source": [
    "a = dic.setdefault(100500, 'qweqw')"
   ]
  },
  {
   "cell_type": "code",
   "execution_count": 28,
   "id": "16cfa7b7",
   "metadata": {},
   "outputs": [
    {
     "data": {
      "text/plain": [
       "'qweqw'"
      ]
     },
     "execution_count": 28,
     "metadata": {},
     "output_type": "execute_result"
    }
   ],
   "source": [
    "a"
   ]
  },
  {
   "cell_type": "markdown",
   "id": "250ea071",
   "metadata": {},
   "source": [
    "__Словарь__ - это один из главных элементов в питоне, скорость поиска в словаре практически константная. СЛоварь по сути немного более сложный массив"
   ]
  },
  {
   "cell_type": "code",
   "execution_count": 30,
   "id": "170b47f3",
   "metadata": {
    "collapsed": true
   },
   "outputs": [
    {
     "name": "stdout",
     "output_type": "stream",
     "text": [
      "{'__name__': '__main__', '__doc__': 'Automatically created module for IPython interactive environment', '__package__': None, '__loader__': None, '__spec__': None, '__builtin__': <module 'builtins' (built-in)>, '__builtins__': <module 'builtins' (built-in)>, '_ih': ['', \"for k, v in dic.items():\\n    print(f'{k}: {v}')\", \"d.__getitem__('asdq')\", 'print(type(d))', \"dic = {f'<{i}>': i*2+1 for i in range(16) if i % 3}\", 'dic', '{i * 2 + 1 for i in range(10) if i % 3}', '{i * 2 + 1 for i in range(10, 16) if i % 3}', 'class C: pass\\nhash(C) \\n# Класс - хэшируемый, значит он может быть элементом множества', 'hash(C()) \\n# объект - хэшируемый, значит он может быть элементом множества', \"d = {123: 132112321312, 'asdq': [1,312,321,3123,1], (1,2,3): 'werewqrqrw'}\", 'd', \"d = {123: 1312, 'asdq': [1,31,21,31,1], (1,2,3): 'werewqrqrw', 3: {3,4}}\", 'd', \"d['asdq']\", \"d.__getitem__('asdq')\", 'print(type(d))', \"dic = {f'<{i}>': i*2+1 for i in range(16) if i % 3}\", 'dic', 'dic.keys()', 'dic.values()', 'dic.items()', 'for i in dic:\\n    print(i, dic[i])', \"for k, v in dic.items():\\n    print(f'{k}: {v}')\", \"for k, v in dic.items():\\n    print(f'{k}: {v}')\", \"for k, v in dic.items():\\n    print(f'<{k}>: {v}')\", \"for k, v in dic.items():\\n    print(f'{k}: {v}')\", \"a = dic.setdefault(100500, 'qweqw')\", 'a', 'globals()', 'print(globals())'], '_oh': {5: {'<1>': 3, '<2>': 5, '<4>': 9, '<5>': 11, '<7>': 15, '<8>': 17, '<10>': 21, '<11>': 23, '<13>': 27, '<14>': 29}, 6: {3, 5, 9, 11, 15, 17}, 7: {29, 27, 21, 23}, 8: 3412391, 9: 8780664161220, 11: {123: 132112321312, 'asdq': [1, 312, 321, 3123, 1], (1, 2, 3): 'werewqrqrw'}, 13: {123: 1312, 'asdq': [1, 31, 21, 31, 1], (1, 2, 3): 'werewqrqrw', 3: {3, 4}}, 14: [1, 31, 21, 31, 1], 15: [1, 31, 21, 31, 1], 18: {'<1>': 3, '<2>': 5, '<4>': 9, '<5>': 11, '<7>': 15, '<8>': 17, '<10>': 21, '<11>': 23, '<13>': 27, '<14>': 29, 100500: 'qweqw'}, 19: dict_keys(['<1>', '<2>', '<4>', '<5>', '<7>', '<8>', '<10>', '<11>', '<13>', '<14>', 100500]), 20: dict_values([3, 5, 9, 11, 15, 17, 21, 23, 27, 29, 'qweqw']), 21: dict_items([('<1>', 3), ('<2>', 5), ('<4>', 9), ('<5>', 11), ('<7>', 15), ('<8>', 17), ('<10>', 21), ('<11>', 23), ('<13>', 27), ('<14>', 29), (100500, 'qweqw')]), 28: 'qweqw', 29: {...}}, '_dh': [PosixPath('/home/nikolay/Documents/programming/Kuryachii')], 'In': ['', \"for k, v in dic.items():\\n    print(f'{k}: {v}')\", \"d.__getitem__('asdq')\", 'print(type(d))', \"dic = {f'<{i}>': i*2+1 for i in range(16) if i % 3}\", 'dic', '{i * 2 + 1 for i in range(10) if i % 3}', '{i * 2 + 1 for i in range(10, 16) if i % 3}', 'class C: pass\\nhash(C) \\n# Класс - хэшируемый, значит он может быть элементом множества', 'hash(C()) \\n# объект - хэшируемый, значит он может быть элементом множества', \"d = {123: 132112321312, 'asdq': [1,312,321,3123,1], (1,2,3): 'werewqrqrw'}\", 'd', \"d = {123: 1312, 'asdq': [1,31,21,31,1], (1,2,3): 'werewqrqrw', 3: {3,4}}\", 'd', \"d['asdq']\", \"d.__getitem__('asdq')\", 'print(type(d))', \"dic = {f'<{i}>': i*2+1 for i in range(16) if i % 3}\", 'dic', 'dic.keys()', 'dic.values()', 'dic.items()', 'for i in dic:\\n    print(i, dic[i])', \"for k, v in dic.items():\\n    print(f'{k}: {v}')\", \"for k, v in dic.items():\\n    print(f'{k}: {v}')\", \"for k, v in dic.items():\\n    print(f'<{k}>: {v}')\", \"for k, v in dic.items():\\n    print(f'{k}: {v}')\", \"a = dic.setdefault(100500, 'qweqw')\", 'a', 'globals()', 'print(globals())'], 'Out': {5: {'<1>': 3, '<2>': 5, '<4>': 9, '<5>': 11, '<7>': 15, '<8>': 17, '<10>': 21, '<11>': 23, '<13>': 27, '<14>': 29}, 6: {3, 5, 9, 11, 15, 17}, 7: {29, 27, 21, 23}, 8: 3412391, 9: 8780664161220, 11: {123: 132112321312, 'asdq': [1, 312, 321, 3123, 1], (1, 2, 3): 'werewqrqrw'}, 13: {123: 1312, 'asdq': [1, 31, 21, 31, 1], (1, 2, 3): 'werewqrqrw', 3: {3, 4}}, 14: [1, 31, 21, 31, 1], 15: [1, 31, 21, 31, 1], 18: {'<1>': 3, '<2>': 5, '<4>': 9, '<5>': 11, '<7>': 15, '<8>': 17, '<10>': 21, '<11>': 23, '<13>': 27, '<14>': 29, 100500: 'qweqw'}, 19: dict_keys(['<1>', '<2>', '<4>', '<5>', '<7>', '<8>', '<10>', '<11>', '<13>', '<14>', 100500]), 20: dict_values([3, 5, 9, 11, 15, 17, 21, 23, 27, 29, 'qweqw']), 21: dict_items([('<1>', 3), ('<2>', 5), ('<4>', 9), ('<5>', 11), ('<7>', 15), ('<8>', 17), ('<10>', 21), ('<11>', 23), ('<13>', 27), ('<14>', 29), (100500, 'qweqw')]), 28: 'qweqw', 29: {...}}, 'get_ipython': <bound method InteractiveShell.get_ipython of <ipykernel.zmqshell.ZMQInteractiveShell object at 0x7fc697a50c10>>, 'exit': <IPython.core.autocall.ZMQExitAutocall object at 0x7fc6979ba130>, 'quit': <IPython.core.autocall.ZMQExitAutocall object at 0x7fc6979ba130>, '_': {...}, '__': 'qweqw', '___': dict_items([('<1>', 3), ('<2>', 5), ('<4>', 9), ('<5>', 11), ('<7>', 15), ('<8>', 17), ('<10>', 21), ('<11>', 23), ('<13>', 27), ('<14>', 29), (100500, 'qweqw')]), '_i': 'globals()', '_ii': 'a', '_iii': \"a = dic.setdefault(100500, 'qweqw')\", '_i1': \"for k, v in dic.items():\\n    print(f'{k}: {v}')\", '_i2': \"d.__getitem__('asdq')\", '_i3': 'print(type(d))', '_i4': \"dic = {f'<{i}>': i*2+1 for i in range(16) if i % 3}\", 'dic': {'<1>': 3, '<2>': 5, '<4>': 9, '<5>': 11, '<7>': 15, '<8>': 17, '<10>': 21, '<11>': 23, '<13>': 27, '<14>': 29, 100500: 'qweqw'}, '_i5': 'dic', '_5': {'<1>': 3, '<2>': 5, '<4>': 9, '<5>': 11, '<7>': 15, '<8>': 17, '<10>': 21, '<11>': 23, '<13>': 27, '<14>': 29}, '_i6': '{i * 2 + 1 for i in range(10) if i % 3}', '_6': {3, 5, 9, 11, 15, 17}, '_i7': '{i * 2 + 1 for i in range(10, 16) if i % 3}', '_7': {29, 27, 21, 23}, '_i8': 'class C: pass\\nhash(C) \\n# Класс - хэшируемый, значит он может быть элементом множества', 'C': <class '__main__.C'>, '_8': 3412391, '_i9': 'hash(C()) \\n# объект - хэшируемый, значит он может быть элементом множества', '_9': 8780664161220, '_i10': \"d = {123: 132112321312, 'asdq': [1,312,321,3123,1], (1,2,3): 'werewqrqrw'}\", 'd': {123: 1312, 'asdq': [1, 31, 21, 31, 1], (1, 2, 3): 'werewqrqrw', 3: {3, 4}}, '_i11': 'd', '_11': {123: 132112321312, 'asdq': [1, 312, 321, 3123, 1], (1, 2, 3): 'werewqrqrw'}, '_i12': \"d = {123: 1312, 'asdq': [1,31,21,31,1], (1,2,3): 'werewqrqrw', 3: {3,4}}\", '_i13': 'd', '_13': {123: 1312, 'asdq': [1, 31, 21, 31, 1], (1, 2, 3): 'werewqrqrw', 3: {3, 4}}, '_i14': \"d['asdq']\", '_14': [1, 31, 21, 31, 1], '_i15': \"d.__getitem__('asdq')\", '_15': [1, 31, 21, 31, 1], '_i16': 'print(type(d))', '_i17': \"dic = {f'<{i}>': i*2+1 for i in range(16) if i % 3}\", '_i18': 'dic', '_18': {'<1>': 3, '<2>': 5, '<4>': 9, '<5>': 11, '<7>': 15, '<8>': 17, '<10>': 21, '<11>': 23, '<13>': 27, '<14>': 29, 100500: 'qweqw'}, '_i19': 'dic.keys()', '_19': dict_keys(['<1>', '<2>', '<4>', '<5>', '<7>', '<8>', '<10>', '<11>', '<13>', '<14>', 100500]), '_i20': 'dic.values()', '_20': dict_values([3, 5, 9, 11, 15, 17, 21, 23, 27, 29, 'qweqw']), '_i21': 'dic.items()', '_21': dict_items([('<1>', 3), ('<2>', 5), ('<4>', 9), ('<5>', 11), ('<7>', 15), ('<8>', 17), ('<10>', 21), ('<11>', 23), ('<13>', 27), ('<14>', 29), (100500, 'qweqw')]), '_i22': 'for i in dic:\\n    print(i, dic[i])', 'i': '<14>', '_i23': \"for k, v in dic.items():\\n    print(f'{k}: {v}')\", 'k': '<14>', 'v': 29, '_i24': \"for k, v in dic.items():\\n    print(f'{k}: {v}')\", '_i25': \"for k, v in dic.items():\\n    print(f'<{k}>: {v}')\", '_i26': \"for k, v in dic.items():\\n    print(f'{k}: {v}')\", '_i27': \"a = dic.setdefault(100500, 'qweqw')\", 'a': 'qweqw', '_i28': 'a', '_28': 'qweqw', '_i29': 'globals()', '_29': {...}, '_i30': 'print(globals())'}\n"
     ]
    }
   ],
   "source": [
    "print(globals())"
   ]
  },
  {
   "cell_type": "markdown",
   "id": "e3a24e44",
   "metadata": {},
   "source": [
    "__globals()__ - пространство имен глобальное __организовано с помощью словаря__\n",
    "\n",
    "Это самый настоящий словарь, он поддерживает вообще все от словаря (т.к. им и является):"
   ]
  },
  {
   "cell_type": "code",
   "execution_count": 31,
   "id": "d503885e",
   "metadata": {},
   "outputs": [],
   "source": [
    "a = 42 # появится сейчас в globals"
   ]
  },
  {
   "cell_type": "code",
   "execution_count": 34,
   "id": "7a767cc3",
   "metadata": {},
   "outputs": [
    {
     "data": {
      "text/plain": [
       "42"
      ]
     },
     "execution_count": 34,
     "metadata": {},
     "output_type": "execute_result"
    }
   ],
   "source": [
    "globals()['a']"
   ]
  },
  {
   "cell_type": "code",
   "execution_count": 35,
   "id": "e9e25f32",
   "metadata": {},
   "outputs": [
    {
     "data": {
      "text/plain": [
       "100500"
      ]
     },
     "execution_count": 35,
     "metadata": {},
     "output_type": "execute_result"
    }
   ],
   "source": [
    "globals()['a'] = 100500\n",
    "globals()['a']"
   ]
  },
  {
   "cell_type": "code",
   "execution_count": 36,
   "id": "daf43654",
   "metadata": {},
   "outputs": [
    {
     "data": {
      "text/plain": [
       "100500"
      ]
     },
     "execution_count": 36,
     "metadata": {},
     "output_type": "execute_result"
    }
   ],
   "source": [
    "globals().pop('a')"
   ]
  },
  {
   "cell_type": "code",
   "execution_count": 37,
   "id": "3dfa4e91",
   "metadata": {},
   "outputs": [
    {
     "ename": "KeyError",
     "evalue": "'a'",
     "output_type": "error",
     "traceback": [
      "\u001b[0;31m---------------------------------------------------------------------------\u001b[0m",
      "\u001b[0;31mKeyError\u001b[0m                                  Traceback (most recent call last)",
      "Input \u001b[0;32mIn [37]\u001b[0m, in \u001b[0;36m<module>\u001b[0;34m\u001b[0m\n\u001b[0;32m----> 1\u001b[0m \u001b[38;5;28;43mglobals\u001b[39;49m\u001b[43m(\u001b[49m\u001b[43m)\u001b[49m\u001b[43m[\u001b[49m\u001b[38;5;124;43m'\u001b[39;49m\u001b[38;5;124;43ma\u001b[39;49m\u001b[38;5;124;43m'\u001b[39;49m\u001b[43m]\u001b[49m\n",
      "\u001b[0;31mKeyError\u001b[0m: 'a'"
     ]
    }
   ],
   "source": [
    "globals()['a']"
   ]
  },
  {
   "cell_type": "markdown",
   "id": "6fa099ed",
   "metadata": {},
   "source": [
    "Позиционные параметры (arguments positional) приходят в виде кортежа "
   ]
  },
  {
   "cell_type": "code",
   "execution_count": 38,
   "id": "cfb3e3cd",
   "metadata": {},
   "outputs": [
    {
     "name": "stdout",
     "output_type": "stream",
     "text": [
      "()\n"
     ]
    }
   ],
   "source": [
    "def fun(*argp):\n",
    "    print(argp)\n",
    "    \n",
    "fun()"
   ]
  },
  {
   "cell_type": "code",
   "execution_count": 40,
   "id": "3a9dab54",
   "metadata": {},
   "outputs": [
    {
     "name": "stdout",
     "output_type": "stream",
     "text": [
      "(1, 2, 3, 4)\n"
     ]
    }
   ],
   "source": [
    "fun(1,2,3,4,)"
   ]
  },
  {
   "cell_type": "code",
   "execution_count": 41,
   "id": "3d6c98b2",
   "metadata": {},
   "outputs": [
    {
     "ename": "TypeError",
     "evalue": "fun() got an unexpected keyword argument 'c'",
     "output_type": "error",
     "traceback": [
      "\u001b[0;31m---------------------------------------------------------------------------\u001b[0m",
      "\u001b[0;31mTypeError\u001b[0m                                 Traceback (most recent call last)",
      "Input \u001b[0;32mIn [41]\u001b[0m, in \u001b[0;36m<module>\u001b[0;34m\u001b[0m\n\u001b[0;32m----> 1\u001b[0m \u001b[43mfun\u001b[49m\u001b[43m(\u001b[49m\u001b[38;5;241;43m1\u001b[39;49m\u001b[43m,\u001b[49m\u001b[38;5;241;43m2\u001b[39;49m\u001b[43m,\u001b[49m\u001b[38;5;241;43m3\u001b[39;49m\u001b[43m,\u001b[49m\u001b[38;5;241;43m4\u001b[39;49m\u001b[43m,\u001b[49m\u001b[43mc\u001b[49m\u001b[38;5;241;43m=\u001b[39;49m\u001b[38;5;241;43m321312\u001b[39;49m\u001b[43m)\u001b[49m\n",
      "\u001b[0;31mTypeError\u001b[0m: fun() got an unexpected keyword argument 'c'"
     ]
    }
   ],
   "source": [
    "fun(1,2,3,4,c=321312)"
   ]
  },
  {
   "cell_type": "markdown",
   "id": "28e20dc4",
   "metadata": {},
   "source": [
    "Именные параметры приходят в функцию (и не только) в виде словаря "
   ]
  },
  {
   "cell_type": "code",
   "execution_count": 42,
   "id": "c3a948da",
   "metadata": {},
   "outputs": [
    {
     "name": "stdout",
     "output_type": "stream",
     "text": [
      "() {}\n"
     ]
    }
   ],
   "source": [
    "def fun(*argp, **argn):\n",
    "    print(argp, argn)\n",
    "    \n",
    "fun()"
   ]
  },
  {
   "cell_type": "code",
   "execution_count": 43,
   "id": "b7a10b7a",
   "metadata": {},
   "outputs": [
    {
     "name": "stdout",
     "output_type": "stream",
     "text": [
      "(1, 2, 3) {'c': 58}\n"
     ]
    }
   ],
   "source": [
    "fun(1,2,3, c = 58)"
   ]
  },
  {
   "cell_type": "code",
   "execution_count": 44,
   "id": "58e820e9",
   "metadata": {},
   "outputs": [
    {
     "name": "stdout",
     "output_type": "stream",
     "text": [
      "0 1 2 3 4 5 6 7 8 9\n"
     ]
    }
   ],
   "source": [
    "print(*range(10))"
   ]
  },
  {
   "cell_type": "code",
   "execution_count": 45,
   "id": "71d29b96",
   "metadata": {},
   "outputs": [
    {
     "name": "stdout",
     "output_type": "stream",
     "text": [
      "0:1:2:3:4:5:6:7:8:9,/n"
     ]
    }
   ],
   "source": [
    "print(*range(10), sep=':', end=',/n')"
   ]
  },
  {
   "cell_type": "code",
   "execution_count": 47,
   "id": "a5b5a42a",
   "metadata": {},
   "outputs": [
    {
     "data": {
      "text/plain": [
       "{'sep': ':', 'end': ',\\n'}"
      ]
     },
     "execution_count": 47,
     "metadata": {},
     "output_type": "execute_result"
    }
   ],
   "source": [
    "np = {\"sep\": ':', 'end': ',\\n'} \n",
    "np"
   ]
  },
  {
   "cell_type": "code",
   "execution_count": 48,
   "id": "e12d6163",
   "metadata": {},
   "outputs": [
    {
     "name": "stdout",
     "output_type": "stream",
     "text": [
      "0:1:2:3:4:5:6:7:8:9,\n"
     ]
    }
   ],
   "source": [
    "print(*range(10), **np)"
   ]
  },
  {
   "cell_type": "code",
   "execution_count": null,
   "id": "69d2bbdc",
   "metadata": {},
   "outputs": [],
   "source": []
  },
  {
   "cell_type": "markdown",
   "id": "a7e27c10",
   "metadata": {},
   "source": [
    "___\n",
    "\n",
    "# Итераторы и itertools\n",
    "\n",
    "___"
   ]
  },
  {
   "cell_type": "code",
   "execution_count": 11,
   "id": "4302331b",
   "metadata": {},
   "outputs": [
    {
     "data": {
      "text/plain": [
       "<generator object <genexpr> at 0x7ff8511cea50>"
      ]
     },
     "execution_count": 11,
     "metadata": {},
     "output_type": "execute_result"
    }
   ],
   "source": [
    "I = (i*2+1 for i in range(10) if i != 6)\n",
    "I"
   ]
  },
  {
   "cell_type": "code",
   "execution_count": 19,
   "id": "f6977782",
   "metadata": {},
   "outputs": [
    {
     "name": "stdout",
     "output_type": "stream",
     "text": [
      "['__class__', '__del__', '__delattr__', '__dir__', '__doc__', '__eq__', '__format__', '__ge__', '__getattribute__', '__gt__', '__hash__', '__init__', '__init_subclass__', '__iter__', '__le__', '__lt__', '__name__', '__ne__', '__new__', '__next__', '__qualname__', '__reduce__', '__reduce_ex__', '__repr__', '__setattr__', '__sizeof__', '__str__', '__subclasshook__', 'close', 'gi_code', 'gi_frame', 'gi_running', 'gi_yieldfrom', 'send', 'throw']\n"
     ]
    }
   ],
   "source": [
    "print(dir(I))"
   ]
  },
  {
   "cell_type": "markdown",
   "id": "0f1298f3",
   "metadata": {},
   "source": [
    "Свойство: при вызове функции next(I) выдается следующее значение\n",
    "\n",
    "Причем когда заканчивается итератор, выбрасывается исключения. И как только он кончился, метод next будет давать только исключения\n",
    "\n",
    "Исключение - это не ошибка, а способ передачи управления"
   ]
  },
  {
   "cell_type": "code",
   "execution_count": 20,
   "id": "fe51eec8",
   "metadata": {},
   "outputs": [
    {
     "name": "stdout",
     "output_type": "stream",
     "text": [
      "1 3 5 7 9 11 15 17 19\n"
     ]
    }
   ],
   "source": [
    "print(next(I),next(I),next(I),next(I),next(I),next(I),next(I),next(I),next(I))"
   ]
  },
  {
   "cell_type": "code",
   "execution_count": 21,
   "id": "6301fa0a",
   "metadata": {},
   "outputs": [
    {
     "ename": "StopIteration",
     "evalue": "",
     "output_type": "error",
     "traceback": [
      "\u001b[0;31m---------------------------------------------------------------------------\u001b[0m",
      "\u001b[0;31mStopIteration\u001b[0m                             Traceback (most recent call last)",
      "Input \u001b[0;32mIn [21]\u001b[0m, in \u001b[0;36m<module>\u001b[0;34m\u001b[0m\n\u001b[0;32m----> 1\u001b[0m \u001b[38;5;28mprint\u001b[39m(\u001b[38;5;28;43mnext\u001b[39;49m\u001b[43m(\u001b[49m\u001b[43mI\u001b[49m\u001b[43m)\u001b[49m)\n",
      "\u001b[0;31mStopIteration\u001b[0m: "
     ]
    }
   ],
   "source": [
    "print(next(I))"
   ]
  },
  {
   "cell_type": "code",
   "execution_count": 24,
   "id": "15b8b8d2",
   "metadata": {},
   "outputs": [
    {
     "name": "stdout",
     "output_type": "stream",
     "text": [
      "1 3 5 7 9 11 15 17 19 "
     ]
    }
   ],
   "source": [
    "I = (i*2+1 for i in range(10) if i != 6)\n",
    "for i in I:\n",
    "    print(i, end=' ')"
   ]
  },
  {
   "cell_type": "markdown",
   "id": "352278e0",
   "metadata": {},
   "source": [
    "Также можно создавать итераторы из последовательностей:"
   ]
  },
  {
   "cell_type": "code",
   "execution_count": 26,
   "id": "d2c796d4",
   "metadata": {},
   "outputs": [
    {
     "name": "stdout",
     "output_type": "stream",
     "text": [
      "1 65 34232 8765 5 43 6 543 8 99 "
     ]
    }
   ],
   "source": [
    "L = [1,65,34232,8765,5,43,6,543,8,99]\n",
    "l = iter(L)\n",
    "for i in l:\n",
    "    print(i, end=' ')"
   ]
  },
  {
   "cell_type": "markdown",
   "id": "7f6930ea",
   "metadata": {},
   "source": [
    "Таким образом, __для работы for необходимо, чтобы работал iter или getitem__"
   ]
  },
  {
   "cell_type": "markdown",
   "id": "60ac59e6",
   "metadata": {},
   "source": [
    "Итератор от словаря - список его ключей:"
   ]
  },
  {
   "cell_type": "code",
   "execution_count": 29,
   "id": "68bcf98a",
   "metadata": {},
   "outputs": [
    {
     "name": "stdout",
     "output_type": "stream",
     "text": [
      "3\n",
      "8\n",
      "4\n"
     ]
    }
   ],
   "source": [
    "D = {3:88, 8:99, 4:77}\n",
    "iter(D)\n",
    "for i in D:\n",
    "    print(i)"
   ]
  },
  {
   "cell_type": "markdown",
   "id": "5189b928",
   "metadata": {},
   "source": [
    "# Генератор\n",
    "\n",
    "__Генератор конструктора__ - Нужен для того, чтобы на скорую руку сформировать последовательность, чтобы передать её в функцию, но при это её не хранить"
   ]
  },
  {
   "cell_type": "code",
   "execution_count": 30,
   "id": "a828bae0",
   "metadata": {},
   "outputs": [
    {
     "data": {
      "text/plain": [
       "87"
      ]
     },
     "execution_count": 30,
     "metadata": {},
     "output_type": "execute_result"
    }
   ],
   "source": [
    "sum(i*2+1 for i in range(10) if i != 6)"
   ]
  },
  {
   "cell_type": "markdown",
   "id": "3a78e700",
   "metadata": {},
   "source": [
    "### Генератор в общей форме"
   ]
  },
  {
   "cell_type": "code",
   "execution_count": 36,
   "id": "bf3201c3",
   "metadata": {},
   "outputs": [
    {
     "name": "stdout",
     "output_type": "stream",
     "text": [
      "<generator object mygen at 0x7fd832fcdba0>\n",
      "7\n"
     ]
    }
   ],
   "source": [
    "def mygen(a, b, n):\n",
    "    for i in range(10):\n",
    "        yield a * 2 + b # в этом месте генератор отличается от функции\n",
    "        \n",
    "# Для визуализации разницы введем ещё функцию\n",
    "def myfun(a, b, n):\n",
    "    for i in range(5):\n",
    "        return a * 2 + b \n",
    "\n",
    "\n",
    "print(mygen(2,3,5)) # а тут вернется генератор\n",
    "print(myfun(2,3,5)) # ожидаемо вернется только одно число \n"
   ]
  },
  {
   "cell_type": "code",
   "execution_count": 37,
   "id": "40df784c",
   "metadata": {},
   "outputs": [
    {
     "name": "stdout",
     "output_type": "stream",
     "text": [
      "<generator object mygen at 0x7fd832fcdac0>\n",
      "[7, 7, 7, 7, 7]\n"
     ]
    }
   ],
   "source": [
    "def mygen(a, b, n):\n",
    "    for i in range(10):\n",
    "        yield a * 2 + b # в этом месте генератор отличается от функции\n",
    "        \n",
    "# Для визуализации разницы введем ещё функцию\n",
    "def myfun(a, b, n):\n",
    "    return [a*2+b for i in range(5)]\n",
    "\n",
    "\n",
    "print(mygen(2,3,5)) # \n",
    "print(myfun(2,3,5)) # "
   ]
  },
  {
   "cell_type": "code",
   "execution_count": 38,
   "id": "909262aa",
   "metadata": {},
   "outputs": [
    {
     "name": "stdout",
     "output_type": "stream",
     "text": [
      "7 7 7 7 7\n"
     ]
    }
   ],
   "source": [
    "res = mygen(2,3,5)\n",
    "print(next(res),next(res),next(res),next(res),next(res))"
   ]
  },
  {
   "cell_type": "code",
   "execution_count": 40,
   "id": "3d71d494",
   "metadata": {},
   "outputs": [
    {
     "data": {
      "text/plain": [
       "[100600, 24, 24, 24, 24, 24, 24, 24, 24, 24, 24, 24]"
      ]
     },
     "execution_count": 40,
     "metadata": {},
     "output_type": "execute_result"
    }
   ],
   "source": [
    "def mygen(a, b, n):\n",
    "    yield 100600\n",
    "    for i in range(n):\n",
    "        if i > 10:\n",
    "            return\n",
    "        yield a * 2 + b # в этом месте генератор отличается от функции\n",
    "\n",
    "        \n",
    "list(mygen(7,10,100500))"
   ]
  },
  {
   "cell_type": "markdown",
   "id": "05769f67",
   "metadata": {},
   "source": [
    "### Делегирование yield-a\n",
    "\n",
    "Использование yield from\n",
    "\n",
    "Идея:"
   ]
  },
  {
   "cell_type": "code",
   "execution_count": 41,
   "id": "a31128a6",
   "metadata": {},
   "outputs": [
    {
     "name": "stdout",
     "output_type": "stream",
     "text": [
      "1 3 5 1 3 5 7 1 3 5 7 9\n"
     ]
    }
   ],
   "source": [
    "def g1(n):\n",
    "    for i in range(n):\n",
    "        yield i*2+1\n",
    "        \n",
    "def g2(a, b):\n",
    "    for i in range(a, b):\n",
    "        for j in g1(i):\n",
    "            yield j\n",
    "            \n",
    "print(*g2(3,6))"
   ]
  },
  {
   "cell_type": "markdown",
   "id": "44d5ded0",
   "metadata": {},
   "source": [
    "Тут происходит вычисление последовательности не два раза, примерно два с половиной. В нижней g1 происходит как-бы сначала генерация последовательности, потом запаковка, а потом в цикле по j снова распаковка.\n",
    "\n",
    "Исправим:"
   ]
  },
  {
   "cell_type": "code",
   "execution_count": 46,
   "id": "8ca977b6",
   "metadata": {},
   "outputs": [
    {
     "name": "stdout",
     "output_type": "stream",
     "text": [
      "1 3 5 1 3 5 7 1 3 5 7 9\n"
     ]
    }
   ],
   "source": [
    "def gg(a,b):\n",
    "    for i in range(a,b):\n",
    "        yield from g1(i)\n",
    "\n",
    "print(*gg(3,6)) # как оператор распаковки"
   ]
  },
  {
   "cell_type": "markdown",
   "id": "0f7f0452",
   "metadata": {},
   "source": [
    "### Параметрический генератор\n",
    "\n"
   ]
  },
  {
   "cell_type": "code",
   "execution_count": 67,
   "id": "c67821df",
   "metadata": {},
   "outputs": [
    {
     "data": {
      "text/plain": [
       "<generator object biased at 0x7fd833612200>"
      ]
     },
     "execution_count": 67,
     "metadata": {},
     "output_type": "execute_result"
    }
   ],
   "source": [
    "def biased(init):\n",
    "    bias = yield init\n",
    "    print('//', bias)\n",
    "    while bias:\n",
    "        init += bias*2 + 1\n",
    "        bias = yield init\n",
    "        print('///', bias)\n",
    "    \n",
    "G = biased(100)\n",
    "G"
   ]
  },
  {
   "cell_type": "code",
   "execution_count": 68,
   "id": "66ef5abc",
   "metadata": {},
   "outputs": [
    {
     "data": {
      "text/plain": [
       "100"
      ]
     },
     "execution_count": 68,
     "metadata": {},
     "output_type": "execute_result"
    }
   ],
   "source": [
    "R = next(G)\n",
    "R"
   ]
  },
  {
   "cell_type": "code",
   "execution_count": 70,
   "id": "475e5d70",
   "metadata": {},
   "outputs": [
    {
     "ename": "StopIteration",
     "evalue": "",
     "output_type": "error",
     "traceback": [
      "\u001b[0;31m---------------------------------------------------------------------------\u001b[0m",
      "\u001b[0;31mStopIteration\u001b[0m                             Traceback (most recent call last)",
      "Input \u001b[0;32mIn [70]\u001b[0m, in \u001b[0;36m<module>\u001b[0;34m\u001b[0m\n\u001b[0;32m----> 1\u001b[0m R \u001b[38;5;241m=\u001b[39m \u001b[38;5;28;43mnext\u001b[39;49m\u001b[43m(\u001b[49m\u001b[43mG\u001b[49m\u001b[43m)\u001b[49m\n",
      "\u001b[0;31mStopIteration\u001b[0m: "
     ]
    }
   ],
   "source": [
    "R = next(G) # выбрасывается исключение, т.к. параметрический генератор ждет новый параметр"
   ]
  },
  {
   "cell_type": "code",
   "execution_count": 71,
   "id": "7834d25c",
   "metadata": {},
   "outputs": [],
   "source": [
    "def biased(init):\n",
    "    bias = yield init\n",
    "    print('//', bias)\n",
    "    while bias:\n",
    "        init += bias*2 + 1\n",
    "        bias = yield init\n",
    "        print('///', bias)"
   ]
  },
  {
   "cell_type": "code",
   "execution_count": 72,
   "id": "81bd71f2",
   "metadata": {},
   "outputs": [
    {
     "name": "stdout",
     "output_type": "stream",
     "text": [
      "// 42\n"
     ]
    }
   ],
   "source": [
    "G = biased(100)\n",
    "R = next(G)\n",
    "R = G.send(42)"
   ]
  },
  {
   "cell_type": "code",
   "execution_count": 73,
   "id": "a3d0d9ff",
   "metadata": {},
   "outputs": [
    {
     "data": {
      "text/plain": [
       "185"
      ]
     },
     "execution_count": 73,
     "metadata": {},
     "output_type": "execute_result"
    }
   ],
   "source": [
    "R"
   ]
  },
  {
   "cell_type": "code",
   "execution_count": 74,
   "id": "e8171f48",
   "metadata": {},
   "outputs": [
    {
     "name": "stdout",
     "output_type": "stream",
     "text": [
      "/// 100500\n",
      "201186\n"
     ]
    }
   ],
   "source": [
    "print(G.send(100500))"
   ]
  },
  {
   "cell_type": "code",
   "execution_count": 75,
   "id": "0e994d06",
   "metadata": {},
   "outputs": [
    {
     "name": "stdout",
     "output_type": "stream",
     "text": [
      "/// -100500\n",
      "187\n"
     ]
    }
   ],
   "source": [
    "print(G.send(-100500))"
   ]
  },
  {
   "cell_type": "code",
   "execution_count": 76,
   "id": "64b2c95c",
   "metadata": {},
   "outputs": [
    {
     "name": "stdout",
     "output_type": "stream",
     "text": [
      "/// 0\n"
     ]
    },
    {
     "ename": "StopIteration",
     "evalue": "",
     "output_type": "error",
     "traceback": [
      "\u001b[0;31m---------------------------------------------------------------------------\u001b[0m",
      "\u001b[0;31mStopIteration\u001b[0m                             Traceback (most recent call last)",
      "Input \u001b[0;32mIn [76]\u001b[0m, in \u001b[0;36m<module>\u001b[0;34m\u001b[0m\n\u001b[0;32m----> 1\u001b[0m \u001b[38;5;28mprint\u001b[39m(\u001b[43mG\u001b[49m\u001b[38;5;241;43m.\u001b[39;49m\u001b[43msend\u001b[49m\u001b[43m(\u001b[49m\u001b[38;5;241;43m0\u001b[39;49m\u001b[43m)\u001b[49m)\n",
      "\u001b[0;31mStopIteration\u001b[0m: "
     ]
    }
   ],
   "source": [
    "print(G.send(0))"
   ]
  },
  {
   "cell_type": "markdown",
   "id": "2a173d62",
   "metadata": {},
   "source": [
    "Вся конструкция выше обрабатывает последовательности, которые в неё посылаются send-ом, а при получении 0 выбрасывает исключение"
   ]
  },
  {
   "cell_type": "markdown",
   "id": "5126a7c9",
   "metadata": {},
   "source": [
    "### Itertools"
   ]
  },
  {
   "cell_type": "markdown",
   "id": "5526ab9a",
   "metadata": {},
   "source": [
    "функция __map__"
   ]
  },
  {
   "cell_type": "code",
   "execution_count": 77,
   "id": "4934ee96",
   "metadata": {},
   "outputs": [],
   "source": [
    "def fun(a): return 2*a+1"
   ]
  },
  {
   "cell_type": "code",
   "execution_count": 79,
   "id": "15b17a40",
   "metadata": {},
   "outputs": [
    {
     "data": {
      "text/plain": [
       "<map at 0x7fd833ad4ca0>"
      ]
     },
     "execution_count": 79,
     "metadata": {},
     "output_type": "execute_result"
    }
   ],
   "source": [
    "m = map(fun, (1,2,543,65,7,8))\n",
    "m"
   ]
  },
  {
   "cell_type": "code",
   "execution_count": 80,
   "id": "900f2188",
   "metadata": {},
   "outputs": [
    {
     "data": {
      "text/plain": [
       "[3, 5, 1087, 131, 15, 17]"
      ]
     },
     "execution_count": 80,
     "metadata": {},
     "output_type": "execute_result"
    }
   ],
   "source": [
    "list(m)"
   ]
  },
  {
   "cell_type": "code",
   "execution_count": 83,
   "id": "87e2a53a",
   "metadata": {},
   "outputs": [
    {
     "data": {
      "text/plain": [
       "<map at 0x7fd833ad4ca0>"
      ]
     },
     "execution_count": 83,
     "metadata": {},
     "output_type": "execute_result"
    }
   ],
   "source": [
    "m.__iter__() # Если взглянть на идентификаторы, то понятно, что map-object сам себе итератор"
   ]
  },
  {
   "cell_type": "code",
   "execution_count": 84,
   "id": "ecc20d59",
   "metadata": {},
   "outputs": [
    {
     "data": {
      "text/plain": [
       "[]"
      ]
     },
     "execution_count": 84,
     "metadata": {},
     "output_type": "execute_result"
    }
   ],
   "source": [
    "list(m) # А тут видно, что итератор и кончается после прохода"
   ]
  },
  {
   "cell_type": "code",
   "execution_count": 85,
   "id": "131af5e5",
   "metadata": {},
   "outputs": [
    {
     "data": {
      "text/plain": [
       "[1, 3, 5, 7, 9, 11, 13, 15, 17, 19]"
      ]
     },
     "execution_count": 85,
     "metadata": {},
     "output_type": "execute_result"
    }
   ],
   "source": [
    "m = map(lambda a: a*2+1, range(10))\n",
    "list(m)"
   ]
  },
  {
   "cell_type": "code",
   "execution_count": 89,
   "id": "2b98f861",
   "metadata": {},
   "outputs": [
    {
     "name": "stdout",
     "output_type": "stream",
     "text": [
      "[1, 3, 5, 7, 9, 11, 13, 15, 17, 19]\n"
     ]
    }
   ],
   "source": [
    "# Верхнее выражение эквивалентно такому:\n",
    "mm = (a*2+1 for a in range(10))\n",
    "print(list(mm))"
   ]
  },
  {
   "cell_type": "markdown",
   "id": "a0cb2d57",
   "metadata": {},
   "source": [
    "Функция __filter__\n",
    "\n",
    "Работает пример как map, но Возвращает только те элементы, filter от которых не пусто"
   ]
  },
  {
   "cell_type": "code",
   "execution_count": 93,
   "id": "ffb3cf62",
   "metadata": {},
   "outputs": [
    {
     "data": {
      "text/plain": [
       "<filter at 0x7fd85810c400>"
      ]
     },
     "execution_count": 93,
     "metadata": {},
     "output_type": "execute_result"
    }
   ],
   "source": [
    "filter(lambda a: a%2, range(20))"
   ]
  },
  {
   "cell_type": "code",
   "execution_count": 94,
   "id": "e16a27ed",
   "metadata": {},
   "outputs": [
    {
     "data": {
      "text/plain": [
       "<filter at 0x7fd8581129d0>"
      ]
     },
     "execution_count": 94,
     "metadata": {},
     "output_type": "execute_result"
    }
   ],
   "source": [
    "iter(filter(lambda a: a%2, range(20)))"
   ]
  },
  {
   "cell_type": "code",
   "execution_count": 95,
   "id": "545348b9",
   "metadata": {},
   "outputs": [
    {
     "data": {
      "text/plain": [
       "[1, 3, 5, 7, 9, 11, 13, 15, 17, 19]"
      ]
     },
     "execution_count": 95,
     "metadata": {},
     "output_type": "execute_result"
    }
   ],
   "source": [
    "list(iter(filter(lambda a: a%2, range(20))))"
   ]
  },
  {
   "cell_type": "code",
   "execution_count": 96,
   "id": "55016c3b",
   "metadata": {},
   "outputs": [],
   "source": [
    "l = filter(lambda a: a%3, range(10000000000))"
   ]
  },
  {
   "cell_type": "markdown",
   "id": "68738230",
   "metadata": {},
   "source": [
    "Эта последовательность l (аналогично, и для map, и для других) вычислимая, т.е. __её элементы не хранятся__. \n",
    "\n",
    "Таким образом, мы очень сильно экономим память, пока не начинаем преобразовывать эту вычислимую последовательность в хранимую последовательность (list, tuple,...)"
   ]
  },
  {
   "cell_type": "code",
   "execution_count": 97,
   "id": "92361a63",
   "metadata": {},
   "outputs": [
    {
     "name": "stdout",
     "output_type": "stream",
     "text": [
      "1 2 4 5 7 8 10\n"
     ]
    }
   ],
   "source": [
    "print(next(l),next(l),next(l),next(l),next(l),next(l),next(l))"
   ]
  },
  {
   "cell_type": "markdown",
   "id": "6bd53b8f",
   "metadata": {},
   "source": [
    "___\n",
    "# Пространство имен builtins"
   ]
  },
  {
   "cell_type": "code",
   "execution_count": 98,
   "id": "5c03b414",
   "metadata": {},
   "outputs": [
    {
     "name": "stdout",
     "output_type": "stream",
     "text": [
      "['D', 'G', 'I', 'In', 'L', 'Out', 'R', '_', '_12', '_18', '_2', '_30', '_39', '_4', '_40', '_48', '_52', '_56', '_58', '_59', '_60', '_61', '_62', '_63', '_64', '_65', '_67', '_68', '_73', '_79', '_80', '_81', '_82', '_83', '_84', '_85', '_90', '_91', '_92', '_93', '_94', '_95', '__', '___', '__builtin__', '__builtins__', '__doc__', '__loader__', '__name__', '__package__', '__spec__', '_dh', '_i', '_i1', '_i10', '_i11', '_i12', '_i13', '_i14', '_i15', '_i16', '_i17', '_i18', '_i19', '_i2', '_i20', '_i21', '_i22', '_i23', '_i24', '_i25', '_i26', '_i27', '_i28', '_i29', '_i3', '_i30', '_i31', '_i32', '_i33', '_i34', '_i35', '_i36', '_i37', '_i38', '_i39', '_i4', '_i40', '_i41', '_i42', '_i43', '_i44', '_i45', '_i46', '_i47', '_i48', '_i49', '_i5', '_i50', '_i51', '_i52', '_i53', '_i54', '_i55', '_i56', '_i57', '_i58', '_i59', '_i6', '_i60', '_i61', '_i62', '_i63', '_i64', '_i65', '_i66', '_i67', '_i68', '_i69', '_i7', '_i70', '_i71', '_i72', '_i73', '_i74', '_i75', '_i76', '_i77', '_i78', '_i79', '_i8', '_i80', '_i81', '_i82', '_i83', '_i84', '_i85', '_i86', '_i87', '_i88', '_i89', '_i9', '_i90', '_i91', '_i92', '_i93', '_i94', '_i95', '_i96', '_i97', '_i98', '_ih', '_ii', '_iii', '_oh', 'biased', 'exit', 'fun', 'g1', 'g2', 'get_ipython', 'gg', 'i', 'l', 'm', 'mm', 'myfun', 'mygen', 'quit', 'res']\n"
     ]
    }
   ],
   "source": [
    "print(dir())"
   ]
  },
  {
   "cell_type": "code",
   "execution_count": 99,
   "id": "a9a06bf0",
   "metadata": {},
   "outputs": [
    {
     "name": "stdout",
     "output_type": "stream",
     "text": [
      "['ArithmeticError', 'AssertionError', 'AttributeError', 'BaseException', 'BlockingIOError', 'BrokenPipeError', 'BufferError', 'BytesWarning', 'ChildProcessError', 'ConnectionAbortedError', 'ConnectionError', 'ConnectionRefusedError', 'ConnectionResetError', 'DeprecationWarning', 'EOFError', 'Ellipsis', 'EnvironmentError', 'Exception', 'False', 'FileExistsError', 'FileNotFoundError', 'FloatingPointError', 'FutureWarning', 'GeneratorExit', 'IOError', 'ImportError', 'ImportWarning', 'IndentationError', 'IndexError', 'InterruptedError', 'IsADirectoryError', 'KeyError', 'KeyboardInterrupt', 'LookupError', 'MemoryError', 'ModuleNotFoundError', 'NameError', 'None', 'NotADirectoryError', 'NotImplemented', 'NotImplementedError', 'OSError', 'OverflowError', 'PendingDeprecationWarning', 'PermissionError', 'ProcessLookupError', 'RecursionError', 'ReferenceError', 'ResourceWarning', 'RuntimeError', 'RuntimeWarning', 'StopAsyncIteration', 'StopIteration', 'SyntaxError', 'SyntaxWarning', 'SystemError', 'SystemExit', 'TabError', 'TimeoutError', 'True', 'TypeError', 'UnboundLocalError', 'UnicodeDecodeError', 'UnicodeEncodeError', 'UnicodeError', 'UnicodeTranslateError', 'UnicodeWarning', 'UserWarning', 'ValueError', 'Warning', 'ZeroDivisionError', '__IPYTHON__', '__build_class__', '__debug__', '__doc__', '__import__', '__loader__', '__name__', '__package__', '__spec__', 'abs', 'all', 'any', 'ascii', 'bin', 'bool', 'breakpoint', 'bytearray', 'bytes', 'callable', 'chr', 'classmethod', 'compile', 'complex', 'copyright', 'credits', 'delattr', 'dict', 'dir', 'display', 'divmod', 'enumerate', 'eval', 'exec', 'execfile', 'filter', 'float', 'format', 'frozenset', 'get_ipython', 'getattr', 'globals', 'hasattr', 'hash', 'help', 'hex', 'id', 'input', 'int', 'isinstance', 'issubclass', 'iter', 'len', 'license', 'list', 'locals', 'map', 'max', 'memoryview', 'min', 'next', 'object', 'oct', 'open', 'ord', 'pow', 'print', 'property', 'range', 'repr', 'reversed', 'round', 'runfile', 'set', 'setattr', 'slice', 'sorted', 'staticmethod', 'str', 'sum', 'super', 'tuple', 'type', 'vars', 'zip']\n"
     ]
    }
   ],
   "source": [
    "print(dir(__builtins__))"
   ]
  },
  {
   "cell_type": "markdown",
   "id": "0ee98c72",
   "metadata": {},
   "source": [
    "Здесь лежат всякие встроенные имена по-умолчанию, которые мы используем, хотя не объявляли, например:"
   ]
  },
  {
   "cell_type": "code",
   "execution_count": 105,
   "id": "5f5f4efc",
   "metadata": {},
   "outputs": [
    {
     "name": "stdout",
     "output_type": "stream",
     "text": [
      "<built-in function next> <built-in function abs> <class 'zip'> <class 'filter'> <class 'map'>\n"
     ]
    }
   ],
   "source": [
    "print(next, abs, zip, filter, map)"
   ]
  },
  {
   "cell_type": "markdown",
   "id": "69498c9c",
   "metadata": {},
   "source": [
    "___"
   ]
  },
  {
   "cell_type": "code",
   "execution_count": 106,
   "id": "dc74ea48",
   "metadata": {},
   "outputs": [],
   "source": [
    "from itertools import *"
   ]
  },
  {
   "cell_type": "code",
   "execution_count": 108,
   "id": "cfcc62f1",
   "metadata": {},
   "outputs": [],
   "source": [
    "C = count(100, step=1) # функция, считающая бесконечно от заданного числа"
   ]
  },
  {
   "cell_type": "code",
   "execution_count": 109,
   "id": "d2db2fc5",
   "metadata": {},
   "outputs": [
    {
     "data": {
      "text/plain": [
       "100"
      ]
     },
     "execution_count": 109,
     "metadata": {},
     "output_type": "execute_result"
    }
   ],
   "source": [
    "next(C)"
   ]
  },
  {
   "cell_type": "code",
   "execution_count": 110,
   "id": "4b8bd33e",
   "metadata": {},
   "outputs": [
    {
     "data": {
      "text/plain": [
       "101"
      ]
     },
     "execution_count": 110,
     "metadata": {},
     "output_type": "execute_result"
    }
   ],
   "source": [
    "next(C)"
   ]
  },
  {
   "cell_type": "code",
   "execution_count": 111,
   "id": "db107173",
   "metadata": {},
   "outputs": [
    {
     "data": {
      "text/plain": [
       "102"
      ]
     },
     "execution_count": 111,
     "metadata": {},
     "output_type": "execute_result"
    }
   ],
   "source": [
    "next(C)"
   ]
  },
  {
   "cell_type": "code",
   "execution_count": 113,
   "id": "d22560b2",
   "metadata": {},
   "outputs": [],
   "source": [
    "CC = cycle('abcd') # в бесконечном цикле выдает элементы последовательности"
   ]
  },
  {
   "cell_type": "code",
   "execution_count": 114,
   "id": "1c1d7377",
   "metadata": {},
   "outputs": [
    {
     "name": "stdout",
     "output_type": "stream",
     "text": [
      "a b c d a b c d\n"
     ]
    }
   ],
   "source": [
    "print(next(CC),next(CC),next(CC),next(CC),next(CC),next(CC),next(CC),next(CC))"
   ]
  },
  {
   "cell_type": "code",
   "execution_count": 118,
   "id": "a610e524",
   "metadata": {},
   "outputs": [
    {
     "name": "stdout",
     "output_type": "stream",
     "text": [
      "10 10 10\n"
     ]
    }
   ],
   "source": [
    "R = repeat(10, 3) # повторение элемента 10 три раза\n",
    "print(next(R),next(R),next(R))"
   ]
  },
  {
   "cell_type": "markdown",
   "id": "aebe4b58",
   "metadata": {},
   "source": [
    "___\n",
    "\n",
    "# Объектная модель Python\n",
    "\n",
    "___"
   ]
  },
  {
   "cell_type": "markdown",
   "id": "a9e98043",
   "metadata": {},
   "source": [
    "ООП - больше про управление потоками\n",
    "\n",
    "Есть поддержка в ЯП объектного планирования (ОП)\n",
    "\n",
    "- 0. Абстракция - выделение главных свойств и убирание неважных свойств для задачи\n",
    "\n",
    "- 1. Инкапсуляция - минимизация необходимого информационного пространства. Часто реализовывается за счет _иерархии пространства имен_ (большинства языков: размещение в одном компоненте данных и методов, которые с ними работают)\n",
    "\n",
    "- - Не путать с сокрытием\n",
    "\n",
    "- - По сути, это когда мы к пространству имен обращаемся как object.name\n",
    "\n",
    "- 2. Наследование - повторное использование свойств объектов с описанием различий\n",
    "\n",
    "- 3. Полиморфизм - возможность для одного и того же кода обрабатывать данные разных типов (Python: duck typing!)\n",
    "\n",
    "\n",
    "__Класс__ - это в первую очередь пространство имен\n",
    "\n",
    "__Атрибут__ (поле) - элемент пространства имен объекта (non-collable)\n",
    "\n",
    "__Метод__ (тоже поле) - элемент пространства имен объекта (collable)"
   ]
  },
  {
   "cell_type": "markdown",
   "id": "c15d6dc0",
   "metadata": {},
   "source": [
    "### Поля классов и объектов\n",
    "\n",
    "Стандартные объекты - например, кортежи - рождаются с полями:"
   ]
  },
  {
   "cell_type": "code",
   "execution_count": 2,
   "id": "cc9856d3",
   "metadata": {},
   "outputs": [
    {
     "name": "stdout",
     "output_type": "stream",
     "text": [
      "['__add__', '__class__', '__class_getitem__', '__contains__', '__delattr__', '__dir__', '__doc__', '__eq__', '__format__', '__ge__', '__getattribute__', '__getitem__', '__getnewargs__', '__gt__', '__hash__', '__init__', '__init_subclass__', '__iter__', '__le__', '__len__', '__lt__', '__mul__', '__ne__', '__new__', '__reduce__', '__reduce_ex__', '__repr__', '__rmul__', '__setattr__', '__sizeof__', '__str__', '__subclasshook__', 'count', 'index']\n"
     ]
    }
   ],
   "source": [
    "l = ()\n",
    "print(dir(l))"
   ]
  },
  {
   "cell_type": "code",
   "execution_count": 3,
   "id": "d2a34f5b",
   "metadata": {},
   "outputs": [
    {
     "ename": "AttributeError",
     "evalue": "'tuple' object has no attribute 'new'",
     "output_type": "error",
     "traceback": [
      "\u001b[0;31m---------------------------------------------------------------------------\u001b[0m",
      "\u001b[0;31mAttributeError\u001b[0m                            Traceback (most recent call last)",
      "Input \u001b[0;32mIn [3]\u001b[0m, in \u001b[0;36m<module>\u001b[0;34m\u001b[0m\n\u001b[0;32m----> 1\u001b[0m l\u001b[38;5;241m.\u001b[39mnew\u001b[38;5;241m=\u001b[39m\u001b[38;5;124m'\u001b[39m\u001b[38;5;124mQQ\u001b[39m\u001b[38;5;124m'\u001b[39m\n",
      "\u001b[0;31mAttributeError\u001b[0m: 'tuple' object has no attribute 'new'"
     ]
    }
   ],
   "source": [
    "l.new = 'QQ' # то есть, добавлять новые поля нельзя"
   ]
  },
  {
   "cell_type": "markdown",
   "id": "d728912f",
   "metadata": {},
   "source": [
    "Но можно самому создать объект. Для этого надо с помощью оператора __class__ описать конструктор этого объекта, а потом вызвать этот окнструктор.\n",
    "\n",
    "Пример:"
   ]
  },
  {
   "cell_type": "code",
   "execution_count": 4,
   "id": "dfa03fa3",
   "metadata": {},
   "outputs": [
    {
     "name": "stdout",
     "output_type": "stream",
     "text": [
      "['__class__', '__delattr__', '__dict__', '__dir__', '__doc__', '__eq__', '__format__', '__ge__', '__getattribute__', '__gt__', '__hash__', '__init__', '__init_subclass__', '__le__', '__lt__', '__module__', '__ne__', '__new__', '__reduce__', '__reduce_ex__', '__repr__', '__setattr__', '__sizeof__', '__str__', '__subclasshook__', '__weakref__']\n"
     ]
    }
   ],
   "source": [
    "class C:\n",
    "    pass\n",
    "\n",
    "print(dir(C))"
   ]
  },
  {
   "cell_type": "code",
   "execution_count": 5,
   "id": "a344ee9e",
   "metadata": {},
   "outputs": [
    {
     "name": "stdout",
     "output_type": "stream",
     "text": [
      "['__class__', '__delattr__', '__dict__', '__dir__', '__doc__', '__eq__', '__format__', '__ge__', '__getattribute__', '__gt__', '__hash__', '__init__', '__init_subclass__', '__le__', '__lt__', '__module__', '__ne__', '__new__', '__reduce__', '__reduce_ex__', '__repr__', '__setattr__', '__sizeof__', '__str__', '__subclasshook__', '__weakref__']\n"
     ]
    }
   ],
   "source": [
    "c = C()\n",
    "print(dir(c))"
   ]
  },
  {
   "cell_type": "code",
   "execution_count": 7,
   "id": "2ebd4a78",
   "metadata": {},
   "outputs": [
    {
     "name": "stdout",
     "output_type": "stream",
     "text": [
      "<__main__.C object at 0x7f43157dfa00>\n",
      "<class '__main__.C'>\n"
     ]
    }
   ],
   "source": [
    "print(c)\n",
    "print(C)"
   ]
  },
  {
   "cell_type": "markdown",
   "id": "9d9cafff",
   "metadata": {},
   "source": [
    "В созданны класс уже можно добавлять любые поля:"
   ]
  },
  {
   "cell_type": "code",
   "execution_count": 14,
   "id": "a061d3fe",
   "metadata": {},
   "outputs": [
    {
     "name": "stdout",
     "output_type": "stream",
     "text": [
      "['__class__', '__delattr__', '__dict__', '__dir__', '__doc__', '__eq__', '__format__', '__ge__', '__getattribute__', '__gt__', '__hash__', '__init__', '__init_subclass__', '__le__', '__lt__', '__module__', '__ne__', '__new__', '__reduce__', '__reduce_ex__', '__repr__', '__setattr__', '__sizeof__', '__str__', '__subclasshook__', '__weakref__', 'new']\n",
      "<__main__.C object at 0x7f4327143d90>\n",
      "QQ\n"
     ]
    }
   ],
   "source": [
    "c.new = 'QQ'\n",
    "print(dir(c))\n",
    "print(c.__class__())\n",
    "print(c.new)"
   ]
  },
  {
   "cell_type": "code",
   "execution_count": 16,
   "id": "87d39300",
   "metadata": {},
   "outputs": [
    {
     "name": "stdout",
     "output_type": "stream",
     "text": [
      "['__class__', '__delattr__', '__dict__', '__dir__', '__doc__', '__eq__', '__format__', '__ge__', '__getattribute__', '__gt__', '__hash__', '__init__', '__init_subclass__', '__le__', '__lt__', '__module__', '__ne__', '__new__', '__reduce__', '__reduce_ex__', '__repr__', '__setattr__', '__sizeof__', '__str__', '__subclasshook__', '__weakref__', 'strange']\n",
      "['__class__', '__delattr__', '__dict__', '__dir__', '__doc__', '__eq__', '__format__', '__ge__', '__getattribute__', '__gt__', '__hash__', '__init__', '__init_subclass__', '__le__', '__lt__', '__module__', '__ne__', '__new__', '__reduce__', '__reduce_ex__', '__repr__', '__setattr__', '__sizeof__', '__str__', '__subclasshook__', '__weakref__', 'new', 'strange']\n",
      "NN\n"
     ]
    }
   ],
   "source": [
    "C.strange='NN'\n",
    "print(dir(C))\n",
    "print(dir(c))\n",
    "print(c.strange)"
   ]
  },
  {
   "cell_type": "markdown",
   "id": "b8b57ec8",
   "metadata": {},
   "source": [
    "Получается, что добавленное в объект поле не появляется в классе.\n",
    "\n",
    "А вот добавленное в класс поле появляется во всех экзамплярах этого класса (объектах).\n",
    "\n",
    "Причем, если добавить поле с одинаковым именем в экземпляр и в класс, то при вызове имени из экземпляра, сначала будет проверяться пространство имено объекта, а потом класса"
   ]
  },
  {
   "cell_type": "code",
   "execution_count": 24,
   "id": "e60ce614",
   "metadata": {},
   "outputs": [
    {
     "name": "stdout",
     "output_type": "stream",
     "text": [
      "['__class__', '__delattr__', '__dict__', '__dir__', '__doc__', '__eq__', '__format__', '__ge__', '__getattribute__', '__gt__', '__hash__', '__init__', '__init_subclass__', '__le__', '__lt__', '__module__', '__ne__', '__new__', '__reduce__', '__reduce_ex__', '__repr__', '__setattr__', '__sizeof__', '__str__', '__subclasshook__', '__weakref__', 'strange']\n",
      "NN\n",
      "NN\n",
      "YY\n"
     ]
    }
   ],
   "source": [
    "d = C()\n",
    "print(dir(d))\n",
    "d.strange='YY'\n",
    "print(c.strange)\n",
    "print(C.strange)\n",
    "print(d.strange)"
   ]
  },
  {
   "cell_type": "markdown",
   "id": "41c32a54",
   "metadata": {},
   "source": [
    "Если удалить поле объекта, то снова будет видно поле класса:"
   ]
  },
  {
   "cell_type": "code",
   "execution_count": 25,
   "id": "c5036918",
   "metadata": {},
   "outputs": [
    {
     "name": "stdout",
     "output_type": "stream",
     "text": [
      "YY\n",
      "NN\n"
     ]
    }
   ],
   "source": [
    "print(d.strange)\n",
    "del d.strange\n",
    "print(d.strange)"
   ]
  },
  {
   "cell_type": "markdown",
   "id": "1ee98397",
   "metadata": {},
   "source": [
    "Поля класса можно удалить, разумеется только в самом классе:"
   ]
  },
  {
   "cell_type": "code",
   "execution_count": 27,
   "id": "1df3f558",
   "metadata": {},
   "outputs": [
    {
     "name": "stdout",
     "output_type": "stream",
     "text": [
      "['__class__', '__delattr__', '__dict__', '__dir__', '__doc__', '__eq__', '__format__', '__ge__', '__getattribute__', '__gt__', '__hash__', '__init__', '__init_subclass__', '__le__', '__lt__', '__module__', '__ne__', '__new__', '__reduce__', '__reduce_ex__', '__repr__', '__setattr__', '__sizeof__', '__str__', '__subclasshook__', '__weakref__', 'strange']\n"
     ]
    }
   ],
   "source": [
    "print(dir(d))"
   ]
  },
  {
   "cell_type": "code",
   "execution_count": 29,
   "id": "3ec283ef",
   "metadata": {},
   "outputs": [
    {
     "ename": "AttributeError",
     "evalue": "strange",
     "output_type": "error",
     "traceback": [
      "\u001b[0;31m---------------------------------------------------------------------------\u001b[0m",
      "\u001b[0;31mAttributeError\u001b[0m                            Traceback (most recent call last)",
      "Input \u001b[0;32mIn [29]\u001b[0m, in \u001b[0;36m<module>\u001b[0;34m\u001b[0m\n\u001b[0;32m----> 1\u001b[0m \u001b[38;5;28;01mdel\u001b[39;00m d\u001b[38;5;241m.\u001b[39mstrange\n",
      "\u001b[0;31mAttributeError\u001b[0m: strange"
     ]
    }
   ],
   "source": [
    "del d.strange # ошибка, т.к. выше мы уже очистили это поле объекта"
   ]
  },
  {
   "cell_type": "markdown",
   "id": "f45896bc",
   "metadata": {},
   "source": [
    "Для удаления поля класса надо и обращаться к классу:"
   ]
  },
  {
   "cell_type": "code",
   "execution_count": 31,
   "id": "e646bfc5",
   "metadata": {},
   "outputs": [
    {
     "ename": "AttributeError",
     "evalue": "strange",
     "output_type": "error",
     "traceback": [
      "\u001b[0;31m---------------------------------------------------------------------------\u001b[0m",
      "\u001b[0;31mAttributeError\u001b[0m                            Traceback (most recent call last)",
      "Input \u001b[0;32mIn [31]\u001b[0m, in \u001b[0;36m<module>\u001b[0;34m\u001b[0m\n\u001b[0;32m----> 1\u001b[0m \u001b[38;5;28;01mdel\u001b[39;00m C\u001b[38;5;241m.\u001b[39mstrange\n\u001b[1;32m      2\u001b[0m d\u001b[38;5;241m.\u001b[39mstrange\n",
      "\u001b[0;31mAttributeError\u001b[0m: strange"
     ]
    }
   ],
   "source": [
    "del C.strange\n",
    "d.strange"
   ]
  },
  {
   "cell_type": "markdown",
   "id": "9ab7467b",
   "metadata": {},
   "source": [
    "### Задание полей в конструкторе"
   ]
  },
  {
   "cell_type": "markdown",
   "id": "ff144bb9",
   "metadata": {},
   "source": [
    "Если мы хотим, чтобы при создании объекта в нем уже были какие-то поля, эти поля необходимо добавить в класс:"
   ]
  },
  {
   "cell_type": "code",
   "execution_count": 35,
   "id": "92fadc45",
   "metadata": {},
   "outputs": [
    {
     "name": "stdout",
     "output_type": "stream",
     "text": [
      "(10, 20)\n"
     ]
    }
   ],
   "source": [
    "class D:\n",
    "    w=10\n",
    "    h=20\n",
    "    \n",
    "d=D()\n",
    "print((d.w, d.h))"
   ]
  },
  {
   "cell_type": "markdown",
   "id": "357118e8",
   "metadata": {},
   "source": [
    "Теперь при обращении к полям w и h любого экземпляра классa D мы получим какое-нибудь значение - либо поля класса, либо поля объекта (если мы их инициализировали):"
   ]
  },
  {
   "cell_type": "code",
   "execution_count": 37,
   "id": "af5f9c77",
   "metadata": {},
   "outputs": [
    {
     "data": {
      "text/plain": [
       "2"
      ]
     },
     "execution_count": 37,
     "metadata": {},
     "output_type": "execute_result"
    }
   ],
   "source": [
    "e=D()\n",
    "e.w, e.h = 18, 11\n",
    "d.w*d.h - e.w*e.h"
   ]
  },
  {
   "cell_type": "markdown",
   "id": "5d86c509",
   "metadata": {},
   "source": [
    "Однако есть особенность при таком определении. Если поле класса - не константа (список, словарь или ещё что), не переопределив его в объекте, при попытке его менять, мы будем менять __поле класса__"
   ]
  },
  {
   "cell_type": "code",
   "execution_count": 40,
   "id": "ebbe6251",
   "metadata": {},
   "outputs": [
    {
     "name": "stdout",
     "output_type": "stream",
     "text": [
      "([], [])\n",
      "(['QQ'], ['QQ'])\n"
     ]
    }
   ],
   "source": [
    "class E:\n",
    "    l=[]\n",
    "\n",
    "e=E()\n",
    "print((e.l, E.l))\n",
    "\n",
    "e.l.append('QQ')\n",
    "print((e.l, E.l))"
   ]
  },
  {
   "cell_type": "markdown",
   "id": "69512d19",
   "metadata": {},
   "source": [
    "А как только мы зададим поле объекта, мы начнем менять поле объекта:"
   ]
  },
  {
   "cell_type": "code",
   "execution_count": 43,
   "id": "3d6c68e7",
   "metadata": {},
   "outputs": [
    {
     "name": "stdout",
     "output_type": "stream",
     "text": [
      "(['QQ'], [], ['QQ'])\n",
      "(['QQ'], ['QKRQ'], ['QQ'])\n"
     ]
    }
   ],
   "source": [
    "f = E()\n",
    "f.l = []\n",
    "print((e.l, f.l, E.l))\n",
    "\n",
    "f.l.append('QKRQ')\n",
    "print((e.l, f.l, E.l))"
   ]
  },
  {
   "cell_type": "markdown",
   "id": "a4027f9e",
   "metadata": {},
   "source": [
    "Таким образом, работа с полями похожа на ситуацию с локальными и глобальными переменными.\n",
    "\n",
    "- Не было присваивания в объекте -- видно поле класса\n",
    "\n",
    "- Было присваивание в объекте -- появилось поле объекта"
   ]
  },
  {
   "cell_type": "markdown",
   "id": "d50a956e",
   "metadata": {},
   "source": [
    "### Методы классов и объектов"
   ]
  },
  {
   "cell_type": "markdown",
   "id": "fd6adb8f",
   "metadata": {},
   "source": [
    "Поля объекта могут быть абсолютно любого типа.\n",
    "\n",
    "Вот, например, ситуация с функциями:"
   ]
  },
  {
   "cell_type": "code",
   "execution_count": 52,
   "id": "efb07e75",
   "metadata": {},
   "outputs": [
    {
     "name": "stdout",
     "output_type": "stream",
     "text": [
      "dada\n",
      "dada\n"
     ]
    }
   ],
   "source": [
    "class F:\n",
    "    data = 'dada'\n",
    "    \n",
    "def fun():\n",
    "    print(F.data)\n",
    "    \n",
    "f=F()\n",
    "f.pri=fun\n",
    "f.pri()\n",
    "\n",
    "f.data = 'nono'\n",
    "f.pri()"
   ]
  },
  {
   "cell_type": "markdown",
   "id": "706d40ec",
   "metadata": {},
   "source": [
    "О __полях объекта__"
   ]
  },
  {
   "cell_type": "code",
   "execution_count": 3,
   "id": "5db4e65c",
   "metadata": {},
   "outputs": [
    {
     "name": "stdout",
     "output_type": "stream",
     "text": [
      "<__main__.H object at 0x7f650ea6fbb0> 100500\n"
     ]
    }
   ],
   "source": [
    "class H:\n",
    "    def test(p1, p2):\n",
    "        print(p1, p2)\n",
    "        \n",
    "h = H()\n",
    "h.test(100500)"
   ]
  },
  {
   "cell_type": "markdown",
   "id": "0e457cc1",
   "metadata": {},
   "source": [
    "__МЕТОД__ - Функия, определенная внутри класса. Python передает первым параметром объекта (экземпляр класса)\n"
   ]
  },
  {
   "cell_type": "code",
   "execution_count": 8,
   "id": "fcff4eef",
   "metadata": {},
   "outputs": [
    {
     "name": "stdout",
     "output_type": "stream",
     "text": [
      "<function fun at 0x7f650c1d88b0> <function fun at 0x7f650c1d88b0>\n",
      "<function I.meth at 0x7f650c1d8820>\n",
      "<bound method fun of <__main__.I object at 0x7f650c1dd460>> <bound method I.meth of <__main__.I object at 0x7f650c1dd460>>\n"
     ]
    }
   ],
   "source": [
    "class I:\n",
    "    def meth():\n",
    "        pass\n",
    "\n",
    "def fun():\n",
    "    pass\n",
    "\n",
    "I.subfun = fun\n",
    "# print(dir(I))\n",
    "i = I()\n",
    "print(fun, I.subfun) # буквально одна и та же функция\n",
    "print(I.meth)\n",
    "print(i.subfun, i.meth)\n"
   ]
  },
  {
   "cell_type": "markdown",
   "id": "530f6bb3",
   "metadata": {},
   "source": [
    "То есть функция вообще ничем не отличается от метода класса. Кроме имени, в котором отложилось имя исходного класса. Но метод экземпляра, оказывается — совсем другой объект! Очевидно, при конструировании объекта классом методы тоже конструируются из методов класса."
   ]
  },
  {
   "cell_type": "code",
   "execution_count": 11,
   "id": "0fc1cccf",
   "metadata": {},
   "outputs": [
    {
     "name": "stdout",
     "output_type": "stream",
     "text": [
      "42\n",
      "text\n"
     ]
    }
   ],
   "source": [
    "class J:\n",
    "    t = 42\n",
    "    def answer(self):\n",
    "        print(self.t)\n",
    "        \n",
    "j = J()\n",
    "j.answer()\n",
    "\n",
    "j.t = 'text'\n",
    "j.answer()"
   ]
  },
  {
   "cell_type": "markdown",
   "id": "204ccfb9",
   "metadata": {},
   "source": [
    "___\n",
    "\n",
    "### Инициализация\n",
    "\n",
    "При объявлении использовании полей класса его экземпляром, необходимо следить за тем, поле чего именно (класса или объекта) используется. \n",
    "\n",
    "Существует специальный метод __init__(). КОнструктор вызывает его в процессе создания объекта (точнее - сразу после создания и перед тем, как отдавать программу в результат). \n",
    "\n",
    "При передаче каких-то параметров _конструктору_, он их передаст в __init__()"
   ]
  },
  {
   "cell_type": "code",
   "execution_count": 16,
   "id": "a13584f7",
   "metadata": {},
   "outputs": [
    {
     "name": "stdout",
     "output_type": "stream",
     "text": [
      "['__class__', '__delattr__', '__dict__', '__dir__', '__doc__', '__eq__', '__format__', '__ge__', '__getattribute__', '__gt__', '__hash__', '__init__', '__init_subclass__', '__le__', '__lt__', '__module__', '__ne__', '__new__', '__reduce__', '__reduce_ex__', '__repr__', '__setattr__', '__sizeof__', '__str__', '__subclasshook__', '__weakref__', 'h', 'square', 'w']\n",
      "200\n"
     ]
    }
   ],
   "source": [
    "class K:\n",
    "    def __init__(self, w, h):\n",
    "        self.w, self.h = w, h\n",
    "    \n",
    "    def square(self):\n",
    "        return self.w * self.h\n",
    "    \n",
    "k = K(10, 20)\n",
    "print(dir(k))\n",
    "print(k.square())"
   ]
  },
  {
   "cell_type": "markdown",
   "id": "201bdbf0",
   "metadata": {},
   "source": [
    "___\n",
    "\n",
    "# Наследование и исключения\n",
    "\n",
    "___"
   ]
  },
  {
   "cell_type": "markdown",
   "id": "251995fa",
   "metadata": {},
   "source": [
    "Класс при создании выполняет внутренние инструкции"
   ]
  },
  {
   "cell_type": "code",
   "execution_count": 3,
   "id": "315bb049",
   "metadata": {},
   "outputs": [
    {
     "name": "stdout",
     "output_type": "stream",
     "text": [
      "QQ\n"
     ]
    }
   ],
   "source": [
    "class c:\n",
    "    print('QQ')"
   ]
  },
  {
   "cell_type": "code",
   "execution_count": 9,
   "id": "a55a5513",
   "metadata": {},
   "outputs": [
    {
     "data": {
      "text/plain": [
       "<__main__.c at 0x7f4a0c256c10>"
      ]
     },
     "execution_count": 9,
     "metadata": {},
     "output_type": "execute_result"
    }
   ],
   "source": [
    "c()"
   ]
  },
  {
   "cell_type": "code",
   "execution_count": 8,
   "id": "0ec4fb4d",
   "metadata": {},
   "outputs": [
    {
     "data": {
      "text/plain": [
       "True"
      ]
     },
     "execution_count": 8,
     "metadata": {},
     "output_type": "execute_result"
    }
   ],
   "source": [
    "callable(c)"
   ]
  },
  {
   "cell_type": "code",
   "execution_count": 13,
   "id": "6cadfbeb",
   "metadata": {},
   "outputs": [
    {
     "name": "stdout",
     "output_type": "stream",
     "text": [
      "['__class__', '__delattr__', '__dict__', '__dir__', '__doc__', '__eq__', '__format__', '__ge__', '__getattribute__', '__gt__', '__hash__', '__init__', '__init_subclass__', '__le__', '__lt__', '__module__', '__ne__', '__new__', '__reduce__', '__reduce_ex__', '__repr__', '__setattr__', '__sizeof__', '__str__', '__subclasshook__', '__weakref__']\n"
     ]
    }
   ],
   "source": [
    "print(dir(c))"
   ]
  },
  {
   "cell_type": "code",
   "execution_count": 48,
   "id": "af48bcb5",
   "metadata": {},
   "outputs": [
    {
     "name": "stdout",
     "output_type": "stream",
     "text": [
      "QQ\n"
     ]
    }
   ],
   "source": [
    "class c:\n",
    "    print('QQ')\n",
    "    f = 100500\n",
    "    def fun(*args):\n",
    "        print(args)"
   ]
  },
  {
   "cell_type": "markdown",
   "id": "08560817",
   "metadata": {},
   "source": [
    "__Наследование__ - это такие и механизм избежания повторного написания кода"
   ]
  },
  {
   "cell_type": "code",
   "execution_count": 49,
   "id": "5811710f",
   "metadata": {},
   "outputs": [],
   "source": [
    "class son(c):\n",
    "    pass"
   ]
  },
  {
   "cell_type": "code",
   "execution_count": 50,
   "id": "9426772e",
   "metadata": {},
   "outputs": [
    {
     "data": {
      "text/plain": [
       "__main__.c"
      ]
     },
     "execution_count": 50,
     "metadata": {},
     "output_type": "execute_result"
    }
   ],
   "source": [
    "c"
   ]
  },
  {
   "cell_type": "code",
   "execution_count": 51,
   "id": "304b31fa",
   "metadata": {},
   "outputs": [
    {
     "data": {
      "text/plain": [
       "__main__.son"
      ]
     },
     "execution_count": 51,
     "metadata": {},
     "output_type": "execute_result"
    }
   ],
   "source": [
    "son"
   ]
  },
  {
   "cell_type": "code",
   "execution_count": 52,
   "id": "93e36849",
   "metadata": {},
   "outputs": [],
   "source": [
    "ss = son()"
   ]
  },
  {
   "cell_type": "code",
   "execution_count": 54,
   "id": "4a6183c6",
   "metadata": {},
   "outputs": [
    {
     "name": "stdout",
     "output_type": "stream",
     "text": [
      "['__class__', '__delattr__', '__dict__', '__dir__', '__doc__', '__eq__', '__format__', '__ge__', '__getattribute__', '__gt__', '__hash__', '__init__', '__init_subclass__', '__le__', '__lt__', '__module__', '__ne__', '__new__', '__reduce__', '__reduce_ex__', '__repr__', '__setattr__', '__sizeof__', '__str__', '__subclasshook__', '__weakref__', 'f', 'fun']\n"
     ]
    }
   ],
   "source": [
    "print(dir(son))"
   ]
  },
  {
   "cell_type": "code",
   "execution_count": 55,
   "id": "e9dc1d18",
   "metadata": {},
   "outputs": [
    {
     "data": {
      "text/plain": [
       "True"
      ]
     },
     "execution_count": 55,
     "metadata": {},
     "output_type": "execute_result"
    }
   ],
   "source": [
    "issubclass(son, c)"
   ]
  },
  {
   "cell_type": "code",
   "execution_count": 57,
   "id": "3126cd58",
   "metadata": {},
   "outputs": [],
   "source": [
    "s = son()"
   ]
  },
  {
   "cell_type": "code",
   "execution_count": 58,
   "id": "4560713a",
   "metadata": {},
   "outputs": [
    {
     "data": {
      "text/plain": [
       "True"
      ]
     },
     "execution_count": 58,
     "metadata": {},
     "output_type": "execute_result"
    }
   ],
   "source": [
    "isinstance(s, son)"
   ]
  },
  {
   "cell_type": "code",
   "execution_count": 60,
   "id": "e9a6ae66",
   "metadata": {},
   "outputs": [
    {
     "data": {
      "text/plain": [
       "True"
      ]
     },
     "execution_count": 60,
     "metadata": {},
     "output_type": "execute_result"
    }
   ],
   "source": [
    "# Проверка, является ли объект s экземпляром класса c или его потомка\n",
    "isinstance(s, c)"
   ]
  },
  {
   "cell_type": "markdown",
   "id": "1120e692",
   "metadata": {},
   "source": [
    "В наследуемом классе можно перегружать операторы:"
   ]
  },
  {
   "cell_type": "code",
   "execution_count": 63,
   "id": "65f4c4c2",
   "metadata": {},
   "outputs": [
    {
     "name": "stdout",
     "output_type": "stream",
     "text": [
      "100500\n",
      "New 1 23 12314 4\n"
     ]
    }
   ],
   "source": [
    "class d(c):\n",
    "    def fun (self, *args):\n",
    "        print('New', *args)\n",
    "\n",
    "dd = d()\n",
    "print(dd.f) # поле f не перегружается, оно приезжает из родителя (с)\n",
    "dd.fun(1,23,12314,4) # а функция перегружена"
   ]
  },
  {
   "cell_type": "markdown",
   "id": "09724b88",
   "metadata": {},
   "source": [
    "Вызов метода родительского класса из дочернего обеспечивается методом __super__\n",
    "\n",
    "Рассмотрим класс:"
   ]
  },
  {
   "cell_type": "code",
   "execution_count": 1,
   "id": "beb2ae43",
   "metadata": {},
   "outputs": [],
   "source": [
    "class Cl:\n",
    "    def __init__(self, val):\n",
    "        self.val = val\n",
    "    def __str__(self):\n",
    "        return str(self.val)\n",
    "    \n",
    "c = Cl('fdsfsa')"
   ]
  },
  {
   "cell_type": "code",
   "execution_count": 2,
   "id": "122aa149",
   "metadata": {},
   "outputs": [
    {
     "name": "stdout",
     "output_type": "stream",
     "text": [
      "fdsfsa\n"
     ]
    }
   ],
   "source": [
    "print(c)"
   ]
  },
  {
   "cell_type": "markdown",
   "id": "8d25489f",
   "metadata": {},
   "source": [
    "И вот мы, например, захотели обмазать вызов функции старого класса чем-то:\n",
    "\n",
    "Можно вызвать т.н. прокси-объект. super() - вызывает виртуальный экземпляр несуществующего класса, который является объединением всех классов, от которых мы наследуемся (кроме нашего). Из этого виртуального класса и берется метод.\n",
    "\n",
    "Правильный поиск производится "
   ]
  },
  {
   "cell_type": "code",
   "execution_count": 4,
   "id": "5f16bf56",
   "metadata": {},
   "outputs": [
    {
     "name": "stdout",
     "output_type": "stream",
     "text": [
      "<<123>>\n"
     ]
    }
   ],
   "source": [
    "class Cl2(Cl):\n",
    "    def __str__(self):\n",
    "        res = super().__str__()\n",
    "        return f'<<{res}>>'\n",
    "    \n",
    "d = Cl2('123')\n",
    "print(d)"
   ]
  },
  {
   "cell_type": "code",
   "execution_count": 41,
   "id": "a4ef410b",
   "metadata": {},
   "outputs": [],
   "source": [
    "class A():\n",
    "    def fun(self):\n",
    "        print(f'A')\n",
    "        return None\n",
    "        \n",
    "class B(A):\n",
    "    def fun(self):\n",
    "        print(super().fun(), f'B')\n",
    "        return super().fun()\n",
    "        \n",
    "class C(B):\n",
    "    def fun(self):\n",
    "        print(super().fun(), f'C')\n",
    "        return super().fun()\n",
    "        \n",
    "class D(C, A):\n",
    "    def fun(self):\n",
    "        print(super().fun(), f'D')\n",
    "        return super().fun()"
   ]
  },
  {
   "cell_type": "code",
   "execution_count": 42,
   "id": "1eb7ff25",
   "metadata": {},
   "outputs": [],
   "source": [
    "b = B()\n",
    "c = C()\n",
    "d = D()"
   ]
  },
  {
   "cell_type": "code",
   "execution_count": 45,
   "id": "1763301d",
   "metadata": {},
   "outputs": [
    {
     "name": "stdout",
     "output_type": "stream",
     "text": [
      "A\n",
      "None B\n",
      "A\n"
     ]
    }
   ],
   "source": [
    "b.fun()"
   ]
  },
  {
   "cell_type": "code",
   "execution_count": 43,
   "id": "479cdcf2",
   "metadata": {},
   "outputs": [
    {
     "name": "stdout",
     "output_type": "stream",
     "text": [
      "A\n",
      "None B\n",
      "A\n",
      "None C\n",
      "A\n",
      "None B\n",
      "A\n"
     ]
    }
   ],
   "source": [
    "c.fun()"
   ]
  },
  {
   "cell_type": "code",
   "execution_count": 44,
   "id": "63c625f0",
   "metadata": {},
   "outputs": [
    {
     "name": "stdout",
     "output_type": "stream",
     "text": [
      "A\n",
      "None B\n",
      "A\n",
      "None C\n",
      "A\n",
      "None B\n",
      "A\n",
      "None D\n",
      "A\n",
      "None B\n",
      "A\n",
      "None C\n",
      "A\n",
      "None B\n",
      "A\n"
     ]
    }
   ],
   "source": [
    "d.fun()"
   ]
  },
  {
   "cell_type": "markdown",
   "id": "bc046474",
   "metadata": {},
   "source": [
    "___\n",
    "\n",
    "### Про инкапсуляцию\n",
    "\n",
    "В Питоне все пространство имен видно, соответственно, некоторые имена можно случайно или специально перебить (перегрузить).\n",
    "\n",
    "Некоторые поля (которые не являются интерфейсом) могут быть служебными и не предназначены для перебивания другими именами. Перебивание этих имен может привести к непредсказуемым, но плохим последствиям.\n",
    "\n",
    "В таких случаях необходимо данные поля скрывать"
   ]
  },
  {
   "cell_type": "code",
   "execution_count": 47,
   "id": "4359af81",
   "metadata": {},
   "outputs": [
    {
     "name": "stdout",
     "output_type": "stream",
     "text": [
      "<1>\n"
     ]
    }
   ],
   "source": [
    "class C:\n",
    "    __A = 1\n",
    "    def __str__(self):\n",
    "        return f'<{self.__A}>'\n",
    "    \n",
    "c = C()\n",
    "print(c)"
   ]
  },
  {
   "cell_type": "markdown",
   "id": "e2db2212",
   "metadata": {},
   "source": [
    "Однако при создании "
   ]
  },
  {
   "cell_type": "code",
   "execution_count": 48,
   "id": "9e7b08c0",
   "metadata": {},
   "outputs": [],
   "source": [
    "class D(C):\n",
    "    def f(self):\n",
    "        return f'<<{self.__A}>>'"
   ]
  },
  {
   "cell_type": "code",
   "execution_count": 49,
   "id": "2faf08df",
   "metadata": {},
   "outputs": [],
   "source": [
    "d = D()"
   ]
  },
  {
   "cell_type": "code",
   "execution_count": 50,
   "id": "792738da",
   "metadata": {},
   "outputs": [
    {
     "ename": "AttributeError",
     "evalue": "'D' object has no attribute '_D__A'",
     "output_type": "error",
     "traceback": [
      "\u001b[0;31m---------------------------------------------------------------------------\u001b[0m",
      "\u001b[0;31mAttributeError\u001b[0m                            Traceback (most recent call last)",
      "Input \u001b[0;32mIn [50]\u001b[0m, in \u001b[0;36m<module>\u001b[0;34m\u001b[0m\n\u001b[0;32m----> 1\u001b[0m \u001b[43md\u001b[49m\u001b[38;5;241;43m.\u001b[39;49m\u001b[43mf\u001b[49m\u001b[43m(\u001b[49m\u001b[43m)\u001b[49m\n",
      "Input \u001b[0;32mIn [48]\u001b[0m, in \u001b[0;36mD.f\u001b[0;34m(self)\u001b[0m\n\u001b[1;32m      2\u001b[0m \u001b[38;5;28;01mdef\u001b[39;00m \u001b[38;5;21mf\u001b[39m(\u001b[38;5;28mself\u001b[39m):\n\u001b[0;32m----> 3\u001b[0m     \u001b[38;5;28;01mreturn\u001b[39;00m \u001b[38;5;124mf\u001b[39m\u001b[38;5;124m'\u001b[39m\u001b[38;5;124m<<\u001b[39m\u001b[38;5;132;01m{\u001b[39;00m\u001b[38;5;28mself\u001b[39m\u001b[38;5;241m.\u001b[39m__A\u001b[38;5;132;01m}\u001b[39;00m\u001b[38;5;124m>>\u001b[39m\u001b[38;5;124m'\u001b[39m\n",
      "\u001b[0;31mAttributeError\u001b[0m: 'D' object has no attribute '_D__A'"
     ]
    }
   ],
   "source": [
    "d.f()"
   ]
  },
  {
   "cell_type": "code",
   "execution_count": 52,
   "id": "a085902b",
   "metadata": {},
   "outputs": [
    {
     "name": "stdout",
     "output_type": "stream",
     "text": [
      "<1>\n"
     ]
    }
   ],
   "source": [
    "print(d) # а тут хожим к методу __str__ родительского класса C"
   ]
  },
  {
   "cell_type": "markdown",
   "id": "70c5a72f",
   "metadata": {},
   "source": [
    "Как видно оз описания AttributeError, обращение происходит не по .\\__A , а по .\\_D__A\n",
    "\n",
    "Таким остроумным методом запрятана переменная, которую трудно специально перебить\n",
    "\n",
    "___\n",
    "\n",
    "Именование переменных и в общем полей класса с помощью подчеркиваний .\\_ и .\\__ является способом организации пространства имен.\n",
    "\n",
    "На .\\_ имена давать вообще не надо\n",
    "\n",
    "На .\\__ имя будет создаваться более хитрым способом (описанным выше)"
   ]
  },
  {
   "cell_type": "markdown",
   "id": "14737eea",
   "metadata": {},
   "source": [
    "___\n",
    "\n",
    "### Множственное наследование"
   ]
  },
  {
   "cell_type": "code",
   "execution_count": 1,
   "id": "f9892697",
   "metadata": {},
   "outputs": [
    {
     "name": "stdout",
     "output_type": "stream",
     "text": [
      "['__class__', '__delattr__', '__dict__', '__dir__', '__doc__', '__eq__', '__format__', '__ge__', '__getattribute__', '__gt__', '__hash__', '__init__', '__init_subclass__', '__le__', '__lt__', '__module__', '__ne__', '__new__', '__reduce__', '__reduce_ex__', '__repr__', '__setattr__', '__sizeof__', '__str__', '__subclasshook__', '__weakref__']\n"
     ]
    }
   ],
   "source": [
    "class A: pass\n",
    "class B: pass\n",
    "class C: pass\n",
    "class D(A, B, C): pass\n",
    "\n",
    "print(dir(D))"
   ]
  },
  {
   "cell_type": "code",
   "execution_count": 4,
   "id": "f5bd3f22",
   "metadata": {},
   "outputs": [
    {
     "name": "stdout",
     "output_type": "stream",
     "text": [
      "True\n",
      "True\n",
      "True\n",
      "True\n"
     ]
    }
   ],
   "source": [
    "d = D()\n",
    "print(isinstance(d, A))\n",
    "print(isinstance(d, B))\n",
    "print(isinstance(d, C))\n",
    "print(isinstance(d, D))"
   ]
  },
  {
   "cell_type": "code",
   "execution_count": 9,
   "id": "f7c21966",
   "metadata": {},
   "outputs": [],
   "source": [
    "class A:\n",
    "    def fun(self): return 'A'\n",
    "class B:\n",
    "    def fun(self): return 'B'"
   ]
  },
  {
   "cell_type": "code",
   "execution_count": 10,
   "id": "1d8fdd43",
   "metadata": {},
   "outputs": [
    {
     "data": {
      "text/plain": [
       "'A'"
      ]
     },
     "execution_count": 10,
     "metadata": {},
     "output_type": "execute_result"
    }
   ],
   "source": [
    "a = A()\n",
    "a.fun()"
   ]
  },
  {
   "cell_type": "code",
   "execution_count": 11,
   "id": "40fb0749",
   "metadata": {},
   "outputs": [
    {
     "data": {
      "text/plain": [
       "'B'"
      ]
     },
     "execution_count": 11,
     "metadata": {},
     "output_type": "execute_result"
    }
   ],
   "source": [
    "b = B()\n",
    "b.fun()"
   ]
  },
  {
   "cell_type": "code",
   "execution_count": 12,
   "id": "f5ce5cd0",
   "metadata": {},
   "outputs": [
    {
     "data": {
      "text/plain": [
       "'A'"
      ]
     },
     "execution_count": 12,
     "metadata": {},
     "output_type": "execute_result"
    }
   ],
   "source": [
    "class C(A, B): pass\n",
    "c = C()\n",
    "c.fun()"
   ]
  },
  {
   "cell_type": "markdown",
   "id": "404a0058",
   "metadata": {},
   "source": [
    "___\n",
    "\n",
    "__MRO - Method Resolution Order__\n",
    "\n",
    "Создание линейного списка родительских классов для поиска полей в нем. По сути является порядком поиска методов.\n",
    "\n",
    "Требования:\n",
    "\n",
    "1) Монотонность: соблюдение порядка наследования\n",
    "\n",
    "2) Соблюдение порядка объявления\n",
    "\n",
    "3) Если нельзя соблюсти первые два условия, то выбрасывается исключение"
   ]
  },
  {
   "cell_type": "code",
   "execution_count": 13,
   "id": "add4dfa7",
   "metadata": {},
   "outputs": [],
   "source": [
    "class X(A, B): pass"
   ]
  },
  {
   "cell_type": "code",
   "execution_count": 14,
   "id": "822cee44",
   "metadata": {},
   "outputs": [],
   "source": [
    "class Y(B, A): pass"
   ]
  },
  {
   "cell_type": "markdown",
   "id": "91d6753b",
   "metadata": {},
   "source": [
    "___\n",
    "\n",
    "Метод __super__\n",
    "\n",
    "Этот метод представляет из себя как-бы недоэкземпляр класса С, у которого ничего нет от класса С\n",
    "\n",
    "В этом методе отображены все методы, которые были бы отражены (найдены) по алгоритму mro C3"
   ]
  },
  {
   "cell_type": "code",
   "execution_count": 17,
   "id": "370580b7",
   "metadata": {},
   "outputs": [
    {
     "data": {
      "text/plain": [
       "'ab'"
      ]
     },
     "execution_count": 17,
     "metadata": {},
     "output_type": "execute_result"
    }
   ],
   "source": [
    "class A:\n",
    "    def a(self): return 'a'\n",
    "    \n",
    "class B:\n",
    "    def b(self): return 'b'\n",
    "    \n",
    "class C(A, B):\n",
    "    def c(self):\n",
    "        b = super().b()\n",
    "        a = super().a()\n",
    "        return a + b\n",
    "    \n",
    "c = C()\n",
    "c.c()"
   ]
  },
  {
   "cell_type": "markdown",
   "id": "6ab79b1c",
   "metadata": {},
   "source": [
    "___\n",
    "\n",
    "Также можно \"обертывать\" (делать произвольные) классы"
   ]
  },
  {
   "cell_type": "code",
   "execution_count": 18,
   "id": "bb0d6a36",
   "metadata": {},
   "outputs": [
    {
     "data": {
      "text/plain": [
       "'ab'"
      ]
     },
     "execution_count": 18,
     "metadata": {},
     "output_type": "execute_result"
    }
   ],
   "source": [
    "class D:\n",
    "    def __init__(self, *args, **kwargs):\n",
    "        self.__proxxxy = C(*args, **kwargs)\n",
    "    def c(self):\n",
    "        return self.__proxxxy.c()\n",
    "\n",
    "d = D()\n",
    "d.c()"
   ]
  },
  {
   "cell_type": "code",
   "execution_count": 19,
   "id": "77c9bdc3",
   "metadata": {},
   "outputs": [
    {
     "data": {
      "text/plain": [
       "mappingproxy({'__module__': '__main__',\n",
       "              'c': <function __main__.C.c(self)>,\n",
       "              '__doc__': None})"
      ]
     },
     "execution_count": 19,
     "metadata": {},
     "output_type": "execute_result"
    }
   ],
   "source": [
    "C.__dict__"
   ]
  },
  {
   "cell_type": "markdown",
   "id": "3242fdd2",
   "metadata": {},
   "source": [
    "___\n",
    "\n",
    "### Исключения\n",
    "\n",
    "Исключения (exceptions) - это такой способ нелинейного управления вычислительным потоком.\n",
    "\n",
    "Это способ передать управления из одной точки в другую.\n",
    "\n",
    "Исключение - это когда нам нужно отработать некоторое событие, которое произошло в одном месте кода, а реакция от него в другом."
   ]
  },
  {
   "cell_type": "code",
   "execution_count": 21,
   "id": "a397ec5c",
   "metadata": {},
   "outputs": [
    {
     "name": "stdout",
     "output_type": "stream",
     "text": [
      "['ArithmeticError', 'AssertionError', 'AttributeError', 'BaseException', 'BlockingIOError', 'BrokenPipeError', 'BufferError', 'BytesWarning', 'ChildProcessError', 'ConnectionAbortedError', 'ConnectionError', 'ConnectionRefusedError', 'ConnectionResetError', 'DeprecationWarning', 'EOFError', 'Ellipsis', 'EnvironmentError', 'Exception', 'False', 'FileExistsError', 'FileNotFoundError', 'FloatingPointError', 'FutureWarning', 'GeneratorExit', 'IOError', 'ImportError', 'ImportWarning', 'IndentationError', 'IndexError', 'InterruptedError', 'IsADirectoryError', 'KeyError', 'KeyboardInterrupt', 'LookupError', 'MemoryError', 'ModuleNotFoundError', 'NameError', 'None', 'NotADirectoryError', 'NotImplemented', 'NotImplementedError', 'OSError', 'OverflowError', 'PendingDeprecationWarning', 'PermissionError', 'ProcessLookupError', 'RecursionError', 'ReferenceError', 'ResourceWarning', 'RuntimeError', 'RuntimeWarning', 'StopAsyncIteration', 'StopIteration', 'SyntaxError', 'SyntaxWarning', 'SystemError', 'SystemExit', 'TabError', 'TimeoutError', 'True', 'TypeError', 'UnboundLocalError', 'UnicodeDecodeError', 'UnicodeEncodeError', 'UnicodeError', 'UnicodeTranslateError', 'UnicodeWarning', 'UserWarning', 'ValueError', 'Warning', 'ZeroDivisionError', '__IPYTHON__', '__build_class__', '__debug__', '__doc__', '__import__', '__loader__', '__name__', '__package__', '__spec__', 'abs', 'all', 'any', 'ascii', 'bin', 'bool', 'breakpoint', 'bytearray', 'bytes', 'callable', 'chr', 'classmethod', 'compile', 'complex', 'copyright', 'credits', 'delattr', 'dict', 'dir', 'display', 'divmod', 'enumerate', 'eval', 'exec', 'execfile', 'filter', 'float', 'format', 'frozenset', 'get_ipython', 'getattr', 'globals', 'hasattr', 'hash', 'help', 'hex', 'id', 'input', 'int', 'isinstance', 'issubclass', 'iter', 'len', 'license', 'list', 'locals', 'map', 'max', 'memoryview', 'min', 'next', 'object', 'oct', 'open', 'ord', 'pow', 'print', 'property', 'range', 'repr', 'reversed', 'round', 'runfile', 'set', 'setattr', 'slice', 'sorted', 'staticmethod', 'str', 'sum', 'super', 'tuple', 'type', 'vars', 'zip']\n"
     ]
    }
   ],
   "source": [
    "print(dir(__builtins__))"
   ]
  },
  {
   "cell_type": "markdown",
   "id": "91788fcd",
   "metadata": {},
   "source": [
    "Нетрудно заметить, что примерно половина пространства имен - это реальные ошибки"
   ]
  },
  {
   "cell_type": "code",
   "execution_count": 32,
   "id": "bfacfee0",
   "metadata": {},
   "outputs": [],
   "source": [
    "def fun(a):\n",
    "    return 1/a\n",
    "try:\n",
    "    fun(123)\n",
    "except ZeroDivisionError:\n",
    "    print('ZeroDiv')\n",
    "except TypeError:\n",
    "    print('TypeEr')"
   ]
  },
  {
   "cell_type": "code",
   "execution_count": 33,
   "id": "0b9428ff",
   "metadata": {},
   "outputs": [
    {
     "name": "stdout",
     "output_type": "stream",
     "text": [
      "TypeEr\n"
     ]
    }
   ],
   "source": [
    "def fun(a):\n",
    "    return 1/a\n",
    "try:\n",
    "    fun('123')\n",
    "except ZeroDivisionError:\n",
    "    print('ZeroDiv')\n",
    "except TypeError:\n",
    "    print('TypeEr')"
   ]
  },
  {
   "cell_type": "code",
   "execution_count": 34,
   "id": "4c099970",
   "metadata": {},
   "outputs": [
    {
     "name": "stdout",
     "output_type": "stream",
     "text": [
      "ZeroDiv\n"
     ]
    }
   ],
   "source": [
    "def fun(a):\n",
    "    return 1/a\n",
    "try:\n",
    "    fun(0)\n",
    "except ZeroDivisionError:\n",
    "    print('ZeroDiv')\n",
    "except TypeError:\n",
    "    print('TypeEr')"
   ]
  },
  {
   "cell_type": "markdown",
   "id": "47430d9b",
   "metadata": {},
   "source": [
    "___\n",
    "\n",
    "Исключения являются обычными класса (от них даже без проблем можно наследоваться) "
   ]
  },
  {
   "cell_type": "code",
   "execution_count": 35,
   "id": "2ccfec29",
   "metadata": {},
   "outputs": [
    {
     "data": {
      "text/plain": [
       "TypeError('QWE')"
      ]
     },
     "execution_count": 35,
     "metadata": {},
     "output_type": "execute_result"
    }
   ],
   "source": [
    "TypeError(\"QWE\")"
   ]
  },
  {
   "cell_type": "code",
   "execution_count": 36,
   "id": "3c9bb4d5",
   "metadata": {},
   "outputs": [],
   "source": [
    "class MyExc(Exception): pass"
   ]
  },
  {
   "cell_type": "code",
   "execution_count": 37,
   "id": "98418319",
   "metadata": {},
   "outputs": [],
   "source": [
    "class MyExc(ZeroDivisionError): pass"
   ]
  },
  {
   "cell_type": "code",
   "execution_count": 38,
   "id": "44d2edc2",
   "metadata": {},
   "outputs": [],
   "source": [
    "try:\n",
    "    123/23\n",
    "except ZeroDivisionError:\n",
    "    print('QQ')"
   ]
  },
  {
   "cell_type": "code",
   "execution_count": 39,
   "id": "0a85f15c",
   "metadata": {},
   "outputs": [
    {
     "name": "stdout",
     "output_type": "stream",
     "text": [
      "QQ\n"
     ]
    }
   ],
   "source": [
    "try:\n",
    "    123/0\n",
    "except ZeroDivisionError:\n",
    "    print('QQ')"
   ]
  },
  {
   "cell_type": "code",
   "execution_count": 40,
   "id": "d4575f9a",
   "metadata": {},
   "outputs": [
    {
     "ename": "SyntaxError",
     "evalue": "None (<string>)",
     "output_type": "error",
     "traceback": [
      "Traceback \u001b[0;36m(most recent call last)\u001b[0m:\n",
      "  File \u001b[1;32m~/.local/lib/python3.9/site-packages/IPython/core/interactiveshell.py:3251\u001b[0m in \u001b[1;35mrun_code\u001b[0m\n    exec(code_obj, self.user_global_ns, self.user_ns)\n",
      "\u001b[0;36m  Input \u001b[0;32mIn [40]\u001b[0;36m in \u001b[0;35m<module>\u001b[0;36m\u001b[0m\n\u001b[0;31m    raise SyntaxError\u001b[0m\n",
      "\u001b[0;36m  File \u001b[0;32m<string>\u001b[0;36m\u001b[0m\n\u001b[0;31mSyntaxError\u001b[0m\n"
     ]
    }
   ],
   "source": [
    "try:\n",
    "    raise SyntaxError\n",
    "except ZeroDivisionError:\n",
    "    print('QQ')"
   ]
  },
  {
   "cell_type": "code",
   "execution_count": 41,
   "id": "cd429117",
   "metadata": {},
   "outputs": [
    {
     "name": "stdout",
     "output_type": "stream",
     "text": [
      "QQ\n"
     ]
    }
   ],
   "source": [
    "try:\n",
    "    raise ZeroDivisionError\n",
    "except ZeroDivisionError:\n",
    "    print('QQ')"
   ]
  },
  {
   "cell_type": "markdown",
   "id": "f59a4037",
   "metadata": {},
   "source": [
    "__Фишка наследования исключений:__\n",
    "\n",
    "Если мы выбросим дочернее исключение, то родительское тоже срегирует.\n",
    "\n",
    "По сути, если произошло какое-то более подробное исключение, то более общее исключение тоже произошло. (если произошло исключение ZeroDiv, то и самое общее исключение Exception тоже произошло)\n",
    "\n",
    "__По сути - это перехватывание управления с помощью иерархии__"
   ]
  },
  {
   "cell_type": "code",
   "execution_count": 42,
   "id": "46671e71",
   "metadata": {},
   "outputs": [
    {
     "name": "stdout",
     "output_type": "stream",
     "text": [
      "QQ\n"
     ]
    }
   ],
   "source": [
    "try:\n",
    "    raise MyExc\n",
    "except ZeroDivisionError:\n",
    "    print('QQ')"
   ]
  },
  {
   "cell_type": "markdown",
   "id": "8c3a40d5",
   "metadata": {},
   "source": [
    "___\n",
    "\n",
    "### Про наследование исключений и кто какое исключение ловит:"
   ]
  },
  {
   "cell_type": "code",
   "execution_count": 43,
   "id": "bb2b2bc4",
   "metadata": {},
   "outputs": [
    {
     "name": "stdout",
     "output_type": "stream",
     "text": [
      "B\n",
      "C\n",
      "D\n"
     ]
    }
   ],
   "source": [
    "class B(Exception):\n",
    "    pass\n",
    "\n",
    "class C(B):\n",
    "    pass\n",
    "\n",
    "class D(C):\n",
    "    pass\n",
    "\n",
    "for cls in [B, C, D]:\n",
    "    try:\n",
    "        raise cls()\n",
    "    except D:\n",
    "        print(\"D\")\n",
    "    except C:\n",
    "        print(\"C\")\n",
    "    except B:\n",
    "        print(\"B\")"
   ]
  },
  {
   "cell_type": "code",
   "execution_count": 44,
   "id": "3e00c0b0",
   "metadata": {},
   "outputs": [
    {
     "name": "stdout",
     "output_type": "stream",
     "text": [
      "D\n",
      "D\n",
      "D\n"
     ]
    }
   ],
   "source": [
    "class B(Exception):\n",
    "    pass\n",
    "\n",
    "class C(B):\n",
    "    pass\n",
    "\n",
    "class D(C):\n",
    "    pass\n",
    "\n",
    "for cls in [B, C, D]:\n",
    "    try:\n",
    "        raise cls()\n",
    "    except B:\n",
    "        print(\"D\")\n",
    "    except C:\n",
    "        print(\"C\")\n",
    "    except D:\n",
    "        print(\"B\")"
   ]
  },
  {
   "cell_type": "code",
   "execution_count": 45,
   "id": "5e6fa093",
   "metadata": {},
   "outputs": [
    {
     "name": "stdout",
     "output_type": "stream",
     "text": [
      "\n"
     ]
    }
   ],
   "source": [
    "try:\n",
    "    raise MyExc\n",
    "except Exception as E:\n",
    "    print(E)"
   ]
  },
  {
   "cell_type": "code",
   "execution_count": 48,
   "id": "a48d0991",
   "metadata": {},
   "outputs": [
    {
     "name": "stdout",
     "output_type": "stream",
     "text": [
      "division by zero <class 'ZeroDivisionError'>\n"
     ]
    }
   ],
   "source": [
    "try:\n",
    "    1/0\n",
    "except Exception as E:\n",
    "    print(E, type(E))"
   ]
  },
  {
   "cell_type": "code",
   "execution_count": 54,
   "id": "87f78a52",
   "metadata": {},
   "outputs": [
    {
     "name": "stdout",
     "output_type": "stream",
     "text": [
      "['__cause__', '__class__', '__context__', '__delattr__', '__dict__', '__dir__', '__doc__', '__eq__', '__format__', '__ge__', '__getattribute__', '__gt__', '__hash__', '__init__', '__init_subclass__', '__le__', '__lt__', '__ne__', '__new__', '__reduce__', '__reduce_ex__', '__repr__', '__setattr__', '__setstate__', '__sizeof__', '__str__', '__subclasshook__', '__suppress_context__', '__traceback__', 'args', 'filename', 'lineno', 'msg', 'offset', 'print_file_and_line', 'text', 'with_traceback']\n",
      "('QQ',) <class 'SyntaxError'>\n"
     ]
    }
   ],
   "source": [
    "try:\n",
    "    raise SyntaxError('QQ')\n",
    "except Exception as E:\n",
    "    print(dir(E))\n",
    "    print(E.args, type(E))"
   ]
  },
  {
   "cell_type": "markdown",
   "id": "32908aeb",
   "metadata": {},
   "source": [
    "___\n",
    "\n",
    "Также возможно использовать else (если не выбросилось никакое исключение)"
   ]
  },
  {
   "cell_type": "code",
   "execution_count": 55,
   "id": "fcbac268",
   "metadata": {},
   "outputs": [
    {
     "name": "stdout",
     "output_type": "stream",
     "text": [
      "Nope\n"
     ]
    }
   ],
   "source": [
    "try:\n",
    "    1/2\n",
    "except Exception as E:\n",
    "    print(E, type(E))\n",
    "else:\n",
    "    print('Nope')\n"
   ]
  },
  {
   "cell_type": "markdown",
   "id": "062e5d92",
   "metadata": {},
   "source": [
    "А ещё можно использовать клаузу finally, которая выполняется вообще в любом случае"
   ]
  },
  {
   "cell_type": "code",
   "execution_count": 56,
   "id": "0a4e213a",
   "metadata": {},
   "outputs": [
    {
     "name": "stdout",
     "output_type": "stream",
     "text": [
      "Nope\n",
      "Always\n"
     ]
    }
   ],
   "source": [
    "try:\n",
    "    1/2\n",
    "except Exception as E:\n",
    "    print(E, type(E))\n",
    "else:\n",
    "    print('Nope')\n",
    "finally:\n",
    "    print('Always')"
   ]
  },
  {
   "cell_type": "code",
   "execution_count": 58,
   "id": "5ffece60",
   "metadata": {},
   "outputs": [
    {
     "name": "stdout",
     "output_type": "stream",
     "text": [
      "() <class 'ZeroDivisionError'>\n",
      "Always\n"
     ]
    }
   ],
   "source": [
    "try:\n",
    "    raise ZeroDivisionError\n",
    "except Exception as E:\n",
    "    print(E.args, type(E))\n",
    "else:\n",
    "    print('Nope')\n",
    "finally:\n",
    "    print('Always')"
   ]
  },
  {
   "cell_type": "code",
   "execution_count": 59,
   "id": "31975ef2",
   "metadata": {},
   "outputs": [
    {
     "name": "stdout",
     "output_type": "stream",
     "text": [
      "(\"unsupported operand type(s) for /: 'str' and 'int'\",) <class 'TypeError'>\n",
      "Always\n"
     ]
    }
   ],
   "source": [
    "try:\n",
    "    raise ('123'/0)\n",
    "except Exception as E:\n",
    "    print(E.args, type(E))\n",
    "else:\n",
    "    print('Nope')\n",
    "finally:\n",
    "    print('Always')"
   ]
  },
  {
   "cell_type": "code",
   "execution_count": null,
   "id": "5b8a480a",
   "metadata": {},
   "outputs": [],
   "source": []
  },
  {
   "cell_type": "code",
   "execution_count": null,
   "id": "4f41556d",
   "metadata": {},
   "outputs": [],
   "source": []
  },
  {
   "cell_type": "code",
   "execution_count": null,
   "id": "d8b66c1e",
   "metadata": {},
   "outputs": [],
   "source": []
  }
 ],
 "metadata": {
  "kernelspec": {
   "display_name": "Python 3 (ipykernel)",
   "language": "python",
   "name": "python3"
  },
  "language_info": {
   "codemirror_mode": {
    "name": "ipython",
    "version": 3
   },
   "file_extension": ".py",
   "mimetype": "text/x-python",
   "name": "python",
   "nbconvert_exporter": "python",
   "pygments_lexer": "ipython3",
   "version": "3.9.10"
  }
 },
 "nbformat": 4,
 "nbformat_minor": 5
}
